{
 "cells": [
  {
   "cell_type": "code",
   "execution_count": 1,
   "metadata": {},
   "outputs": [],
   "source": [
    "# Import BeautifulSoup to parse the html and selenium, time to simulate a Chrome window\n",
    "# Simulation of the chrome window allows us to get around the issue of the infinite scroll site\n",
    "# Time is used to pause execution to allow the simulated Chrome window to load\n",
    "# pandas and numpy are imported to manipulate the data\n",
    "\n",
    "from bs4 import BeautifulSoup\n",
    "from selenium import webdriver\n",
    "import time\n",
    "import pandas as pd\n",
    "import numpy as np\n",
    "from nltk.tokenize import sent_tokenize\n",
    "\n",
    "import matplotlib.pyplot as plt\n",
    "import seaborn as sns"
   ]
  },
  {
   "cell_type": "code",
   "execution_count": 2,
   "metadata": {},
   "outputs": [],
   "source": [
    "# Setup the parameters for url, chromedriver path and how long it takes your device to render the updated restaurants\n",
    "postcode = 'SW1A 2AA'\n",
    "url = f'https://deliveroo.co.uk/restaurants/london/westminster?postcode={postcode}&collection=all-restaurants'\n",
    "chrome_driver_path = r'/home/selvino/chrome-driver/chromedriver'\n",
    "initial_load_time = 2\n",
    "scroll_pause_time = 1.5"
   ]
  },
  {
   "cell_type": "code",
   "execution_count": 3,
   "metadata": {},
   "outputs": [],
   "source": [
    "# Assign the webdriver to a variable which simulates an instance of Chrome on the url of choice\n",
    "# The 2 seconds sleep gives the webpage a 2 second break to load initially\n",
    "# Get the height of the devices screen to know how much needs to be scrolled each time\n",
    "# Tell the browser to click on the accept cookies button and the £10 off button\n",
    "\n",
    "driver = webdriver.Chrome(executable_path=chrome_driver_path)\n",
    "driver.get(url)\n",
    "time.sleep(initial_load_time)\n",
    "screen_height = driver.execute_script('return window.screen.height;')\n",
    "driver.execute_script('document.querySelector(\".accept-cookies-button\").click()')\n",
    "driver.execute_script('document.querySelectorAll(\".ccl-d0484b0360a2b432\")[1].click()')"
   ]
  },
  {
   "cell_type": "code",
   "execution_count": 4,
   "metadata": {},
   "outputs": [],
   "source": [
    "# Create a whie loop that scrolls through the website. This is done so the full infinite scrolling webpage renders and is in the html source\n",
    "# During every iteration of the loop, the window is scrolled through by the size of the screen\n",
    "# This is done by scrolling to a multiple of the screen height, which increases by one every iteration\n",
    "# When the place to scroll to exceeds where the window is currently at, it means we must be at the bottom of the page\n",
    "# I.e, once we have scrolled to the bottom, the current location on the window is fixed while the place to scroll to increases on every iteration\n",
    "\n",
    "i = 1\n",
    "while True:\n",
    "    driver.execute_script(\"window.scrollTo(0, {screen_height} * {i});\".format(screen_height=screen_height, i = i))\n",
    "    i += 1\n",
    "    time.sleep(scroll_pause_time)\n",
    "    scroll_height = driver.execute_script(\"return document.body.scrollHeight\")\n",
    "    if screen_height * i > scroll_height: \n",
    "        break"
   ]
  },
  {
   "cell_type": "code",
   "execution_count": 5,
   "metadata": {},
   "outputs": [],
   "source": [
    "# Create a beautiful soup object that parses the html and has useful methods for reading the text\n",
    "soup = BeautifulSoup(driver.page_source, 'html.parser')"
   ]
  },
  {
   "cell_type": "code",
   "execution_count": 6,
   "metadata": {
    "scrolled": true
   },
   "outputs": [
    {
     "data": {
      "text/plain": [
       "<a aria-label=\"Restaurant Canton Element 广东元素. Delivers in 20 to 35 minutes. Rated 4.8 from 500+ reviews. Serves Cantonese, Dim Sum, Noodles, and Chinese.\" class=\"HomeFeedUICard-1cc6964985e41c86\" href=\"/menu/london/bloomsbury/canton-element?day=today&amp;postcode=SW1A2AA&amp;time=ASAP\"><span class=\"HomeFeedUICard-ebc18e264cc4b96c\"><span class=\"HomeFeedUICard-c6f6e82a465d3148\" style=\"border-style: solid; border-color: initial;\"><div class=\"ccl-45bd106b75353ec9\" style='background-image: url(\"https://rs-menus-api.roocdn.com/images/66719852-ed53-426d-8981-ffd43aa48d95/image.jpeg?width=210&amp;height=118&amp;auto=webp&amp;format=jpg&amp;fit=crop&amp;v=\");'><div class=\"ccl-d5fa9efd412993ea ccl-0220f29e0da451eb\"></div><div class=\"ccl-0ca6410c5e153903\"><div class=\"HomeFeedUICard-19d5d31598e0335f\"><div class=\"HomeFeedUICard-dce4e0d3970c801d\" style=\"background-color: initial;\"><div class=\"HomeFeedUICard-983872f50903bf3c\" style=\"background-color: rgb(251, 80, 88); border: 2px solid rgb(250, 190, 0);\"><h5 class=\"HomeFeedUICard-af6c340131c84c70\">Meal\n",
       "deals</h5></div></div></div></div></div></span><span class=\"HomeFeedUICard-45fe00a3d559fba5\"><div class=\"HomeFeedUICard-3eaa3aeebdb9dda4\"><span class=\"Bubble-a0bf5c868196e217\"><span class=\"Bubble-0d35c37908d90be4\"><p class=\"ccl-19882374e640f487 ccl-417df52a76832172 ccl-a5fb02a1085896d3 ccl-dd90031787517421 ccl-9d0a5327c911d0f3\">20 – 35</p></span><span class=\"Bubble-f08a84a2192935a4\"><p class=\"ccl-19882374e640f487 ccl-1244c6519d4203b3 ccl-dfaaa1af6c70149c ccl-9d0a5327c911d0f3\">min</p></span></span></div><div class=\"HomeFeedUICard-15a8581a1528e2fd HomeFeedUICard-b63a23d2807ee0c8\"><ul><li class=\"HomeFeedUILines-eb6434808e8af585 HomeFeedUILines-678297d91ca76a11\"><span class=\"\" style=\"color: rgb(46, 51, 51);\"><p class=\"ccl-19882374e640f487 ccl-417df52a76832172 ccl-a5fb02a1085896d3 ccl-dd90031787517421 ccl-9d0a5327c911d0f3\">Canton Element 广东元素</p></span></li><li class=\"HomeFeedUILines-678297d91ca76a11 HomeFeedUILines-f15fca32260e4b30\"><span class=\"HomeFeedUILines-c129ebfb232f6e54\" style=\"color: rgb(119, 191, 42);\"><span class=\"ccl-462400680c526774 ccl-ed34b65f78f16205\"><svg class=\"ccl-0f24ac4b87ce1f67 ccl-ed34b65f78f16205\" height=\"24\" viewbox=\"0 0 24 24\" width=\"24\"><path d=\"M12 1L9 9H2L7 14.0001L5 21L12 17.0001L19 21L17 14.0001L22 9H15L12 1Z\"></path></svg></span></span><span class=\"HomeFeedUILines-c129ebfb232f6e54\" style=\"color: initial;\"><div class=\"ccl-b308a2db3758e3e5\"><span></span></div></span><span class=\"HomeFeedUILines-c129ebfb232f6e54\" style=\"color: rgb(119, 191, 42);\"><span class=\"ccl-19882374e640f487 ccl-417df52a76832172\">4.8 Excellent</span></span><span class=\"HomeFeedUILines-c129ebfb232f6e54\" style=\"color: initial;\"><div class=\"ccl-b308a2db3758e3e5\"><span></span></div></span><span class=\"HomeFeedUILines-c129ebfb232f6e54\" style=\"color: rgb(140, 155, 155);\"><span class=\"ccl-19882374e640f487 ccl-417df52a76832172\">(500+)</span></span><span class=\"HomeFeedUILines-c129ebfb232f6e54\" style=\"color: initial;\"><div class=\"ccl-b308a2db3758e3e5\"><span></span></div></span><span class=\"HomeFeedUILines-c129ebfb232f6e54\" style=\"color: rgb(130, 133, 133);\"><span class=\"ccl-19882374e640f487 ccl-417df52a76832172\">·</span></span><span class=\"HomeFeedUILines-c129ebfb232f6e54\" style=\"color: initial;\"><div class=\"ccl-b308a2db3758e3e5\"><span></span></div></span><span class=\"HomeFeedUILines-c129ebfb232f6e54\" style=\"color: rgb(130, 133, 133);\"><span class=\"ccl-19882374e640f487 ccl-417df52a76832172\">Cantonese</span></span><span class=\"HomeFeedUILines-c129ebfb232f6e54\" style=\"color: initial;\"><div class=\"ccl-b308a2db3758e3e5\"><span></span></div></span><span class=\"HomeFeedUILines-c129ebfb232f6e54\" style=\"color: rgb(130, 133, 133);\"><span class=\"ccl-19882374e640f487 ccl-417df52a76832172\">·</span></span><span class=\"HomeFeedUILines-c129ebfb232f6e54\" style=\"color: initial;\"><div class=\"ccl-b308a2db3758e3e5\"><span></span></div></span><span class=\"HomeFeedUILines-c129ebfb232f6e54\" style=\"color: rgb(130, 133, 133);\"><span class=\"ccl-19882374e640f487 ccl-417df52a76832172\">Dim Sum</span></span><span class=\"HomeFeedUILines-c129ebfb232f6e54\" style=\"color: initial;\"><div class=\"ccl-b308a2db3758e3e5\"><span></span></div></span><span class=\"HomeFeedUILines-c129ebfb232f6e54\" style=\"color: rgb(130, 133, 133);\"><span class=\"ccl-19882374e640f487 ccl-417df52a76832172\">·</span></span><span class=\"HomeFeedUILines-c129ebfb232f6e54\" style=\"color: initial;\"><div class=\"ccl-b308a2db3758e3e5\"><span></span></div></span><span class=\"HomeFeedUILines-c129ebfb232f6e54\" style=\"color: rgb(130, 133, 133);\"><span class=\"ccl-19882374e640f487 ccl-417df52a76832172\">Noodles</span></span><span class=\"HomeFeedUILines-c129ebfb232f6e54\" style=\"color: initial;\"><div class=\"ccl-b308a2db3758e3e5\"><span></span></div></span><span class=\"HomeFeedUILines-c129ebfb232f6e54\" style=\"color: rgb(130, 133, 133);\"><span class=\"ccl-19882374e640f487 ccl-417df52a76832172\">·</span></span><span class=\"HomeFeedUILines-c129ebfb232f6e54\" style=\"color: initial;\"><div class=\"ccl-b308a2db3758e3e5\"><span></span></div></span><span class=\"HomeFeedUILines-c129ebfb232f6e54\" style=\"color: rgb(130, 133, 133);\"><span class=\"ccl-19882374e640f487 ccl-417df52a76832172\">Chinese</span></span></li><li class=\"HomeFeedUILines-678297d91ca76a11 HomeFeedUILines-f15fca32260e4b30\"><span class=\"HomeFeedUILines-c129ebfb232f6e54\" style=\"color: rgb(130, 133, 133);\"><span class=\"ccl-19882374e640f487 ccl-417df52a76832172\">1.2 miles away</span></span><span class=\"HomeFeedUILines-c129ebfb232f6e54\" style=\"color: initial;\"><div class=\"ccl-b308a2db3758e3e5\"><span></span></div></span><span class=\"HomeFeedUILines-c129ebfb232f6e54\" style=\"color: rgb(130, 133, 133);\"><span class=\"ccl-19882374e640f487 ccl-417df52a76832172\">·</span></span><span class=\"HomeFeedUILines-c129ebfb232f6e54\" style=\"color: initial;\"><div class=\"ccl-b308a2db3758e3e5\"><span></span></div></span><span class=\"HomeFeedUILines-c129ebfb232f6e54\" style=\"color: rgb(130, 133, 133);\"><span class=\"ccl-19882374e640f487 ccl-417df52a76832172\">£3.49 delivery</span></span></li><li class=\"HomeFeedUILines-678297d91ca76a11 HomeFeedUILines-f15fca32260e4b30\"><span class=\"HomeFeedUILines-c129ebfb232f6e54\" style=\"color: rgb(251, 80, 88);\"><span class=\"ccl-462400680c526774 ccl-ed34b65f78f16205\"><svg class=\"ccl-0f24ac4b87ce1f67 ccl-ed34b65f78f16205\" height=\"24\" viewbox=\"0 0 24 24\" width=\"24\"><path d=\"M4.82843 13L11 19.1716L18 12.1716V6H11.8284L4.82843 13ZM11 4H20V13L11 22L2 13L11 4ZM14.5 11C15.3284 11 16 10.3284 16 9.5C16 8.67157 15.3284 8 14.5 8C13.6716 8 13 8.67157 13 9.5C13 10.3284 13.6716 11 14.5 11Z\"></path></svg></span></span><span class=\"HomeFeedUILines-c129ebfb232f6e54\" style=\"color: initial;\"><div class=\"ccl-b308a2db3758e3e5\"><span></span></div></span><span class=\"HomeFeedUILines-c129ebfb232f6e54\" style=\"color: rgb(251, 80, 88);\"><span class=\"ccl-19882374e640f487 ccl-417df52a76832172\">Meal Deals</span></span></li></ul></div></span></span></a>"
      ]
     },
     "execution_count": 6,
     "metadata": {},
     "output_type": "execute_result"
    }
   ],
   "source": [
    "# Looks like all the restaurants that can be ordered from (clicked on) are wrapped in an a tag\n",
    "# The aria-label attribute is in all of the a tags that we want\n",
    "# Therefore, we need to filter through the html and find all the a tags that have the aria-label attribute\n",
    "# The a tags with the restaurants in are also very long in comparison to the other a tags that have aria-labels\n",
    "soup.find_all('a')[77]"
   ]
  },
  {
   "cell_type": "code",
   "execution_count": 85,
   "metadata": {},
   "outputs": [],
   "source": [
    "# Define a function that returns only if the tag is an a tag and it has the aria label attribute\n",
    "\n",
    "def has_aria_label(tag):\n",
    "    if tag.name == 'a':\n",
    "        return tag.has_attr('aria-label')"
   ]
  },
  {
   "cell_type": "code",
   "execution_count": 86,
   "metadata": {},
   "outputs": [],
   "source": [
    "# All potential restaurants will meet this criteria. But we will also need to filter based on length of the a tag\n",
    "# I chose 300 just by trial and error, starting from 100 and getting rid of the short links\n",
    "potential_restaurants = soup.find_all(has_aria_label)\n",
    "restaurants = [str(x) for x in potential_restaurants if len(str(x)) > 300 ]"
   ]
  },
  {
   "cell_type": "code",
   "execution_count": 87,
   "metadata": {
    "scrolled": true
   },
   "outputs": [],
   "source": [
    "# Within an a tag, most of the useful information is stated after the word Restaurant (with a space)\n",
    "# Most of the useful data ends with a \" because aria-label is a html attribute\n",
    "# We will use that as a data identifier, and look for all the text after this start identifier and before the end identifier\n",
    "\n",
    "def find_main_data(text):\n",
    "    start_identifier = 'Restaurant '\n",
    "    end_identifier = '\"'\n",
    "    search_start = text.find(start_identifier) + len(start_identifier)\n",
    "    search_end = text.find(end_identifier, search_start)\n",
    "    return text[search_start:search_end]"
   ]
  },
  {
   "cell_type": "code",
   "execution_count": 88,
   "metadata": {},
   "outputs": [],
   "source": [
    "# Distance is given in miles, so searching for the text 'miles' or 'mile' away will help us find the distance\n",
    "# Before the words 'miles away', the distance is given to one decimal place, eg x.xx miles away\n",
    "# Therefore, we need to go back 4 from the position of miles away\n",
    "# For mile away, distance is given as 1 mile away\n",
    "# Therefore, we need to go back 2 from the position of mile away\n",
    "\n",
    "def find_distance_data(main_data):\n",
    "    identifier = 'miles away'\n",
    "    sub_identifier = 'mile away'\n",
    "    start_index = main_data.find(identifier)\n",
    "    if start_index == -1:\n",
    "        search_start = main_data.find(sub_identifier) -2\n",
    "        search_end = search_start + 2 + len(sub_identifier)\n",
    "    else:\n",
    "        search_start = main_data.find(identifier) -4\n",
    "        search_end = search_start + 4 + len(identifier)\n",
    "    return main_data[search_start: search_end]"
   ]
  },
  {
   "cell_type": "code",
   "execution_count": 89,
   "metadata": {},
   "outputs": [],
   "source": [
    "# Delivery Cost will be found after a pound sign, although if there is no cost, we assume there is free delivery\n",
    "# Luckily, the delivery cost comes before the text stating 'Buy X get £Y off', otherwise we get the wrong cost\n",
    "# There are no offer badges that have pound signs except those with the delivery cost, so no issue with getting the wrong '£' text\n",
    "# If the text contains free delivery, then the cost should be 0\n",
    "   \n",
    "def find_delivery_cost(text):\n",
    "    start_identifier = '£'\n",
    "    end_identifier = 'delivery'\n",
    "    search_start = text.find(start_identifier)\n",
    "    search_end = text.find(end_identifier, search_start)\n",
    "    if 'Free delivery' in text:\n",
    "        return '£0.00'\n",
    "    elif (search_start == -1) | (search_end == -1):\n",
    "        return None\n",
    "    else:\n",
    "        return text[search_start: search_end - 1]"
   ]
  },
  {
   "cell_type": "code",
   "execution_count": 90,
   "metadata": {},
   "outputs": [],
   "source": [
    "# For each of the restaurants, find the main data, distance and delivery cost\n",
    "# Put those into a dictionary so we can make them into a dataframe\n",
    "\n",
    "restaurants_list = []\n",
    "id = 0\n",
    "for restaurant in restaurants:\n",
    "    restaurant_dictionary = {\n",
    "        'id': id,\n",
    "        'main_data': find_main_data(restaurant),\n",
    "        'distance': find_distance_data(restaurant),\n",
    "        'delivery_cost': find_delivery_cost(restaurant)\n",
    "    }\n",
    "    restaurants_list.append(restaurant_dictionary)\n",
    "    id += 1\n",
    "    "
   ]
  },
  {
   "cell_type": "code",
   "execution_count": 91,
   "metadata": {
    "scrolled": true
   },
   "outputs": [],
   "source": [
    "# Make the dataframe from the dictionary\n",
    "restaurant_df = pd.DataFrame.from_dict(restaurants_list)"
   ]
  },
  {
   "cell_type": "code",
   "execution_count": 92,
   "metadata": {},
   "outputs": [],
   "source": [
    "# Now we need to clean the data! For example, the main_data column has several bits of data in\n",
    "# Sentence Tokenize from nltk seperates the main data into sentences, making it easier to get each bit of data\n",
    "restaurant_df['restaurant_name'] = restaurant_df['main_data'].map(lambda x: sent_tokenize(x.replace('&amp;', '&'))[0][:-1])\n",
    "restaurant_df['delivery_time'] = restaurant_df['main_data'].map(lambda x: sent_tokenize(x)[1].split(' ')[2:5])"
   ]
  },
  {
   "cell_type": "code",
   "execution_count": 93,
   "metadata": {},
   "outputs": [],
   "source": [
    "# Unfortunately, some restaurants have no reviews\n",
    "# Because it is more complicated, will make a function to specifically tackle this\n",
    "# Some restaurants have no review data\n",
    "\n",
    "def find_review_data(main_data):\n",
    "    start_identifier = 'Rated '\n",
    "    end_identifier = 'reviews'\n",
    "    search_start = main_data.find(start_identifier)\n",
    "    if search_start > -1:\n",
    "        search_end = main_data.find(end_identifier, search_start) - 1\n",
    "        review_data = main_data[search_start: search_end]\n",
    "        review_score = float(review_data.split(' ')[1])\n",
    "        review_number = int(review_data.split(' ')[-1].split('+')[0])\n",
    "        return {'score': review_score, 'number': review_number} \n",
    "    else:\n",
    "        return {'score': 'None', 'number': 'None' }\n",
    "    \n",
    "restaurant_df['rating_score'] = restaurant_df['main_data'].map(lambda x: find_review_data(x)['score'])\n",
    "restaurant_df['rating_number'] = restaurant_df['main_data'].map(lambda x: find_review_data(x)['number'])"
   ]
  },
  {
   "cell_type": "code",
   "execution_count": 94,
   "metadata": {},
   "outputs": [],
   "source": [
    "# Now we have all the data we want, we need to clean it!"
   ]
  },
  {
   "cell_type": "code",
   "execution_count": 109,
   "metadata": {
    "scrolled": true
   },
   "outputs": [],
   "source": [
    "# Lastly, we need to get the cuisine data, which all follows the phrase 'Serves '\n",
    "# Because it is a list, grammatically, all the cuisines are seperated by commas\n",
    "# Splitting on commas will give all the cuisines that are seperated by commas as items in an array (cuisines_first_split)\n",
    "# All items in the array except the last will be the cuisine only (first_cuisines)\n",
    "# The last item in this array will either be the last cuisine or the only two cuisines (last_first_split)\n",
    "# If there are two cuisines, they aren't seperated by commas, they are seperated by ' and ' instead\n",
    "# Therefore, we should seperate last_first_split by ' and ', and we will have two cuisines or '' and the last cuisine\n",
    "# We then need to add the last cuisine(s) to the first_cuisines, and we only want to add it if the cuisine is more than one letter, this is so you don't add the empty string ''\n",
    "# Finally, we need to remove the full stop from the final element in the cuisines list and remove all surrounding whitespace\n",
    "\n",
    "def find_cuisine_data(main_data):\n",
    "    start_identifier = 'Serves '\n",
    "    first_splitter = ','\n",
    "    last_splitter = ' and '\n",
    "    cuisines_start = main_data.find(start_identifier)\n",
    "    if cuisines_start > -1:\n",
    "        cuisines_raw = main_data[cuisines_start + len(start_identifier):]\n",
    "        cuisines_first_split = cuisines_raw.split(first_splitter)\n",
    "        last_first_split = cuisines_first_split[-1]\n",
    "        first_cuisines = cuisines_first_split[:-1]\n",
    "        last_cuisines = last_first_split.split(last_splitter)\n",
    "        for i in last_cuisines:\n",
    "            if len(i) > 1:\n",
    "                first_cuisines.append(i)\n",
    "        first_cuisines[-1] = first_cuisines[-1][:-1]\n",
    "        all_cuisines = [x.strip() for x in first_cuisines]\n",
    "        return all_cuisines\n",
    "    \n",
    "    \n",
    "    \n",
    "restaurant_df['cuisines'] = restaurant_df['main_data'].map(lambda x: find_cuisine_data(x))"
   ]
  },
  {
   "cell_type": "markdown",
   "metadata": {},
   "source": [
    "### Now we have all the information we need, let's clean it up!"
   ]
  },
  {
   "cell_type": "code",
   "execution_count": 111,
   "metadata": {},
   "outputs": [
    {
     "data": {
      "text/html": [
       "<div>\n",
       "<style scoped>\n",
       "    .dataframe tbody tr th:only-of-type {\n",
       "        vertical-align: middle;\n",
       "    }\n",
       "\n",
       "    .dataframe tbody tr th {\n",
       "        vertical-align: top;\n",
       "    }\n",
       "\n",
       "    .dataframe thead th {\n",
       "        text-align: right;\n",
       "    }\n",
       "</style>\n",
       "<table border=\"1\" class=\"dataframe\">\n",
       "  <thead>\n",
       "    <tr style=\"text-align: right;\">\n",
       "      <th></th>\n",
       "      <th>id</th>\n",
       "      <th>main_data</th>\n",
       "      <th>distance</th>\n",
       "      <th>delivery_cost</th>\n",
       "      <th>restaurant_name</th>\n",
       "      <th>delivery_time</th>\n",
       "      <th>rating_score</th>\n",
       "      <th>rating_number</th>\n",
       "      <th>cuisines</th>\n",
       "    </tr>\n",
       "  </thead>\n",
       "  <tbody>\n",
       "    <tr>\n",
       "      <th>0</th>\n",
       "      <td>0</td>\n",
       "      <td>Waitrose &amp;amp; Partners. Delivers in 15 to 25 ...</td>\n",
       "      <td>0.6 miles away</td>\n",
       "      <td>£3.99</td>\n",
       "      <td>Waitrose &amp; Partners</td>\n",
       "      <td>[15, to, 25]</td>\n",
       "      <td>4.8</td>\n",
       "      <td>500</td>\n",
       "      <td>[Alcohol, Grocery, British, Breakfast]</td>\n",
       "    </tr>\n",
       "    <tr>\n",
       "      <th>1</th>\n",
       "      <td>1</td>\n",
       "      <td>Sticks'n'Sushi. Delivers in 15 to 30 minutes. ...</td>\n",
       "      <td>0.7 miles away</td>\n",
       "      <td>£3.49</td>\n",
       "      <td>Sticks'n'Sushi</td>\n",
       "      <td>[15, to, 30]</td>\n",
       "      <td>4.8</td>\n",
       "      <td>500</td>\n",
       "      <td>[Sushi, Japanese]</td>\n",
       "    </tr>\n",
       "    <tr>\n",
       "      <th>2</th>\n",
       "      <td>2</td>\n",
       "      <td>Chipotle Mexican Grill. Delivers in 10 to 20 m...</td>\n",
       "      <td>0.8 miles away</td>\n",
       "      <td>£3.49</td>\n",
       "      <td>Chipotle Mexican Grill</td>\n",
       "      <td>[10, to, 20]</td>\n",
       "      <td>4.6</td>\n",
       "      <td>500</td>\n",
       "      <td>[Mexican, Burritos, Salads, Chicken]</td>\n",
       "    </tr>\n",
       "    <tr>\n",
       "      <th>3</th>\n",
       "      <td>3</td>\n",
       "      <td>The Vegan Lebanese. Delivers in 25 to 45 minut...</td>\n",
       "      <td>1.3 miles away</td>\n",
       "      <td>£3.99</td>\n",
       "      <td>The Vegan Lebanese</td>\n",
       "      <td>[25, to, 45]</td>\n",
       "      <td>None</td>\n",
       "      <td>None</td>\n",
       "      <td>[Lebanese]</td>\n",
       "    </tr>\n",
       "    <tr>\n",
       "      <th>4</th>\n",
       "      <td>4</td>\n",
       "      <td>Sushi Shop. Delivers in 25 to 40 minutes. Rate...</td>\n",
       "      <td>1.5 miles away</td>\n",
       "      <td>£3.99</td>\n",
       "      <td>Sushi Shop</td>\n",
       "      <td>[25, to, 40]</td>\n",
       "      <td>4.8</td>\n",
       "      <td>500</td>\n",
       "      <td>[Sushi, Japanese, Salads, Poke]</td>\n",
       "    </tr>\n",
       "    <tr>\n",
       "      <th>...</th>\n",
       "      <td>...</td>\n",
       "      <td>...</td>\n",
       "      <td>...</td>\n",
       "      <td>...</td>\n",
       "      <td>...</td>\n",
       "      <td>...</td>\n",
       "      <td>...</td>\n",
       "      <td>...</td>\n",
       "      <td>...</td>\n",
       "    </tr>\n",
       "    <tr>\n",
       "      <th>383</th>\n",
       "      <td>383</td>\n",
       "      <td>Sale e Pepe. Delivers at 08:30. Rated 4.7 from...</td>\n",
       "      <td>1.4 miles away</td>\n",
       "      <td>£3.99</td>\n",
       "      <td>Sale e Pepe</td>\n",
       "      <td>[08:30.]</td>\n",
       "      <td>4.7</td>\n",
       "      <td>500</td>\n",
       "      <td>[Italian, Pasta, Seafood]</td>\n",
       "    </tr>\n",
       "    <tr>\n",
       "      <th>384</th>\n",
       "      <td>384</td>\n",
       "      <td>Carluccio's Breakfast. Delivers at 09:30. Rate...</td>\n",
       "      <td>2.1 miles away</td>\n",
       "      <td>£4.49</td>\n",
       "      <td>Carluccio's Breakfast</td>\n",
       "      <td>[09:30.]</td>\n",
       "      <td>4.7</td>\n",
       "      <td>238</td>\n",
       "      <td>[Breakfast, Italian, Brunch, Coffee]</td>\n",
       "    </tr>\n",
       "    <tr>\n",
       "      <th>385</th>\n",
       "      <td>385</td>\n",
       "      <td>Astir Wines. Delivers at 10:30. Rated 4.9 from...</td>\n",
       "      <td>0.9 miles away</td>\n",
       "      <td>£3.49</td>\n",
       "      <td>Astir Wines</td>\n",
       "      <td>[10:30.]</td>\n",
       "      <td>4.9</td>\n",
       "      <td>500</td>\n",
       "      <td>[Drinks, Alcohol]</td>\n",
       "    </tr>\n",
       "    <tr>\n",
       "      <th>386</th>\n",
       "      <td>386</td>\n",
       "      <td>Carluccio's. Delivers at 11:45. Rated 4.7 from...</td>\n",
       "      <td>2.1 miles away</td>\n",
       "      <td>£4.49</td>\n",
       "      <td>Carluccio's</td>\n",
       "      <td>[11:45.]</td>\n",
       "      <td>4.7</td>\n",
       "      <td>500</td>\n",
       "      <td>[Italian, Breakfast, Pasta, Pizza]</td>\n",
       "    </tr>\n",
       "    <tr>\n",
       "      <th>387</th>\n",
       "      <td>387</td>\n",
       "      <td>Valentinas Kitchen. Delivers at 12:00. Rated 4...</td>\n",
       "      <td>0.9 miles away</td>\n",
       "      <td>£3.49</td>\n",
       "      <td>Valentinas Kitchen</td>\n",
       "      <td>[12:00.]</td>\n",
       "      <td>4.3</td>\n",
       "      <td>108</td>\n",
       "      <td>[Italian, Pasta, Salads, Dessert]</td>\n",
       "    </tr>\n",
       "  </tbody>\n",
       "</table>\n",
       "<p>388 rows × 9 columns</p>\n",
       "</div>"
      ],
      "text/plain": [
       "      id                                          main_data        distance  \\\n",
       "0      0  Waitrose &amp; Partners. Delivers in 15 to 25 ...  0.6 miles away   \n",
       "1      1  Sticks'n'Sushi. Delivers in 15 to 30 minutes. ...  0.7 miles away   \n",
       "2      2  Chipotle Mexican Grill. Delivers in 10 to 20 m...  0.8 miles away   \n",
       "3      3  The Vegan Lebanese. Delivers in 25 to 45 minut...  1.3 miles away   \n",
       "4      4  Sushi Shop. Delivers in 25 to 40 minutes. Rate...  1.5 miles away   \n",
       "..   ...                                                ...             ...   \n",
       "383  383  Sale e Pepe. Delivers at 08:30. Rated 4.7 from...  1.4 miles away   \n",
       "384  384  Carluccio's Breakfast. Delivers at 09:30. Rate...  2.1 miles away   \n",
       "385  385  Astir Wines. Delivers at 10:30. Rated 4.9 from...  0.9 miles away   \n",
       "386  386  Carluccio's. Delivers at 11:45. Rated 4.7 from...  2.1 miles away   \n",
       "387  387  Valentinas Kitchen. Delivers at 12:00. Rated 4...  0.9 miles away   \n",
       "\n",
       "    delivery_cost         restaurant_name delivery_time rating_score  \\\n",
       "0           £3.99     Waitrose & Partners  [15, to, 25]          4.8   \n",
       "1           £3.49          Sticks'n'Sushi  [15, to, 30]          4.8   \n",
       "2           £3.49  Chipotle Mexican Grill  [10, to, 20]          4.6   \n",
       "3           £3.99      The Vegan Lebanese  [25, to, 45]         None   \n",
       "4           £3.99              Sushi Shop  [25, to, 40]          4.8   \n",
       "..            ...                     ...           ...          ...   \n",
       "383         £3.99             Sale e Pepe      [08:30.]          4.7   \n",
       "384         £4.49   Carluccio's Breakfast      [09:30.]          4.7   \n",
       "385         £3.49             Astir Wines      [10:30.]          4.9   \n",
       "386         £4.49             Carluccio's      [11:45.]          4.7   \n",
       "387         £3.49      Valentinas Kitchen      [12:00.]          4.3   \n",
       "\n",
       "    rating_number                                cuisines  \n",
       "0             500  [Alcohol, Grocery, British, Breakfast]  \n",
       "1             500                       [Sushi, Japanese]  \n",
       "2             500    [Mexican, Burritos, Salads, Chicken]  \n",
       "3            None                              [Lebanese]  \n",
       "4             500         [Sushi, Japanese, Salads, Poke]  \n",
       "..            ...                                     ...  \n",
       "383           500               [Italian, Pasta, Seafood]  \n",
       "384           238    [Breakfast, Italian, Brunch, Coffee]  \n",
       "385           500                       [Drinks, Alcohol]  \n",
       "386           500      [Italian, Breakfast, Pasta, Pizza]  \n",
       "387           108       [Italian, Pasta, Salads, Dessert]  \n",
       "\n",
       "[388 rows x 9 columns]"
      ]
     },
     "execution_count": 111,
     "metadata": {},
     "output_type": "execute_result"
    }
   ],
   "source": [
    "# Let's see what our data looks like\n",
    "restaurant_df"
   ]
  },
  {
   "cell_type": "markdown",
   "metadata": {},
   "source": [
    "### Cleaning Tasks:\n",
    "1. distance should be a float, not a string\n",
    "2. delivery_cost should be a float, not a string\n",
    "3. delivery_time should actually be split into min, max and average delivery time and should all be floats\n",
    "4. Each cuisine should have its own column equal to 1 if they serve that cuisine, and 0 otherwise\n",
    "5. We will need to remove all unnecessary columns \n"
   ]
  },
  {
   "cell_type": "code",
   "execution_count": 96,
   "metadata": {},
   "outputs": [],
   "source": [
    "cuisine_list = []\n",
    "for cuisines in restaurant_df['cuisines']:\n",
    "    if cuisines:\n",
    "        for cuisine in cuisines:\n",
    "            if cuisine not in cuisine_list:\n",
    "                cuisine_list.append(cuisine)"
   ]
  },
  {
   "cell_type": "code",
   "execution_count": null,
   "metadata": {},
   "outputs": [],
   "source": []
  }
 ],
 "metadata": {
  "kernelspec": {
   "display_name": "Python 3",
   "language": "python",
   "name": "python3"
  },
  "language_info": {
   "codemirror_mode": {
    "name": "ipython",
    "version": 3
   },
   "file_extension": ".py",
   "mimetype": "text/x-python",
   "name": "python",
   "nbconvert_exporter": "python",
   "pygments_lexer": "ipython3",
   "version": "3.8.5"
  }
 },
 "nbformat": 4,
 "nbformat_minor": 4
}
