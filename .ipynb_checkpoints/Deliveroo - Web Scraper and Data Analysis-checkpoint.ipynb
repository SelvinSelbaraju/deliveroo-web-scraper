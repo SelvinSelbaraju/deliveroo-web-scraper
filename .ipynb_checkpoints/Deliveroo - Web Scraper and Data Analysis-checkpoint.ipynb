{
 "cells": [
  {
   "cell_type": "markdown",
   "metadata": {},
   "source": [
    "# Welcome to my Deliveroo Web Scraper and Data Analysis Notebook!\n",
    "\n",
    "The aim of this project is to be able to scrape key information on all the restaurants that deliver to a certain postcode at the time of scraping. The data then needs to be cleaned so it can be analysed.\n",
    "\n",
    "I wanted to make this as accessible for beginners as possible, so I've outlined all of my steps. I am by no means an expert, and feedback is always much appreciated!\n",
    "\n",
    "In order to achieve our aim, we will need the following restaurant data: \n",
    "1. Restaurant Name\n",
    "2. Restaurant Rank (where it is positioned on the website)\n",
    "3. Cuisines\n",
    "4. Rating (number of ratings and score)\n",
    "5. Distance\n",
    "6. Delivery Cost\n",
    "7. Delivery Time\n",
    "\n",
    "Using this information, we can perform some data visualisations and simple analysis. For example, we may want to see what is the best cuisine in our area, or see if there is a relationship between the number of reviews and the review score. These questions are important to understand as they drive the number of orders Deliveroo gets, and thus their revenues.\n",
    "\n",
    "After this analysis, it is also interesting to look at the price different restaurants charge for the same dish (I use Egg Fried Rice as an example). If some restaurants are undercharging, they could be told to slightly raise their price. Assuming this price increase doesn't affect their number of orders for Egg Fried Rice, order value will go up and thus Deliveroo's revenues would rise.  "
   ]
  },
  {
   "cell_type": "markdown",
   "metadata": {},
   "source": [
    "### This only works for the UK at the moment\n",
    "\n",
    "## Let's get into the code!"
   ]
  },
  {
   "cell_type": "markdown",
   "metadata": {},
   "source": [
    "If you are new to Python and are interested in Data Science, I would recommend installing the Anaconda distribution. It comes with lots of the important libraries built-in, so you don't need to worry about installing them. I have had a lot less issues using the Conda installer in comparison to the default Python Pip installer.\n",
    "\n",
    "# Imports\n",
    "\n",
    "First, we'll import some libraries. These libraries can all be installed using either 'pip install x' or 'conda install x' for those using the Anaconda distribution. 'x' is the name of the library we want to install. I usually use conda install. \n",
    "\n",
    "For those not familiar with web scraping, some of these librarires may seem very perplexing. I'll explain them below: \n",
    "\n",
    "### BeautifulSoup\n",
    "This is a great html parser. It helps us search through a html file for certain tags, certain attributes and much more! See the documentation and download here: https://www.crummy.com/software/BeautifulSoup/bs4/doc/ ,  https://anaconda.org/anaconda/beautifulsoup4\n",
    "\n",
    "\n",
    "### Selenium\n",
    "This is an awesome tool that will help us simulate a browser instance. It also allows us to run javascript commands in the simulated browser instance. A problem we will come across is that Deliveroo has an 'infinite scroll' site. This means that much of the page doesn't load until you get to the bottom of the current section. If we extract the html file without scrolling through the page, we won't load most of the data. Therefore, we use Selenium to scroll through the entire page, and then extract the final html file once it hits the bottom. See the Selenium documentation here: https://www.selenium.dev/documentation/en/ , https://anaconda.org/conda-forge/selenium\n",
    "\n",
    "I choose Chrome as the browser I want to simulate, so I use the ChromeDriver.exe that can be downloaded here: https://chromedriver.chromium.org/.\n",
    "\n",
    "\n",
    "## The more common Python libraries: \n",
    "\n",
    "### Time\n",
    "This is a built-in Python library used to elapse time in our code running. We use it to provide a delay, so that Selenium can let the page load before it scrolls down. Without this, Selenium would just scroll through the entire page, but none of the information would load! See the documentation here: https://docs.python.org/3/library/time.html (Built-in so no need for an external install!)\n",
    "\n",
    "\n",
    "### Numpy, Pandas\n",
    "These are the classic data manipulation libraries and are very common in Data Science. They are even built-in to the Anaconda distribution, so no need for an external install! Numpy stands for 'Numerical Python' and is great at performing calculations on arrays and matrices. It does this faster than Python lists because Python lists essentially act as a pointer to where the information in the list is stored on your computer. This is important for when your list has multiple data types, but when working with numbers, we don't need this! Numpy also allows for elementwise operations within an array or matrix. Thus Numpy provides a really efficient way to handle numerical data! See the documentation here: https://numpy.org/doc/stable/\n",
    "\n",
    "Pandas' name actually comes from 'Panel Data' as opposed to the furry animal! It allows us to create DataFrame objects, which essentially look like Excel style tables with columns and rows. We will want to have individual observations (in our case restaurants) in each row, and the attributes of restaurants in the columns. It allows us to carve out certain sections of these tables, or to manipulate them. Pandas actually uses Numpy under the hood! See the documentation here: https://pandas.pydata.org/docs/\n",
    "\n",
    "\n",
    "### Matplotlib, Seaborn\n",
    "These are very beginner friendly data visualisation libraries. These are also built-in to Anaconda. They both allow for quick plotting of all sorts of charts. For example, histograms, bar graphs, scatter graphs, boxplots and more! See the documentation here: https://matplotlib.org/\n",
    "\n",
    "Seaborn is built on top of Matplotlib and looks more beautiful in my opinion. It's also really simple to plot boxplots, scatterplots and heatmaps! See the documentation here: https://seaborn.pydata.org/\n",
    "\n",
    "\n",
    "### NLTK (Natural Language Tool Kit)\n",
    "NLTK is a great library for performing operations on text data. Since we are parsing a html file, we will need to efficiently look through it and find all of our data. I only use the 'sent_tokenize' function from this library so that is all I wanted to import. This function is really good at breaking up a string of text into a list of sentences. See the documentation and download here: https://www.nltk.org/index.html , https://anaconda.org/anaconda/nltk  "
   ]
  },
  {
   "cell_type": "code",
   "execution_count": 79,
   "metadata": {},
   "outputs": [],
   "source": [
    "# You need to run this first if you have never used nltk.tokenize before. Uncomment the below code to do so\n",
    "\n",
    "# import nltk\n",
    "# nltk.download('punkt')"
   ]
  },
  {
   "cell_type": "code",
   "execution_count": 80,
   "metadata": {},
   "outputs": [],
   "source": [
    "from bs4 import BeautifulSoup\n",
    "from selenium import webdriver\n",
    "import time\n",
    "import pandas as pd\n",
    "import numpy as np\n",
    "import matplotlib.pyplot as plt\n",
    "import seaborn as sns\n",
    "from nltk.tokenize import sent_tokenize"
   ]
  },
  {
   "cell_type": "markdown",
   "metadata": {},
   "source": [
    "# Initial Parameters\n",
    "\n",
    "These will be the only things the user needs to set.\n",
    "\n",
    "We want to allow the user of the data scraper to look at restaurants that deliver specifically to their postcode. \n",
    "\n",
    "Since data is scraped from the deliveroo website for a certain postcode, we need to make it easy to change within the url of the website. We use an 'f string' which allows for variables within a string. \n",
    "\n",
    "We then need to tell Selenium where our ChromeDriver is saved, so we need to give it the path. This may vary for you depending on where you save it. I'm on Linux, and I just saved it in a folder in the home directory. We need to use an 'r string' which stands for raw string because '/' is an escape character in strings in Python. This means it isn't treated as a '/', it has a special purpose. Telling Python we want a raw string means that it won't misinterpret '/'.\n",
    "\n",
    "The two time variables are used to decide how long Selenium should wait at certain stages. The initial_load_time variable is how long Selenium waits when the page initially loads, so we can get the data at the top of the page. The scroll_pause_time variable is how long Selenium waits before scrolling again, so that the data can load. I would watch the browser window Selenium opens to get an understanding of how these work and why they are needed. These times may need to be tweaked depending on the power of your computer and/or your internet speed."
   ]
  },
  {
   "cell_type": "code",
   "execution_count": 81,
   "metadata": {},
   "outputs": [],
   "source": [
    "# This isn't my postcode btw... It's the prime minister's :)\n",
    "# Regardless of where you are in the UK, by changing the postcode, the url will automatically change\n",
    "# Because of the above, there is no need to change westminster\n",
    "\n",
    "postcode = 'SW1A 2AA'\n",
    "url = f'https://deliveroo.co.uk/restaurants/london/westminster?postcode={postcode}&collection=all-restaurants'\n",
    "chrome_driver_path = r'/home/selvino/chrome-driver/chromedriver'\n",
    "initial_load_time = 2\n",
    "scroll_pause_time = 0.0001"
   ]
  },
  {
   "cell_type": "markdown",
   "metadata": {},
   "source": [
    "# It's Scraping Time!\n",
    "\n",
    "As already mentioned, we want to simulate an instance of Chrome that scrolls through the entire Deliveroo website, so we can get a complete html file with all the data. We need to do this because the Deliveroo website is an 'infinite scroll' website, meaning that it only loads more of the webpage when you get to the bottom of it. \n",
    "\n",
    "We make an instance of Chromedriver and then tell it to load the url we created above. We pause execution by our initial_load_time variable so the page can initially load.\n",
    "\n",
    "We then run some basic javascript commands within our simulated Chrome window to do several things:\n",
    "1. Store the height of the screen as a variable, so we know how far to scroll at each step\n",
    "2. Click the accept cookies button\n",
    "3. Click the button about getting £10 off (this may no longer be there when you run it)\n",
    "\n",
    "After this, we want to start scrolling through the entire page. By using a while loop, we can keep scrolling through the page (using a javascript command) until the point we want to scroll to is off the page. I.e, when the location where we should be has a greater height than the location we are at, it must have mean that scrolling has stopped (hit the bottom of the page). "
   ]
  },
  {
   "cell_type": "code",
   "execution_count": 82,
   "metadata": {},
   "outputs": [],
   "source": [
    "driver = webdriver.Chrome(executable_path=chrome_driver_path)\n",
    "driver.get(url)\n",
    "time.sleep(initial_load_time)\n",
    "screen_height = driver.execute_script('return window.screen.height;')\n",
    "driver.execute_script('document.querySelector(\".accept-cookies-button\").click()')\n",
    "driver.execute_script('document.querySelectorAll(\".ccl-d0484b0360a2b432\")[1].click()')\n",
    "\n",
    "i = 1\n",
    "while True:\n",
    "    driver.execute_script(\"window.scrollTo(0, {screen_height} * {i});\".format(screen_height=screen_height, i = i))\n",
    "    i += 1\n",
    "    time.sleep(scroll_pause_time)\n",
    "    scroll_height = driver.execute_script(\"return document.body.scrollHeight\")\n",
    "    if screen_height * i > scroll_height:\n",
    "        break"
   ]
  },
  {
   "cell_type": "markdown",
   "metadata": {},
   "source": [
    "After we've scrolled through the entire page, we'll use BeautifulSoup to parse the webpage as html. The raw source code of the page is likely to be bundled Javascript, so its much easier to find our data by parsing it as html.\n",
    "\n",
    "The soup variable isn't actually a Python string, its a BeautifulSoup object that is somewhat similar to a string. However, we can call some really useful methods from the BeautifulSoup library on BeautifulSoup objects that are really helpful for our goal. For example, finding all instances of a certain html tag (eg. the 'a' tag) or finding instances of a html tag with certain attributes. \n",
    "\n",
    "If you have a look at the site here https://deliveroo.co.uk/restaurants/london/westminster?postcode=SW1A%202AA&collection=all-restaurants, you can see that all the restaurants usually have links. So we can likely get all our data by searching for html 'a' tags, which represent links. \n",
    "\n",
    "However, there are also other links on the page (eg the help section) that we don't want. However, their length is likely to be a lot shorter since they don't contain much information. So let's take a look at the distribution of 'a' tag length in our file to see if we can find a natural cut off point. I'm going to guess that restaurant 'a' tags are going to be much longer than the simpler links."
   ]
  },
  {
   "cell_type": "code",
   "execution_count": 83,
   "metadata": {},
   "outputs": [
    {
     "data": {
      "text/plain": [
       "bs4.BeautifulSoup"
      ]
     },
     "execution_count": 83,
     "metadata": {},
     "output_type": "execute_result"
    }
   ],
   "source": [
    "# Create a beautiful soup object that parses the html and has useful methods for reading the text\n",
    "soup = BeautifulSoup(driver.page_source, 'html.parser')\n",
    "driver.quit()\n",
    "type(soup)"
   ]
  },
  {
   "cell_type": "code",
   "execution_count": 84,
   "metadata": {
    "scrolled": true
   },
   "outputs": [
    {
     "data": {
      "text/plain": [
       "<AxesSubplot:xlabel='a Tag Length', ylabel='Count'>"
      ]
     },
     "execution_count": 84,
     "metadata": {},
     "output_type": "execute_result"
    },
    {
     "data": {
      "image/png": "[encoded data removed]",
      "text/plain": [
       "<Figure size 864x360 with 1 Axes>"
      ]
     },
     "metadata": {
      "needs_background": "light"
     },
     "output_type": "display_data"
    }
   ],
   "source": [
    "all_a_tags = soup.find_all('a')\n",
    "len_a_tags = np.array([len(str(x)) for x in all_a_tags])\n",
    "\n",
    "fig, ax = plt.subplots(figsize = (12,5))\n",
    "plt.xlabel('a Tag Length')\n",
    "plt.xticks(np.arange(0, max(len_a_tags), 500))\n",
    "sns.histplot(len_a_tags, ax = ax)"
   ]
  },
  {
   "cell_type": "markdown",
   "metadata": {},
   "source": [
    "Given the above, if there are no restaurants with between 500 and 1000 characters, would assume they all have over a 1000 characters."
   ]
  },
  {
   "cell_type": "code",
   "execution_count": 85,
   "metadata": {},
   "outputs": [
    {
     "data": {
      "text/plain": [
       "[<a aria-label=\"Learn more about the cookies we use\" class=\"banner-policy-link\" href=\"https://deliveroo.co.uk/cookies\">Learn more about the cookies we use</a>,\n",
       " <a aria-label=\"More Information\" href=\"https://deliveroo.co.uk/cookies\" onclick=\"Optanon.TriggerGoogleAnalyticsEvent('OneTrust Cookie Consent', 'Preferences Cookie Policy');\" target=\"_blank\">More Information</a>,\n",
       " <a href=\"https://onetrust.com/poweredbyonetrust\" rel=\"noopener\" target=\"_blank\"><div alt=\"OneTrust Website\" id=\"optanon-popup-bottom-logo\" style=\"background: url(https://cdn.cookielaw.org/skins/6.15.0/default_flat_bottom_two_button_black/v2/images/cookie-collective-top-bottom.png);width:155px;height:35px;\" title=\"powered by OneTrust\"></div></a>,\n",
       " <a class=\"ccl-1b0ffd1d711941bf\" href=\"/\">Deliveroo</a>,\n",
       " <a class=\"HomeFeedFilters-debdd8f99b2be851\" href=\"#filters-modal\"><span class=\"ccl-462400680c526774 ccl-ed34b65f78f16205\"><svg class=\"ccl-0f24ac4b87ce1f67 ccl-ed34b65f78f16205 ccl-c738ab1fde928049\" height=\"24\" viewbox=\"0 0 24 24\" width=\"24\"><path d=\"M11 11H21V13H11V15H7V13H3V11H7V9H11V11ZM13 17V15H17V21H13V19H3V17H13ZM14 5V3H18V5H21V7H18V9H14V7H3V5H14ZM15 8H17V4H15V8ZM17 19V17H21V19H17ZM14 20H16V16H14V20ZM8 14H10V10H8V14Z\"></path></svg></span></a>,\n",
       " <a class=\"ccl-070cf49b78b2413d\" href=\"https://corporate.deliveroo.co.uk\">Investors</a>,\n",
       " <a class=\"ccl-070cf49b78b2413d\" href=\"/about-us\">About us</a>,\n",
       " <a class=\"ccl-070cf49b78b2413d\" href=\"/takeaway/\">Takeaway</a>,\n",
       " <a class=\"ccl-070cf49b78b2413d\" href=\"/more/\">More</a>,\n",
       " <a class=\"ccl-070cf49b78b2413d\" href=\"https://uk.deliveroo.news/\">Newsroom</a>,\n",
       " <a class=\"ccl-070cf49b78b2413d\" href=\"https://foodscene.deliveroo.co.uk\">Foodscene blog</a>,\n",
       " <a class=\"ccl-070cf49b78b2413d\" href=\"https://deliveroo.engineering\">Engineering blog</a>,\n",
       " <a class=\"ccl-070cf49b78b2413d\" href=\"https://deliveroo.design\">Design blog</a>,\n",
       " <a class=\"ccl-070cf49b78b2413d\" href=\"/gift-cards\">Gift Cards</a>,\n",
       " <a class=\"ccl-070cf49b78b2413d\" href=\"https://careers.deliveroo.co.uk\">Careers</a>,\n",
       " <a class=\"ccl-070cf49b78b2413d\" href=\"https://restaurants.deliveroo.com/\">Restaurant signup</a>,\n",
       " <a class=\"ccl-070cf49b78b2413d\" href=\"/apply?utm-campaign=ridewithus&amp;utm-medium=organic&amp;utm-source=sitefooter\">Become a rider</a>,\n",
       " <a class=\"ccl-070cf49b78b2413d\" href=\"/legal\">Terms and conditions</a>,\n",
       " <a class=\"ccl-070cf49b78b2413d\" href=\"/privacy\">Privacy</a>,\n",
       " <a class=\"ccl-070cf49b78b2413d\" href=\"/cookies\">Cookies</a>,\n",
       " <a class=\"ccl-070cf49b78b2413d\" href=\"/modern-slavery-act-statement\">Modern Slavery Statement</a>,\n",
       " <a class=\"ccl-070cf49b78b2413d\" href=\"/tax-strategy\">Tax Strategy</a>,\n",
       " <a class=\"ccl-070cf49b78b2413d\" href=\"/section-172-statement\">Section 172 Statement</a>,\n",
       " <a class=\"ccl-070cf49b78b2413d\" href=\"/contact\">Contact</a>,\n",
       " <a class=\"ccl-070cf49b78b2413d\" href=\"/faq\">FAQs</a>,\n",
       " <a class=\"ccl-070cf49b78b2413d\" href=\"/cuisines\">Cuisines</a>,\n",
       " <a class=\"ccl-070cf49b78b2413d\" href=\"/brands\">Brands</a>,\n",
       " <a class=\"ccl-070cf49b78b2413d\" href=\"/sitemap\">Site map</a>,\n",
       " <a href=\"/app?platform=ios\" rel=\"noopener noreferrer\" target=\"_blank\"><span class=\"ccl-9515d92382999d48\"><span class=\"ccl-f90a9461a8351bfb ccl-ed1ef21fd5589187\">Download Deliveroo in the App Store</span></span></a>,\n",
       " <a href=\"/app?platform=android\" rel=\"noopener noreferrer\" target=\"_blank\"><span class=\"ccl-9515d92382999d48\"><span class=\"ccl-f90a9461a8351bfb ccl-4f679b4f054d4574\">Download Deliveroo in the App Store</span></span></a>]"
      ]
     },
     "execution_count": 85,
     "metadata": {},
     "output_type": "execute_result"
    }
   ],
   "source": [
    "# Is 500 a good cutoff?\n",
    "\n",
    "[x for x in all_a_tags if len(str(x)) > 0 and len(str(x)) < 500]"
   ]
  },
  {
   "cell_type": "code",
   "execution_count": 86,
   "metadata": {},
   "outputs": [
    {
     "data": {
      "text/plain": [
       "[<a class=\"ccl-985cb265c6f6a9c1\" href=\"/login?redirect=%2Frestaurants%2Flondon%2Fwestminster%2F%3Fpostcode%3DSW1A%25202AA%26collection%3Dall-restaurants\"><span class=\"ccl-c7e8470a1e905a95\"><span class=\"ccl-462400680c526774 ccl-ed34b65f78f16205\"><svg class=\"ccl-0f24ac4b87ce1f67 ccl-ed34b65f78f16205 ccl-c738ab1fde928049\" height=\"24\" viewbox=\"0 0 24 24\" width=\"24\"><path d=\"M3 10L5 8.44444V5H9.42857L12 3L21 10V21H3V10ZM14 19H19V10.9782L12 5.53372L5 10.9782V19H10V14H14V19Z\"></path></svg></span><span class=\"ccl-19882374e640f487 ccl-417df52a76832172 ccl-deab34eb04186352 ccl-d20a5732188988de ccl-6a536dee6972c57c\"><span class=\"ccl-19882374e640f487 ccl-1daa0367dee37c3b ccl-a5fb02a1085896d3 ccl-b308a2db3758e3e5\">Sign up or log in</span></span></span></a>,\n",
       " <a aria-label=\"Restaurant Tuscany Pizza. Delivers in 10 to 10 minutes. Rated 3.9 from 500+ reviews. Serves Italian and Pizza.\" class=\"HomeFeedUICard-1cc6964985e41c86\" href=\"/menu/london/fulham/tuscany-pizza?day=today&amp;postcode=SW1A2AA&amp;time=ASAP\"><span class=\"HomeFeedUICard-c6f6e82a465d3148\"><div class=\"HomeFeedUICard-a0ab05a247f7e7a6\"></div></span><div class=\"HomeFeedUICard-145e2409276fec2d\"><p class=\"ccl-19882374e640f487 ccl-1daa0367dee37c3b ccl-a5fb02a1085896d3 ccl-9d0a5327c911d0f3\"><span class=\"HomeFeedUICard-47968c55017d6795\">Placeholder</span></p><ul><li><span class=\"HomeFeedUICard-47968c55017d6795\">Placeholder</span><span class=\"HomeFeedUICard-47968c55017d6795\">Placeholder</span><span class=\"HomeFeedUICard-47968c55017d6795\">Placeholder</span><span class=\"HomeFeedUICard-47968c55017d6795\">Placeholder</span></li></ul><ul><li><span class=\"HomeFeedUICard-47968c55017d6795\">Placeholder</span><span class=\"HomeFeedUICard-47968c55017d6795\">Placeholder</span></li></ul></div></a>,\n",
       " <a aria-label=\"Restaurant Gluten Free Pizza Only. Delivers in 10 to 10 minutes. Rated 4.1 from 465 reviews.\" class=\"HomeFeedUICard-1cc6964985e41c86\" href=\"/menu/london/hammersmith/gulten-free-pizza-only?day=today&amp;postcode=SW1A2AA&amp;time=ASAP\"><span class=\"HomeFeedUICard-c6f6e82a465d3148\"><div class=\"HomeFeedUICard-a0ab05a247f7e7a6\"></div></span><div class=\"HomeFeedUICard-145e2409276fec2d\"><p class=\"ccl-19882374e640f487 ccl-1daa0367dee37c3b ccl-a5fb02a1085896d3 ccl-9d0a5327c911d0f3\"><span class=\"HomeFeedUICard-47968c55017d6795\">Placeholder</span></p><ul><li><span class=\"HomeFeedUICard-47968c55017d6795\">Placeholder</span><span class=\"HomeFeedUICard-47968c55017d6795\">Placeholder</span><span class=\"HomeFeedUICard-47968c55017d6795\">Placeholder</span><span class=\"HomeFeedUICard-47968c55017d6795\">Placeholder</span></li></ul><ul><li><span class=\"HomeFeedUICard-47968c55017d6795\">Placeholder</span><span class=\"HomeFeedUICard-47968c55017d6795\">Placeholder</span></li></ul></div></a>,\n",
       " <a aria-label=\"Restaurant Icco. Delivers in 20 to 35 minutes. Rated 4.6 from 500+ reviews. Serves Italian and Pizza.\" class=\"HomeFeedUICard-1cc6964985e41c86\" href=\"/menu/london/fitzrovia/icco?day=today&amp;postcode=SW1A2AA&amp;time=ASAP\"><span class=\"HomeFeedUICard-c6f6e82a465d3148\"><div class=\"HomeFeedUICard-a0ab05a247f7e7a6\"></div></span><div class=\"HomeFeedUICard-145e2409276fec2d\"><p class=\"ccl-19882374e640f487 ccl-1daa0367dee37c3b ccl-a5fb02a1085896d3 ccl-9d0a5327c911d0f3\"><span class=\"HomeFeedUICard-47968c55017d6795\">Placeholder</span></p><ul><li><span class=\"HomeFeedUICard-47968c55017d6795\">Placeholder</span><span class=\"HomeFeedUICard-47968c55017d6795\">Placeholder</span><span class=\"HomeFeedUICard-47968c55017d6795\">Placeholder</span><span class=\"HomeFeedUICard-47968c55017d6795\">Placeholder</span></li></ul><ul><li><span class=\"HomeFeedUICard-47968c55017d6795\">Placeholder</span><span class=\"HomeFeedUICard-47968c55017d6795\">Placeholder</span></li></ul></div></a>,\n",
       " <a aria-label=\"Restaurant Bread Ahead. Delivers in 15 to 30 minutes. Rated 4.8 from 500+ reviews.\" class=\"HomeFeedUICard-1cc6964985e41c86\" href=\"/menu/london/chelsea/bread-ahead-chelsea?day=today&amp;postcode=SW1A2AA&amp;time=ASAP\"><span class=\"HomeFeedUICard-c6f6e82a465d3148\"><div class=\"HomeFeedUICard-a0ab05a247f7e7a6\"></div></span><div class=\"HomeFeedUICard-145e2409276fec2d\"><p class=\"ccl-19882374e640f487 ccl-1daa0367dee37c3b ccl-a5fb02a1085896d3 ccl-9d0a5327c911d0f3\"><span class=\"HomeFeedUICard-47968c55017d6795\">Placeholder</span></p><ul><li><span class=\"HomeFeedUICard-47968c55017d6795\">Placeholder</span><span class=\"HomeFeedUICard-47968c55017d6795\">Placeholder</span><span class=\"HomeFeedUICard-47968c55017d6795\">Placeholder</span><span class=\"HomeFeedUICard-47968c55017d6795\">Placeholder</span></li></ul><ul><li><span class=\"HomeFeedUICard-47968c55017d6795\">Placeholder</span><span class=\"HomeFeedUICard-47968c55017d6795\">Placeholder</span></li></ul></div></a>,\n",
       " <a aria-label=\"Restaurant Kaké by Chisou. Delivers at 14:00. Rated 4.8 from 206 reviews. Serves Sushi, Japanese, and Seafood.\" class=\"HomeFeedUICard-1cc6964985e41c86\" href=\"/menu/london/chelsea/kake-don?day=today&amp;postcode=SW1A2AA&amp;time=1400\"><span class=\"HomeFeedUICard-c6f6e82a465d3148\"><div class=\"HomeFeedUICard-a0ab05a247f7e7a6\"></div></span><div class=\"HomeFeedUICard-145e2409276fec2d\"><p class=\"ccl-19882374e640f487 ccl-1daa0367dee37c3b ccl-a5fb02a1085896d3 ccl-9d0a5327c911d0f3\"><span class=\"HomeFeedUICard-47968c55017d6795\">Placeholder</span></p><ul><li><span class=\"HomeFeedUICard-47968c55017d6795\">Placeholder</span><span class=\"HomeFeedUICard-47968c55017d6795\">Placeholder</span><span class=\"HomeFeedUICard-47968c55017d6795\">Placeholder</span><span class=\"HomeFeedUICard-47968c55017d6795\">Placeholder</span></li></ul><ul><li><span class=\"HomeFeedUICard-47968c55017d6795\">Placeholder</span><span class=\"HomeFeedUICard-47968c55017d6795\">Placeholder</span></li></ul></div></a>,\n",
       " <a aria-label=\"Restaurant Bolsun Asian Fusion Cuisine. Delivers at 17:30. Serves Japanese, Chicken, and Dumplings.\" class=\"HomeFeedUICard-1cc6964985e41c86\" href=\"/menu/london/westminster/zeal-fish-ltd?day=today&amp;postcode=SW1A2AA&amp;time=1730\"><span class=\"HomeFeedUICard-c6f6e82a465d3148\"><div class=\"HomeFeedUICard-a0ab05a247f7e7a6\"></div></span><div class=\"HomeFeedUICard-145e2409276fec2d\"><p class=\"ccl-19882374e640f487 ccl-1daa0367dee37c3b ccl-a5fb02a1085896d3 ccl-9d0a5327c911d0f3\"><span class=\"HomeFeedUICard-47968c55017d6795\">Placeholder</span></p><ul><li><span class=\"HomeFeedUICard-47968c55017d6795\">Placeholder</span><span class=\"HomeFeedUICard-47968c55017d6795\">Placeholder</span><span class=\"HomeFeedUICard-47968c55017d6795\">Placeholder</span><span class=\"HomeFeedUICard-47968c55017d6795\">Placeholder</span></li></ul><ul><li><span class=\"HomeFeedUICard-47968c55017d6795\">Placeholder</span><span class=\"HomeFeedUICard-47968c55017d6795\">Placeholder</span></li></ul></div></a>,\n",
       " <a aria-label=\"Restaurant Pastan Fresh Vegan Pasta. Delivers at 18:00. Serves Italian, Pasta, and Healthy.\" class=\"HomeFeedUICard-1cc6964985e41c86\" href=\"/menu/london/covent-garden/pastan-karma-wood-green?day=today&amp;postcode=SW1A2AA&amp;time=1800\"><span class=\"HomeFeedUICard-c6f6e82a465d3148\"><div class=\"HomeFeedUICard-a0ab05a247f7e7a6\"></div></span><div class=\"HomeFeedUICard-145e2409276fec2d\"><p class=\"ccl-19882374e640f487 ccl-1daa0367dee37c3b ccl-a5fb02a1085896d3 ccl-9d0a5327c911d0f3\"><span class=\"HomeFeedUICard-47968c55017d6795\">Placeholder</span></p><ul><li><span class=\"HomeFeedUICard-47968c55017d6795\">Placeholder</span><span class=\"HomeFeedUICard-47968c55017d6795\">Placeholder</span><span class=\"HomeFeedUICard-47968c55017d6795\">Placeholder</span><span class=\"HomeFeedUICard-47968c55017d6795\">Placeholder</span></li></ul><ul><li><span class=\"HomeFeedUICard-47968c55017d6795\">Placeholder</span><span class=\"HomeFeedUICard-47968c55017d6795\">Placeholder</span></li></ul></div></a>,\n",
       " <a aria-label=\"Restaurant Olivo. Delivers at 19:15. Rated 4.8 from 500+ reviews. Serves Italian, Pasta, Salads, and Drinks.\" class=\"HomeFeedUICard-1cc6964985e41c86\" href=\"/menu/london/belgravia/olivo-chelsea?day=today&amp;postcode=SW1A2AA&amp;time=1915\"><span class=\"HomeFeedUICard-c6f6e82a465d3148\"><div class=\"HomeFeedUICard-a0ab05a247f7e7a6\"></div></span><div class=\"HomeFeedUICard-145e2409276fec2d\"><p class=\"ccl-19882374e640f487 ccl-1daa0367dee37c3b ccl-a5fb02a1085896d3 ccl-9d0a5327c911d0f3\"><span class=\"HomeFeedUICard-47968c55017d6795\">Placeholder</span></p><ul><li><span class=\"HomeFeedUICard-47968c55017d6795\">Placeholder</span><span class=\"HomeFeedUICard-47968c55017d6795\">Placeholder</span><span class=\"HomeFeedUICard-47968c55017d6795\">Placeholder</span><span class=\"HomeFeedUICard-47968c55017d6795\">Placeholder</span></li></ul><ul><li><span class=\"HomeFeedUICard-47968c55017d6795\">Placeholder</span><span class=\"HomeFeedUICard-47968c55017d6795\">Placeholder</span></li></ul></div></a>,\n",
       " <a aria-label=\"Restaurant Taka. Delivers at 21:30. Rated 4.8 from 500+ reviews. Serves Sushi and Japanese.\" class=\"HomeFeedUICard-1cc6964985e41c86\" href=\"/menu/london/mayfair/taka?day=today&amp;postcode=SW1A2AA&amp;time=2130\"><span class=\"HomeFeedUICard-c6f6e82a465d3148\"><div class=\"HomeFeedUICard-a0ab05a247f7e7a6\"></div></span><div class=\"HomeFeedUICard-145e2409276fec2d\"><p class=\"ccl-19882374e640f487 ccl-1daa0367dee37c3b ccl-a5fb02a1085896d3 ccl-9d0a5327c911d0f3\"><span class=\"HomeFeedUICard-47968c55017d6795\">Placeholder</span></p><ul><li><span class=\"HomeFeedUICard-47968c55017d6795\">Placeholder</span><span class=\"HomeFeedUICard-47968c55017d6795\">Placeholder</span><span class=\"HomeFeedUICard-47968c55017d6795\">Placeholder</span><span class=\"HomeFeedUICard-47968c55017d6795\">Placeholder</span></li></ul><ul><li><span class=\"HomeFeedUICard-47968c55017d6795\">Placeholder</span><span class=\"HomeFeedUICard-47968c55017d6795\">Placeholder</span></li></ul></div></a>,\n",
       " <a aria-label=\"Restaurant Chez Dduk. Delivers at 00:30. Serves Smoothie, Drinks, Dessert, and Healthy.\" class=\"HomeFeedUICard-1cc6964985e41c86\" href=\"/menu/london/knightsbridge/chez-dduk?day=tomorrow&amp;postcode=SW1A2AA&amp;time=0030\"><span class=\"HomeFeedUICard-c6f6e82a465d3148\"><div class=\"HomeFeedUICard-a0ab05a247f7e7a6\"></div></span><div class=\"HomeFeedUICard-145e2409276fec2d\"><p class=\"ccl-19882374e640f487 ccl-1daa0367dee37c3b ccl-a5fb02a1085896d3 ccl-9d0a5327c911d0f3\"><span class=\"HomeFeedUICard-47968c55017d6795\">Placeholder</span></p><ul><li><span class=\"HomeFeedUICard-47968c55017d6795\">Placeholder</span><span class=\"HomeFeedUICard-47968c55017d6795\">Placeholder</span><span class=\"HomeFeedUICard-47968c55017d6795\">Placeholder</span><span class=\"HomeFeedUICard-47968c55017d6795\">Placeholder</span></li></ul><ul><li><span class=\"HomeFeedUICard-47968c55017d6795\">Placeholder</span><span class=\"HomeFeedUICard-47968c55017d6795\">Placeholder</span></li></ul></div></a>,\n",
       " <a aria-label=\"Restaurant Astir Wines. Delivers at 10:30. Rated 4.9 from 500+ reviews. Serves Drinks and Alcohol.\" class=\"HomeFeedUICard-1cc6964985e41c86\" href=\"/menu/london/belgravia/astir-wines?day=tomorrow&amp;postcode=SW1A2AA&amp;time=1030\"><span class=\"HomeFeedUICard-c6f6e82a465d3148\"><div class=\"HomeFeedUICard-a0ab05a247f7e7a6\"></div></span><div class=\"HomeFeedUICard-145e2409276fec2d\"><p class=\"ccl-19882374e640f487 ccl-1daa0367dee37c3b ccl-a5fb02a1085896d3 ccl-9d0a5327c911d0f3\"><span class=\"HomeFeedUICard-47968c55017d6795\">Placeholder</span></p><ul><li><span class=\"HomeFeedUICard-47968c55017d6795\">Placeholder</span><span class=\"HomeFeedUICard-47968c55017d6795\">Placeholder</span><span class=\"HomeFeedUICard-47968c55017d6795\">Placeholder</span><span class=\"HomeFeedUICard-47968c55017d6795\">Placeholder</span></li></ul><ul><li><span class=\"HomeFeedUICard-47968c55017d6795\">Placeholder</span><span class=\"HomeFeedUICard-47968c55017d6795\">Placeholder</span></li></ul></div></a>,\n",
       " <a aria-label=\"Restaurant Fancy Burgers. Delivers at 10:45. Rated 4.4 from 42 reviews. Serves American and Burgers.\" class=\"HomeFeedUICard-1cc6964985e41c86\" href=\"/menu/london/knightsbridge/fancy-burgers?day=tomorrow&amp;postcode=SW1A2AA&amp;time=1045\"><span class=\"HomeFeedUICard-c6f6e82a465d3148\"><div class=\"HomeFeedUICard-a0ab05a247f7e7a6\"></div></span><div class=\"HomeFeedUICard-145e2409276fec2d\"><p class=\"ccl-19882374e640f487 ccl-1daa0367dee37c3b ccl-a5fb02a1085896d3 ccl-9d0a5327c911d0f3\"><span class=\"HomeFeedUICard-47968c55017d6795\">Placeholder</span></p><ul><li><span class=\"HomeFeedUICard-47968c55017d6795\">Placeholder</span><span class=\"HomeFeedUICard-47968c55017d6795\">Placeholder</span><span class=\"HomeFeedUICard-47968c55017d6795\">Placeholder</span><span class=\"HomeFeedUICard-47968c55017d6795\">Placeholder</span></li></ul><ul><li><span class=\"HomeFeedUICard-47968c55017d6795\">Placeholder</span><span class=\"HomeFeedUICard-47968c55017d6795\">Placeholder</span></li></ul></div></a>,\n",
       " <a aria-label=\"Restaurant CRÈME. Delivers at 11:00. Rated 4.8 from 500+ reviews. Serves Dessert.\" class=\"HomeFeedUICard-1cc6964985e41c86\" href=\"/menu/london/soho/creme-mayfair?day=tomorrow&amp;postcode=SW1A2AA&amp;time=1100\"><span class=\"HomeFeedUICard-c6f6e82a465d3148\"><div class=\"HomeFeedUICard-a0ab05a247f7e7a6\"></div></span><div class=\"HomeFeedUICard-145e2409276fec2d\"><p class=\"ccl-19882374e640f487 ccl-1daa0367dee37c3b ccl-a5fb02a1085896d3 ccl-9d0a5327c911d0f3\"><span class=\"HomeFeedUICard-47968c55017d6795\">Placeholder</span></p><ul><li><span class=\"HomeFeedUICard-47968c55017d6795\">Placeholder</span><span class=\"HomeFeedUICard-47968c55017d6795\">Placeholder</span><span class=\"HomeFeedUICard-47968c55017d6795\">Placeholder</span><span class=\"HomeFeedUICard-47968c55017d6795\">Placeholder</span></li></ul><ul><li><span class=\"HomeFeedUICard-47968c55017d6795\">Placeholder</span><span class=\"HomeFeedUICard-47968c55017d6795\">Placeholder</span></li></ul></div></a>,\n",
       " <a aria-label=\"Restaurant 24/7 Alcohol Delivery KIN. Delivers at . Rated 3.8 from 500+ reviews. Serves British and Alcohol.\" class=\"HomeFeedUICard-1cc6964985e41c86\" href=\"/menu/london/cricklewood/24-7-alcohol-delivery-kin?postcode=SW1A2AA\"><span class=\"HomeFeedUICard-c6f6e82a465d3148\"><div class=\"HomeFeedUICard-a0ab05a247f7e7a6\"></div></span><div class=\"HomeFeedUICard-145e2409276fec2d\"><p class=\"ccl-19882374e640f487 ccl-1daa0367dee37c3b ccl-a5fb02a1085896d3 ccl-9d0a5327c911d0f3\"><span class=\"HomeFeedUICard-47968c55017d6795\">Placeholder</span></p><ul><li><span class=\"HomeFeedUICard-47968c55017d6795\">Placeholder</span><span class=\"HomeFeedUICard-47968c55017d6795\">Placeholder</span><span class=\"HomeFeedUICard-47968c55017d6795\">Placeholder</span><span class=\"HomeFeedUICard-47968c55017d6795\">Placeholder</span></li></ul><ul><li><span class=\"HomeFeedUICard-47968c55017d6795\">Placeholder</span><span class=\"HomeFeedUICard-47968c55017d6795\">Placeholder</span></li></ul></div></a>,\n",
       " <a aria-label=\"Restaurant Chop'd. Delivers at . Rated 4.6 from 434 reviews. Serves Salads and Healthy.\" class=\"HomeFeedUICard-1cc6964985e41c86\" href=\"/menu/london/covent-garden/chopd-long-acre?postcode=SW1A2AA\"><span class=\"HomeFeedUICard-c6f6e82a465d3148\"><div class=\"HomeFeedUICard-a0ab05a247f7e7a6\"></div></span><div class=\"HomeFeedUICard-145e2409276fec2d\"><p class=\"ccl-19882374e640f487 ccl-1daa0367dee37c3b ccl-a5fb02a1085896d3 ccl-9d0a5327c911d0f3\"><span class=\"HomeFeedUICard-47968c55017d6795\">Placeholder</span></p><ul><li><span class=\"HomeFeedUICard-47968c55017d6795\">Placeholder</span><span class=\"HomeFeedUICard-47968c55017d6795\">Placeholder</span><span class=\"HomeFeedUICard-47968c55017d6795\">Placeholder</span><span class=\"HomeFeedUICard-47968c55017d6795\">Placeholder</span></li></ul><ul><li><span class=\"HomeFeedUICard-47968c55017d6795\">Placeholder</span><span class=\"HomeFeedUICard-47968c55017d6795\">Placeholder</span></li></ul></div></a>,\n",
       " <a aria-label=\"Restaurant The Flirty Fish Co.\t. Delivers at . Rated 4.6 from 11 reviews. Serves Seafood, Fish and chips, and Healthy.\" class=\"HomeFeedUICard-1cc6964985e41c86\" href=\"/menu/london/covent-garden/flirty-fish-covent-garden?postcode=SW1A2AA\"><span class=\"HomeFeedUICard-c6f6e82a465d3148\"><div class=\"HomeFeedUICard-a0ab05a247f7e7a6\"></div></span><div class=\"HomeFeedUICard-145e2409276fec2d\"><p class=\"ccl-19882374e640f487 ccl-1daa0367dee37c3b ccl-a5fb02a1085896d3 ccl-9d0a5327c911d0f3\"><span class=\"HomeFeedUICard-47968c55017d6795\">Placeholder</span></p><ul><li><span class=\"HomeFeedUICard-47968c55017d6795\">Placeholder</span><span class=\"HomeFeedUICard-47968c55017d6795\">Placeholder</span><span class=\"HomeFeedUICard-47968c55017d6795\">Placeholder</span><span class=\"HomeFeedUICard-47968c55017d6795\">Placeholder</span></li></ul><ul><li><span class=\"HomeFeedUICard-47968c55017d6795\">Placeholder</span><span class=\"HomeFeedUICard-47968c55017d6795\">Placeholder</span></li></ul></div></a>,\n",
       " <a aria-label=\"Restaurant Fresh Bake. Delivers at .\" class=\"HomeFeedUICard-1cc6964985e41c86\" href=\"/menu/london/south-kensington/fresh-bake-south-kensington?postcode=SW1A2AA\"><span class=\"HomeFeedUICard-c6f6e82a465d3148\"><div class=\"HomeFeedUICard-a0ab05a247f7e7a6\"></div></span><div class=\"HomeFeedUICard-145e2409276fec2d\"><p class=\"ccl-19882374e640f487 ccl-1daa0367dee37c3b ccl-a5fb02a1085896d3 ccl-9d0a5327c911d0f3\"><span class=\"HomeFeedUICard-47968c55017d6795\">Placeholder</span></p><ul><li><span class=\"HomeFeedUICard-47968c55017d6795\">Placeholder</span><span class=\"HomeFeedUICard-47968c55017d6795\">Placeholder</span><span class=\"HomeFeedUICard-47968c55017d6795\">Placeholder</span><span class=\"HomeFeedUICard-47968c55017d6795\">Placeholder</span></li></ul><ul><li><span class=\"HomeFeedUICard-47968c55017d6795\">Placeholder</span><span class=\"HomeFeedUICard-47968c55017d6795\">Placeholder</span></li></ul></div></a>,\n",
       " <a aria-label=\"Restaurant Koshari Street. Delivers at . Rated 4.6 from 500+ reviews. Serves Egyptian, Healthy, and Middle Eastern.\" class=\"HomeFeedUICard-1cc6964985e41c86\" href=\"/menu/london/covent-garden/koshari-street?postcode=SW1A2AA\"><span class=\"HomeFeedUICard-c6f6e82a465d3148\"><div class=\"HomeFeedUICard-a0ab05a247f7e7a6\"></div></span><div class=\"HomeFeedUICard-145e2409276fec2d\"><p class=\"ccl-19882374e640f487 ccl-1daa0367dee37c3b ccl-a5fb02a1085896d3 ccl-9d0a5327c911d0f3\"><span class=\"HomeFeedUICard-47968c55017d6795\">Placeholder</span></p><ul><li><span class=\"HomeFeedUICard-47968c55017d6795\">Placeholder</span><span class=\"HomeFeedUICard-47968c55017d6795\">Placeholder</span><span class=\"HomeFeedUICard-47968c55017d6795\">Placeholder</span><span class=\"HomeFeedUICard-47968c55017d6795\">Placeholder</span></li></ul><ul><li><span class=\"HomeFeedUICard-47968c55017d6795\">Placeholder</span><span class=\"HomeFeedUICard-47968c55017d6795\">Placeholder</span></li></ul></div></a>,\n",
       " <a aria-label=\"Restaurant La Goccia. Delivers at . Serves Dessert and Chicken.\" class=\"HomeFeedUICard-1cc6964985e41c86\" href=\"/menu/london/covent-garden/la-goccia-petersham-nurseries?postcode=SW1A2AA\"><span class=\"HomeFeedUICard-c6f6e82a465d3148\"><div class=\"HomeFeedUICard-a0ab05a247f7e7a6\"></div></span><div class=\"HomeFeedUICard-145e2409276fec2d\"><p class=\"ccl-19882374e640f487 ccl-1daa0367dee37c3b ccl-a5fb02a1085896d3 ccl-9d0a5327c911d0f3\"><span class=\"HomeFeedUICard-47968c55017d6795\">Placeholder</span></p><ul><li><span class=\"HomeFeedUICard-47968c55017d6795\">Placeholder</span><span class=\"HomeFeedUICard-47968c55017d6795\">Placeholder</span><span class=\"HomeFeedUICard-47968c55017d6795\">Placeholder</span><span class=\"HomeFeedUICard-47968c55017d6795\">Placeholder</span></li></ul><ul><li><span class=\"HomeFeedUICard-47968c55017d6795\">Placeholder</span><span class=\"HomeFeedUICard-47968c55017d6795\">Placeholder</span></li></ul></div></a>,\n",
       " <a aria-label=\"Restaurant Wing World (Embankment). Delivers at . Rated 4.2 from 35 reviews. Serves American, Chicken, Fried chicken, and Wings.\" class=\"HomeFeedUICard-1cc6964985e41c86\" href=\"/menu/london/westminster/wings-world-embankment?postcode=SW1A2AA\"><span class=\"HomeFeedUICard-c6f6e82a465d3148\"><div class=\"HomeFeedUICard-a0ab05a247f7e7a6\"></div></span><div class=\"HomeFeedUICard-145e2409276fec2d\"><p class=\"ccl-19882374e640f487 ccl-1daa0367dee37c3b ccl-a5fb02a1085896d3 ccl-9d0a5327c911d0f3\"><span class=\"HomeFeedUICard-47968c55017d6795\">Placeholder</span></p><ul><li><span class=\"HomeFeedUICard-47968c55017d6795\">Placeholder</span><span class=\"HomeFeedUICard-47968c55017d6795\">Placeholder</span><span class=\"HomeFeedUICard-47968c55017d6795\">Placeholder</span><span class=\"HomeFeedUICard-47968c55017d6795\">Placeholder</span></li></ul><ul><li><span class=\"HomeFeedUICard-47968c55017d6795\">Placeholder</span><span class=\"HomeFeedUICard-47968c55017d6795\">Placeholder</span></li></ul></div></a>,\n",
       " <a aria-label=\"Restaurant East Pearl. Delivers at . Serves Chinese.\" class=\"HomeFeedUICard-1cc6964985e41c86\" href=\"/menu/london/fitzrovia/east-pearl?postcode=SW1A2AA\"><span class=\"HomeFeedUICard-c6f6e82a465d3148\"><div class=\"HomeFeedUICard-a0ab05a247f7e7a6\"></div></span><div class=\"HomeFeedUICard-145e2409276fec2d\"><p class=\"ccl-19882374e640f487 ccl-1daa0367dee37c3b ccl-a5fb02a1085896d3 ccl-9d0a5327c911d0f3\"><span class=\"HomeFeedUICard-47968c55017d6795\">Placeholder</span></p><ul><li><span class=\"HomeFeedUICard-47968c55017d6795\">Placeholder</span><span class=\"HomeFeedUICard-47968c55017d6795\">Placeholder</span><span class=\"HomeFeedUICard-47968c55017d6795\">Placeholder</span><span class=\"HomeFeedUICard-47968c55017d6795\">Placeholder</span></li></ul><ul><li><span class=\"HomeFeedUICard-47968c55017d6795\">Placeholder</span><span class=\"HomeFeedUICard-47968c55017d6795\">Placeholder</span></li></ul></div></a>,\n",
       " <a aria-label=\"Restaurant Prima Sapori d' Italia. Delivers at . Rated 4.1 from 29 reviews. Serves Italian, Pizza, Pasta, and Sandwiches.\" class=\"HomeFeedUICard-1cc6964985e41c86\" href=\"/menu/london/covent-garden/prima-sapori-d-italia?postcode=SW1A2AA\"><span class=\"HomeFeedUICard-c6f6e82a465d3148\"><div class=\"HomeFeedUICard-a0ab05a247f7e7a6\"></div></span><div class=\"HomeFeedUICard-145e2409276fec2d\"><p class=\"ccl-19882374e640f487 ccl-1daa0367dee37c3b ccl-a5fb02a1085896d3 ccl-9d0a5327c911d0f3\"><span class=\"HomeFeedUICard-47968c55017d6795\">Placeholder</span></p><ul><li><span class=\"HomeFeedUICard-47968c55017d6795\">Placeholder</span><span class=\"HomeFeedUICard-47968c55017d6795\">Placeholder</span><span class=\"HomeFeedUICard-47968c55017d6795\">Placeholder</span><span class=\"HomeFeedUICard-47968c55017d6795\">Placeholder</span></li></ul><ul><li><span class=\"HomeFeedUICard-47968c55017d6795\">Placeholder</span><span class=\"HomeFeedUICard-47968c55017d6795\">Placeholder</span></li></ul></div></a>,\n",
       " <a aria-label=\"Restaurant Bali Bali Restaurant. Delivers at . Rated 4.5 from 500+ reviews. Serves Malaysian and Korean.\" class=\"HomeFeedUICard-1cc6964985e41c86\" href=\"/menu/london/covent-garden/bali-bali-restaurant?postcode=SW1A2AA\"><span class=\"HomeFeedUICard-c6f6e82a465d3148\"><div class=\"HomeFeedUICard-a0ab05a247f7e7a6\"></div></span><div class=\"HomeFeedUICard-145e2409276fec2d\"><p class=\"ccl-19882374e640f487 ccl-1daa0367dee37c3b ccl-a5fb02a1085896d3 ccl-9d0a5327c911d0f3\"><span class=\"HomeFeedUICard-47968c55017d6795\">Placeholder</span></p><ul><li><span class=\"HomeFeedUICard-47968c55017d6795\">Placeholder</span><span class=\"HomeFeedUICard-47968c55017d6795\">Placeholder</span><span class=\"HomeFeedUICard-47968c55017d6795\">Placeholder</span><span class=\"HomeFeedUICard-47968c55017d6795\">Placeholder</span></li></ul><ul><li><span class=\"HomeFeedUICard-47968c55017d6795\">Placeholder</span><span class=\"HomeFeedUICard-47968c55017d6795\">Placeholder</span></li></ul></div></a>,\n",
       " <a aria-label=\"Restaurant Bubble Food Catering. Delivers at .\" class=\"HomeFeedUICard-1cc6964985e41c86\" href=\"/menu/london/kennington/bubble-food?postcode=SW1A2AA\"><span class=\"HomeFeedUICard-c6f6e82a465d3148\"><div class=\"HomeFeedUICard-a0ab05a247f7e7a6\"></div></span><div class=\"HomeFeedUICard-145e2409276fec2d\"><p class=\"ccl-19882374e640f487 ccl-1daa0367dee37c3b ccl-a5fb02a1085896d3 ccl-9d0a5327c911d0f3\"><span class=\"HomeFeedUICard-47968c55017d6795\">Placeholder</span></p><ul><li><span class=\"HomeFeedUICard-47968c55017d6795\">Placeholder</span><span class=\"HomeFeedUICard-47968c55017d6795\">Placeholder</span><span class=\"HomeFeedUICard-47968c55017d6795\">Placeholder</span><span class=\"HomeFeedUICard-47968c55017d6795\">Placeholder</span></li></ul><ul><li><span class=\"HomeFeedUICard-47968c55017d6795\">Placeholder</span><span class=\"HomeFeedUICard-47968c55017d6795\">Placeholder</span></li></ul></div></a>,\n",
       " <a aria-label=\"Restaurant PLANT. Delivers at . Rated 4.8 from 79 reviews. Serves Acai, Brunch, Sandwiches, and Healthy.\" class=\"HomeFeedUICard-1cc6964985e41c86\" href=\"/menu/london/covent-garden/cold-and-pressd-by-plnt-covent-garden?postcode=SW1A2AA\"><span class=\"HomeFeedUICard-c6f6e82a465d3148\"><div class=\"HomeFeedUICard-a0ab05a247f7e7a6\"></div></span><div class=\"HomeFeedUICard-145e2409276fec2d\"><p class=\"ccl-19882374e640f487 ccl-1daa0367dee37c3b ccl-a5fb02a1085896d3 ccl-9d0a5327c911d0f3\"><span class=\"HomeFeedUICard-47968c55017d6795\">Placeholder</span></p><ul><li><span class=\"HomeFeedUICard-47968c55017d6795\">Placeholder</span><span class=\"HomeFeedUICard-47968c55017d6795\">Placeholder</span><span class=\"HomeFeedUICard-47968c55017d6795\">Placeholder</span><span class=\"HomeFeedUICard-47968c55017d6795\">Placeholder</span></li></ul><ul><li><span class=\"HomeFeedUICard-47968c55017d6795\">Placeholder</span><span class=\"HomeFeedUICard-47968c55017d6795\">Placeholder</span></li></ul></div></a>,\n",
       " <a aria-label=\"Restaurant Craft Beer Club. Delivers at .\" class=\"HomeFeedUICard-1cc6964985e41c86\" href=\"/menu/london/queenstown-road/craft-beer-club-clapham?postcode=SW1A2AA\"><span class=\"HomeFeedUICard-c6f6e82a465d3148\"><div class=\"HomeFeedUICard-a0ab05a247f7e7a6\"></div></span><div class=\"HomeFeedUICard-145e2409276fec2d\"><p class=\"ccl-19882374e640f487 ccl-1daa0367dee37c3b ccl-a5fb02a1085896d3 ccl-9d0a5327c911d0f3\"><span class=\"HomeFeedUICard-47968c55017d6795\">Placeholder</span></p><ul><li><span class=\"HomeFeedUICard-47968c55017d6795\">Placeholder</span><span class=\"HomeFeedUICard-47968c55017d6795\">Placeholder</span><span class=\"HomeFeedUICard-47968c55017d6795\">Placeholder</span><span class=\"HomeFeedUICard-47968c55017d6795\">Placeholder</span></li></ul><ul><li><span class=\"HomeFeedUICard-47968c55017d6795\">Placeholder</span><span class=\"HomeFeedUICard-47968c55017d6795\">Placeholder</span></li></ul></div></a>,\n",
       " <a aria-label=\"Restaurant L'Opera. Delivers at . Rated 4.5 from 500+ reviews. Serves Salads, Mediterranean, Sandwiches, and Chicken.\" class=\"HomeFeedUICard-1cc6964985e41c86\" href=\"/menu/london/chelsea/lopera?postcode=SW1A2AA\"><span class=\"HomeFeedUICard-c6f6e82a465d3148\"><div class=\"HomeFeedUICard-a0ab05a247f7e7a6\"></div></span><div class=\"HomeFeedUICard-145e2409276fec2d\"><p class=\"ccl-19882374e640f487 ccl-1daa0367dee37c3b ccl-a5fb02a1085896d3 ccl-9d0a5327c911d0f3\"><span class=\"HomeFeedUICard-47968c55017d6795\">Placeholder</span></p><ul><li><span class=\"HomeFeedUICard-47968c55017d6795\">Placeholder</span><span class=\"HomeFeedUICard-47968c55017d6795\">Placeholder</span><span class=\"HomeFeedUICard-47968c55017d6795\">Placeholder</span><span class=\"HomeFeedUICard-47968c55017d6795\">Placeholder</span></li></ul><ul><li><span class=\"HomeFeedUICard-47968c55017d6795\">Placeholder</span><span class=\"HomeFeedUICard-47968c55017d6795\">Placeholder</span></li></ul></div></a>,\n",
       " <a aria-label=\"Restaurant Wrap Future. Delivers at . Serves British.\" class=\"HomeFeedUICard-1cc6964985e41c86\" href=\"/menu/london/chelsea/wrap-future?postcode=SW1A2AA\"><span class=\"HomeFeedUICard-c6f6e82a465d3148\"><div class=\"HomeFeedUICard-a0ab05a247f7e7a6\"></div></span><div class=\"HomeFeedUICard-145e2409276fec2d\"><p class=\"ccl-19882374e640f487 ccl-1daa0367dee37c3b ccl-a5fb02a1085896d3 ccl-9d0a5327c911d0f3\"><span class=\"HomeFeedUICard-47968c55017d6795\">Placeholder</span></p><ul><li><span class=\"HomeFeedUICard-47968c55017d6795\">Placeholder</span><span class=\"HomeFeedUICard-47968c55017d6795\">Placeholder</span><span class=\"HomeFeedUICard-47968c55017d6795\">Placeholder</span><span class=\"HomeFeedUICard-47968c55017d6795\">Placeholder</span></li></ul><ul><li><span class=\"HomeFeedUICard-47968c55017d6795\">Placeholder</span><span class=\"HomeFeedUICard-47968c55017d6795\">Placeholder</span></li></ul></div></a>,\n",
       " <a aria-label=\"Restaurant Le Garrick . Delivers at . Serves French.\" class=\"HomeFeedUICard-1cc6964985e41c86\" href=\"/menu/london/covent-garden/le-garrick-garrick-street?postcode=SW1A2AA\"><span class=\"HomeFeedUICard-c6f6e82a465d3148\"><div class=\"HomeFeedUICard-a0ab05a247f7e7a6\"></div></span><div class=\"HomeFeedUICard-145e2409276fec2d\"><p class=\"ccl-19882374e640f487 ccl-1daa0367dee37c3b ccl-a5fb02a1085896d3 ccl-9d0a5327c911d0f3\"><span class=\"HomeFeedUICard-47968c55017d6795\">Placeholder</span></p><ul><li><span class=\"HomeFeedUICard-47968c55017d6795\">Placeholder</span><span class=\"HomeFeedUICard-47968c55017d6795\">Placeholder</span><span class=\"HomeFeedUICard-47968c55017d6795\">Placeholder</span><span class=\"HomeFeedUICard-47968c55017d6795\">Placeholder</span></li></ul><ul><li><span class=\"HomeFeedUICard-47968c55017d6795\">Placeholder</span><span class=\"HomeFeedUICard-47968c55017d6795\">Placeholder</span></li></ul></div></a>,\n",
       " <a aria-label=\"Restaurant Test Company Andrew LTD. Delivers at . Serves Chicken, Fried chicken, Milkshakes, and Pancakes.\" class=\"HomeFeedUICard-1cc6964985e41c86\" href=\"/menu/london/the-city/test-company-andrew-ltd?postcode=SW1A2AA\"><span class=\"HomeFeedUICard-c6f6e82a465d3148\"><div class=\"HomeFeedUICard-a0ab05a247f7e7a6\"></div></span><div class=\"HomeFeedUICard-145e2409276fec2d\"><p class=\"ccl-19882374e640f487 ccl-1daa0367dee37c3b ccl-a5fb02a1085896d3 ccl-9d0a5327c911d0f3\"><span class=\"HomeFeedUICard-47968c55017d6795\">Placeholder</span></p><ul><li><span class=\"HomeFeedUICard-47968c55017d6795\">Placeholder</span><span class=\"HomeFeedUICard-47968c55017d6795\">Placeholder</span><span class=\"HomeFeedUICard-47968c55017d6795\">Placeholder</span><span class=\"HomeFeedUICard-47968c55017d6795\">Placeholder</span></li></ul><ul><li><span class=\"HomeFeedUICard-47968c55017d6795\">Placeholder</span><span class=\"HomeFeedUICard-47968c55017d6795\">Placeholder</span></li></ul></div></a>,\n",
       " <a aria-label=\"Restaurant Good Eggs. Delivers at . Rated 4.7 from 79 reviews. Serves Breakfast, Wraps, and Healthy.\" class=\"HomeFeedUICard-1cc6964985e41c86\" href=\"/menu/london/westminster/good-eggs-horseferry?postcode=SW1A2AA\"><span class=\"HomeFeedUICard-c6f6e82a465d3148\"><div class=\"HomeFeedUICard-a0ab05a247f7e7a6\"></div></span><div class=\"HomeFeedUICard-145e2409276fec2d\"><p class=\"ccl-19882374e640f487 ccl-1daa0367dee37c3b ccl-a5fb02a1085896d3 ccl-9d0a5327c911d0f3\"><span class=\"HomeFeedUICard-47968c55017d6795\">Placeholder</span></p><ul><li><span class=\"HomeFeedUICard-47968c55017d6795\">Placeholder</span><span class=\"HomeFeedUICard-47968c55017d6795\">Placeholder</span><span class=\"HomeFeedUICard-47968c55017d6795\">Placeholder</span><span class=\"HomeFeedUICard-47968c55017d6795\">Placeholder</span></li></ul><ul><li><span class=\"HomeFeedUICard-47968c55017d6795\">Placeholder</span><span class=\"HomeFeedUICard-47968c55017d6795\">Placeholder</span></li></ul></div></a>,\n",
       " <a class=\"ccl-f65f6247029a98f7 ccl-f41807dbd86452ba\" href=\"https://www.facebook.com/deliveroo.uk\" rel=\"noopener noreferrer\" target=\"_blank\" title=\"Facebook\"><span class=\"ccl-462400680c526774 ccl-abe5c41af1b9498e\"><svg class=\"ccl-0f24ac4b87ce1f67 ccl-abe5c41af1b9498e\" height=\"24\" viewbox=\"0 0 24 24\" width=\"24\"><path d=\"M22 12C22 6.47715 17.5229 2 12 2C6.47715 2 2 6.47715 2 12C2 16.9913 5.65686 21.1283 10.4375 21.8785V14.8906H7.89844V12H10.4375V9.79688C10.4375 7.29063 11.9304 5.90625 14.2146 5.90625C15.3087 5.90625 16.4531 6.10156 16.4531 6.10156V8.5625H15.1921C13.9499 8.5625 13.5625 9.33334 13.5625 10.1242V12H16.3359L15.8926 14.8906H13.5625V21.8785C18.3431 21.1283 22 16.9913 22 12Z\"></path></svg></span></a>]"
      ]
     },
     "execution_count": 86,
     "metadata": {},
     "output_type": "execute_result"
    }
   ],
   "source": [
    "[x for x in all_a_tags if len(str(x)) > 500 and len(str(x)) < 1000]"
   ]
  },
  {
   "cell_type": "markdown",
   "metadata": {},
   "source": [
    "Looks like restaurants start to appear when we look above 500-1000. This will depend on the restaurants and what time of day you look at. However, there is also a non-restaurant link. We can notice this does not contain an aria-label html attribute, so we filter out all a tags without this attribute and which are shorter than 1000 characters."
   ]
  },
  {
   "cell_type": "code",
   "execution_count": 87,
   "metadata": {},
   "outputs": [],
   "source": [
    "# Define a function that returns only if the tag is an 'a' tag and the 'a' tag has the aria-label attribute\n",
    "\n",
    "def has_aria_label(tag):\n",
    "    if tag.name == 'a':\n",
    "        return tag.has_attr('aria-label')"
   ]
  },
  {
   "cell_type": "code",
   "execution_count": 88,
   "metadata": {},
   "outputs": [],
   "source": [
    "potential_restaurants = soup.find_all(has_aria_label)\n",
    "restaurants_html = [str(x) for x in potential_restaurants if len(str(x)) > 500 ]"
   ]
  },
  {
   "cell_type": "code",
   "execution_count": 89,
   "metadata": {},
   "outputs": [
    {
     "data": {
      "text/plain": [
       "'<a aria-label=\"Restaurant Margarita Mama\\'s. Delivers in 10 to 10 minutes. Rated 4.1 from 500+ reviews. Serves Italian, Pasta, and Pizza.\" class=\"HomeFeedUICard-1cc6964985e41c86\" href=\"/menu/london/willesden/margarita-mamas?day=today&amp;postcode=SW1A2AA&amp;time=ASAP\"><span class=\"HomeFeedUICard-ebc18e264cc4b96c\"><span class=\"HomeFeedUICard-c6f6e82a465d3148\" style=\"border-style:solid;border-top-color:initial;border-right-color:initial;border-bottom-color:initial;border-left-color:initial\"><div class=\"ccl-45bd106b75353ec9\" role=\"img\" style=\\'background-image: url(\"https://rs-menus-api.roocdn.com/images/efe60c29-6f8c-4eb4-85ae-cf3d640d7e18/image.jpeg?width=279&amp;height=157&amp;auto=webp&amp;format=jpg&amp;fit=crop&amp;v=\");\\'><div class=\"ccl-d5fa9efd412993ea ccl-0220f29e0da451eb\"></div><div class=\"ccl-0ca6410c5e153903\"><div class=\"HomeFeedUICard-19d5d31598e0335f\"><div class=\"HomeFeedUICard-dce4e0d3970c801d\" style=\"background-color:initial\"><div class=\"HomeFeedUICard-983872f50903bf3c\" style=\"background-color:#fb5058;border:2px solid #fabe00\"><h5 class=\"HomeFeedUICard-af6c340131c84c70\">Meal\\ndeals</h5></div></div></div></div></div></span><span class=\"HomeFeedUICard-45fe00a3d559fba5\"><div class=\"HomeFeedUICard-3eaa3aeebdb9dda4\"><span class=\"Bubble-a0bf5c868196e217 Bubble-28ed2669ffdaa6f4\"><span class=\"Bubble-0d35c37908d90be4\"><p class=\"ccl-19882374e640f487 ccl-417df52a76832172 ccl-a5fb02a1085896d3 ccl-dd90031787517421 ccl-9d0a5327c911d0f3\">10 min</p></span><span class=\"Bubble-f08a84a2192935a4\"><p class=\"ccl-19882374e640f487 ccl-1244c6519d4203b3 ccl-dfaaa1af6c70149c ccl-9d0a5327c911d0f3\">Around</p></span></span></div><div class=\"HomeFeedUICard-15a8581a1528e2fd HomeFeedUICard-b63a23d2807ee0c8\"><ul><li class=\"HomeFeedUILines-eb6434808e8af585 HomeFeedUILines-678297d91ca76a11\"><span class=\"\" style=\"color:#2e3333\"><p class=\"ccl-19882374e640f487 ccl-417df52a76832172 ccl-a5fb02a1085896d3 ccl-dd90031787517421 ccl-9d0a5327c911d0f3\">Margarita Mama\\'s</p></span></li><li class=\"HomeFeedUILines-678297d91ca76a11 HomeFeedUILines-f15fca32260e4b30\"><span class=\"HomeFeedUILines-c129ebfb232f6e54\" style=\"color:#007e8a\"><span class=\"ccl-462400680c526774 ccl-ed34b65f78f16205\"><svg class=\"ccl-0f24ac4b87ce1f67 ccl-ed34b65f78f16205\" height=\"24\" viewbox=\"0 0 24 24\" width=\"24\"><path d=\"M12 1L9 9H2L7 14.0001L5 21L12 17.0001L19 21L17 14.0001L22 9H15L12 1Z\"></path></svg></span></span><span class=\"HomeFeedUILines-c129ebfb232f6e54\" style=\"color:initial\"><div class=\"ccl-b308a2db3758e3e5\"><span></span></div></span><span class=\"HomeFeedUILines-c129ebfb232f6e54\" style=\"color:#007e8a\"><span class=\"ccl-19882374e640f487 ccl-417df52a76832172\">4.1 Good</span></span><span class=\"HomeFeedUILines-c129ebfb232f6e54\" style=\"color:initial\"><div class=\"ccl-b308a2db3758e3e5\"><span></span></div></span><span class=\"HomeFeedUILines-c129ebfb232f6e54\" style=\"color:#8c9b9b\"><span class=\"ccl-19882374e640f487 ccl-417df52a76832172\">(500+)</span></span><span class=\"HomeFeedUILines-c129ebfb232f6e54\" style=\"color:initial\"><div class=\"ccl-b308a2db3758e3e5\"><span></span></div></span><span class=\"HomeFeedUILines-c129ebfb232f6e54\" style=\"color:#828585\"><span class=\"ccl-19882374e640f487 ccl-417df52a76832172\">·</span></span><span class=\"HomeFeedUILines-c129ebfb232f6e54\" style=\"color:initial\"><div class=\"ccl-b308a2db3758e3e5\"><span></span></div></span><span class=\"HomeFeedUILines-c129ebfb232f6e54\" style=\"color:#828585\"><span class=\"ccl-19882374e640f487 ccl-417df52a76832172\">Italian</span></span><span class=\"HomeFeedUILines-c129ebfb232f6e54\" style=\"color:initial\"><div class=\"ccl-b308a2db3758e3e5\"><span></span></div></span><span class=\"HomeFeedUILines-c129ebfb232f6e54\" style=\"color:#828585\"><span class=\"ccl-19882374e640f487 ccl-417df52a76832172\">·</span></span><span class=\"HomeFeedUILines-c129ebfb232f6e54\" style=\"color:initial\"><div class=\"ccl-b308a2db3758e3e5\"><span></span></div></span><span class=\"HomeFeedUILines-c129ebfb232f6e54\" style=\"color:#828585\"><span class=\"ccl-19882374e640f487 ccl-417df52a76832172\">Pasta</span></span><span class=\"HomeFeedUILines-c129ebfb232f6e54\" style=\"color:initial\"><div class=\"ccl-b308a2db3758e3e5\"><span></span></div></span><span class=\"HomeFeedUILines-c129ebfb232f6e54\" style=\"color:#828585\"><span class=\"ccl-19882374e640f487 ccl-417df52a76832172\">·</span></span><span class=\"HomeFeedUILines-c129ebfb232f6e54\" style=\"color:initial\"><div class=\"ccl-b308a2db3758e3e5\"><span></span></div></span><span class=\"HomeFeedUILines-c129ebfb232f6e54\" style=\"color:#828585\"><span class=\"ccl-19882374e640f487 ccl-417df52a76832172\">Pizza</span></span></li><li class=\"HomeFeedUILines-678297d91ca76a11 HomeFeedUILines-f15fca32260e4b30\"><span class=\"HomeFeedUILines-c129ebfb232f6e54\" style=\"color:#828585\"><span class=\"ccl-19882374e640f487 ccl-417df52a76832172\">5.7 miles away</span></span><span class=\"HomeFeedUILines-c129ebfb232f6e54\" style=\"color:initial\"><div class=\"ccl-b308a2db3758e3e5\"><span></span></div></span><span class=\"HomeFeedUILines-c129ebfb232f6e54\" style=\"color:#828585\"><span class=\"ccl-19882374e640f487 ccl-417df52a76832172\">·</span></span><span class=\"HomeFeedUILines-c129ebfb232f6e54\" style=\"color:initial\"><div class=\"ccl-b308a2db3758e3e5\"><span></span></div></span><span class=\"HomeFeedUILines-c129ebfb232f6e54\" style=\"color:#828585\"><span class=\"ccl-19882374e640f487 ccl-417df52a76832172\">Free delivery</span></span></li><li class=\"HomeFeedUILines-678297d91ca76a11 HomeFeedUILines-f15fca32260e4b30\"><span class=\"HomeFeedUILines-c129ebfb232f6e54\" style=\"color:#fb5058\"><span class=\"ccl-462400680c526774 ccl-ed34b65f78f16205\"><svg class=\"ccl-0f24ac4b87ce1f67 ccl-ed34b65f78f16205\" height=\"24\" viewbox=\"0 0 24 24\" width=\"24\"><path d=\"M4.82843 13L11 19.1716L18 12.1716V6H11.8284L4.82843 13ZM11 4H20V13L11 22L2 13L11 4ZM14.5 11C15.3284 11 16 10.3284 16 9.5C16 8.67157 15.3284 8 14.5 8C13.6716 8 13 8.67157 13 9.5C13 10.3284 13.6716 11 14.5 11Z\"></path></svg></span></span><span class=\"HomeFeedUILines-c129ebfb232f6e54\" style=\"color:initial\"><div class=\"ccl-b308a2db3758e3e5\"><span></span></div></span><span class=\"HomeFeedUILines-c129ebfb232f6e54\" style=\"color:#fb5058\"><span class=\"ccl-19882374e640f487 ccl-417df52a76832172\">Meal Deals</span></span></li></ul></div></span></span></a>'"
      ]
     },
     "execution_count": 89,
     "metadata": {},
     "output_type": "execute_result"
    }
   ],
   "source": [
    "restaurants_html[0]"
   ]
  },
  {
   "cell_type": "markdown",
   "metadata": {},
   "source": [
    "# Data Cleaning\n",
    "\n",
    "Now we have all of our restaurant information stored in our restaurants_html variable. However, each restaurant's data is stored within the html file which we have saved as a string. Therefore, we will need to clean our data to get it into a form we can actually analyse. If you have a look at the other restaurants, you can see their data all follows a similar structure within the html string. We also want the hyperlink of each restaurant for further analysis.\n",
    "\n",
    "Looking at the above, we can see that the main data is available after the word 'Restaurant' and ends at a speech mark (\"). Because Python strings start with either single or double quotes, we will need make sure not to get mixed up. Distance data can be found near the phrase 'miles away' or at a special edge case of 'mile away', when the distance is 1 mile. Delivery cost will be found near a pound sign '£' and end at the word 'delivery'. A really helpful string method is the 'find' method. It returns the index where a substring starts in a string. If the substring can't be found, it returns -1. \n",
    "\n",
    "Once we've made functions to extract the data using these identifying strings, we can iterate over our array of restaurant data and pick out the bits we need. We'll then store this as a pandas dataframe"
   ]
  },
  {
   "cell_type": "code",
   "execution_count": 90,
   "metadata": {},
   "outputs": [],
   "source": [
    "def find_hyperlink(text):\n",
    "    hyperlink = 'http://deliveroo.co.uk'\n",
    "    start_identifier = 'href=\"'\n",
    "    end_identifier = '\"' # I use single quotes to declare the string to make it clearer\n",
    "    search_start = text.find(start_identifier) + len(start_identifier)\n",
    "    search_end = text.find(end_identifier, search_start + len(start_identifier))\n",
    "    query_string = text[search_start: search_end]\n",
    "    return hyperlink + query_string"
   ]
  },
  {
   "cell_type": "code",
   "execution_count": 91,
   "metadata": {
    "scrolled": true
   },
   "outputs": [],
   "source": [
    "def find_main_data(text):\n",
    "    start_identifier = 'Restaurant '\n",
    "    end_identifier = '\"'\n",
    "    search_start = text.find(start_identifier) + len(start_identifier)\n",
    "    search_end = text.find(end_identifier, search_start)\n",
    "    return text[search_start:search_end]"
   ]
  },
  {
   "cell_type": "code",
   "execution_count": 92,
   "metadata": {},
   "outputs": [],
   "source": [
    "# If '1 mile away', need to move back 2 characters from the start of 'mile away'\n",
    "# If 'x.xx miles away', need to move back 4 characters from the start of 'miles away'\n",
    "\n",
    "def find_distance_data(text):\n",
    "    identifier = 'miles away'\n",
    "    sub_identifier = 'mile away'\n",
    "    start_index = text.find(identifier)\n",
    "    \n",
    "    if start_index == -1:\n",
    "        sub_start_index = text.find(sub_identifier)\n",
    "        search_start = sub_start_index -2\n",
    "        search_end = search_start + 2 + len(sub_identifier)\n",
    "    else:\n",
    "        search_start = text.find(identifier) -4\n",
    "        search_end = search_start + 4 + len(identifier)\n",
    "    return text[search_start: search_end]"
   ]
  },
  {
   "cell_type": "code",
   "execution_count": 93,
   "metadata": {},
   "outputs": [],
   "source": [
    "# If no pound sign found, assume free delivery\n",
    "# If the text contains free delivery, then the cost should be 0\n",
    "# If the text doesn't contain a pound sign or the word 'delivery', then it's likely the restaurant isn't delivering at the moment \n",
    "   \n",
    "def find_delivery_cost(text):\n",
    "    start_identifier = '£'\n",
    "    end_identifier = 'delivery'\n",
    "    search_start = text.find(start_identifier)\n",
    "    search_end = text.find(end_identifier, search_start)\n",
    "    if 'Free delivery' in text:\n",
    "        return '£0.00'\n",
    "    elif (search_start == -1) | (search_end == -1):\n",
    "        return None\n",
    "    else:\n",
    "        return text[search_start: search_end - 1]"
   ]
  },
  {
   "cell_type": "code",
   "execution_count": 94,
   "metadata": {},
   "outputs": [
    {
     "data": {
      "text/html": [
       "<div>\n",
       "<style scoped>\n",
       "    .dataframe tbody tr th:only-of-type {\n",
       "        vertical-align: middle;\n",
       "    }\n",
       "\n",
       "    .dataframe tbody tr th {\n",
       "        vertical-align: top;\n",
       "    }\n",
       "\n",
       "    .dataframe thead th {\n",
       "        text-align: right;\n",
       "    }\n",
       "</style>\n",
       "<table border=\"1\" class=\"dataframe\">\n",
       "  <thead>\n",
       "    <tr style=\"text-align: right;\">\n",
       "      <th></th>\n",
       "      <th>url</th>\n",
       "      <th>rank</th>\n",
       "      <th>main_data</th>\n",
       "      <th>distance</th>\n",
       "      <th>delivery_cost</th>\n",
       "    </tr>\n",
       "  </thead>\n",
       "  <tbody>\n",
       "    <tr>\n",
       "      <th>0</th>\n",
       "      <td>http://deliveroo.co.uk/menu/london/willesden/m...</td>\n",
       "      <td>1</td>\n",
       "      <td>Margarita Mama's. Delivers in 10 to 10 minutes...</td>\n",
       "      <td>5.7 miles away</td>\n",
       "      <td>£0.00</td>\n",
       "    </tr>\n",
       "    <tr>\n",
       "      <th>1</th>\n",
       "      <td>http://deliveroo.co.uk/menu/london/chelsea/pre...</td>\n",
       "      <td>2</td>\n",
       "      <td>Pret a Manger. Delivers in 20 to 35 minutes. R...</td>\n",
       "      <td>1.7 miles away</td>\n",
       "      <td>£0.00</td>\n",
       "    </tr>\n",
       "    <tr>\n",
       "      <th>2</th>\n",
       "      <td>http://deliveroo.co.uk/menu/london/marylebone/...</td>\n",
       "      <td>3</td>\n",
       "      <td>🎉Le Pain Quotidien Catering - 2 DAYS ADVANCE O...</td>\n",
       "      <td>1.6 miles away</td>\n",
       "      <td>£0.00</td>\n",
       "    </tr>\n",
       "    <tr>\n",
       "      <th>3</th>\n",
       "      <td>http://deliveroo.co.uk/menu/london/soho/whole-...</td>\n",
       "      <td>4</td>\n",
       "      <td>Whole Foods Market. Delivers in 15 to 25 minut...</td>\n",
       "      <td>0.6 miles away</td>\n",
       "      <td>£0.00</td>\n",
       "    </tr>\n",
       "    <tr>\n",
       "      <th>4</th>\n",
       "      <td>http://deliveroo.co.uk/menu/london/chelsea/the...</td>\n",
       "      <td>5</td>\n",
       "      <td>Good Life Eatery. Delivers in 20 to 40 minutes...</td>\n",
       "      <td>1.8 miles away</td>\n",
       "      <td>£0.00</td>\n",
       "    </tr>\n",
       "    <tr>\n",
       "      <th>...</th>\n",
       "      <td>...</td>\n",
       "      <td>...</td>\n",
       "      <td>...</td>\n",
       "      <td>...</td>\n",
       "      <td>...</td>\n",
       "    </tr>\n",
       "    <tr>\n",
       "      <th>866</th>\n",
       "      <td>http://deliveroo.co.uk/menu/london/covent-gard...</td>\n",
       "      <td>867</td>\n",
       "      <td>Mlkcake by Gossip. Delivers at . Serves Desser...</td>\n",
       "      <td></td>\n",
       "      <td>None</td>\n",
       "    </tr>\n",
       "    <tr>\n",
       "      <th>867</th>\n",
       "      <td>http://deliveroo.co.uk/menu/london/fitzrovia/e...</td>\n",
       "      <td>868</td>\n",
       "      <td>East London Alcohol Delivery. Delivers at . Se...</td>\n",
       "      <td></td>\n",
       "      <td>None</td>\n",
       "    </tr>\n",
       "    <tr>\n",
       "      <th>868</th>\n",
       "      <td>http://deliveroo.co.uk/menu/london/chelsea/kxu...</td>\n",
       "      <td>869</td>\n",
       "      <td>KXU. Delivers at . Serves British and Healthy.</td>\n",
       "      <td></td>\n",
       "      <td>None</td>\n",
       "    </tr>\n",
       "    <tr>\n",
       "      <th>869</th>\n",
       "      <td>http://deliveroo.co.uk/menu/london/nine-elms/e...</td>\n",
       "      <td>870</td>\n",
       "      <td>Entremettier Fruit &amp;amp; Veg. Delivers at . Se...</td>\n",
       "      <td></td>\n",
       "      <td>None</td>\n",
       "    </tr>\n",
       "    <tr>\n",
       "      <th>870</th>\n",
       "      <td>http://deliveroo.co.uk/menu/london/covent-gard...</td>\n",
       "      <td>871</td>\n",
       "      <td>FARMSTAND Breakfast. Delivers at . Rated 4.7 f...</td>\n",
       "      <td></td>\n",
       "      <td>None</td>\n",
       "    </tr>\n",
       "  </tbody>\n",
       "</table>\n",
       "<p>871 rows × 5 columns</p>\n",
       "</div>"
      ],
      "text/plain": [
       "                                                   url  rank  \\\n",
       "0    http://deliveroo.co.uk/menu/london/willesden/m...     1   \n",
       "1    http://deliveroo.co.uk/menu/london/chelsea/pre...     2   \n",
       "2    http://deliveroo.co.uk/menu/london/marylebone/...     3   \n",
       "3    http://deliveroo.co.uk/menu/london/soho/whole-...     4   \n",
       "4    http://deliveroo.co.uk/menu/london/chelsea/the...     5   \n",
       "..                                                 ...   ...   \n",
       "866  http://deliveroo.co.uk/menu/london/covent-gard...   867   \n",
       "867  http://deliveroo.co.uk/menu/london/fitzrovia/e...   868   \n",
       "868  http://deliveroo.co.uk/menu/london/chelsea/kxu...   869   \n",
       "869  http://deliveroo.co.uk/menu/london/nine-elms/e...   870   \n",
       "870  http://deliveroo.co.uk/menu/london/covent-gard...   871   \n",
       "\n",
       "                                             main_data        distance  \\\n",
       "0    Margarita Mama's. Delivers in 10 to 10 minutes...  5.7 miles away   \n",
       "1    Pret a Manger. Delivers in 20 to 35 minutes. R...  1.7 miles away   \n",
       "2    🎉Le Pain Quotidien Catering - 2 DAYS ADVANCE O...  1.6 miles away   \n",
       "3    Whole Foods Market. Delivers in 15 to 25 minut...  0.6 miles away   \n",
       "4    Good Life Eatery. Delivers in 20 to 40 minutes...  1.8 miles away   \n",
       "..                                                 ...             ...   \n",
       "866  Mlkcake by Gossip. Delivers at . Serves Desser...                   \n",
       "867  East London Alcohol Delivery. Delivers at . Se...                   \n",
       "868     KXU. Delivers at . Serves British and Healthy.                   \n",
       "869  Entremettier Fruit &amp; Veg. Delivers at . Se...                   \n",
       "870  FARMSTAND Breakfast. Delivers at . Rated 4.7 f...                   \n",
       "\n",
       "    delivery_cost  \n",
       "0           £0.00  \n",
       "1           £0.00  \n",
       "2           £0.00  \n",
       "3           £0.00  \n",
       "4           £0.00  \n",
       "..            ...  \n",
       "866          None  \n",
       "867          None  \n",
       "868          None  \n",
       "869          None  \n",
       "870          None  \n",
       "\n",
       "[871 rows x 5 columns]"
      ]
     },
     "execution_count": 94,
     "metadata": {},
     "output_type": "execute_result"
    }
   ],
   "source": [
    "restaurants_list = []\n",
    "rank = 1\n",
    "for restaurant in restaurants_html:\n",
    "    restaurant_dictionary = {\n",
    "        'url': find_hyperlink(restaurant),\n",
    "        'rank': rank,\n",
    "        'main_data': find_main_data(restaurant),\n",
    "        'distance': find_distance_data(restaurant),\n",
    "        'delivery_cost': find_delivery_cost(restaurant)\n",
    "    }\n",
    "    restaurants_list.append(restaurant_dictionary)\n",
    "    rank += 1   \n",
    "\n",
    "restaurant_df = pd.DataFrame.from_dict(restaurants_list)\n",
    "restaurant_df"
   ]
  },
  {
   "cell_type": "code",
   "execution_count": 95,
   "metadata": {},
   "outputs": [
    {
     "data": {
      "text/plain": [
       "\"Margarita Mama's. Delivers in 10 to 10 minutes. Rated 4.1 from 500+ reviews. Serves Italian, Pasta, and Pizza.\""
      ]
     },
     "execution_count": 95,
     "metadata": {},
     "output_type": "execute_result"
    }
   ],
   "source": [
    "# It's helpful to see what main_data actually looks like\n",
    "\n",
    "restaurant_df['main_data'][0]"
   ]
  },
  {
   "cell_type": "markdown",
   "metadata": {},
   "source": [
    "Voila! We're really starting to get there! Now we just need to transform our data so we can use it for analysis!\n",
    "\n",
    "We'll need to do the following: \n",
    "\n",
    "1. Extract restaurant name, delivery time, reviews and cuisines from the main data column\n",
    "2. Make sure all of our data is usable for analysis"
   ]
  },
  {
   "cell_type": "code",
   "execution_count": 96,
   "metadata": {},
   "outputs": [],
   "source": [
    "# Sentence Tokenize from nltk seperates the main data into sentences, making it easier to get each bit of data\n",
    "\n",
    "restaurant_df['restaurant_name'] = restaurant_df['main_data'].map(lambda x: sent_tokenize(x.replace('&amp;', '&'))[0][:-1].strip())\n",
    "restaurant_df['delivery_time'] = restaurant_df['main_data'].map(lambda x: sent_tokenize(x)[1].split(' ')[2:5])"
   ]
  },
  {
   "cell_type": "code",
   "execution_count": 97,
   "metadata": {},
   "outputs": [],
   "source": [
    "# We want to get the review score and the number of reviews\n",
    "\n",
    "def find_review_data(main_data):\n",
    "    start_identifier = 'Rated '\n",
    "    end_identifier = 'reviews'\n",
    "    search_start = main_data.find(start_identifier)\n",
    "    if search_start > -1:\n",
    "        search_end = main_data.find(end_identifier, search_start) - 1\n",
    "        review_data = main_data[search_start: search_end]\n",
    "        review_score = float(review_data.split(' ')[1])\n",
    "        review_number = int(review_data.split(' ')[-1].split('+')[0])\n",
    "        return {'score': review_score, 'number': review_number} \n",
    "    else:\n",
    "        return {'score': None, 'number': None }\n",
    "    \n",
    "restaurant_df['rating_score'] = restaurant_df['main_data'].map(lambda x: find_review_data(x)['score'])\n",
    "restaurant_df['rating_number'] = restaurant_df['main_data'].map(lambda x: find_review_data(x)['number'])"
   ]
  },
  {
   "cell_type": "markdown",
   "metadata": {},
   "source": [
    "Finding the cuisine data deserves a special mention. From the above, we can see the cuisines start after the word 'Serves'. Most cuisines can also be split on a comma, then the word 'and'. However, there is a very vital edge case...\n",
    "\n",
    "If there are only two cuisines, there will be no comma and it will look like so 'Serves Chinese and Burgers'. So we will need to split on the word 'and'. BUT, if the cuisine is 'Fish and Chips', this will seperate 'Fish' and 'Chips' into seperate cuisines, which we don't want. Therefore, we need to slightly alter 'Fish and Chips'.   "
   ]
  },
  {
   "cell_type": "code",
   "execution_count": 98,
   "metadata": {
    "scrolled": true
   },
   "outputs": [
    {
     "data": {
      "text/html": [
       "<div>\n",
       "<style scoped>\n",
       "    .dataframe tbody tr th:only-of-type {\n",
       "        vertical-align: middle;\n",
       "    }\n",
       "\n",
       "    .dataframe tbody tr th {\n",
       "        vertical-align: top;\n",
       "    }\n",
       "\n",
       "    .dataframe thead th {\n",
       "        text-align: right;\n",
       "    }\n",
       "</style>\n",
       "<table border=\"1\" class=\"dataframe\">\n",
       "  <thead>\n",
       "    <tr style=\"text-align: right;\">\n",
       "      <th></th>\n",
       "      <th>url</th>\n",
       "      <th>rank</th>\n",
       "      <th>main_data</th>\n",
       "      <th>distance</th>\n",
       "      <th>delivery_cost</th>\n",
       "      <th>restaurant_name</th>\n",
       "      <th>delivery_time</th>\n",
       "      <th>rating_score</th>\n",
       "      <th>rating_number</th>\n",
       "      <th>cuisines</th>\n",
       "    </tr>\n",
       "  </thead>\n",
       "  <tbody>\n",
       "    <tr>\n",
       "      <th>0</th>\n",
       "      <td>http://deliveroo.co.uk/menu/london/willesden/m...</td>\n",
       "      <td>1</td>\n",
       "      <td>Margarita Mama's. Delivers in 10 to 10 minutes...</td>\n",
       "      <td>5.7 miles away</td>\n",
       "      <td>£0.00</td>\n",
       "      <td>Margarita Mama's</td>\n",
       "      <td>[10, to, 10]</td>\n",
       "      <td>4.1</td>\n",
       "      <td>500.0</td>\n",
       "      <td>[Italian, Pasta, Pizza]</td>\n",
       "    </tr>\n",
       "    <tr>\n",
       "      <th>1</th>\n",
       "      <td>http://deliveroo.co.uk/menu/london/chelsea/pre...</td>\n",
       "      <td>2</td>\n",
       "      <td>Pret a Manger. Delivers in 20 to 35 minutes. R...</td>\n",
       "      <td>1.7 miles away</td>\n",
       "      <td>£0.00</td>\n",
       "      <td>Pret a Manger</td>\n",
       "      <td>[20, to, 35]</td>\n",
       "      <td>4.8</td>\n",
       "      <td>500.0</td>\n",
       "      <td>[Salads, Breakfast, Sandwiches, Healthy]</td>\n",
       "    </tr>\n",
       "    <tr>\n",
       "      <th>2</th>\n",
       "      <td>http://deliveroo.co.uk/menu/london/marylebone/...</td>\n",
       "      <td>3</td>\n",
       "      <td>🎉Le Pain Quotidien Catering - 2 DAYS ADVANCE O...</td>\n",
       "      <td>1.6 miles away</td>\n",
       "      <td>£0.00</td>\n",
       "      <td>🎉Le Pain Quotidien Catering - 2 DAYS ADVANCE O...</td>\n",
       "      <td>[120, to, 120]</td>\n",
       "      <td>NaN</td>\n",
       "      <td>NaN</td>\n",
       "      <td>None</td>\n",
       "    </tr>\n",
       "    <tr>\n",
       "      <th>3</th>\n",
       "      <td>http://deliveroo.co.uk/menu/london/soho/whole-...</td>\n",
       "      <td>4</td>\n",
       "      <td>Whole Foods Market. Delivers in 15 to 25 minut...</td>\n",
       "      <td>0.6 miles away</td>\n",
       "      <td>£0.00</td>\n",
       "      <td>Whole Foods Market</td>\n",
       "      <td>[15, to, 25]</td>\n",
       "      <td>4.9</td>\n",
       "      <td>500.0</td>\n",
       "      <td>[Dessert, Grocery, Healthy, Drinks]</td>\n",
       "    </tr>\n",
       "    <tr>\n",
       "      <th>4</th>\n",
       "      <td>http://deliveroo.co.uk/menu/london/chelsea/the...</td>\n",
       "      <td>5</td>\n",
       "      <td>Good Life Eatery. Delivers in 20 to 40 minutes...</td>\n",
       "      <td>1.8 miles away</td>\n",
       "      <td>£0.00</td>\n",
       "      <td>Good Life Eatery</td>\n",
       "      <td>[20, to, 40]</td>\n",
       "      <td>4.8</td>\n",
       "      <td>500.0</td>\n",
       "      <td>[Breakfast, Juices, Healthy, Salads]</td>\n",
       "    </tr>\n",
       "  </tbody>\n",
       "</table>\n",
       "</div>"
      ],
      "text/plain": [
       "                                                 url  rank  \\\n",
       "0  http://deliveroo.co.uk/menu/london/willesden/m...     1   \n",
       "1  http://deliveroo.co.uk/menu/london/chelsea/pre...     2   \n",
       "2  http://deliveroo.co.uk/menu/london/marylebone/...     3   \n",
       "3  http://deliveroo.co.uk/menu/london/soho/whole-...     4   \n",
       "4  http://deliveroo.co.uk/menu/london/chelsea/the...     5   \n",
       "\n",
       "                                           main_data        distance  \\\n",
       "0  Margarita Mama's. Delivers in 10 to 10 minutes...  5.7 miles away   \n",
       "1  Pret a Manger. Delivers in 20 to 35 minutes. R...  1.7 miles away   \n",
       "2  🎉Le Pain Quotidien Catering - 2 DAYS ADVANCE O...  1.6 miles away   \n",
       "3  Whole Foods Market. Delivers in 15 to 25 minut...  0.6 miles away   \n",
       "4  Good Life Eatery. Delivers in 20 to 40 minutes...  1.8 miles away   \n",
       "\n",
       "  delivery_cost                                    restaurant_name  \\\n",
       "0         £0.00                                   Margarita Mama's   \n",
       "1         £0.00                                      Pret a Manger   \n",
       "2         £0.00  🎉Le Pain Quotidien Catering - 2 DAYS ADVANCE O...   \n",
       "3         £0.00                                 Whole Foods Market   \n",
       "4         £0.00                                   Good Life Eatery   \n",
       "\n",
       "    delivery_time  rating_score  rating_number  \\\n",
       "0    [10, to, 10]           4.1          500.0   \n",
       "1    [20, to, 35]           4.8          500.0   \n",
       "2  [120, to, 120]           NaN            NaN   \n",
       "3    [15, to, 25]           4.9          500.0   \n",
       "4    [20, to, 40]           4.8          500.0   \n",
       "\n",
       "                                   cuisines  \n",
       "0                   [Italian, Pasta, Pizza]  \n",
       "1  [Salads, Breakfast, Sandwiches, Healthy]  \n",
       "2                                      None  \n",
       "3       [Dessert, Grocery, Healthy, Drinks]  \n",
       "4      [Breakfast, Juices, Healthy, Salads]  "
      ]
     },
     "execution_count": 98,
     "metadata": {},
     "output_type": "execute_result"
    }
   ],
   "source": [
    "# If any other cuisine has 'and' in the name, we will need to replace that too\n",
    "\n",
    "def find_cuisine_data(main_data):\n",
    "    start_identifier = 'Serves '\n",
    "    first_split = ', '\n",
    "    second_split = ' and '\n",
    "    cuisine_list = []\n",
    "    main_data = main_data.replace('Fish and chips', 'Fish*and*chips')\n",
    "    cuisine_start = main_data.find(start_identifier)\n",
    "    if cuisine_start > -1:\n",
    "        cuisine_data = main_data[cuisine_start + len(start_identifier): -1]\n",
    "        cuisine_list = cuisine_data.split(first_split)\n",
    "        \n",
    "        if len(cuisine_list) > 1:\n",
    "            cuisine_list[-1] = cuisine_list[-1][len(second_split) - 1:]\n",
    "            \n",
    "        else:\n",
    "            cuisine_string = ''.join(cuisine_list)\n",
    "            cuisine_list = cuisine_string.split(second_split)\n",
    "    \n",
    "        return [cuisine.replace('Fish*and*chips', 'Fish and chips') for cuisine in cuisine_list]\n",
    "    \n",
    "    else: \n",
    "        return None\n",
    "        \n",
    "restaurant_df['cuisines'] = restaurant_df['main_data'].map(lambda x: find_cuisine_data(x))\n",
    "restaurant_df.head()"
   ]
  },
  {
   "cell_type": "markdown",
   "metadata": {},
   "source": [
    "Now we have all of our data, we can move onto step 2. We need to take our data and make it usable. \n",
    "\n",
    "1. distance should be a float, not a string\n",
    "2. delivery_cost should be a float, not a string\n",
    "3. delivery_time should actually be split into min, max and average delivery time and should all be floats\n",
    "4. Each cuisine should have its own column equal to 1 if the restaurant serves that cuisine, and 0 otherwise\n",
    "5. We will need to remove all unnecessary columns"
   ]
  },
  {
   "cell_type": "code",
   "execution_count": 99,
   "metadata": {},
   "outputs": [],
   "source": [
    "restaurant_df['distance_miles'] = restaurant_df['distance'].map(lambda x: float(x.split(' ')[0]) if x else None)"
   ]
  },
  {
   "cell_type": "code",
   "execution_count": 100,
   "metadata": {},
   "outputs": [],
   "source": [
    "restaurant_df['delivery_cost_pounds'] = restaurant_df['delivery_cost'].map(lambda x: float(x[1:]) if x else None)"
   ]
  },
  {
   "cell_type": "code",
   "execution_count": 101,
   "metadata": {},
   "outputs": [],
   "source": [
    "# Take the first and last element of delivery_time, and also get their average\n",
    "# If delivery time is empty, the restaurant must be closed\n",
    "# We can only do this where the delivery time has 3 elements and the first and last element start with a digit\n",
    "\n",
    "def clean_delivery_data(delivery_time):\n",
    "    \n",
    "    min_time = 'closed'\n",
    "    max_time = 'closed'\n",
    "    avg_time = 'closed'\n",
    "    \n",
    "    if len(delivery_time) > 1:\n",
    "        if (delivery_time[0][0].isdigit()) & (len(delivery_time) == 3) :\n",
    "            min_time = float(delivery_time[0])\n",
    "            max_time = float(delivery_time[-1])\n",
    "            avg_time = np.mean([min_time, max_time])\n",
    "            \n",
    "    return {'min': min_time, 'max': max_time, 'avg': avg_time}\n",
    "\n",
    "restaurant_df['min_delivery_time'] = restaurant_df['delivery_time'].map(lambda x: clean_delivery_data(x)['min'])\n",
    "restaurant_df['max_delivery_time'] = restaurant_df['delivery_time'].map(lambda x: clean_delivery_data(x)['max'])\n",
    "restaurant_df['avg_delivery_time'] = restaurant_df['delivery_time'].map(lambda x: clean_delivery_data(x)['avg'])\n",
    "restaurant_df['closed'] = restaurant_df['min_delivery_time'].map(lambda x: 1 if x == 'closed' else 0)"
   ]
  },
  {
   "cell_type": "code",
   "execution_count": 102,
   "metadata": {},
   "outputs": [],
   "source": [
    "# Need to make dummy variables for each possible cuisine, so first we create a list of all the cuisines\n",
    "# Make a new column for each cuisine, which is equal to 1 if the restaurant serves the cuisine and zero otherwise\n",
    "\n",
    "cuisine_list = np.array([])\n",
    "for cuisines in restaurant_df['cuisines']:\n",
    "    if cuisines: \n",
    "        cuisine_list = np.append(cuisine_list, cuisines)\n",
    "cuisine_list = pd.Series(np.sort(cuisine_list)).unique()\n",
    "\n",
    "for cuisine in cuisine_list:\n",
    "    restaurant_df[cuisine] = restaurant_df['cuisines'].map(lambda x: 1 if x and cuisine in x else 0)"
   ]
  },
  {
   "cell_type": "code",
   "execution_count": 103,
   "metadata": {},
   "outputs": [
    {
     "data": {
      "text/plain": [
       "Index(['url', 'rank', 'main_data', 'distance', 'delivery_cost',\n",
       "       'restaurant_name', 'delivery_time', 'rating_score', 'rating_number',\n",
       "       'cuisines',\n",
       "       ...\n",
       "       'Taiwanese', 'Tapas', 'Tea', 'Thai', 'Turkish', 'Vietnamese', 'Western',\n",
       "       'Wine', 'Wings', 'Wraps'],\n",
       "      dtype='object', length=116)"
      ]
     },
     "execution_count": 103,
     "metadata": {},
     "output_type": "execute_result"
    }
   ],
   "source": [
    "# Let's have a look at what columns we have left\n",
    "\n",
    "restaurant_df.columns"
   ]
  },
  {
   "cell_type": "code",
   "execution_count": 104,
   "metadata": {},
   "outputs": [],
   "source": [
    "# We don't need main_data, distance, delivery_cost, delivery_time\n",
    "\n",
    "restaurant_df_clean = restaurant_df.drop(axis = 1, columns = ['main_data', 'distance', 'delivery_cost', 'delivery_time'])"
   ]
  },
  {
   "cell_type": "code",
   "execution_count": 105,
   "metadata": {},
   "outputs": [
    {
     "data": {
      "text/html": [
       "<div>\n",
       "<style scoped>\n",
       "    .dataframe tbody tr th:only-of-type {\n",
       "        vertical-align: middle;\n",
       "    }\n",
       "\n",
       "    .dataframe tbody tr th {\n",
       "        vertical-align: top;\n",
       "    }\n",
       "\n",
       "    .dataframe thead th {\n",
       "        text-align: right;\n",
       "    }\n",
       "</style>\n",
       "<table border=\"1\" class=\"dataframe\">\n",
       "  <thead>\n",
       "    <tr style=\"text-align: right;\">\n",
       "      <th></th>\n",
       "      <th>url</th>\n",
       "      <th>rank</th>\n",
       "      <th>restaurant_name</th>\n",
       "      <th>rating_score</th>\n",
       "      <th>rating_number</th>\n",
       "      <th>cuisines</th>\n",
       "      <th>distance_miles</th>\n",
       "      <th>delivery_cost_pounds</th>\n",
       "      <th>min_delivery_time</th>\n",
       "      <th>max_delivery_time</th>\n",
       "      <th>...</th>\n",
       "      <th>Taiwanese</th>\n",
       "      <th>Tapas</th>\n",
       "      <th>Tea</th>\n",
       "      <th>Thai</th>\n",
       "      <th>Turkish</th>\n",
       "      <th>Vietnamese</th>\n",
       "      <th>Western</th>\n",
       "      <th>Wine</th>\n",
       "      <th>Wings</th>\n",
       "      <th>Wraps</th>\n",
       "    </tr>\n",
       "  </thead>\n",
       "  <tbody>\n",
       "    <tr>\n",
       "      <th>866</th>\n",
       "      <td>http://deliveroo.co.uk/menu/london/covent-gard...</td>\n",
       "      <td>867</td>\n",
       "      <td>Mlkcake by Gossip</td>\n",
       "      <td>NaN</td>\n",
       "      <td>NaN</td>\n",
       "      <td>[Dessert, British]</td>\n",
       "      <td>NaN</td>\n",
       "      <td>NaN</td>\n",
       "      <td>closed</td>\n",
       "      <td>closed</td>\n",
       "      <td>...</td>\n",
       "      <td>0</td>\n",
       "      <td>0</td>\n",
       "      <td>0</td>\n",
       "      <td>0</td>\n",
       "      <td>0</td>\n",
       "      <td>0</td>\n",
       "      <td>0</td>\n",
       "      <td>0</td>\n",
       "      <td>0</td>\n",
       "      <td>0</td>\n",
       "    </tr>\n",
       "    <tr>\n",
       "      <th>867</th>\n",
       "      <td>http://deliveroo.co.uk/menu/london/fitzrovia/e...</td>\n",
       "      <td>868</td>\n",
       "      <td>East London Alcohol Delivery</td>\n",
       "      <td>NaN</td>\n",
       "      <td>NaN</td>\n",
       "      <td>[British, Alcohol]</td>\n",
       "      <td>NaN</td>\n",
       "      <td>NaN</td>\n",
       "      <td>closed</td>\n",
       "      <td>closed</td>\n",
       "      <td>...</td>\n",
       "      <td>0</td>\n",
       "      <td>0</td>\n",
       "      <td>0</td>\n",
       "      <td>0</td>\n",
       "      <td>0</td>\n",
       "      <td>0</td>\n",
       "      <td>0</td>\n",
       "      <td>0</td>\n",
       "      <td>0</td>\n",
       "      <td>0</td>\n",
       "    </tr>\n",
       "    <tr>\n",
       "      <th>868</th>\n",
       "      <td>http://deliveroo.co.uk/menu/london/chelsea/kxu...</td>\n",
       "      <td>869</td>\n",
       "      <td>KXU</td>\n",
       "      <td>NaN</td>\n",
       "      <td>NaN</td>\n",
       "      <td>[British, Healthy]</td>\n",
       "      <td>NaN</td>\n",
       "      <td>NaN</td>\n",
       "      <td>closed</td>\n",
       "      <td>closed</td>\n",
       "      <td>...</td>\n",
       "      <td>0</td>\n",
       "      <td>0</td>\n",
       "      <td>0</td>\n",
       "      <td>0</td>\n",
       "      <td>0</td>\n",
       "      <td>0</td>\n",
       "      <td>0</td>\n",
       "      <td>0</td>\n",
       "      <td>0</td>\n",
       "      <td>0</td>\n",
       "    </tr>\n",
       "    <tr>\n",
       "      <th>869</th>\n",
       "      <td>http://deliveroo.co.uk/menu/london/nine-elms/e...</td>\n",
       "      <td>870</td>\n",
       "      <td>Entremettier Fruit &amp; Veg</td>\n",
       "      <td>NaN</td>\n",
       "      <td>NaN</td>\n",
       "      <td>[British]</td>\n",
       "      <td>NaN</td>\n",
       "      <td>NaN</td>\n",
       "      <td>closed</td>\n",
       "      <td>closed</td>\n",
       "      <td>...</td>\n",
       "      <td>0</td>\n",
       "      <td>0</td>\n",
       "      <td>0</td>\n",
       "      <td>0</td>\n",
       "      <td>0</td>\n",
       "      <td>0</td>\n",
       "      <td>0</td>\n",
       "      <td>0</td>\n",
       "      <td>0</td>\n",
       "      <td>0</td>\n",
       "    </tr>\n",
       "    <tr>\n",
       "      <th>870</th>\n",
       "      <td>http://deliveroo.co.uk/menu/london/covent-gard...</td>\n",
       "      <td>871</td>\n",
       "      <td>FARMSTAND Breakfast</td>\n",
       "      <td>4.7</td>\n",
       "      <td>25.0</td>\n",
       "      <td>[Breakfast, Healthy]</td>\n",
       "      <td>NaN</td>\n",
       "      <td>NaN</td>\n",
       "      <td>closed</td>\n",
       "      <td>closed</td>\n",
       "      <td>...</td>\n",
       "      <td>0</td>\n",
       "      <td>0</td>\n",
       "      <td>0</td>\n",
       "      <td>0</td>\n",
       "      <td>0</td>\n",
       "      <td>0</td>\n",
       "      <td>0</td>\n",
       "      <td>0</td>\n",
       "      <td>0</td>\n",
       "      <td>0</td>\n",
       "    </tr>\n",
       "  </tbody>\n",
       "</table>\n",
       "<p>5 rows × 112 columns</p>\n",
       "</div>"
      ],
      "text/plain": [
       "                                                   url  rank  \\\n",
       "866  http://deliveroo.co.uk/menu/london/covent-gard...   867   \n",
       "867  http://deliveroo.co.uk/menu/london/fitzrovia/e...   868   \n",
       "868  http://deliveroo.co.uk/menu/london/chelsea/kxu...   869   \n",
       "869  http://deliveroo.co.uk/menu/london/nine-elms/e...   870   \n",
       "870  http://deliveroo.co.uk/menu/london/covent-gard...   871   \n",
       "\n",
       "                  restaurant_name  rating_score  rating_number  \\\n",
       "866             Mlkcake by Gossip           NaN            NaN   \n",
       "867  East London Alcohol Delivery           NaN            NaN   \n",
       "868                           KXU           NaN            NaN   \n",
       "869      Entremettier Fruit & Veg           NaN            NaN   \n",
       "870           FARMSTAND Breakfast           4.7           25.0   \n",
       "\n",
       "                 cuisines  distance_miles  delivery_cost_pounds  \\\n",
       "866    [Dessert, British]             NaN                   NaN   \n",
       "867    [British, Alcohol]             NaN                   NaN   \n",
       "868    [British, Healthy]             NaN                   NaN   \n",
       "869             [British]             NaN                   NaN   \n",
       "870  [Breakfast, Healthy]             NaN                   NaN   \n",
       "\n",
       "    min_delivery_time max_delivery_time  ... Taiwanese  Tapas  Tea  Thai  \\\n",
       "866            closed            closed  ...         0      0    0     0   \n",
       "867            closed            closed  ...         0      0    0     0   \n",
       "868            closed            closed  ...         0      0    0     0   \n",
       "869            closed            closed  ...         0      0    0     0   \n",
       "870            closed            closed  ...         0      0    0     0   \n",
       "\n",
       "     Turkish  Vietnamese  Western  Wine  Wings  Wraps  \n",
       "866        0           0        0     0      0      0  \n",
       "867        0           0        0     0      0      0  \n",
       "868        0           0        0     0      0      0  \n",
       "869        0           0        0     0      0      0  \n",
       "870        0           0        0     0      0      0  \n",
       "\n",
       "[5 rows x 112 columns]"
      ]
     },
     "execution_count": 105,
     "metadata": {},
     "output_type": "execute_result"
    }
   ],
   "source": [
    "restaurant_df_clean.tail()"
   ]
  },
  {
   "cell_type": "code",
   "execution_count": 106,
   "metadata": {},
   "outputs": [
    {
     "data": {
      "text/html": [
       "<div>\n",
       "<style scoped>\n",
       "    .dataframe tbody tr th:only-of-type {\n",
       "        vertical-align: middle;\n",
       "    }\n",
       "\n",
       "    .dataframe tbody tr th {\n",
       "        vertical-align: top;\n",
       "    }\n",
       "\n",
       "    .dataframe thead th {\n",
       "        text-align: right;\n",
       "    }\n",
       "</style>\n",
       "<table border=\"1\" class=\"dataframe\">\n",
       "  <thead>\n",
       "    <tr style=\"text-align: right;\">\n",
       "      <th></th>\n",
       "      <th>rank</th>\n",
       "      <th>rating_score</th>\n",
       "      <th>rating_number</th>\n",
       "      <th>distance_miles</th>\n",
       "      <th>delivery_cost_pounds</th>\n",
       "      <th>closed</th>\n",
       "      <th>Acai</th>\n",
       "      <th>African</th>\n",
       "      <th>Alcohol</th>\n",
       "      <th>American</th>\n",
       "      <th>...</th>\n",
       "      <th>Taiwanese</th>\n",
       "      <th>Tapas</th>\n",
       "      <th>Tea</th>\n",
       "      <th>Thai</th>\n",
       "      <th>Turkish</th>\n",
       "      <th>Vietnamese</th>\n",
       "      <th>Western</th>\n",
       "      <th>Wine</th>\n",
       "      <th>Wings</th>\n",
       "      <th>Wraps</th>\n",
       "    </tr>\n",
       "  </thead>\n",
       "  <tbody>\n",
       "    <tr>\n",
       "      <th>count</th>\n",
       "      <td>871.000000</td>\n",
       "      <td>725.000000</td>\n",
       "      <td>725.000000</td>\n",
       "      <td>264.000000</td>\n",
       "      <td>264.0</td>\n",
       "      <td>871.000000</td>\n",
       "      <td>871.000000</td>\n",
       "      <td>871.000000</td>\n",
       "      <td>871.000000</td>\n",
       "      <td>871.000000</td>\n",
       "      <td>...</td>\n",
       "      <td>871.000000</td>\n",
       "      <td>871.000000</td>\n",
       "      <td>871.000000</td>\n",
       "      <td>871.000000</td>\n",
       "      <td>871.000000</td>\n",
       "      <td>871.000000</td>\n",
       "      <td>871.000000</td>\n",
       "      <td>871.000000</td>\n",
       "      <td>871.000000</td>\n",
       "      <td>871.000000</td>\n",
       "    </tr>\n",
       "    <tr>\n",
       "      <th>mean</th>\n",
       "      <td>436.000000</td>\n",
       "      <td>4.544000</td>\n",
       "      <td>340.075862</td>\n",
       "      <td>1.256818</td>\n",
       "      <td>0.0</td>\n",
       "      <td>0.830080</td>\n",
       "      <td>0.004592</td>\n",
       "      <td>0.003444</td>\n",
       "      <td>0.165327</td>\n",
       "      <td>0.095293</td>\n",
       "      <td>...</td>\n",
       "      <td>0.006889</td>\n",
       "      <td>0.008037</td>\n",
       "      <td>0.003444</td>\n",
       "      <td>0.013777</td>\n",
       "      <td>0.011481</td>\n",
       "      <td>0.009185</td>\n",
       "      <td>0.001148</td>\n",
       "      <td>0.060850</td>\n",
       "      <td>0.019518</td>\n",
       "      <td>0.026406</td>\n",
       "    </tr>\n",
       "    <tr>\n",
       "      <th>std</th>\n",
       "      <td>251.580338</td>\n",
       "      <td>0.320407</td>\n",
       "      <td>191.248200</td>\n",
       "      <td>0.970414</td>\n",
       "      <td>0.0</td>\n",
       "      <td>0.375778</td>\n",
       "      <td>0.067650</td>\n",
       "      <td>0.058621</td>\n",
       "      <td>0.371689</td>\n",
       "      <td>0.293788</td>\n",
       "      <td>...</td>\n",
       "      <td>0.082759</td>\n",
       "      <td>0.089338</td>\n",
       "      <td>0.058621</td>\n",
       "      <td>0.116632</td>\n",
       "      <td>0.106594</td>\n",
       "      <td>0.095451</td>\n",
       "      <td>0.033884</td>\n",
       "      <td>0.239192</td>\n",
       "      <td>0.138415</td>\n",
       "      <td>0.160433</td>\n",
       "    </tr>\n",
       "    <tr>\n",
       "      <th>min</th>\n",
       "      <td>1.000000</td>\n",
       "      <td>1.900000</td>\n",
       "      <td>11.000000</td>\n",
       "      <td>0.300000</td>\n",
       "      <td>0.0</td>\n",
       "      <td>0.000000</td>\n",
       "      <td>0.000000</td>\n",
       "      <td>0.000000</td>\n",
       "      <td>0.000000</td>\n",
       "      <td>0.000000</td>\n",
       "      <td>...</td>\n",
       "      <td>0.000000</td>\n",
       "      <td>0.000000</td>\n",
       "      <td>0.000000</td>\n",
       "      <td>0.000000</td>\n",
       "      <td>0.000000</td>\n",
       "      <td>0.000000</td>\n",
       "      <td>0.000000</td>\n",
       "      <td>0.000000</td>\n",
       "      <td>0.000000</td>\n",
       "      <td>0.000000</td>\n",
       "    </tr>\n",
       "    <tr>\n",
       "      <th>25%</th>\n",
       "      <td>218.500000</td>\n",
       "      <td>4.400000</td>\n",
       "      <td>144.000000</td>\n",
       "      <td>0.600000</td>\n",
       "      <td>0.0</td>\n",
       "      <td>1.000000</td>\n",
       "      <td>0.000000</td>\n",
       "      <td>0.000000</td>\n",
       "      <td>0.000000</td>\n",
       "      <td>0.000000</td>\n",
       "      <td>...</td>\n",
       "      <td>0.000000</td>\n",
       "      <td>0.000000</td>\n",
       "      <td>0.000000</td>\n",
       "      <td>0.000000</td>\n",
       "      <td>0.000000</td>\n",
       "      <td>0.000000</td>\n",
       "      <td>0.000000</td>\n",
       "      <td>0.000000</td>\n",
       "      <td>0.000000</td>\n",
       "      <td>0.000000</td>\n",
       "    </tr>\n",
       "    <tr>\n",
       "      <th>50%</th>\n",
       "      <td>436.000000</td>\n",
       "      <td>4.600000</td>\n",
       "      <td>500.000000</td>\n",
       "      <td>1.000000</td>\n",
       "      <td>0.0</td>\n",
       "      <td>1.000000</td>\n",
       "      <td>0.000000</td>\n",
       "      <td>0.000000</td>\n",
       "      <td>0.000000</td>\n",
       "      <td>0.000000</td>\n",
       "      <td>...</td>\n",
       "      <td>0.000000</td>\n",
       "      <td>0.000000</td>\n",
       "      <td>0.000000</td>\n",
       "      <td>0.000000</td>\n",
       "      <td>0.000000</td>\n",
       "      <td>0.000000</td>\n",
       "      <td>0.000000</td>\n",
       "      <td>0.000000</td>\n",
       "      <td>0.000000</td>\n",
       "      <td>0.000000</td>\n",
       "    </tr>\n",
       "    <tr>\n",
       "      <th>75%</th>\n",
       "      <td>653.500000</td>\n",
       "      <td>4.800000</td>\n",
       "      <td>500.000000</td>\n",
       "      <td>1.700000</td>\n",
       "      <td>0.0</td>\n",
       "      <td>1.000000</td>\n",
       "      <td>0.000000</td>\n",
       "      <td>0.000000</td>\n",
       "      <td>0.000000</td>\n",
       "      <td>0.000000</td>\n",
       "      <td>...</td>\n",
       "      <td>0.000000</td>\n",
       "      <td>0.000000</td>\n",
       "      <td>0.000000</td>\n",
       "      <td>0.000000</td>\n",
       "      <td>0.000000</td>\n",
       "      <td>0.000000</td>\n",
       "      <td>0.000000</td>\n",
       "      <td>0.000000</td>\n",
       "      <td>0.000000</td>\n",
       "      <td>0.000000</td>\n",
       "    </tr>\n",
       "    <tr>\n",
       "      <th>max</th>\n",
       "      <td>871.000000</td>\n",
       "      <td>5.000000</td>\n",
       "      <td>500.000000</td>\n",
       "      <td>8.900000</td>\n",
       "      <td>0.0</td>\n",
       "      <td>1.000000</td>\n",
       "      <td>1.000000</td>\n",
       "      <td>1.000000</td>\n",
       "      <td>1.000000</td>\n",
       "      <td>1.000000</td>\n",
       "      <td>...</td>\n",
       "      <td>1.000000</td>\n",
       "      <td>1.000000</td>\n",
       "      <td>1.000000</td>\n",
       "      <td>1.000000</td>\n",
       "      <td>1.000000</td>\n",
       "      <td>1.000000</td>\n",
       "      <td>1.000000</td>\n",
       "      <td>1.000000</td>\n",
       "      <td>1.000000</td>\n",
       "      <td>1.000000</td>\n",
       "    </tr>\n",
       "  </tbody>\n",
       "</table>\n",
       "<p>8 rows × 106 columns</p>\n",
       "</div>"
      ],
      "text/plain": [
       "             rank  rating_score  rating_number  distance_miles  \\\n",
       "count  871.000000    725.000000     725.000000      264.000000   \n",
       "mean   436.000000      4.544000     340.075862        1.256818   \n",
       "std    251.580338      0.320407     191.248200        0.970414   \n",
       "min      1.000000      1.900000      11.000000        0.300000   \n",
       "25%    218.500000      4.400000     144.000000        0.600000   \n",
       "50%    436.000000      4.600000     500.000000        1.000000   \n",
       "75%    653.500000      4.800000     500.000000        1.700000   \n",
       "max    871.000000      5.000000     500.000000        8.900000   \n",
       "\n",
       "       delivery_cost_pounds      closed        Acai     African     Alcohol  \\\n",
       "count                 264.0  871.000000  871.000000  871.000000  871.000000   \n",
       "mean                    0.0    0.830080    0.004592    0.003444    0.165327   \n",
       "std                     0.0    0.375778    0.067650    0.058621    0.371689   \n",
       "min                     0.0    0.000000    0.000000    0.000000    0.000000   \n",
       "25%                     0.0    1.000000    0.000000    0.000000    0.000000   \n",
       "50%                     0.0    1.000000    0.000000    0.000000    0.000000   \n",
       "75%                     0.0    1.000000    0.000000    0.000000    0.000000   \n",
       "max                     0.0    1.000000    1.000000    1.000000    1.000000   \n",
       "\n",
       "         American  ...   Taiwanese       Tapas         Tea        Thai  \\\n",
       "count  871.000000  ...  871.000000  871.000000  871.000000  871.000000   \n",
       "mean     0.095293  ...    0.006889    0.008037    0.003444    0.013777   \n",
       "std      0.293788  ...    0.082759    0.089338    0.058621    0.116632   \n",
       "min      0.000000  ...    0.000000    0.000000    0.000000    0.000000   \n",
       "25%      0.000000  ...    0.000000    0.000000    0.000000    0.000000   \n",
       "50%      0.000000  ...    0.000000    0.000000    0.000000    0.000000   \n",
       "75%      0.000000  ...    0.000000    0.000000    0.000000    0.000000   \n",
       "max      1.000000  ...    1.000000    1.000000    1.000000    1.000000   \n",
       "\n",
       "          Turkish  Vietnamese     Western        Wine       Wings       Wraps  \n",
       "count  871.000000  871.000000  871.000000  871.000000  871.000000  871.000000  \n",
       "mean     0.011481    0.009185    0.001148    0.060850    0.019518    0.026406  \n",
       "std      0.106594    0.095451    0.033884    0.239192    0.138415    0.160433  \n",
       "min      0.000000    0.000000    0.000000    0.000000    0.000000    0.000000  \n",
       "25%      0.000000    0.000000    0.000000    0.000000    0.000000    0.000000  \n",
       "50%      0.000000    0.000000    0.000000    0.000000    0.000000    0.000000  \n",
       "75%      0.000000    0.000000    0.000000    0.000000    0.000000    0.000000  \n",
       "max      1.000000    1.000000    1.000000    1.000000    1.000000    1.000000  \n",
       "\n",
       "[8 rows x 106 columns]"
      ]
     },
     "execution_count": 106,
     "metadata": {},
     "output_type": "execute_result"
    }
   ],
   "source": [
    "restaurant_df_clean.describe()"
   ]
  },
  {
   "cell_type": "markdown",
   "metadata": {},
   "source": [
    "Depending on when you scrape your data, the amount of null values can be very different. My original goal was to only scrape data on restaurants which are currently delivering. If you do this in the morning, many restaurnts won't be delivering yet, and so their delivery time, cost and distance may not be there. If it tells you when you can pre-order, it doesn't give a min/max delivery time. Therefore, I would recommend this analysis is run in the evening to get the best range of data (unless you are specifically interested in places that deliver to you in the morning)."
   ]
  },
  {
   "cell_type": "code",
   "execution_count": 107,
   "metadata": {},
   "outputs": [],
   "source": [
    "# Save a version of the dataframe down which can be re-used, instead of having to scrape the data again\n",
    "restaurant_df_clean.to_csv('last_scrape_clean', index= False)"
   ]
  },
  {
   "cell_type": "markdown",
   "metadata": {},
   "source": [
    "# Exploratory Data Analysis \n",
    "\n",
    "Wow.. We've finally got here! Time to make some pretty graphs to gain some insights into our data! \n",
    "\n",
    "For example, what cuisine is most popular in my area? What cuisine has the best rating? Can we try to figure out how page rank is determined? \n",
    "\n",
    "From a customer perspective, the first two are very important. From a restaurant's perspective, page rank is super important!"
   ]
  },
  {
   "cell_type": "code",
   "execution_count": 110,
   "metadata": {},
   "outputs": [],
   "source": [
    "# Making a helpful function that will help us calculate the number of cuisines \n",
    "\n",
    "def return_cuisine_numbers(df, cuisine_list = cuisine_list):\n",
    "    cuisine_columns = df[cuisine_list]\n",
    "    cuisine_means_sorted = cuisine_columns.describe().loc['mean'].sort_values(ascending = False) * len(df)\n",
    "    return cuisine_means_sorted"
   ]
  },
  {
   "cell_type": "code",
   "execution_count": 113,
   "metadata": {},
   "outputs": [
    {
     "data": {
      "text/plain": [
       "Text(0, 0.5, 'Number of Restaurants')"
      ]
     },
     "execution_count": 113,
     "metadata": {},
     "output_type": "execute_result"
    },
    {
     "data": {
      "image/png": "[encoded data removed]",
      "text/plain": [
       "<Figure size 864x432 with 1 Axes>"
      ]
     },
     "metadata": {
      "needs_background": "light"
     },
     "output_type": "display_data"
    }
   ],
   "source": [
    "all_restaurant_cuisines = return_cuisine_numbers(restaurant_df_clean)\n",
    "\n",
    "no_top = 5\n",
    "\n",
    "plt.subplots(figsize = (12,6))\n",
    "sns.barplot(x = all_restaurant_cuisines.head(no_top).index,y = all_restaurant_cuisines.head(no_top))\n",
    "plt.xlabel(f'Top {no_top} Cuisines')\n",
    "plt.ylabel('Number of Restaurants')"
   ]
  },
  {
   "cell_type": "markdown",
   "metadata": {},
   "source": [
    "Remember: This is always going to vary depending on what time of day you run the script as the data is filtered down to restaurants which are currently delivering! Let's look at graphs for both open and closed places"
   ]
  },
  {
   "cell_type": "code",
   "execution_count": 114,
   "metadata": {},
   "outputs": [
    {
     "data": {
      "image/png": "[encoded data removed]",
      "text/plain": [
       "<Figure size 1152x576 with 3 Axes>"
      ]
     },
     "metadata": {
      "needs_background": "light"
     },
     "output_type": "display_data"
    }
   ],
   "source": [
    "open_restaurant_cuisines = return_cuisine_numbers(restaurant_df_clean[restaurant_df_clean['closed'] == 0])\n",
    "closed_restaurant_cuisines = return_cuisine_numbers(restaurant_df_clean[restaurant_df_clean['closed'] == 1])\n",
    "\n",
    "no_top = 5\n",
    "\n",
    "fig, ax = plt.subplots(1, 3, figsize = (16,8))\n",
    "fig.tight_layout(pad = 3)\n",
    "ax[0].title.set_text('Open')\n",
    "ax[1].title.set_text('Closed')\n",
    "ax[2].title.set_text('All')\n",
    "sns.barplot(x = open_restaurant_cuisines.head(no_top).index,y = open_restaurant_cuisines.head(no_top), ax = ax[0])\n",
    "sns.barplot(x = closed_restaurant_cuisines.head(no_top).index,y = closed_restaurant_cuisines.head(no_top), ax= ax[1])\n",
    "sns.barplot(x = all_restaurant_cuisines.head(no_top).index,y = all_restaurant_cuisines.head(no_top))\n",
    "\n",
    "for axes in ax:\n",
    "    axes.set_xlabel(f'Top {no_top} Cuisines')\n",
    "    axes.set_ylabel('Number of Restaurants')"
   ]
  },
  {
   "cell_type": "markdown",
   "metadata": {},
   "source": [
    "### Question 2: What is the quality of food in my vicinity?"
   ]
  },
  {
   "cell_type": "code",
   "execution_count": 116,
   "metadata": {},
   "outputs": [
    {
     "data": {
      "text/plain": [
       "4.54"
      ]
     },
     "execution_count": 116,
     "metadata": {},
     "output_type": "execute_result"
    }
   ],
   "source": [
    "round(np.mean(restaurant_df_clean['rating_score']),2)"
   ]
  },
  {
   "cell_type": "markdown",
   "metadata": {},
   "source": [
    "Looks good!"
   ]
  },
  {
   "cell_type": "markdown",
   "metadata": {},
   "source": [
    "### Question 3: How does quality vary by cuisine?"
   ]
  },
  {
   "cell_type": "code",
   "execution_count": 117,
   "metadata": {},
   "outputs": [
    {
     "data": {
      "text/plain": [
       "Acai           4.800000\n",
       "African        4.200000\n",
       "Alcohol        4.415873\n",
       "American       4.491892\n",
       "Argentinian    4.650000\n",
       "                 ...   \n",
       "Vietnamese     4.687500\n",
       "Western        4.500000\n",
       "Wine           4.337500\n",
       "Wings          4.470588\n",
       "Wraps          4.505263\n",
       "Length: 100, dtype: float64"
      ]
     },
     "execution_count": 117,
     "metadata": {},
     "output_type": "execute_result"
    }
   ],
   "source": [
    "# To get the rating for each cuisine, we can multiply the rating number by the cuisine column\n",
    "# If a restaurant serves that cuisine, the product will be non-zero\n",
    "# Then we need to get rid of all observations where this product is 0, because it means that those restaurants don't serve that cuisine\n",
    "# Then we take the average of ratings for that cuisine\n",
    "\n",
    "cuisine_rating_means = np.array([])\n",
    "for cuisine in cuisine_list:\n",
    "    cuisine_ratings = restaurant_df_clean['rating_score'] * restaurant_df_clean[cuisine]\n",
    "    cuisine_ratings = cuisine_ratings[cuisine_ratings > 0] \n",
    "    cuisine_rating_means = np.append(cuisine_rating_means, np.mean(cuisine_ratings))\n",
    "\n",
    "cuisine_rating_means = pd.Series(cuisine_rating_means, index = cuisine_list)\n",
    "cuisine_rating_means"
   ]
  },
  {
   "cell_type": "markdown",
   "metadata": {},
   "source": [
    "What are the best and worst quality cuisines?"
   ]
  },
  {
   "cell_type": "code",
   "execution_count": 141,
   "metadata": {},
   "outputs": [
    {
     "data": {
      "image/png": "[encoded data removed]",
      "text/plain": [
       "<Figure size 1152x576 with 2 Axes>"
      ]
     },
     "metadata": {
      "needs_background": "light"
     },
     "output_type": "display_data"
    }
   ],
   "source": [
    "number_to_show = 5\n",
    "best_cuisines = cuisine_rating_means.sort_values(ascending = False).head(number_to_show)\n",
    "worst_cuisines = cuisine_rating_means.sort_values().head(number_to_show)\n",
    "\n",
    "fig, ax = plt.subplots(1, 2, figsize = (16,8))\n",
    "fig.tight_layout(pad = 5)\n",
    "sns.barplot(x = best_cuisines.index, y = best_cuisines, ax = ax[0])\n",
    "sns.barplot(x = worst_cuisines.index, y = worst_cuisines, ax = ax[1])\n",
    "ax[0].title.set_text(f'Top {number_to_show} Cuisines')\n",
    "ax[1].title.set_text(f'Worst {number_to_show} Cuisines')\n",
    "\n",
    "for axes in ax:\n",
    "    axes.set_xlabel('Cuisine Name')\n",
    "    axes.set_ylabel('Average Cuisine Score')\n",
    "    axes.set(ylim = (3, 5))"
   ]
  },
  {
   "cell_type": "markdown",
   "metadata": {},
   "source": [
    "Looks like even the worse cuisines still have decent ratings on average... Maybe the quality of food on Deliveroo is just very good? Their selling point is that they have high quality restaurants on the platform. "
   ]
  },
  {
   "cell_type": "markdown",
   "metadata": {},
   "source": [
    "### Question 4: Is there a relationship between popularity and quality?\n",
    "\n",
    "Assuming popularity is proxied by the number of ratings, maybe we would expect restaurants with more ratings to have a higher score? This uses the assumption that popular restaurants are popular because they are good."
   ]
  },
  {
   "cell_type": "code",
   "execution_count": 147,
   "metadata": {},
   "outputs": [
    {
     "data": {
      "text/plain": [
       "<seaborn.axisgrid.JointGrid at 0x7f6fb2d76ac0>"
      ]
     },
     "execution_count": 147,
     "metadata": {},
     "output_type": "execute_result"
    },
    {
     "data": {
      "image/png": "[encoded data removed]",
      "text/plain": [
       "<Figure size 432x432 with 3 Axes>"
      ]
     },
     "metadata": {
      "needs_background": "light"
     },
     "output_type": "display_data"
    }
   ],
   "source": [
    "sns.jointplot(x = 'rating_number', y = 'rating_score', data = restaurant_df_clean, kind = 'reg')"
   ]
  },
  {
   "cell_type": "markdown",
   "metadata": {},
   "source": [
    "Doesn't look like there is much of a relationship between the number of ratings and the rating score. One hypothesis for this is that ratings aren't really affecting the number of orders a restaurants get. As a result, we could argue that customers don't really look at reviews. This could be because ratings are so inflated on deliveroo, that the customer is indifferent between them. For example, if a restaurnat is 4.1 or 4.9 may not matter that much to the customer.\n",
    "\n",
    "However, our data on the number of reviews is limited. This is because when a restaurant has 500 reviews or more, we have had to round the number down to 500. The restaurant does not show the number of reviews when it is above 500."
   ]
  },
  {
   "cell_type": "markdown",
   "metadata": {},
   "source": [
    "### Question 5: Is there a relationship between rating score and rank?\n",
    "\n",
    "The rank of a restaurant on Deliveroo's website is so important because customers are not likely to scroll that far down to find a restaurant. It seems sensible to argue that restaurants near the top are likely to get more customers. Therefore, trying to understand how Deliveroo ranks the restaurants on the webpage is very important.\n",
    "\n",
    "The ranking algorithm is also very important from Deliveroo's perspective. They want the best restaurants to be near the top, so that people order from them, have a good experience on Deliveroo, and then continue to order more in the future. If the restaurants at the top are bad, customers will have a bad experience and may be put off from ordering on Deliveroo. Given Deliveroo earns comission on every order, they will want to maximise the number of orders they receive to increase revenue. Therefore, having an effective ranking algorithm is vital. \n",
    "\n",
    "This ranking algorithm is likely to be very complicated because it is so valuable. However, one could guess that a restaurant's rating score has something to do with it. "
   ]
  },
  {
   "cell_type": "code",
   "execution_count": 148,
   "metadata": {},
   "outputs": [
    {
     "data": {
      "text/plain": [
       "<AxesSubplot:xlabel='rating_score', ylabel='rank'>"
      ]
     },
     "execution_count": 148,
     "metadata": {},
     "output_type": "execute_result"
    },
    {
     "data": {
      "image/png": "[encoded data removed]",
      "text/plain": [
       "<Figure size 432x288 with 1 Axes>"
      ]
     },
     "metadata": {
      "needs_background": "light"
     },
     "output_type": "display_data"
    }
   ],
   "source": [
    "sns.scatterplot(x = 'rating_score', y = 'rank', data = restaurant_df_clean)"
   ]
  },
  {
   "cell_type": "markdown",
   "metadata": {},
   "source": [
    "Given the above, it seems as if the ranking algorithm isn't strongly based on rating score. However, it is worth noting that in the above graph, there are few restaurants with a rating below 4 in the top 200. There are quite a lot more restaurants with a rating below 4 in the bottom 200 restaurants. \n",
    "\n",
    "Therefore, I would conclude that rating score plays some part in the ranking algorithm, but it definitely isn't a driving factor. There are so many more things going on in that black box!"
   ]
  },
  {
   "cell_type": "markdown",
   "metadata": {},
   "source": [
    "# Egg Fried Rice Analysis"
   ]
  },
  {
   "cell_type": "code",
   "execution_count": 35,
   "metadata": {},
   "outputs": [],
   "source": [
    "# For each hyperlink we have, search the phrase egg fried rice, and then get the price information\n",
    "# We find all the dishes, then split them into their title, description and price"
   ]
  },
  {
   "cell_type": "code",
   "execution_count": 36,
   "metadata": {},
   "outputs": [],
   "source": [
    "def scroll_entire_page(url):\n",
    "    driver = webdriver.Chrome(executable_path=chrome_driver_path)\n",
    "    driver.get(url)\n",
    "    time.sleep(initial_load_time / 100)\n",
    "    screen_height = driver.execute_script('return window.screen.height;')\n",
    "\n",
    "    i = 1\n",
    "    while True:\n",
    "        driver.execute_script(\"window.scrollTo(0, {screen_height} * {i});\".format(screen_height=screen_height, i = i))\n",
    "        i += 1\n",
    "        time.sleep(scroll_pause_time / 10000)\n",
    "        scroll_height = driver.execute_script(\"return document.body.scrollHeight\")\n",
    "        if screen_height * i > scroll_height: \n",
    "            break\n",
    "\n",
    "    html_page = str(BeautifulSoup(driver.page_source, 'html.parser'))\n",
    "    driver.quit()\n",
    "    return html_page"
   ]
  },
  {
   "cell_type": "code",
   "execution_count": 37,
   "metadata": {},
   "outputs": [],
   "source": [
    "def find_dishes(text):\n",
    "    dishes = []\n",
    "    start_identifier = 'class=\"orderweb__0eecc2d3\"'\n",
    "    end_identifier = '</li>'\n",
    "    search_start = text.find(start_identifier) + len(start_identifier)\n",
    "    search_end = text.find(end_identifier, search_start) + len(end_identifier)\n",
    "    \n",
    "    while search_start != -1:\n",
    "        search_end = text.find(end_identifier, search_start) + len(end_identifier)\n",
    "        dishes.append(text[search_start: search_end])\n",
    "        search_start = text.find(start_identifier, search_end)\n",
    "    \n",
    "    return dishes"
   ]
  },
  {
   "cell_type": "code",
   "execution_count": 38,
   "metadata": {},
   "outputs": [],
   "source": [
    "# efr = egg fried rice\n",
    "\n",
    "def get_efr_info(dish_data_list):\n",
    "    for dish in dish_data_list:\n",
    "        name_start_identifier = 'ccl-9d0a5327c911d0f3\">'\n",
    "        name_end_identifier = '</p>'\n",
    "        price_start_identifier = '£'\n",
    "        price_end_identifier = '<'\n",
    "\n",
    "        name_start = dish.find(name_start_identifier) + len(name_start_identifier)\n",
    "        name_end = dish.find(name_end_identifier, name_start)\n",
    "\n",
    "        price_start = dish.find(price_start_identifier) + len(price_start_identifier)\n",
    "        price_end = dish.find(price_end_identifier, price_start)\n",
    "        \n",
    "        name = dish[name_start: name_end]\n",
    "        price = dish[price_start: price_end]\n",
    "        \n",
    "        if 'Egg Fried Rice' in name:\n",
    "            return float(price)"
   ]
  },
  {
   "cell_type": "code",
   "execution_count": 39,
   "metadata": {},
   "outputs": [
    {
     "ename": "KeyboardInterrupt",
     "evalue": "",
     "output_type": "error",
     "traceback": [
      "\u001b[0;31m---------------------------------------------------------------------------\u001b[0m",
      "\u001b[0;31mKeyboardInterrupt\u001b[0m                         Traceback (most recent call last)",
      "\u001b[0;32m<ipython-input-39-491ab01cd405>\u001b[0m in \u001b[0;36m<module>\u001b[0;34m\u001b[0m\n\u001b[0;32m----> 1\u001b[0;31m \u001b[0mrestaurant_df_clean\u001b[0m\u001b[0;34m[\u001b[0m\u001b[0;34m'efr_price'\u001b[0m\u001b[0;34m]\u001b[0m \u001b[0;34m=\u001b[0m \u001b[0mrestaurant_df_clean\u001b[0m\u001b[0;34m[\u001b[0m\u001b[0;34m'url'\u001b[0m\u001b[0;34m]\u001b[0m\u001b[0;34m.\u001b[0m\u001b[0mmap\u001b[0m\u001b[0;34m(\u001b[0m\u001b[0;32mlambda\u001b[0m \u001b[0mx\u001b[0m\u001b[0;34m:\u001b[0m \u001b[0mget_efr_info\u001b[0m\u001b[0;34m(\u001b[0m\u001b[0mfind_dishes\u001b[0m\u001b[0;34m(\u001b[0m\u001b[0mscroll_entire_page\u001b[0m\u001b[0;34m(\u001b[0m\u001b[0mx\u001b[0m\u001b[0;34m)\u001b[0m\u001b[0;34m)\u001b[0m\u001b[0;34m)\u001b[0m\u001b[0;34m)\u001b[0m\u001b[0;34m\u001b[0m\u001b[0;34m\u001b[0m\u001b[0m\n\u001b[0m",
      "\u001b[0;32m~/.local/lib/python3.8/site-packages/pandas/core/series.py\u001b[0m in \u001b[0;36mmap\u001b[0;34m(self, arg, na_action)\u001b[0m\n\u001b[1;32m   3968\u001b[0m         \u001b[0mdtype\u001b[0m\u001b[0;34m:\u001b[0m \u001b[0mobject\u001b[0m\u001b[0;34m\u001b[0m\u001b[0;34m\u001b[0m\u001b[0m\n\u001b[1;32m   3969\u001b[0m         \"\"\"\n\u001b[0;32m-> 3970\u001b[0;31m         \u001b[0mnew_values\u001b[0m \u001b[0;34m=\u001b[0m \u001b[0msuper\u001b[0m\u001b[0;34m(\u001b[0m\u001b[0;34m)\u001b[0m\u001b[0;34m.\u001b[0m\u001b[0m_map_values\u001b[0m\u001b[0;34m(\u001b[0m\u001b[0marg\u001b[0m\u001b[0;34m,\u001b[0m \u001b[0mna_action\u001b[0m\u001b[0;34m=\u001b[0m\u001b[0mna_action\u001b[0m\u001b[0;34m)\u001b[0m\u001b[0;34m\u001b[0m\u001b[0;34m\u001b[0m\u001b[0m\n\u001b[0m\u001b[1;32m   3971\u001b[0m         return self._constructor(new_values, index=self.index).__finalize__(\n\u001b[1;32m   3972\u001b[0m             \u001b[0mself\u001b[0m\u001b[0;34m,\u001b[0m \u001b[0mmethod\u001b[0m\u001b[0;34m=\u001b[0m\u001b[0;34m\"map\"\u001b[0m\u001b[0;34m\u001b[0m\u001b[0;34m\u001b[0m\u001b[0m\n",
      "\u001b[0;32m~/.local/lib/python3.8/site-packages/pandas/core/base.py\u001b[0m in \u001b[0;36m_map_values\u001b[0;34m(self, mapper, na_action)\u001b[0m\n\u001b[1;32m   1158\u001b[0m \u001b[0;34m\u001b[0m\u001b[0m\n\u001b[1;32m   1159\u001b[0m         \u001b[0;31m# mapper is a function\u001b[0m\u001b[0;34m\u001b[0m\u001b[0;34m\u001b[0m\u001b[0;34m\u001b[0m\u001b[0m\n\u001b[0;32m-> 1160\u001b[0;31m         \u001b[0mnew_values\u001b[0m \u001b[0;34m=\u001b[0m \u001b[0mmap_f\u001b[0m\u001b[0;34m(\u001b[0m\u001b[0mvalues\u001b[0m\u001b[0;34m,\u001b[0m \u001b[0mmapper\u001b[0m\u001b[0;34m)\u001b[0m\u001b[0;34m\u001b[0m\u001b[0;34m\u001b[0m\u001b[0m\n\u001b[0m\u001b[1;32m   1161\u001b[0m \u001b[0;34m\u001b[0m\u001b[0m\n\u001b[1;32m   1162\u001b[0m         \u001b[0;32mreturn\u001b[0m \u001b[0mnew_values\u001b[0m\u001b[0;34m\u001b[0m\u001b[0;34m\u001b[0m\u001b[0m\n",
      "\u001b[0;32mpandas/_libs/lib.pyx\u001b[0m in \u001b[0;36mpandas._libs.lib.map_infer\u001b[0;34m()\u001b[0m\n",
      "\u001b[0;32m<ipython-input-39-491ab01cd405>\u001b[0m in \u001b[0;36m<lambda>\u001b[0;34m(x)\u001b[0m\n\u001b[0;32m----> 1\u001b[0;31m \u001b[0mrestaurant_df_clean\u001b[0m\u001b[0;34m[\u001b[0m\u001b[0;34m'efr_price'\u001b[0m\u001b[0;34m]\u001b[0m \u001b[0;34m=\u001b[0m \u001b[0mrestaurant_df_clean\u001b[0m\u001b[0;34m[\u001b[0m\u001b[0;34m'url'\u001b[0m\u001b[0;34m]\u001b[0m\u001b[0;34m.\u001b[0m\u001b[0mmap\u001b[0m\u001b[0;34m(\u001b[0m\u001b[0;32mlambda\u001b[0m \u001b[0mx\u001b[0m\u001b[0;34m:\u001b[0m \u001b[0mget_efr_info\u001b[0m\u001b[0;34m(\u001b[0m\u001b[0mfind_dishes\u001b[0m\u001b[0;34m(\u001b[0m\u001b[0mscroll_entire_page\u001b[0m\u001b[0;34m(\u001b[0m\u001b[0mx\u001b[0m\u001b[0;34m)\u001b[0m\u001b[0;34m)\u001b[0m\u001b[0;34m)\u001b[0m\u001b[0;34m)\u001b[0m\u001b[0;34m\u001b[0m\u001b[0;34m\u001b[0m\u001b[0m\n\u001b[0m",
      "\u001b[0;32m<ipython-input-36-f449c567bac3>\u001b[0m in \u001b[0;36mscroll_entire_page\u001b[0;34m(url)\u001b[0m\n\u001b[1;32m      1\u001b[0m \u001b[0;32mdef\u001b[0m \u001b[0mscroll_entire_page\u001b[0m\u001b[0;34m(\u001b[0m\u001b[0murl\u001b[0m\u001b[0;34m)\u001b[0m\u001b[0;34m:\u001b[0m\u001b[0;34m\u001b[0m\u001b[0;34m\u001b[0m\u001b[0m\n\u001b[0;32m----> 2\u001b[0;31m     \u001b[0mdriver\u001b[0m \u001b[0;34m=\u001b[0m \u001b[0mwebdriver\u001b[0m\u001b[0;34m.\u001b[0m\u001b[0mChrome\u001b[0m\u001b[0;34m(\u001b[0m\u001b[0mexecutable_path\u001b[0m\u001b[0;34m=\u001b[0m\u001b[0mchrome_driver_path\u001b[0m\u001b[0;34m)\u001b[0m\u001b[0;34m\u001b[0m\u001b[0;34m\u001b[0m\u001b[0m\n\u001b[0m\u001b[1;32m      3\u001b[0m     \u001b[0mdriver\u001b[0m\u001b[0;34m.\u001b[0m\u001b[0mget\u001b[0m\u001b[0;34m(\u001b[0m\u001b[0murl\u001b[0m\u001b[0;34m)\u001b[0m\u001b[0;34m\u001b[0m\u001b[0;34m\u001b[0m\u001b[0m\n\u001b[1;32m      4\u001b[0m     \u001b[0mtime\u001b[0m\u001b[0;34m.\u001b[0m\u001b[0msleep\u001b[0m\u001b[0;34m(\u001b[0m\u001b[0minitial_load_time\u001b[0m \u001b[0;34m/\u001b[0m \u001b[0;36m100\u001b[0m\u001b[0;34m)\u001b[0m\u001b[0;34m\u001b[0m\u001b[0;34m\u001b[0m\u001b[0m\n\u001b[1;32m      5\u001b[0m     \u001b[0mscreen_height\u001b[0m \u001b[0;34m=\u001b[0m \u001b[0mdriver\u001b[0m\u001b[0;34m.\u001b[0m\u001b[0mexecute_script\u001b[0m\u001b[0;34m(\u001b[0m\u001b[0;34m'return window.screen.height;'\u001b[0m\u001b[0;34m)\u001b[0m\u001b[0;34m\u001b[0m\u001b[0;34m\u001b[0m\u001b[0m\n",
      "\u001b[0;32m~/anaconda3/lib/python3.8/site-packages/selenium/webdriver/chrome/webdriver.py\u001b[0m in \u001b[0;36m__init__\u001b[0;34m(self, executable_path, port, options, service_args, desired_capabilities, service_log_path, chrome_options, keep_alive)\u001b[0m\n\u001b[1;32m     71\u001b[0m             \u001b[0mservice_args\u001b[0m\u001b[0;34m=\u001b[0m\u001b[0mservice_args\u001b[0m\u001b[0;34m,\u001b[0m\u001b[0;34m\u001b[0m\u001b[0;34m\u001b[0m\u001b[0m\n\u001b[1;32m     72\u001b[0m             log_path=service_log_path)\n\u001b[0;32m---> 73\u001b[0;31m         \u001b[0mself\u001b[0m\u001b[0;34m.\u001b[0m\u001b[0mservice\u001b[0m\u001b[0;34m.\u001b[0m\u001b[0mstart\u001b[0m\u001b[0;34m(\u001b[0m\u001b[0;34m)\u001b[0m\u001b[0;34m\u001b[0m\u001b[0;34m\u001b[0m\u001b[0m\n\u001b[0m\u001b[1;32m     74\u001b[0m \u001b[0;34m\u001b[0m\u001b[0m\n\u001b[1;32m     75\u001b[0m         \u001b[0;32mtry\u001b[0m\u001b[0;34m:\u001b[0m\u001b[0;34m\u001b[0m\u001b[0;34m\u001b[0m\u001b[0m\n",
      "\u001b[0;32m~/anaconda3/lib/python3.8/site-packages/selenium/webdriver/common/service.py\u001b[0m in \u001b[0;36mstart\u001b[0;34m(self)\u001b[0m\n\u001b[1;32m    100\u001b[0m                 \u001b[0;32mbreak\u001b[0m\u001b[0;34m\u001b[0m\u001b[0;34m\u001b[0m\u001b[0m\n\u001b[1;32m    101\u001b[0m             \u001b[0mcount\u001b[0m \u001b[0;34m+=\u001b[0m \u001b[0;36m1\u001b[0m\u001b[0;34m\u001b[0m\u001b[0;34m\u001b[0m\u001b[0m\n\u001b[0;32m--> 102\u001b[0;31m             \u001b[0mtime\u001b[0m\u001b[0;34m.\u001b[0m\u001b[0msleep\u001b[0m\u001b[0;34m(\u001b[0m\u001b[0;36m1\u001b[0m\u001b[0;34m)\u001b[0m\u001b[0;34m\u001b[0m\u001b[0;34m\u001b[0m\u001b[0m\n\u001b[0m\u001b[1;32m    103\u001b[0m             \u001b[0;32mif\u001b[0m \u001b[0mcount\u001b[0m \u001b[0;34m==\u001b[0m \u001b[0;36m30\u001b[0m\u001b[0;34m:\u001b[0m\u001b[0;34m\u001b[0m\u001b[0;34m\u001b[0m\u001b[0m\n\u001b[1;32m    104\u001b[0m                 \u001b[0;32mraise\u001b[0m \u001b[0mWebDriverException\u001b[0m\u001b[0;34m(\u001b[0m\u001b[0;34m\"Can not connect to the Service %s\"\u001b[0m \u001b[0;34m%\u001b[0m \u001b[0mself\u001b[0m\u001b[0;34m.\u001b[0m\u001b[0mpath\u001b[0m\u001b[0;34m)\u001b[0m\u001b[0;34m\u001b[0m\u001b[0;34m\u001b[0m\u001b[0m\n",
      "\u001b[0;31mKeyboardInterrupt\u001b[0m: "
     ]
    }
   ],
   "source": [
    "restaurant_df_clean['efr_price'] = restaurant_df_clean['url'].map(lambda x: get_efr_info(find_dishes(scroll_entire_page(x))))"
   ]
  },
  {
   "cell_type": "code",
   "execution_count": null,
   "metadata": {},
   "outputs": [],
   "source": [
    "restaurant_df_clean.to_csv('with_efr_prices')"
   ]
  },
  {
   "cell_type": "code",
   "execution_count": 43,
   "metadata": {},
   "outputs": [
    {
     "name": "stderr",
     "output_type": "stream",
     "text": [
      "/home/selvino/.local/lib/python3.8/site-packages/seaborn/distributions.py:2551: FutureWarning: `distplot` is a deprecated function and will be removed in a future version. Please adapt your code to use either `displot` (a figure-level function with similar flexibility) or `histplot` (an axes-level function for histograms).\n",
      "  warnings.warn(msg, FutureWarning)\n"
     ]
    },
    {
     "data": {
      "text/plain": [
       "<AxesSubplot:xlabel='efr_price', ylabel='Density'>"
      ]
     },
     "execution_count": 43,
     "metadata": {},
     "output_type": "execute_result"
    },
    {
     "data": {
      "image/png": "[encoded data removed]",
      "text/plain": [
       "<Figure size 432x288 with 1 Axes>"
      ]
     },
     "metadata": {
      "needs_background": "light"
     },
     "output_type": "display_data"
    }
   ],
   "source": [
    "sns.distplot(pd.read_csv('with_efr_prices_hard_copy')['efr_price'])"
   ]
  },
  {
   "cell_type": "code",
   "execution_count": 44,
   "metadata": {},
   "outputs": [
    {
     "data": {
      "text/plain": [
       "16.0"
      ]
     },
     "execution_count": 44,
     "metadata": {},
     "output_type": "execute_result"
    }
   ],
   "source": [
    "pd.read_csv('with_efr_prices_hard_copy')['efr_price'].max()"
   ]
  },
  {
   "cell_type": "code",
   "execution_count": null,
   "metadata": {},
   "outputs": [],
   "source": []
  }
 ],
 "metadata": {
  "kernelspec": {
   "display_name": "Python 3",
   "language": "python",
   "name": "python3"
  },
  "language_info": {
   "codemirror_mode": {
    "name": "ipython",
    "version": 3
   },
   "file_extension": ".py",
   "mimetype": "text/x-python",
   "name": "python",
   "nbconvert_exporter": "python",
   "pygments_lexer": "ipython3",
   "version": "3.8.8"
  }
 },
 "nbformat": 4,
 "nbformat_minor": 4
}
