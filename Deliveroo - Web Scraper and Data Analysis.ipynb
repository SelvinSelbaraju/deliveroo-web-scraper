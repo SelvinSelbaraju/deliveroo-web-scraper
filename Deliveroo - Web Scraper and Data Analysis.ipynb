{
 "cells": [
  {
   "cell_type": "markdown",
   "metadata": {},
   "source": [
    "# Welcome to my Deliveroo Web Scraper and Data Analysis Notebook!\n",
    "\n",
    "Imagine we work at Deliveroo. We have lots of data on all of our restaurants and using this data, you want to gain some insight into how the company could increase order value and/or order frequency. \n",
    "\n",
    "For example, we may want to look at what cuisines are most / least common on the platform for certain postcodes. If a cuisine is undersupplied in the area, we could set up dark kitchens serving that cuisine or try to partner up with more restaurants of that cuisine.\n",
    "\n",
    "Another important question is how relevant restaurant reviews are. Do restaurants with a better rating get more orders? Or are the ratings on the platform so inflated that the difference between a 4.1 and a 4.5 is irrelevant? \n",
    "\n",
    "### But we do not work at Deliveroo...\n",
    "\n",
    "Unfortunately, we do not have the data. Therefore, we will first need to scrape it from Deliveroo's website and clean it up before analysing it. Given this, it will take too long to get this data for all postcodes in a city. Therefore, we will look at the analysis for one postcode for now.   \n",
    "\n",
    "The aim of this project is to be able to scrape key information on all the restaurants that are active at the time of scraping. The data then needs to be cleaned so it can be analysed. Be wary that if you scrape the data in the morning, lots of restaurants may be closed. As a result, they may not be captured when scraping. Therefore, I recommend scraping in the evening for the best results (unless you are specifically interested in the websites serving at a certain time of day). \n",
    "\n",
    "I wanted to make this as accessible for beginners as possible, so I've outlined all of my steps. I am by no means an expert, and feedback is always much appreciated!\n",
    "\n",
    "In order to achieve our aim, we will need the following restaurant data: \n",
    "1. Restaurant Name\n",
    "2. Restaurant Rank (where it is positioned on the website)\n",
    "3. Cuisines\n",
    "4. Rating (number of ratings and score)\n",
    "5. Distance\n",
    "6. Delivery Cost\n",
    "7. Delivery Time\n",
    "\n",
    "Using this information, we can perform some data visualisations and simple analysis. For example, we may want to see what is the best cuisine in a postcode, or see if there is a relationship between the rating score and order frequency. These questions are important to understand as they drive the number of orders Deliveroo gets, and thus their revenues.\n",
    "\n",
    "In addition, it is also interesting to look at the price different restaurants charge for the same dish (I use Egg Fried Rice as an example). If some restaurants are undercharging, they could be told to slightly raise their price. Assuming this price increase doesn't affect their number of orders for Egg Fried Rice, order value will go up and thus Deliveroo's revenues would rise.  "
   ]
  },
  {
   "cell_type": "markdown",
   "metadata": {},
   "source": [
    "### This only works for the UK at the moment\n",
    "### If you have run the whole notebook once before, a final dataset will be saved down. This can be used for future analysis, instead of having to scrape the data and wait again \n",
    "\n",
    "## Let's get into the code!"
   ]
  },
  {
   "cell_type": "markdown",
   "metadata": {},
   "source": [
    "If you are new to Python and are interested in Data Science, I would recommend installing the Anaconda distribution. It comes with lots of the important libraries built-in, so you don't need to worry about installing them. I have also had a lot less issues using the Conda installer in comparison to the default Python Pip installer.\n",
    "\n",
    "# Imports\n",
    "\n",
    "First, we'll import some libraries. These libraries can all be installed using either 'pip install (your library)' or 'conda install (conda repo) (your library)' for those using the Anaconda distribution. I usually use conda install. \n",
    "\n",
    "For those not familiar with web scraping, some of these librarires may seem very perplexing. I'll explain them below: \n",
    "\n",
    "### BeautifulSoup\n",
    "This is a great html parser. It helps us search through a html file for certain tags, certain attributes and much more! See the documentation and download here: https://www.crummy.com/software/BeautifulSoup/bs4/doc/ ,  https://anaconda.org/anaconda/beautifulsoup4\n",
    "\n",
    "\n",
    "### Selenium\n",
    "This is an awesome tool that will help us simulate a browser instance. It also allows us to run javascript in the simulated browser instance. A problem we will come across is that Deliveroo has an 'infinite scroll' site. This means that much of the page doesn't load until you get to the bottom of the browser window. If we extract the html file without scrolling through the page, we won't load most of the data. Therefore, we use Selenium to scroll through the entire page, and then extract the final html file once it reaches the end and loads all the information. See the Selenium documentation here: https://www.selenium.dev/documentation/en/ , https://anaconda.org/conda-forge/selenium\n",
    "\n",
    "I choose Chrome as the browser I want to simulate, so I use the ChromeDriver.exe that can be downloaded here: https://chromedriver.chromium.org/.\n",
    "\n",
    "\n",
    "## The more common Python libraries: \n",
    "\n",
    "### Time\n",
    "This is a built-in Python library used to elapse time in our code running. We use it to provide a delay, so that Selenium can let the page load before it scrolls down. Without this, Selenium would just scroll through the entire page, but none of the information would load! See the documentation here: https://docs.python.org/3/library/time.html (Built-in so no need for an external install!)\n",
    "\n",
    "\n",
    "### Numpy, Pandas\n",
    "These are the classic data manipulation libraries and are very common in Data Science. They are even built-in to the Anaconda distribution, so no need for an external install! Numpy stands for 'Numerical Python' and is great at performing calculations on arrays and matrices. It does this faster than Python lists because Python lists essentially act as a pointer to where the information in the list is stored on your computer. This is important for when your list has multiple data types, but when working with a single datatype, we don't need this! Numpy also allows for elementwise operations within an array or matrix. Thus Numpy provides a really efficient way to handle numerical data! See the documentation here: https://numpy.org/doc/stable/\n",
    "\n",
    "Pandas' name actually comes from 'Panel Data' as opposed to the furry animal! A panel dataset is a dataset which has multiple observations across multiple time periods. It allows us to create DataFrame objects, which essentially look like Excel style tables with columns and rows. As a convention, we put individual observations (in our case restaurants) in each row, and the attributes of restaurants in the columns. Pandas allows us to carve out certain sections of these tables, or to manipulate them. Pandas actually uses Numpy under the hood! See the documentation here: https://pandas.pydata.org/docs/\n",
    "\n",
    "\n",
    "### Matplotlib, Seaborn\n",
    "These are very beginner friendly data visualisation libraries. These are also built-in to Anaconda. They both allow for quick plotting of all sorts of charts. For example, histograms, bar graphs and more! See the documentation here: https://matplotlib.org/\n",
    "\n",
    "Seaborn is built on top of Matplotlib and looks more beautiful in my opinion. It's also really simple to plot boxplots, scatterplots, heatmaps and other interesting graphs! See the documentation here: https://seaborn.pydata.org/\n",
    "\n",
    "\n",
    "### NLTK (Natural Language Tool Kit)\n",
    "NLTK is a great library for performing operations on text data. Since we are parsing a html file, we will need to efficiently look through the text and find all of our data. I only use the 'sent_tokenize' function from this library so that is all I wanted to import. This function is really good at breaking up a string of text into a list of sentences. See the documentation and download here: https://www.nltk.org/index.html , https://anaconda.org/anaconda/nltk  "
   ]
  },
  {
   "cell_type": "code",
   "execution_count": 1,
   "metadata": {},
   "outputs": [],
   "source": [
    "# You need to run this first if you have never used nltk's tokenize library before. Uncomment the below code to do so\n",
    "\n",
    "# import nltk\n",
    "# nltk.download('punkt')"
   ]
  },
  {
   "cell_type": "code",
   "execution_count": 2,
   "metadata": {},
   "outputs": [],
   "source": [
    "from bs4 import BeautifulSoup # bs4 stands for BeautifulSoup version 4\n",
    "from selenium import webdriver\n",
    "import time\n",
    "import pandas as pd\n",
    "import numpy as np\n",
    "import matplotlib.pyplot as plt\n",
    "import seaborn as sns\n",
    "from nltk.tokenize import sent_tokenize"
   ]
  },
  {
   "cell_type": "markdown",
   "metadata": {},
   "source": [
    "# Initial Parameters\n",
    "\n",
    "Here we set some variables that can be easily changed. These will be the only things the user of this scraping notebook needs to set.\n",
    "\n",
    "We want to allow the user of the data scraper to choose the postcode they want to scrape data on. \n",
    "\n",
    "Since data is scraped from the deliveroo website for a certain postcode, we need to make it easy to change within the url of the website. We use an 'f string' which allows for variables within a string. \n",
    "\n",
    "We then need to tell Selenium where our browser driver is saved, so we need to give it the path. This may vary for you depending on where you save it. I'm on Linux, and I just saved it in a folder in the home directory. We need to use an 'r string' which stands for raw string because '/' is an escape character for strings in Python. This means it isn't treated as a '/', it has a special purpose. Telling Python we want a raw string means that it won't misinterpret '/'.\n",
    "\n",
    "The two time variables are used to decide how long Selenium should wait at certain stages. The initial_load_time variable is how long Selenium waits when the page initially loads, so we can get the data at the top of the page. The scroll_pause_time variable is how long Selenium waits before scrolling again, so that the data can load. I would watch the browser window Selenium opens to get an understanding of how these work and why they are needed. These times may need to be tweaked depending on the power of your computer and/or your internet speed. If you think lots of data is missing, increase these load times."
   ]
  },
  {
   "cell_type": "code",
   "execution_count": 3,
   "metadata": {},
   "outputs": [],
   "source": [
    "# This isn't my postcode btw... It's the prime minister's :)\n",
    "# Regardless of where you are in the UK, by changing the postcode, the url will automatically change\n",
    "# Because of the above, there is no need to change westminster\n",
    "\n",
    "postcode = 'SW1A 2AA'\n",
    "url = f'https://deliveroo.co.uk/restaurants/london/westminster?postcode={postcode}&collection=all-restaurants'\n",
    "chrome_driver_path = r'/home/selvino/chrome-driver/chromedriver'\n",
    "initial_load_time = 2\n",
    "scroll_pause_time = 0.0001"
   ]
  },
  {
   "cell_type": "markdown",
   "metadata": {},
   "source": [
    "# It's Scraping Time!\n",
    "\n",
    "As already mentioned, we want to simulate an instance of Chrome that scrolls through the entire Deliveroo website. This allows us to get a complete html file with all the data. We need to do this because the Deliveroo website is an 'infinite scroll' website, meaning that it only loads more of the webpage when you get to the bottom of it. \n",
    "\n",
    "We make an instance of Chromedriver and then tell it to load the url we created above. We pause execution by our initial_load_time variable so the page can initially load.\n",
    "\n",
    "We then run some basic javascript commands within our simulated Chrome window to do several things:\n",
    "1. Store the height of the screen as a variable, so we know how far to scroll at each step\n",
    "2. Click the accept cookies button\n",
    "3. Click the button the £10 button (this may no longer be there when you run it)\n",
    "\n",
    "After this, we want to start scrolling through the entire page. By using a while loop, we can keep scrolling through the page (using a javascript command) until the point we want to scroll to is off the page. I.e, if the location where we should be has a greater height than the location we are at, it must have mean that scrolling has stopped (hit the bottom of the page where there is nothing left to load). "
   ]
  },
  {
   "cell_type": "code",
   "execution_count": 4,
   "metadata": {},
   "outputs": [],
   "source": [
    "driver = webdriver.Chrome(executable_path=chrome_driver_path)\n",
    "driver.get(url)\n",
    "time.sleep(initial_load_time)\n",
    "screen_height = driver.execute_script('return window.screen.height;')\n",
    "driver.execute_script('document.querySelector(\".accept-cookies-button\").click()')\n",
    "driver.execute_script('document.querySelectorAll(\".ccl-d0484b0360a2b432\")[1].click()')\n",
    "\n",
    "i = 1\n",
    "while True:\n",
    "    driver.execute_script(\"window.scrollTo(0, {screen_height} * {i});\".format(screen_height=screen_height, i = i))\n",
    "    i += 1\n",
    "    time.sleep(scroll_pause_time)\n",
    "    scroll_height = driver.execute_script(\"return document.body.scrollHeight\")\n",
    "    if screen_height * i > scroll_height:\n",
    "        break"
   ]
  },
  {
   "cell_type": "markdown",
   "metadata": {},
   "source": [
    "After we've scrolled through the entire page, we'll use BeautifulSoup to parse the webpage as html. The raw source code of the page is likely to be bundled Javascript, but its much easier to find our data by parsing it as html. Therefore, we use BeautifulSoup to convert this bundled javascript into html. \n",
    "\n",
    "The soup variable isn't actually a Python string, its a BeautifulSoup object that is somewhat similar to a string. However, we can call some really useful methods from the BeautifulSoup library on BeautifulSoup objects that are really helpful for our goal. For example, finding all instances of a certain html tag (eg. the 'a' tag) or finding tags with a certain class. \n",
    "\n",
    "If you have a look at the site here https://deliveroo.co.uk/restaurants/london/westminster?postcode=SW1A%202AA&collection=all-restaurants, you can see that all the restaurants usually have links containing all the info we want by looking in the Developer Tools. Within these links, they have a very helpful attribute called 'aria-label' which contains most of the helpful information. We also notice that all restaurants have the class attribute equal to \"HomeFeedUICard-1cc6964985e41c86\". Therefore, if we find all the elements which have the class attribute as above, we can then look at each of their aria-label attributes and also search for the other information we want. "
   ]
  },
  {
   "cell_type": "code",
   "execution_count": 5,
   "metadata": {},
   "outputs": [
    {
     "data": {
      "text/plain": [
       "bs4.BeautifulSoup"
      ]
     },
     "execution_count": 5,
     "metadata": {},
     "output_type": "execute_result"
    }
   ],
   "source": [
    "# Create a beautiful soup object that parses the html and has useful methods for reading the text\n",
    "\n",
    "soup = BeautifulSoup(driver.page_source, 'html.parser')\n",
    "driver.quit()\n",
    "type(soup)"
   ]
  },
  {
   "cell_type": "code",
   "execution_count": 6,
   "metadata": {},
   "outputs": [],
   "source": [
    "# Store the class as a variable, just in case the website is updated and they rename the class\n",
    "a_tag_class = 'HomeFeedUICard-1cc6964985e41c86'\n",
    "\n",
    "restaurants_html = [str(x) for x in soup.find_all(class_ = a_tag_class)]"
   ]
  },
  {
   "cell_type": "code",
   "execution_count": 7,
   "metadata": {},
   "outputs": [],
   "source": [
    "# Uncomment the below code if you want to look at what each element of restaurants_html looks like \n",
    "\n",
    "# restaurants_html[0]"
   ]
  },
  {
   "cell_type": "markdown",
   "metadata": {},
   "source": [
    "# Data Cleaning\n",
    "\n",
    "Now we have all of our restaurant information stored in our restaurants_html variable. Each restaurant's data is stored within the html file which we have saved as a string, but it is mixed in with a lot of useless text. Therefore, we will need to clean our data to get it into a form we can actually analyse. If you have a look at the other restaurants, you can see their data all follows a similar structure within the html string. We also want the hyperlink of each restaurant for our Egg Fried Rice analysis.\n",
    "\n",
    "Looking at the above, we can see that the main data is available after the word 'Restaurant' and ends at a speech mark (\"). Because Python strings can start with either single or double quotes, we will need make sure not to get mixed up. Distance data can be found near the phrase 'miles away' or at a special edge case of 'mile away', when the distance is 1 mile. Delivery cost will be found near a pound sign '£' and end at the word 'delivery'. A really helpful string method is the 'find' method. It returns the index where a substring starts in a string. If the substring can't be found, it returns -1. \n",
    "\n",
    "Once we've made functions to extract the data using these identifying strings, we can iterate over our array of restaurant data and pick out the bits we need. We'll then store this as a pandas dataframe"
   ]
  },
  {
   "cell_type": "code",
   "execution_count": 8,
   "metadata": {},
   "outputs": [],
   "source": [
    "def find_hyperlink(text):\n",
    "    hyperlink = 'http://deliveroo.co.uk'\n",
    "    start_identifier = 'href=\"'\n",
    "    end_identifier = '\"' # I use single quotes to declare the string to make it clearer\n",
    "    search_start = text.find(start_identifier) + len(start_identifier)\n",
    "    search_end = text.find(end_identifier, search_start + len(start_identifier))\n",
    "    query_string = text[search_start: search_end]\n",
    "    return hyperlink + query_string"
   ]
  },
  {
   "cell_type": "code",
   "execution_count": 9,
   "metadata": {
    "scrolled": true
   },
   "outputs": [],
   "source": [
    "def find_main_data(text):\n",
    "    start_identifier = 'Restaurant '\n",
    "    end_identifier = '\"'\n",
    "    search_start = text.find(start_identifier) + len(start_identifier)\n",
    "    search_end = text.find(end_identifier, search_start)\n",
    "    return text[search_start:search_end]"
   ]
  },
  {
   "cell_type": "code",
   "execution_count": 10,
   "metadata": {},
   "outputs": [],
   "source": [
    "# If '1 mile away', need to move back 2 characters from the start of 'mile away'\n",
    "# If 'x.xx miles away', need to move back 4 characters from the start of 'miles away'\n",
    "\n",
    "def find_distance_data(text):\n",
    "    identifier = 'miles away'\n",
    "    sub_identifier = 'mile away'\n",
    "    start_index = text.find(identifier)\n",
    "    \n",
    "    if start_index == -1:\n",
    "        sub_start_index = text.find(sub_identifier)\n",
    "        search_start = sub_start_index -2\n",
    "        search_end = search_start + 2 + len(sub_identifier)\n",
    "    else:\n",
    "        search_start = text.find(identifier) -4\n",
    "        search_end = search_start + 4 + len(identifier)\n",
    "    return text[search_start: search_end]"
   ]
  },
  {
   "cell_type": "code",
   "execution_count": 11,
   "metadata": {},
   "outputs": [],
   "source": [
    "# If no pound sign found, assume free delivery\n",
    "# If the text contains free delivery, then the cost should be 0\n",
    "# If the text doesn't contain a pound sign or the word 'delivery', then it's likely the restaurant isn't delivering at the moment \n",
    "   \n",
    "def find_delivery_cost(text):\n",
    "    start_identifier = '£'\n",
    "    end_identifier = 'delivery'\n",
    "    search_start = text.find(start_identifier)\n",
    "    search_end = text.find(end_identifier, search_start)\n",
    "    if 'Free delivery' in text:\n",
    "        return '£0.00'\n",
    "    elif (search_start == -1) | (search_end == -1):\n",
    "        return None\n",
    "    else:\n",
    "        return text[search_start: search_end - 1]"
   ]
  },
  {
   "cell_type": "code",
   "execution_count": 12,
   "metadata": {},
   "outputs": [
    {
     "data": {
      "text/html": [
       "<div>\n",
       "<style scoped>\n",
       "    .dataframe tbody tr th:only-of-type {\n",
       "        vertical-align: middle;\n",
       "    }\n",
       "\n",
       "    .dataframe tbody tr th {\n",
       "        vertical-align: top;\n",
       "    }\n",
       "\n",
       "    .dataframe thead th {\n",
       "        text-align: right;\n",
       "    }\n",
       "</style>\n",
       "<table border=\"1\" class=\"dataframe\">\n",
       "  <thead>\n",
       "    <tr style=\"text-align: right;\">\n",
       "      <th></th>\n",
       "      <th>url</th>\n",
       "      <th>rank</th>\n",
       "      <th>main_data</th>\n",
       "      <th>distance</th>\n",
       "      <th>delivery_cost</th>\n",
       "    </tr>\n",
       "  </thead>\n",
       "  <tbody>\n",
       "    <tr>\n",
       "      <th>0</th>\n",
       "      <td>http://deliveroo.co.uk/menu/london/willesden/m...</td>\n",
       "      <td>1</td>\n",
       "      <td>Margarita Mama's. Delivers in 10 to 10 minutes...</td>\n",
       "      <td>5.7 miles away</td>\n",
       "      <td>£0.00</td>\n",
       "    </tr>\n",
       "    <tr>\n",
       "      <th>1</th>\n",
       "      <td>http://deliveroo.co.uk/menu/london/park-royal/...</td>\n",
       "      <td>2</td>\n",
       "      <td>24/7 Alcohol Express. Delivers in 10 to 10 min...</td>\n",
       "      <td>7.6 miles away</td>\n",
       "      <td>£0.00</td>\n",
       "    </tr>\n",
       "    <tr>\n",
       "      <th>2</th>\n",
       "      <td>http://deliveroo.co.uk/menu/london/westminster...</td>\n",
       "      <td>3</td>\n",
       "      <td>Tossed. Delivers in 15 to 25 minutes. Rated 4....</td>\n",
       "      <td>0.6 miles away</td>\n",
       "      <td>£0.00</td>\n",
       "    </tr>\n",
       "    <tr>\n",
       "      <th>3</th>\n",
       "      <td>http://deliveroo.co.uk/menu/london/victoria/to...</td>\n",
       "      <td>4</td>\n",
       "      <td>Tortilla - Burritos &amp;amp; Tacos. Delivers in 1...</td>\n",
       "      <td>1 mile away</td>\n",
       "      <td>£0.00</td>\n",
       "    </tr>\n",
       "    <tr>\n",
       "      <th>4</th>\n",
       "      <td>http://deliveroo.co.uk/menu/london/soho/whole-...</td>\n",
       "      <td>5</td>\n",
       "      <td>Whole Foods Market. Delivers in 15 to 30 minut...</td>\n",
       "      <td>0.6 miles away</td>\n",
       "      <td>£0.00</td>\n",
       "    </tr>\n",
       "    <tr>\n",
       "      <th>...</th>\n",
       "      <td>...</td>\n",
       "      <td>...</td>\n",
       "      <td>...</td>\n",
       "      <td>...</td>\n",
       "      <td>...</td>\n",
       "    </tr>\n",
       "    <tr>\n",
       "      <th>867</th>\n",
       "      <td>http://deliveroo.co.uk/menu/london/covent-gard...</td>\n",
       "      <td>868</td>\n",
       "      <td>Le Garrick . Delivers at . Serves French.</td>\n",
       "      <td></td>\n",
       "      <td>None</td>\n",
       "    </tr>\n",
       "    <tr>\n",
       "      <th>868</th>\n",
       "      <td>http://deliveroo.co.uk/menu/london/south-kensi...</td>\n",
       "      <td>869</td>\n",
       "      <td>Billionaire Lounge. Delivers at .</td>\n",
       "      <td></td>\n",
       "      <td>None</td>\n",
       "    </tr>\n",
       "    <tr>\n",
       "      <th>869</th>\n",
       "      <td>http://deliveroo.co.uk/menu/london/peckham/tol...</td>\n",
       "      <td>870</td>\n",
       "      <td>TOLA DEALS - Alcohol - Cocktails, Craft Beer, ...</td>\n",
       "      <td></td>\n",
       "      <td>None</td>\n",
       "    </tr>\n",
       "    <tr>\n",
       "      <th>870</th>\n",
       "      <td>http://deliveroo.co.uk/menu/london/shoreditch/...</td>\n",
       "      <td>871</td>\n",
       "      <td>KERB (Catering). Delivers at .</td>\n",
       "      <td></td>\n",
       "      <td>None</td>\n",
       "    </tr>\n",
       "    <tr>\n",
       "      <th>871</th>\n",
       "      <td>http://deliveroo.co.uk/menu/london/london-brid...</td>\n",
       "      <td>872</td>\n",
       "      <td>\\tPetitbleu. Delivers at . Serves Mediterranea...</td>\n",
       "      <td></td>\n",
       "      <td>None</td>\n",
       "    </tr>\n",
       "  </tbody>\n",
       "</table>\n",
       "<p>872 rows × 5 columns</p>\n",
       "</div>"
      ],
      "text/plain": [
       "                                                   url  rank  \\\n",
       "0    http://deliveroo.co.uk/menu/london/willesden/m...     1   \n",
       "1    http://deliveroo.co.uk/menu/london/park-royal/...     2   \n",
       "2    http://deliveroo.co.uk/menu/london/westminster...     3   \n",
       "3    http://deliveroo.co.uk/menu/london/victoria/to...     4   \n",
       "4    http://deliveroo.co.uk/menu/london/soho/whole-...     5   \n",
       "..                                                 ...   ...   \n",
       "867  http://deliveroo.co.uk/menu/london/covent-gard...   868   \n",
       "868  http://deliveroo.co.uk/menu/london/south-kensi...   869   \n",
       "869  http://deliveroo.co.uk/menu/london/peckham/tol...   870   \n",
       "870  http://deliveroo.co.uk/menu/london/shoreditch/...   871   \n",
       "871  http://deliveroo.co.uk/menu/london/london-brid...   872   \n",
       "\n",
       "                                             main_data        distance  \\\n",
       "0    Margarita Mama's. Delivers in 10 to 10 minutes...  5.7 miles away   \n",
       "1    24/7 Alcohol Express. Delivers in 10 to 10 min...  7.6 miles away   \n",
       "2    Tossed. Delivers in 15 to 25 minutes. Rated 4....  0.6 miles away   \n",
       "3    Tortilla - Burritos &amp; Tacos. Delivers in 1...     1 mile away   \n",
       "4    Whole Foods Market. Delivers in 15 to 30 minut...  0.6 miles away   \n",
       "..                                                 ...             ...   \n",
       "867          Le Garrick . Delivers at . Serves French.                   \n",
       "868                  Billionaire Lounge. Delivers at .                   \n",
       "869  TOLA DEALS - Alcohol - Cocktails, Craft Beer, ...                   \n",
       "870                     KERB (Catering). Delivers at .                   \n",
       "871  \\tPetitbleu. Delivers at . Serves Mediterranea...                   \n",
       "\n",
       "    delivery_cost  \n",
       "0           £0.00  \n",
       "1           £0.00  \n",
       "2           £0.00  \n",
       "3           £0.00  \n",
       "4           £0.00  \n",
       "..            ...  \n",
       "867          None  \n",
       "868          None  \n",
       "869          None  \n",
       "870          None  \n",
       "871          None  \n",
       "\n",
       "[872 rows x 5 columns]"
      ]
     },
     "execution_count": 12,
     "metadata": {},
     "output_type": "execute_result"
    }
   ],
   "source": [
    "restaurants_list = []\n",
    "rank = 1\n",
    "for restaurant in restaurants_html:\n",
    "    restaurant_dictionary = {\n",
    "        'url': find_hyperlink(restaurant),\n",
    "        'rank': rank,\n",
    "        'main_data': find_main_data(restaurant),\n",
    "        'distance': find_distance_data(restaurant),\n",
    "        'delivery_cost': find_delivery_cost(restaurant)\n",
    "    }\n",
    "    restaurants_list.append(restaurant_dictionary)\n",
    "    rank += 1   \n",
    "\n",
    "restaurant_df = pd.DataFrame.from_dict(restaurants_list)\n",
    "restaurant_df"
   ]
  },
  {
   "cell_type": "code",
   "execution_count": 13,
   "metadata": {},
   "outputs": [
    {
     "data": {
      "text/plain": [
       "\"Margarita Mama's. Delivers in 10 to 10 minutes. Rated 4.1 from 500+ reviews. Serves Italian, Pasta, and Pizza.\""
      ]
     },
     "execution_count": 13,
     "metadata": {},
     "output_type": "execute_result"
    }
   ],
   "source": [
    "# It's helpful to see what main_data actually looks like\n",
    "\n",
    "restaurant_df['main_data'][0]"
   ]
  },
  {
   "cell_type": "markdown",
   "metadata": {},
   "source": [
    "Voila! We're really starting to get there! Now we just need to transform our data so we can use it for analysis!\n",
    "\n",
    "We'll need to do the following: \n",
    "\n",
    "1. Extract restaurant name, delivery time, reviews and cuisines from the main data column\n",
    "2. Make sure all of our data is usable for analysis"
   ]
  },
  {
   "cell_type": "code",
   "execution_count": 14,
   "metadata": {},
   "outputs": [],
   "source": [
    "# Sentence Tokenize from nltk seperates the main data into sentences, making it easier to get each bit of data\n",
    "\n",
    "restaurant_df['restaurant_name'] = restaurant_df['main_data'].map(lambda x: sent_tokenize(x.replace('&amp;', '&'))[0][:-1].strip())\n",
    "restaurant_df['delivery_time'] = restaurant_df['main_data'].map(lambda x: sent_tokenize(x)[1].split(' ')[2:5])"
   ]
  },
  {
   "cell_type": "code",
   "execution_count": 15,
   "metadata": {},
   "outputs": [],
   "source": [
    "# We want to get the review score and the number of reviews\n",
    "# Restaurants with 500 or more reviews just say 500+ reviews\n",
    "\n",
    "def find_review_data(main_data):\n",
    "    start_identifier = 'Rated '\n",
    "    end_identifier = 'reviews'\n",
    "    search_start = main_data.find(start_identifier)\n",
    "    if search_start > -1:\n",
    "        search_end = main_data.find(end_identifier, search_start) - 1\n",
    "        review_data = main_data[search_start: search_end]\n",
    "        review_score = float(review_data.split(' ')[1])\n",
    "        review_number = int(review_data.split(' ')[-1].split('+')[0])\n",
    "        return {'score': review_score, 'number': review_number} \n",
    "    else:\n",
    "        return {'score': None, 'number': None }\n",
    "    \n",
    "restaurant_df['rating_score'] = restaurant_df['main_data'].map(lambda x: find_review_data(x)['score'])\n",
    "restaurant_df['rating_number'] = restaurant_df['main_data'].map(lambda x: find_review_data(x)['number'])"
   ]
  },
  {
   "cell_type": "markdown",
   "metadata": {},
   "source": [
    "Finding the cuisine data deserves a special mention. From the above, we can see the cuisines start after the word 'Serves'. Most cuisines can also be split on a comma, then the word 'and'. However, there is a very vital edge case...\n",
    "\n",
    "If there are only two cuisines, there will be no comma and it will look like so 'Serves Chinese and Burgers'. So we will need to split on the word 'and'. BUT, if the cuisine is 'Fish and Chips', this will seperate 'Fish' and 'Chips' into seperate cuisines, which we don't want. Therefore, we need to slightly alter 'Fish and Chips' so we don't split it into 'Fish' and 'chips' by mistake."
   ]
  },
  {
   "cell_type": "code",
   "execution_count": 16,
   "metadata": {
    "scrolled": true
   },
   "outputs": [
    {
     "data": {
      "text/html": [
       "<div>\n",
       "<style scoped>\n",
       "    .dataframe tbody tr th:only-of-type {\n",
       "        vertical-align: middle;\n",
       "    }\n",
       "\n",
       "    .dataframe tbody tr th {\n",
       "        vertical-align: top;\n",
       "    }\n",
       "\n",
       "    .dataframe thead th {\n",
       "        text-align: right;\n",
       "    }\n",
       "</style>\n",
       "<table border=\"1\" class=\"dataframe\">\n",
       "  <thead>\n",
       "    <tr style=\"text-align: right;\">\n",
       "      <th></th>\n",
       "      <th>url</th>\n",
       "      <th>rank</th>\n",
       "      <th>main_data</th>\n",
       "      <th>distance</th>\n",
       "      <th>delivery_cost</th>\n",
       "      <th>restaurant_name</th>\n",
       "      <th>delivery_time</th>\n",
       "      <th>rating_score</th>\n",
       "      <th>rating_number</th>\n",
       "      <th>cuisines</th>\n",
       "    </tr>\n",
       "  </thead>\n",
       "  <tbody>\n",
       "    <tr>\n",
       "      <th>0</th>\n",
       "      <td>http://deliveroo.co.uk/menu/london/willesden/m...</td>\n",
       "      <td>1</td>\n",
       "      <td>Margarita Mama's. Delivers in 10 to 10 minutes...</td>\n",
       "      <td>5.7 miles away</td>\n",
       "      <td>£0.00</td>\n",
       "      <td>Margarita Mama's</td>\n",
       "      <td>[10, to, 10]</td>\n",
       "      <td>4.1</td>\n",
       "      <td>500.0</td>\n",
       "      <td>[Italian, Pasta, Pizza]</td>\n",
       "    </tr>\n",
       "    <tr>\n",
       "      <th>1</th>\n",
       "      <td>http://deliveroo.co.uk/menu/london/park-royal/...</td>\n",
       "      <td>2</td>\n",
       "      <td>24/7 Alcohol Express. Delivers in 10 to 10 min...</td>\n",
       "      <td>7.6 miles away</td>\n",
       "      <td>£0.00</td>\n",
       "      <td>24/7 Alcohol Express</td>\n",
       "      <td>[10, to, 10]</td>\n",
       "      <td>3.6</td>\n",
       "      <td>500.0</td>\n",
       "      <td>[Grocery, Alcohol]</td>\n",
       "    </tr>\n",
       "    <tr>\n",
       "      <th>2</th>\n",
       "      <td>http://deliveroo.co.uk/menu/london/westminster...</td>\n",
       "      <td>3</td>\n",
       "      <td>Tossed. Delivers in 15 to 25 minutes. Rated 4....</td>\n",
       "      <td>0.6 miles away</td>\n",
       "      <td>£0.00</td>\n",
       "      <td>Tossed</td>\n",
       "      <td>[15, to, 25]</td>\n",
       "      <td>4.8</td>\n",
       "      <td>21.0</td>\n",
       "      <td>[Chicken, Salads, Healthy, Juices]</td>\n",
       "    </tr>\n",
       "    <tr>\n",
       "      <th>3</th>\n",
       "      <td>http://deliveroo.co.uk/menu/london/victoria/to...</td>\n",
       "      <td>4</td>\n",
       "      <td>Tortilla - Burritos &amp;amp; Tacos. Delivers in 1...</td>\n",
       "      <td>1 mile away</td>\n",
       "      <td>£0.00</td>\n",
       "      <td>Tortilla - Burritos &amp; Tacos</td>\n",
       "      <td>[15, to, 30]</td>\n",
       "      <td>4.6</td>\n",
       "      <td>500.0</td>\n",
       "      <td>[Mexican, Burritos, Salads, American]</td>\n",
       "    </tr>\n",
       "    <tr>\n",
       "      <th>4</th>\n",
       "      <td>http://deliveroo.co.uk/menu/london/soho/whole-...</td>\n",
       "      <td>5</td>\n",
       "      <td>Whole Foods Market. Delivers in 15 to 30 minut...</td>\n",
       "      <td>0.6 miles away</td>\n",
       "      <td>£0.00</td>\n",
       "      <td>Whole Foods Market</td>\n",
       "      <td>[15, to, 30]</td>\n",
       "      <td>4.9</td>\n",
       "      <td>500.0</td>\n",
       "      <td>[Dessert, Grocery, Healthy, Drinks]</td>\n",
       "    </tr>\n",
       "  </tbody>\n",
       "</table>\n",
       "</div>"
      ],
      "text/plain": [
       "                                                 url  rank  \\\n",
       "0  http://deliveroo.co.uk/menu/london/willesden/m...     1   \n",
       "1  http://deliveroo.co.uk/menu/london/park-royal/...     2   \n",
       "2  http://deliveroo.co.uk/menu/london/westminster...     3   \n",
       "3  http://deliveroo.co.uk/menu/london/victoria/to...     4   \n",
       "4  http://deliveroo.co.uk/menu/london/soho/whole-...     5   \n",
       "\n",
       "                                           main_data        distance  \\\n",
       "0  Margarita Mama's. Delivers in 10 to 10 minutes...  5.7 miles away   \n",
       "1  24/7 Alcohol Express. Delivers in 10 to 10 min...  7.6 miles away   \n",
       "2  Tossed. Delivers in 15 to 25 minutes. Rated 4....  0.6 miles away   \n",
       "3  Tortilla - Burritos &amp; Tacos. Delivers in 1...     1 mile away   \n",
       "4  Whole Foods Market. Delivers in 15 to 30 minut...  0.6 miles away   \n",
       "\n",
       "  delivery_cost              restaurant_name delivery_time  rating_score  \\\n",
       "0         £0.00             Margarita Mama's  [10, to, 10]           4.1   \n",
       "1         £0.00         24/7 Alcohol Express  [10, to, 10]           3.6   \n",
       "2         £0.00                       Tossed  [15, to, 25]           4.8   \n",
       "3         £0.00  Tortilla - Burritos & Tacos  [15, to, 30]           4.6   \n",
       "4         £0.00           Whole Foods Market  [15, to, 30]           4.9   \n",
       "\n",
       "   rating_number                               cuisines  \n",
       "0          500.0                [Italian, Pasta, Pizza]  \n",
       "1          500.0                     [Grocery, Alcohol]  \n",
       "2           21.0     [Chicken, Salads, Healthy, Juices]  \n",
       "3          500.0  [Mexican, Burritos, Salads, American]  \n",
       "4          500.0    [Dessert, Grocery, Healthy, Drinks]  "
      ]
     },
     "execution_count": 16,
     "metadata": {},
     "output_type": "execute_result"
    }
   ],
   "source": [
    "# If any other cuisine has 'and' in the name, we will need to replace that too\n",
    "\n",
    "def find_cuisine_data(main_data):\n",
    "    start_identifier = 'Serves '\n",
    "    first_split = ', '\n",
    "    second_split = ' and '\n",
    "    cuisine_list = []\n",
    "    main_data = main_data.replace('Fish and chips', 'Fish*and*chips')\n",
    "    cuisine_start = main_data.find(start_identifier)\n",
    "    if cuisine_start > -1:\n",
    "        cuisine_data = main_data[cuisine_start + len(start_identifier): -1]\n",
    "        cuisine_list = cuisine_data.split(first_split)\n",
    "        \n",
    "        if len(cuisine_list) > 1:\n",
    "            cuisine_list[-1] = cuisine_list[-1][len(second_split) - 1:]\n",
    "            \n",
    "        else:\n",
    "            cuisine_string = ''.join(cuisine_list)\n",
    "            cuisine_list = cuisine_string.split(second_split)\n",
    "    \n",
    "        return [cuisine.replace('Fish*and*chips', 'Fish and chips') for cuisine in cuisine_list]\n",
    "    \n",
    "    else: \n",
    "        return None\n",
    "        \n",
    "restaurant_df['cuisines'] = restaurant_df['main_data'].map(lambda x: find_cuisine_data(x))\n",
    "restaurant_df.head()"
   ]
  },
  {
   "cell_type": "markdown",
   "metadata": {},
   "source": [
    "Now we have all of our data, we need to make it usable. \n",
    "\n",
    "1. distance should be a float, not a string\n",
    "2. delivery_cost should be a float, not a string\n",
    "3. delivery_time should actually be split into min, max and average delivery time and should all be floats\n",
    "4. Each cuisine should have its own column equal to 1 if the restaurant serves that cuisine, and 0 otherwise\n",
    "5. We will need to remove all unnecessary columns"
   ]
  },
  {
   "cell_type": "code",
   "execution_count": 17,
   "metadata": {},
   "outputs": [],
   "source": [
    "restaurant_df['distance_miles'] = restaurant_df['distance'].map(lambda x: float(x.split(' ')[0]) if x else None)"
   ]
  },
  {
   "cell_type": "code",
   "execution_count": 18,
   "metadata": {},
   "outputs": [],
   "source": [
    "restaurant_df['delivery_cost_pounds'] = restaurant_df['delivery_cost'].map(lambda x: float(x[1:]) if x else None)"
   ]
  },
  {
   "cell_type": "code",
   "execution_count": 19,
   "metadata": {},
   "outputs": [],
   "source": [
    "# Take the first and last element of delivery_time, and also get their average\n",
    "# If delivery time is empty, the restaurant must be closed\n",
    "# We can only do this where the delivery time has 3 elements and the first and last element start with a digit\n",
    "\n",
    "def clean_delivery_data(delivery_time):\n",
    "    \n",
    "    min_time = 'closed'\n",
    "    max_time = 'closed'\n",
    "    avg_time = 'closed'\n",
    "    \n",
    "    if len(delivery_time) > 1:\n",
    "        if (delivery_time[0][0].isdigit()) & (len(delivery_time) == 3) :\n",
    "            min_time = float(delivery_time[0])\n",
    "            max_time = float(delivery_time[-1])\n",
    "            avg_time = np.mean([min_time, max_time])\n",
    "            \n",
    "    return {'min': min_time, 'max': max_time, 'avg': avg_time}\n",
    "\n",
    "restaurant_df['min_delivery_time'] = restaurant_df['delivery_time'].map(lambda x: clean_delivery_data(x)['min'])\n",
    "restaurant_df['max_delivery_time'] = restaurant_df['delivery_time'].map(lambda x: clean_delivery_data(x)['max'])\n",
    "restaurant_df['avg_delivery_time'] = restaurant_df['delivery_time'].map(lambda x: clean_delivery_data(x)['avg'])\n",
    "restaurant_df['closed'] = restaurant_df['min_delivery_time'].map(lambda x: 1 if x == 'closed' else 0)"
   ]
  },
  {
   "cell_type": "code",
   "execution_count": 20,
   "metadata": {},
   "outputs": [],
   "source": [
    "# Need to make dummy variables for each possible cuisine, so first we create a list of all the cuisines\n",
    "# Then, make a new column for each cuisine, which is equal to 1 if the restaurant serves the cuisine and zero otherwise\n",
    "\n",
    "cuisine_list = np.array([])\n",
    "for cuisines in restaurant_df['cuisines']:\n",
    "    if cuisines: \n",
    "        cuisine_list = np.append(cuisine_list, cuisines)\n",
    "cuisine_list = pd.Series(np.sort(cuisine_list)).unique()\n",
    "\n",
    "for cuisine in cuisine_list:\n",
    "    restaurant_df[cuisine] = restaurant_df['cuisines'].map(lambda x: 1 if x and cuisine in x else 0)"
   ]
  },
  {
   "cell_type": "code",
   "execution_count": 21,
   "metadata": {},
   "outputs": [
    {
     "data": {
      "text/plain": [
       "Index(['url', 'rank', 'main_data', 'distance', 'delivery_cost',\n",
       "       'restaurant_name', 'delivery_time', 'rating_score', 'rating_number',\n",
       "       'cuisines',\n",
       "       ...\n",
       "       'Taiwanese', 'Tapas', 'Tea', 'Thai', 'Turkish', 'Vietnamese', 'Western',\n",
       "       'Wine', 'Wings', 'Wraps'],\n",
       "      dtype='object', length=116)"
      ]
     },
     "execution_count": 21,
     "metadata": {},
     "output_type": "execute_result"
    }
   ],
   "source": [
    "# Let's have a look at what columns we have left\n",
    "\n",
    "restaurant_df.columns"
   ]
  },
  {
   "cell_type": "code",
   "execution_count": 22,
   "metadata": {},
   "outputs": [],
   "source": [
    "# We don't need main_data, distance, delivery_cost, and delivery_time anymore\n",
    "\n",
    "restaurant_df_clean = restaurant_df.drop(axis = 1, columns = ['main_data', 'distance', 'delivery_cost', 'delivery_time'])"
   ]
  },
  {
   "cell_type": "code",
   "execution_count": 23,
   "metadata": {},
   "outputs": [
    {
     "data": {
      "text/html": [
       "<div>\n",
       "<style scoped>\n",
       "    .dataframe tbody tr th:only-of-type {\n",
       "        vertical-align: middle;\n",
       "    }\n",
       "\n",
       "    .dataframe tbody tr th {\n",
       "        vertical-align: top;\n",
       "    }\n",
       "\n",
       "    .dataframe thead th {\n",
       "        text-align: right;\n",
       "    }\n",
       "</style>\n",
       "<table border=\"1\" class=\"dataframe\">\n",
       "  <thead>\n",
       "    <tr style=\"text-align: right;\">\n",
       "      <th></th>\n",
       "      <th>url</th>\n",
       "      <th>rank</th>\n",
       "      <th>restaurant_name</th>\n",
       "      <th>rating_score</th>\n",
       "      <th>rating_number</th>\n",
       "      <th>cuisines</th>\n",
       "      <th>distance_miles</th>\n",
       "      <th>delivery_cost_pounds</th>\n",
       "      <th>min_delivery_time</th>\n",
       "      <th>max_delivery_time</th>\n",
       "      <th>...</th>\n",
       "      <th>Taiwanese</th>\n",
       "      <th>Tapas</th>\n",
       "      <th>Tea</th>\n",
       "      <th>Thai</th>\n",
       "      <th>Turkish</th>\n",
       "      <th>Vietnamese</th>\n",
       "      <th>Western</th>\n",
       "      <th>Wine</th>\n",
       "      <th>Wings</th>\n",
       "      <th>Wraps</th>\n",
       "    </tr>\n",
       "  </thead>\n",
       "  <tbody>\n",
       "    <tr>\n",
       "      <th>0</th>\n",
       "      <td>http://deliveroo.co.uk/menu/london/willesden/m...</td>\n",
       "      <td>1</td>\n",
       "      <td>Margarita Mama's</td>\n",
       "      <td>4.1</td>\n",
       "      <td>500.0</td>\n",
       "      <td>[Italian, Pasta, Pizza]</td>\n",
       "      <td>5.7</td>\n",
       "      <td>0.0</td>\n",
       "      <td>10</td>\n",
       "      <td>10</td>\n",
       "      <td>...</td>\n",
       "      <td>0</td>\n",
       "      <td>0</td>\n",
       "      <td>0</td>\n",
       "      <td>0</td>\n",
       "      <td>0</td>\n",
       "      <td>0</td>\n",
       "      <td>0</td>\n",
       "      <td>0</td>\n",
       "      <td>0</td>\n",
       "      <td>0</td>\n",
       "    </tr>\n",
       "    <tr>\n",
       "      <th>1</th>\n",
       "      <td>http://deliveroo.co.uk/menu/london/park-royal/...</td>\n",
       "      <td>2</td>\n",
       "      <td>24/7 Alcohol Express</td>\n",
       "      <td>3.6</td>\n",
       "      <td>500.0</td>\n",
       "      <td>[Grocery, Alcohol]</td>\n",
       "      <td>7.6</td>\n",
       "      <td>0.0</td>\n",
       "      <td>10</td>\n",
       "      <td>10</td>\n",
       "      <td>...</td>\n",
       "      <td>0</td>\n",
       "      <td>0</td>\n",
       "      <td>0</td>\n",
       "      <td>0</td>\n",
       "      <td>0</td>\n",
       "      <td>0</td>\n",
       "      <td>0</td>\n",
       "      <td>0</td>\n",
       "      <td>0</td>\n",
       "      <td>0</td>\n",
       "    </tr>\n",
       "    <tr>\n",
       "      <th>2</th>\n",
       "      <td>http://deliveroo.co.uk/menu/london/westminster...</td>\n",
       "      <td>3</td>\n",
       "      <td>Tossed</td>\n",
       "      <td>4.8</td>\n",
       "      <td>21.0</td>\n",
       "      <td>[Chicken, Salads, Healthy, Juices]</td>\n",
       "      <td>0.6</td>\n",
       "      <td>0.0</td>\n",
       "      <td>15</td>\n",
       "      <td>25</td>\n",
       "      <td>...</td>\n",
       "      <td>0</td>\n",
       "      <td>0</td>\n",
       "      <td>0</td>\n",
       "      <td>0</td>\n",
       "      <td>0</td>\n",
       "      <td>0</td>\n",
       "      <td>0</td>\n",
       "      <td>0</td>\n",
       "      <td>0</td>\n",
       "      <td>0</td>\n",
       "    </tr>\n",
       "    <tr>\n",
       "      <th>3</th>\n",
       "      <td>http://deliveroo.co.uk/menu/london/victoria/to...</td>\n",
       "      <td>4</td>\n",
       "      <td>Tortilla - Burritos &amp; Tacos</td>\n",
       "      <td>4.6</td>\n",
       "      <td>500.0</td>\n",
       "      <td>[Mexican, Burritos, Salads, American]</td>\n",
       "      <td>1.0</td>\n",
       "      <td>0.0</td>\n",
       "      <td>15</td>\n",
       "      <td>30</td>\n",
       "      <td>...</td>\n",
       "      <td>0</td>\n",
       "      <td>0</td>\n",
       "      <td>0</td>\n",
       "      <td>0</td>\n",
       "      <td>0</td>\n",
       "      <td>0</td>\n",
       "      <td>0</td>\n",
       "      <td>0</td>\n",
       "      <td>0</td>\n",
       "      <td>0</td>\n",
       "    </tr>\n",
       "    <tr>\n",
       "      <th>4</th>\n",
       "      <td>http://deliveroo.co.uk/menu/london/soho/whole-...</td>\n",
       "      <td>5</td>\n",
       "      <td>Whole Foods Market</td>\n",
       "      <td>4.9</td>\n",
       "      <td>500.0</td>\n",
       "      <td>[Dessert, Grocery, Healthy, Drinks]</td>\n",
       "      <td>0.6</td>\n",
       "      <td>0.0</td>\n",
       "      <td>15</td>\n",
       "      <td>30</td>\n",
       "      <td>...</td>\n",
       "      <td>0</td>\n",
       "      <td>0</td>\n",
       "      <td>0</td>\n",
       "      <td>0</td>\n",
       "      <td>0</td>\n",
       "      <td>0</td>\n",
       "      <td>0</td>\n",
       "      <td>0</td>\n",
       "      <td>0</td>\n",
       "      <td>0</td>\n",
       "    </tr>\n",
       "  </tbody>\n",
       "</table>\n",
       "<p>5 rows × 112 columns</p>\n",
       "</div>"
      ],
      "text/plain": [
       "                                                 url  rank  \\\n",
       "0  http://deliveroo.co.uk/menu/london/willesden/m...     1   \n",
       "1  http://deliveroo.co.uk/menu/london/park-royal/...     2   \n",
       "2  http://deliveroo.co.uk/menu/london/westminster...     3   \n",
       "3  http://deliveroo.co.uk/menu/london/victoria/to...     4   \n",
       "4  http://deliveroo.co.uk/menu/london/soho/whole-...     5   \n",
       "\n",
       "               restaurant_name  rating_score  rating_number  \\\n",
       "0             Margarita Mama's           4.1          500.0   \n",
       "1         24/7 Alcohol Express           3.6          500.0   \n",
       "2                       Tossed           4.8           21.0   \n",
       "3  Tortilla - Burritos & Tacos           4.6          500.0   \n",
       "4           Whole Foods Market           4.9          500.0   \n",
       "\n",
       "                                cuisines  distance_miles  \\\n",
       "0                [Italian, Pasta, Pizza]             5.7   \n",
       "1                     [Grocery, Alcohol]             7.6   \n",
       "2     [Chicken, Salads, Healthy, Juices]             0.6   \n",
       "3  [Mexican, Burritos, Salads, American]             1.0   \n",
       "4    [Dessert, Grocery, Healthy, Drinks]             0.6   \n",
       "\n",
       "   delivery_cost_pounds min_delivery_time max_delivery_time  ... Taiwanese  \\\n",
       "0                   0.0                10                10  ...         0   \n",
       "1                   0.0                10                10  ...         0   \n",
       "2                   0.0                15                25  ...         0   \n",
       "3                   0.0                15                30  ...         0   \n",
       "4                   0.0                15                30  ...         0   \n",
       "\n",
       "   Tapas  Tea  Thai  Turkish  Vietnamese  Western  Wine  Wings  Wraps  \n",
       "0      0    0     0        0           0        0     0      0      0  \n",
       "1      0    0     0        0           0        0     0      0      0  \n",
       "2      0    0     0        0           0        0     0      0      0  \n",
       "3      0    0     0        0           0        0     0      0      0  \n",
       "4      0    0     0        0           0        0     0      0      0  \n",
       "\n",
       "[5 rows x 112 columns]"
      ]
     },
     "execution_count": 23,
     "metadata": {},
     "output_type": "execute_result"
    }
   ],
   "source": [
    "restaurant_df_clean.head()"
   ]
  },
  {
   "cell_type": "code",
   "execution_count": 24,
   "metadata": {},
   "outputs": [
    {
     "data": {
      "text/html": [
       "<div>\n",
       "<style scoped>\n",
       "    .dataframe tbody tr th:only-of-type {\n",
       "        vertical-align: middle;\n",
       "    }\n",
       "\n",
       "    .dataframe tbody tr th {\n",
       "        vertical-align: top;\n",
       "    }\n",
       "\n",
       "    .dataframe thead th {\n",
       "        text-align: right;\n",
       "    }\n",
       "</style>\n",
       "<table border=\"1\" class=\"dataframe\">\n",
       "  <thead>\n",
       "    <tr style=\"text-align: right;\">\n",
       "      <th></th>\n",
       "      <th>rank</th>\n",
       "      <th>rating_score</th>\n",
       "      <th>rating_number</th>\n",
       "      <th>distance_miles</th>\n",
       "      <th>delivery_cost_pounds</th>\n",
       "      <th>closed</th>\n",
       "      <th>Acai</th>\n",
       "      <th>African</th>\n",
       "      <th>Alcohol</th>\n",
       "      <th>American</th>\n",
       "      <th>...</th>\n",
       "      <th>Taiwanese</th>\n",
       "      <th>Tapas</th>\n",
       "      <th>Tea</th>\n",
       "      <th>Thai</th>\n",
       "      <th>Turkish</th>\n",
       "      <th>Vietnamese</th>\n",
       "      <th>Western</th>\n",
       "      <th>Wine</th>\n",
       "      <th>Wings</th>\n",
       "      <th>Wraps</th>\n",
       "    </tr>\n",
       "  </thead>\n",
       "  <tbody>\n",
       "    <tr>\n",
       "      <th>count</th>\n",
       "      <td>872.000000</td>\n",
       "      <td>723.000000</td>\n",
       "      <td>723.000000</td>\n",
       "      <td>505.000000</td>\n",
       "      <td>505.0</td>\n",
       "      <td>872.000000</td>\n",
       "      <td>872.000000</td>\n",
       "      <td>872.000000</td>\n",
       "      <td>872.000000</td>\n",
       "      <td>872.000000</td>\n",
       "      <td>...</td>\n",
       "      <td>872.000000</td>\n",
       "      <td>872.000000</td>\n",
       "      <td>872.000000</td>\n",
       "      <td>872.000000</td>\n",
       "      <td>872.000000</td>\n",
       "      <td>872.000000</td>\n",
       "      <td>872.000000</td>\n",
       "      <td>872.000000</td>\n",
       "      <td>872.000000</td>\n",
       "      <td>872.000000</td>\n",
       "    </tr>\n",
       "    <tr>\n",
       "      <th>mean</th>\n",
       "      <td>436.500000</td>\n",
       "      <td>4.545090</td>\n",
       "      <td>341.857538</td>\n",
       "      <td>1.396832</td>\n",
       "      <td>0.0</td>\n",
       "      <td>0.483945</td>\n",
       "      <td>0.004587</td>\n",
       "      <td>0.003440</td>\n",
       "      <td>0.163991</td>\n",
       "      <td>0.095183</td>\n",
       "      <td>...</td>\n",
       "      <td>0.006881</td>\n",
       "      <td>0.008028</td>\n",
       "      <td>0.003440</td>\n",
       "      <td>0.013761</td>\n",
       "      <td>0.011468</td>\n",
       "      <td>0.010321</td>\n",
       "      <td>0.001147</td>\n",
       "      <td>0.060780</td>\n",
       "      <td>0.019495</td>\n",
       "      <td>0.025229</td>\n",
       "    </tr>\n",
       "    <tr>\n",
       "      <th>std</th>\n",
       "      <td>251.869014</td>\n",
       "      <td>0.315592</td>\n",
       "      <td>190.947036</td>\n",
       "      <td>1.292281</td>\n",
       "      <td>0.0</td>\n",
       "      <td>0.500029</td>\n",
       "      <td>0.067612</td>\n",
       "      <td>0.058587</td>\n",
       "      <td>0.370480</td>\n",
       "      <td>0.293637</td>\n",
       "      <td>...</td>\n",
       "      <td>0.082712</td>\n",
       "      <td>0.089287</td>\n",
       "      <td>0.058587</td>\n",
       "      <td>0.116566</td>\n",
       "      <td>0.106534</td>\n",
       "      <td>0.101125</td>\n",
       "      <td>0.033864</td>\n",
       "      <td>0.239063</td>\n",
       "      <td>0.138338</td>\n",
       "      <td>0.156911</td>\n",
       "    </tr>\n",
       "    <tr>\n",
       "      <th>min</th>\n",
       "      <td>1.000000</td>\n",
       "      <td>2.300000</td>\n",
       "      <td>11.000000</td>\n",
       "      <td>0.300000</td>\n",
       "      <td>0.0</td>\n",
       "      <td>0.000000</td>\n",
       "      <td>0.000000</td>\n",
       "      <td>0.000000</td>\n",
       "      <td>0.000000</td>\n",
       "      <td>0.000000</td>\n",
       "      <td>...</td>\n",
       "      <td>0.000000</td>\n",
       "      <td>0.000000</td>\n",
       "      <td>0.000000</td>\n",
       "      <td>0.000000</td>\n",
       "      <td>0.000000</td>\n",
       "      <td>0.000000</td>\n",
       "      <td>0.000000</td>\n",
       "      <td>0.000000</td>\n",
       "      <td>0.000000</td>\n",
       "      <td>0.000000</td>\n",
       "    </tr>\n",
       "    <tr>\n",
       "      <th>25%</th>\n",
       "      <td>218.750000</td>\n",
       "      <td>4.400000</td>\n",
       "      <td>146.500000</td>\n",
       "      <td>0.700000</td>\n",
       "      <td>0.0</td>\n",
       "      <td>0.000000</td>\n",
       "      <td>0.000000</td>\n",
       "      <td>0.000000</td>\n",
       "      <td>0.000000</td>\n",
       "      <td>0.000000</td>\n",
       "      <td>...</td>\n",
       "      <td>0.000000</td>\n",
       "      <td>0.000000</td>\n",
       "      <td>0.000000</td>\n",
       "      <td>0.000000</td>\n",
       "      <td>0.000000</td>\n",
       "      <td>0.000000</td>\n",
       "      <td>0.000000</td>\n",
       "      <td>0.000000</td>\n",
       "      <td>0.000000</td>\n",
       "      <td>0.000000</td>\n",
       "    </tr>\n",
       "    <tr>\n",
       "      <th>50%</th>\n",
       "      <td>436.500000</td>\n",
       "      <td>4.600000</td>\n",
       "      <td>500.000000</td>\n",
       "      <td>1.000000</td>\n",
       "      <td>0.0</td>\n",
       "      <td>0.000000</td>\n",
       "      <td>0.000000</td>\n",
       "      <td>0.000000</td>\n",
       "      <td>0.000000</td>\n",
       "      <td>0.000000</td>\n",
       "      <td>...</td>\n",
       "      <td>0.000000</td>\n",
       "      <td>0.000000</td>\n",
       "      <td>0.000000</td>\n",
       "      <td>0.000000</td>\n",
       "      <td>0.000000</td>\n",
       "      <td>0.000000</td>\n",
       "      <td>0.000000</td>\n",
       "      <td>0.000000</td>\n",
       "      <td>0.000000</td>\n",
       "      <td>0.000000</td>\n",
       "    </tr>\n",
       "    <tr>\n",
       "      <th>75%</th>\n",
       "      <td>654.250000</td>\n",
       "      <td>4.800000</td>\n",
       "      <td>500.000000</td>\n",
       "      <td>1.700000</td>\n",
       "      <td>0.0</td>\n",
       "      <td>1.000000</td>\n",
       "      <td>0.000000</td>\n",
       "      <td>0.000000</td>\n",
       "      <td>0.000000</td>\n",
       "      <td>0.000000</td>\n",
       "      <td>...</td>\n",
       "      <td>0.000000</td>\n",
       "      <td>0.000000</td>\n",
       "      <td>0.000000</td>\n",
       "      <td>0.000000</td>\n",
       "      <td>0.000000</td>\n",
       "      <td>0.000000</td>\n",
       "      <td>0.000000</td>\n",
       "      <td>0.000000</td>\n",
       "      <td>0.000000</td>\n",
       "      <td>0.000000</td>\n",
       "    </tr>\n",
       "    <tr>\n",
       "      <th>max</th>\n",
       "      <td>872.000000</td>\n",
       "      <td>5.000000</td>\n",
       "      <td>500.000000</td>\n",
       "      <td>8.500000</td>\n",
       "      <td>0.0</td>\n",
       "      <td>1.000000</td>\n",
       "      <td>1.000000</td>\n",
       "      <td>1.000000</td>\n",
       "      <td>1.000000</td>\n",
       "      <td>1.000000</td>\n",
       "      <td>...</td>\n",
       "      <td>1.000000</td>\n",
       "      <td>1.000000</td>\n",
       "      <td>1.000000</td>\n",
       "      <td>1.000000</td>\n",
       "      <td>1.000000</td>\n",
       "      <td>1.000000</td>\n",
       "      <td>1.000000</td>\n",
       "      <td>1.000000</td>\n",
       "      <td>1.000000</td>\n",
       "      <td>1.000000</td>\n",
       "    </tr>\n",
       "  </tbody>\n",
       "</table>\n",
       "<p>8 rows × 106 columns</p>\n",
       "</div>"
      ],
      "text/plain": [
       "             rank  rating_score  rating_number  distance_miles  \\\n",
       "count  872.000000    723.000000     723.000000      505.000000   \n",
       "mean   436.500000      4.545090     341.857538        1.396832   \n",
       "std    251.869014      0.315592     190.947036        1.292281   \n",
       "min      1.000000      2.300000      11.000000        0.300000   \n",
       "25%    218.750000      4.400000     146.500000        0.700000   \n",
       "50%    436.500000      4.600000     500.000000        1.000000   \n",
       "75%    654.250000      4.800000     500.000000        1.700000   \n",
       "max    872.000000      5.000000     500.000000        8.500000   \n",
       "\n",
       "       delivery_cost_pounds      closed        Acai     African     Alcohol  \\\n",
       "count                 505.0  872.000000  872.000000  872.000000  872.000000   \n",
       "mean                    0.0    0.483945    0.004587    0.003440    0.163991   \n",
       "std                     0.0    0.500029    0.067612    0.058587    0.370480   \n",
       "min                     0.0    0.000000    0.000000    0.000000    0.000000   \n",
       "25%                     0.0    0.000000    0.000000    0.000000    0.000000   \n",
       "50%                     0.0    0.000000    0.000000    0.000000    0.000000   \n",
       "75%                     0.0    1.000000    0.000000    0.000000    0.000000   \n",
       "max                     0.0    1.000000    1.000000    1.000000    1.000000   \n",
       "\n",
       "         American  ...   Taiwanese       Tapas         Tea        Thai  \\\n",
       "count  872.000000  ...  872.000000  872.000000  872.000000  872.000000   \n",
       "mean     0.095183  ...    0.006881    0.008028    0.003440    0.013761   \n",
       "std      0.293637  ...    0.082712    0.089287    0.058587    0.116566   \n",
       "min      0.000000  ...    0.000000    0.000000    0.000000    0.000000   \n",
       "25%      0.000000  ...    0.000000    0.000000    0.000000    0.000000   \n",
       "50%      0.000000  ...    0.000000    0.000000    0.000000    0.000000   \n",
       "75%      0.000000  ...    0.000000    0.000000    0.000000    0.000000   \n",
       "max      1.000000  ...    1.000000    1.000000    1.000000    1.000000   \n",
       "\n",
       "          Turkish  Vietnamese     Western        Wine       Wings       Wraps  \n",
       "count  872.000000  872.000000  872.000000  872.000000  872.000000  872.000000  \n",
       "mean     0.011468    0.010321    0.001147    0.060780    0.019495    0.025229  \n",
       "std      0.106534    0.101125    0.033864    0.239063    0.138338    0.156911  \n",
       "min      0.000000    0.000000    0.000000    0.000000    0.000000    0.000000  \n",
       "25%      0.000000    0.000000    0.000000    0.000000    0.000000    0.000000  \n",
       "50%      0.000000    0.000000    0.000000    0.000000    0.000000    0.000000  \n",
       "75%      0.000000    0.000000    0.000000    0.000000    0.000000    0.000000  \n",
       "max      1.000000    1.000000    1.000000    1.000000    1.000000    1.000000  \n",
       "\n",
       "[8 rows x 106 columns]"
      ]
     },
     "execution_count": 24,
     "metadata": {},
     "output_type": "execute_result"
    }
   ],
   "source": [
    "restaurant_df_clean.describe()"
   ]
  },
  {
   "cell_type": "markdown",
   "metadata": {},
   "source": [
    "Depending on when you scrape your data, the amount of null values can be very different. The number of restaurants may not match the webpage because we only look at restaurants which have links to them. Some restaurants on the webpage which are closed may not have links to them for a variety of reasons, so they won't be captured in our data.\n",
    "\n",
    "My original goal was to only scrape data on restaurants which are currently delivering. If you do this in the morning, many restaurnts won't be delivering yet, and so their delivery time, cost and distance may not be there. If the webpage tells you when you can pre-order, it doesn't give a min/max delivery time."
   ]
  },
  {
   "cell_type": "code",
   "execution_count": 25,
   "metadata": {},
   "outputs": [],
   "source": [
    "# Save a version of the dataframe down which can be re-used, instead of having to scrape the data again\n",
    "restaurant_df_clean.to_csv('last_scrape_clean', index= False)"
   ]
  },
  {
   "cell_type": "markdown",
   "metadata": {},
   "source": [
    "# Exploratory Data Analysis \n",
    "\n",
    "Wow.. We've finally got here! Time to make some pretty graphs to gain some insights into our data! \n",
    "\n",
    "For example, what cuisine is most popular in the postcode? What cuisine has the best rating? Can we try to figure out how page rank is determined? "
   ]
  },
  {
   "cell_type": "code",
   "execution_count": 26,
   "metadata": {},
   "outputs": [],
   "source": [
    "# Making a helpful function that will help us calculate the number of restaurants serving each cuisine \n",
    "\n",
    "def return_cuisine_numbers(df, cuisine_list = cuisine_list):\n",
    "    cuisine_columns = df[cuisine_list]\n",
    "    cuisine_means_sorted = cuisine_columns.describe().loc['mean'].sort_values(ascending = False) * len(df)\n",
    "    return cuisine_means_sorted"
   ]
  },
  {
   "cell_type": "code",
   "execution_count": 27,
   "metadata": {},
   "outputs": [
    {
     "data": {
      "text/plain": [
       "Text(0, 0.5, 'Number of Restaurants')"
      ]
     },
     "execution_count": 27,
     "metadata": {},
     "output_type": "execute_result"
    },
    {
     "data": {
      "image/png": "[encoded data removed]",
      "text/plain": [
       "<Figure size 864x432 with 1 Axes>"
      ]
     },
     "metadata": {
      "needs_background": "light"
     },
     "output_type": "display_data"
    }
   ],
   "source": [
    "all_restaurant_cuisines = return_cuisine_numbers(restaurant_df_clean)\n",
    "\n",
    "no_top = 5\n",
    "\n",
    "plt.subplots(figsize = (12,6))\n",
    "sns.barplot(x = all_restaurant_cuisines.head(no_top).index,y = all_restaurant_cuisines.head(no_top))\n",
    "plt.xlabel(f'Top {no_top} Cuisines')\n",
    "plt.ylabel('Number of Restaurants')"
   ]
  },
  {
   "cell_type": "markdown",
   "metadata": {},
   "source": [
    "Remember: This is always going to vary depending on what time of day you run the script as the data is filtered down to restaurants which you can click onto on the webpage! Let's look at graphs for both open and closed places (bearing in mind that some closed places may be missing from the data)"
   ]
  },
  {
   "cell_type": "code",
   "execution_count": 28,
   "metadata": {},
   "outputs": [
    {
     "name": "stderr",
     "output_type": "stream",
     "text": [
      "/home/selvino/.local/lib/python3.8/site-packages/seaborn/_decorators.py:36: FutureWarning: Pass the following variable as a keyword arg: x. From version 0.12, the only valid positional argument will be `data`, and passing other arguments without an explicit keyword will result in an error or misinterpretation.\n",
      "  warnings.warn(\n"
     ]
    },
    {
     "data": {
      "text/plain": [
       "<AxesSubplot:xlabel='closed', ylabel='count'>"
      ]
     },
     "execution_count": 28,
     "metadata": {},
     "output_type": "execute_result"
    },
    {
     "data": {
      "image/png": "[encoded data removed]",
      "text/plain": [
       "<Figure size 432x288 with 1 Axes>"
      ]
     },
     "metadata": {
      "needs_background": "light"
     },
     "output_type": "display_data"
    }
   ],
   "source": [
    "# Let's see what proportion of the restaurants are open\n",
    "sns.countplot(restaurant_df_clean['closed'])"
   ]
  },
  {
   "cell_type": "code",
   "execution_count": 29,
   "metadata": {},
   "outputs": [
    {
     "data": {
      "image/png": "[encoded data removed]",
      "text/plain": [
       "<Figure size 1152x576 with 3 Axes>"
      ]
     },
     "metadata": {
      "needs_background": "light"
     },
     "output_type": "display_data"
    }
   ],
   "source": [
    "open_restaurant_cuisines = return_cuisine_numbers(restaurant_df_clean[restaurant_df_clean['closed'] == 0])\n",
    "closed_restaurant_cuisines = return_cuisine_numbers(restaurant_df_clean[restaurant_df_clean['closed'] == 1])\n",
    "\n",
    "no_top = 5\n",
    "\n",
    "fig, ax = plt.subplots(1, 3, figsize = (16,8))\n",
    "fig.tight_layout(pad = 3)\n",
    "ax[0].title.set_text('Open')\n",
    "ax[1].title.set_text('Closed')\n",
    "ax[2].title.set_text('All')\n",
    "sns.barplot(x = open_restaurant_cuisines.head(no_top).index,y = open_restaurant_cuisines.head(no_top), ax = ax[0])\n",
    "sns.barplot(x = closed_restaurant_cuisines.head(no_top).index,y = closed_restaurant_cuisines.head(no_top), ax= ax[1])\n",
    "sns.barplot(x = all_restaurant_cuisines.head(no_top).index,y = all_restaurant_cuisines.head(no_top))\n",
    "\n",
    "for axes in ax:\n",
    "    axes.set_xlabel(f'Top {no_top} Cuisines')\n",
    "    axes.set_ylabel('Number of Restaurants')"
   ]
  },
  {
   "cell_type": "markdown",
   "metadata": {},
   "source": [
    "### Question 2: What is the quality of food in postcode of interest?"
   ]
  },
  {
   "cell_type": "code",
   "execution_count": 30,
   "metadata": {},
   "outputs": [
    {
     "data": {
      "text/plain": [
       "4.55"
      ]
     },
     "execution_count": 30,
     "metadata": {},
     "output_type": "execute_result"
    }
   ],
   "source": [
    "round(np.mean(restaurant_df_clean['rating_score']),2)"
   ]
  },
  {
   "cell_type": "markdown",
   "metadata": {},
   "source": [
    "Looks good!"
   ]
  },
  {
   "cell_type": "markdown",
   "metadata": {},
   "source": [
    "### Question 3: How does quality vary by cuisine?"
   ]
  },
  {
   "cell_type": "code",
   "execution_count": 31,
   "metadata": {},
   "outputs": [
    {
     "data": {
      "text/plain": [
       "Acai           4.800000\n",
       "African        4.200000\n",
       "Alcohol        4.418254\n",
       "American       4.490667\n",
       "Argentinian    4.625000\n",
       "                 ...   \n",
       "Vietnamese     4.700000\n",
       "Western        4.500000\n",
       "Wine           4.335417\n",
       "Wings          4.464706\n",
       "Wraps          4.505556\n",
       "Length: 100, dtype: float64"
      ]
     },
     "execution_count": 31,
     "metadata": {},
     "output_type": "execute_result"
    }
   ],
   "source": [
    "# To get the rating for each cuisine, we can multiply the rating number by the cuisine column\n",
    "# If a restaurant serves that cuisine, the product will be non-zero\n",
    "# Then we need to get rid of all observations where this product is 0, because it means that those restaurants don't serve that cuisine (assuming no restaurants with a zero rating exist)\n",
    "# Then we take the average of ratings for that cuisine\n",
    "\n",
    "cuisine_rating_means = np.array([])\n",
    "for cuisine in cuisine_list:\n",
    "    cuisine_ratings = restaurant_df_clean['rating_score'] * restaurant_df_clean[cuisine]\n",
    "    cuisine_ratings = cuisine_ratings[cuisine_ratings > 0] \n",
    "    cuisine_rating_means = np.append(cuisine_rating_means, np.mean(cuisine_ratings))\n",
    "\n",
    "cuisine_rating_means = pd.Series(cuisine_rating_means, index = cuisine_list)\n",
    "cuisine_rating_means"
   ]
  },
  {
   "cell_type": "markdown",
   "metadata": {},
   "source": [
    "What are the best and worst quality cuisines?"
   ]
  },
  {
   "cell_type": "code",
   "execution_count": 32,
   "metadata": {},
   "outputs": [
    {
     "data": {
      "image/png": "[encoded data removed]",
      "text/plain": [
       "<Figure size 1152x576 with 2 Axes>"
      ]
     },
     "metadata": {
      "needs_background": "light"
     },
     "output_type": "display_data"
    }
   ],
   "source": [
    "number_to_show = 5\n",
    "best_cuisines = cuisine_rating_means.sort_values(ascending = False).head(number_to_show)\n",
    "worst_cuisines = cuisine_rating_means.sort_values().head(number_to_show)\n",
    "\n",
    "fig, ax = plt.subplots(1, 2, figsize = (16,8))\n",
    "fig.tight_layout(pad = 5)\n",
    "sns.barplot(x = best_cuisines.index, y = best_cuisines, ax = ax[0])\n",
    "sns.barplot(x = worst_cuisines.index, y = worst_cuisines, ax = ax[1])\n",
    "ax[0].title.set_text(f'Top {number_to_show} Cuisines')\n",
    "ax[1].title.set_text(f'Worst {number_to_show} Cuisines')\n",
    "\n",
    "for axes in ax:\n",
    "    axes.set_xlabel('Cuisine Name')\n",
    "    axes.set_ylabel('Average Cuisine Score')\n",
    "    axes.set(ylim = (3, 5))"
   ]
  },
  {
   "cell_type": "markdown",
   "metadata": {},
   "source": [
    "Looks like even the worse cuisines still have decent ratings on average... Maybe the quality of food on Deliveroo is just very good? Their selling point is that they have high quality restaurants on the platform. Deliveroo is recognised for having well-known or chain restaurants on the platform. "
   ]
  },
  {
   "cell_type": "markdown",
   "metadata": {},
   "source": [
    "### Question 4: Is there a relationship between order frequency and quality?\n",
    "\n",
    "Assuming order frequencty can be proxied by the number of ratings, maybe we would expect restaurants with a higher score to have a higher order frequency and more ratings? This would suggest that rating score directly causes order frequency to rise. This causal hypothesis is something we cannot test due to data limitations. \n",
    "\n",
    "But still, it would be interesting to see if there is a relationship between rating score and number of ratings."
   ]
  },
  {
   "cell_type": "code",
   "execution_count": 33,
   "metadata": {},
   "outputs": [
    {
     "data": {
      "text/plain": [
       "<seaborn.axisgrid.JointGrid at 0x7fa51d2dc940>"
      ]
     },
     "execution_count": 33,
     "metadata": {},
     "output_type": "execute_result"
    },
    {
     "data": {
      "image/png": "[encoded data removed]",
      "text/plain": [
       "<Figure size 432x432 with 3 Axes>"
      ]
     },
     "metadata": {
      "needs_background": "light"
     },
     "output_type": "display_data"
    }
   ],
   "source": [
    "sns.jointplot(x = 'rating_number', y = 'rating_score', data = restaurant_df_clean, kind = 'reg')"
   ]
  },
  {
   "cell_type": "markdown",
   "metadata": {},
   "source": [
    "Doesn't look like there is much of a relationship between the number of ratings and the rating score. One hypothesis for this is that ratings aren't really affecting the number of orders a restaurants get. As a result, we could argue that customers don't really look at reviews. This could be because ratings are so inflated on Deliveroo, that the customer is indifferent between them. For example, a restaurant being 4.1 or 4.5 may not matter much to the customer.\n",
    "\n",
    "However, our data on the number of ratings is limited. This is because when a restaurant has 500 reviews or more, we have had to round the number down to 500. The restaurant does not show the exact number of reviews when it is above 500. We also do not have data on order frequency, we are using a (weak) proxy."
   ]
  },
  {
   "cell_type": "markdown",
   "metadata": {},
   "source": [
    "### Question 5: Is there a relationship between rating score and rank?\n",
    "\n",
    "The rank of a restaurant on Deliveroo's website is so important because customers are not likely to scroll that far down to find a restaurant. It seems sensible to argue that restaurants near the top are likely to get more customers. Therefore, trying to understand how Deliveroo ranks the restaurants on the webpage is very important.\n",
    "\n",
    "The ranking algorithm is also very important from Deliveroo's perspective. They want the best restaurants to be near the top, so that people order from them, have a good experience on Deliveroo, and then continue to order more in the future. If the restaurants at the top are bad, customers will have a bad experience and may be put off from ordering on Deliveroo again. Given Deliveroo earns comission on every order, they will want to maximise the number of orders they receive to increase revenue. Therefore, having an effective ranking algorithm is vital. \n",
    "\n",
    "This ranking algorithm is likely to be very complicated because it is so valuable. However, one could guess that a restaurant's rating score has something to do with it. "
   ]
  },
  {
   "cell_type": "code",
   "execution_count": 34,
   "metadata": {},
   "outputs": [
    {
     "data": {
      "text/plain": [
       "<AxesSubplot:xlabel='rating_score', ylabel='rank'>"
      ]
     },
     "execution_count": 34,
     "metadata": {},
     "output_type": "execute_result"
    },
    {
     "data": {
      "image/png": "[encoded data removed]",
      "text/plain": [
       "<Figure size 432x288 with 1 Axes>"
      ]
     },
     "metadata": {
      "needs_background": "light"
     },
     "output_type": "display_data"
    }
   ],
   "source": [
    "sns.scatterplot(x = 'rating_score', y = 'rank', data = restaurant_df_clean)"
   ]
  },
  {
   "cell_type": "markdown",
   "metadata": {},
   "source": [
    "Given the above, it seems as if the ranking algorithm isn't strongly based on rating score. However, it is worth noting that in the above graph, there are few restaurants with a rating below 4 in the top 200. There are quite a lot more restaurants with a rating below 4 in the bottom 200 restaurants. \n",
    "\n",
    "Therefore, I would conclude that rating score plays some part in the ranking algorithm, but it definitely isn't a driving factor. There are so many more things going on in that black box!"
   ]
  },
  {
   "cell_type": "markdown",
   "metadata": {},
   "source": [
    "# Egg Fried Rice Analysis\n",
    "\n",
    "The aim of this analysis is to look at the distribution of Egg Fried Prices. If we see there are a cluster of restaurants who are all selling drastically below or above the average, we could suggest they change their prices and thus increase their Egg Fried Rice revenues. This would then be good for Deliveroo as order value and thus revenues will rise.\n",
    "\n",
    "To get the required data, we go on every single restaurant and check if they serve a dish with the phrase 'Egg Fried Rice' in the name. If they do, we will take the lowest price. This assumes that the cheapest dish with 'Egg Fried Rice' in the name must be Egg Fried Rice as opposed to 'Special Egg Fried Rice' or something..."
   ]
  },
  {
   "cell_type": "markdown",
   "metadata": {},
   "source": [
    "For each hyperlink we have, we will save of all their dishes. We then search through these and try to find any dishes with 'Egg Fried Rice' in the name. Although somewhat inefficient, this makes it very easy to change our analysis to look at other dishes (eg. Chips).  "
   ]
  },
  {
   "cell_type": "code",
   "execution_count": 35,
   "metadata": {},
   "outputs": [],
   "source": [
    "def scroll_entire_page(url):\n",
    "    driver = webdriver.Chrome(executable_path=chrome_driver_path)\n",
    "    driver.get(url)\n",
    "    time.sleep(initial_load_time / 100)\n",
    "    screen_height = driver.execute_script('return window.screen.height;')\n",
    "\n",
    "    i = 1\n",
    "    while True:\n",
    "        driver.execute_script(\"window.scrollTo(0, {screen_height} * {i});\".format(screen_height=screen_height, i = i))\n",
    "        i += 1\n",
    "        time.sleep(scroll_pause_time / 10000)\n",
    "        scroll_height = driver.execute_script(\"return document.body.scrollHeight\")\n",
    "        if screen_height * i > scroll_height: \n",
    "            break\n",
    "\n",
    "    html_page = str(BeautifulSoup(driver.page_source, 'html.parser'))\n",
    "    driver.quit()\n",
    "    return html_page"
   ]
  },
  {
   "cell_type": "code",
   "execution_count": 36,
   "metadata": {},
   "outputs": [],
   "source": [
    "def find_dishes(text):\n",
    "    dishes = []\n",
    "    start_identifier = 'class=\"orderweb__0eecc2d3\"'\n",
    "    end_identifier = '</li>'\n",
    "    search_start = text.find(start_identifier) + len(start_identifier)\n",
    "    search_end = text.find(end_identifier, search_start) + len(end_identifier)\n",
    "    \n",
    "    while search_start != -1:\n",
    "        search_end = text.find(end_identifier, search_start) + len(end_identifier)\n",
    "        dishes.append(text[search_start: search_end])\n",
    "        search_start = text.find(start_identifier, search_end)\n",
    "    \n",
    "    return dishes"
   ]
  },
  {
   "cell_type": "code",
   "execution_count": 37,
   "metadata": {},
   "outputs": [],
   "source": [
    "def get_specific_dish_info(dish_data_list, specific_dish):\n",
    "    specific_dish_prices = np.array([])\n",
    "    for dish in dish_data_list:\n",
    "        name_start_identifier = 'ccl-9d0a5327c911d0f3\">'\n",
    "        name_end_identifier = '</p>'\n",
    "        price_start_identifier = '£'\n",
    "        price_end_identifier = '<'\n",
    "\n",
    "        name_start = dish.find(name_start_identifier) + len(name_start_identifier)\n",
    "        name_end = dish.find(name_end_identifier, name_start)\n",
    "\n",
    "        price_start = dish.find(price_start_identifier) + len(price_start_identifier)\n",
    "        price_end = dish.find(price_end_identifier, price_start)\n",
    "        \n",
    "        name = dish[name_start: name_end].lower()\n",
    "        price = dish[price_start: price_end]\n",
    "        \n",
    "        if specific_dish in name:\n",
    "            specific_dish_prices = np.append(specific_dish_prices, float(price))\n",
    "    \n",
    "    if len(specific_dish_prices) > 0:\n",
    "        return np.min(specific_dish_prices)\n",
    "            "
   ]
  },
  {
   "cell_type": "code",
   "execution_count": 38,
   "metadata": {},
   "outputs": [],
   "source": [
    "# Change the dish here if you want to look at something other than Egg Fried Rice\n",
    "\n",
    "dish = 'egg fried rice'\n",
    "dish_short = '_'.join(dish.split(' '))\n",
    "restaurant_df_clean[dish_short] = restaurant_df_clean['url'].map(lambda x: get_specific_dish_info(find_dishes(scroll_entire_page(x)), dish))"
   ]
  },
  {
   "cell_type": "code",
   "execution_count": 39,
   "metadata": {},
   "outputs": [
    {
     "data": {
      "text/html": [
       "<div>\n",
       "<style scoped>\n",
       "    .dataframe tbody tr th:only-of-type {\n",
       "        vertical-align: middle;\n",
       "    }\n",
       "\n",
       "    .dataframe tbody tr th {\n",
       "        vertical-align: top;\n",
       "    }\n",
       "\n",
       "    .dataframe thead th {\n",
       "        text-align: right;\n",
       "    }\n",
       "</style>\n",
       "<table border=\"1\" class=\"dataframe\">\n",
       "  <thead>\n",
       "    <tr style=\"text-align: right;\">\n",
       "      <th></th>\n",
       "      <th>restaurant_name</th>\n",
       "      <th>egg_fried_rice</th>\n",
       "    </tr>\n",
       "  </thead>\n",
       "  <tbody>\n",
       "    <tr>\n",
       "      <th>68</th>\n",
       "      <td>Hakkasan Mayfair</td>\n",
       "      <td>12.0</td>\n",
       "    </tr>\n",
       "  </tbody>\n",
       "</table>\n",
       "</div>"
      ],
      "text/plain": [
       "     restaurant_name  egg_fried_rice\n",
       "68  Hakkasan Mayfair            12.0"
      ]
     },
     "execution_count": 39,
     "metadata": {},
     "output_type": "execute_result"
    }
   ],
   "source": [
    "# The most expensive place and the price\n",
    "\n",
    "restaurant_df_clean[restaurant_df_clean[dish_short] == restaurant_df_clean[dish_short].max()][['restaurant_name', dish_short]]"
   ]
  },
  {
   "cell_type": "markdown",
   "metadata": {},
   "source": [
    "Now we have all of the data, we can do some plots to gain some insight into it!"
   ]
  },
  {
   "cell_type": "code",
   "execution_count": 40,
   "metadata": {},
   "outputs": [
    {
     "data": {
      "text/plain": [
       "count    70.000000\n",
       "mean      5.178571\n",
       "std       1.766705\n",
       "min       2.500000\n",
       "25%       3.960000\n",
       "50%       4.800000\n",
       "75%       5.800000\n",
       "max      12.000000\n",
       "Name: egg_fried_rice, dtype: float64"
      ]
     },
     "execution_count": 40,
     "metadata": {},
     "output_type": "execute_result"
    }
   ],
   "source": [
    "restaurant_df_clean.describe()[dish_short]"
   ]
  },
  {
   "cell_type": "code",
   "execution_count": 41,
   "metadata": {},
   "outputs": [
    {
     "name": "stderr",
     "output_type": "stream",
     "text": [
      "/home/selvino/.local/lib/python3.8/site-packages/seaborn/_decorators.py:36: FutureWarning: Pass the following variable as a keyword arg: x. From version 0.12, the only valid positional argument will be `data`, and passing other arguments without an explicit keyword will result in an error or misinterpretation.\n",
      "  warnings.warn(\n"
     ]
    },
    {
     "data": {
      "text/plain": [
       "<AxesSubplot:xlabel='egg_fried_rice'>"
      ]
     },
     "execution_count": 41,
     "metadata": {},
     "output_type": "execute_result"
    },
    {
     "data": {
      "image/png": "[encoded data removed]",
      "text/plain": [
       "<Figure size 432x288 with 1 Axes>"
      ]
     },
     "metadata": {
      "needs_background": "light"
     },
     "output_type": "display_data"
    }
   ],
   "source": [
    "sns.boxplot(restaurant_df_clean[dish_short])"
   ]
  },
  {
   "cell_type": "code",
   "execution_count": 42,
   "metadata": {},
   "outputs": [
    {
     "data": {
      "text/plain": [
       "20"
      ]
     },
     "execution_count": 42,
     "metadata": {},
     "output_type": "execute_result"
    }
   ],
   "source": [
    "# How many places charge less than £4.00?\n",
    "\n",
    "price_boundary = 4\n",
    "\n",
    "len(restaurant_df_clean[restaurant_df_clean[dish_short] < price_boundary])"
   ]
  },
  {
   "cell_type": "markdown",
   "metadata": {},
   "source": [
    "Doing a quick google search, a conservative estimate would be that Deliveroo charges a commission of 20% on each order (it's likely to be higher). Therefore, we could roughly forecast what revenues might rise by if we tell everyone selling Egg Fried Rice below 4 pounds to raise it to 4 pounds. We will assume that the number of orders they receive wouldn't change. \n",
    "\n",
    "To be conservative, we will guess that each restaurant receives 5 orders of Egg Fried Rice each day from this postcode."
   ]
  },
  {
   "cell_type": "code",
   "execution_count": 43,
   "metadata": {},
   "outputs": [
    {
     "data": {
      "text/plain": [
       "14125.5"
      ]
     },
     "execution_count": 43,
     "metadata": {},
     "output_type": "execute_result"
    }
   ],
   "source": [
    "# Benefitting from Numpy's elementwise operations!\n",
    "\n",
    "daily_dish_orders = 5\n",
    "\n",
    "dish_prices = np.array(restaurant_df_clean[restaurant_df_clean[dish_short] < price_boundary][dish_short])\n",
    "revenue_gain = ((price_boundary - dish_prices) * daily_dish_orders * 365).sum()\n",
    "revenue_gain"
   ]
  },
  {
   "cell_type": "markdown",
   "metadata": {},
   "source": [
    "### Wow! According to the above, this simple change in pricing is likely to increase Deliveroo's revenues by at least £14,000 from this postcode alone!\n",
    "\n",
    "(This is assuming our assumptions are in fact conservative!)"
   ]
  },
  {
   "cell_type": "code",
   "execution_count": 44,
   "metadata": {},
   "outputs": [],
   "source": [
    "# Saving down the final data so that you don't necessarily have to scrape it all again \n",
    "# Use Pandas to load the final data if you want to skip to this part\n",
    "\n",
    "restaurant_df_clean.to_csv('final_csv')"
   ]
  },
  {
   "cell_type": "code",
   "execution_count": null,
   "metadata": {},
   "outputs": [],
   "source": []
  }
 ],
 "metadata": {
  "kernelspec": {
   "display_name": "Python 3",
   "language": "python",
   "name": "python3"
  },
  "language_info": {
   "codemirror_mode": {
    "name": "ipython",
    "version": 3
   },
   "file_extension": ".py",
   "mimetype": "text/x-python",
   "name": "python",
   "nbconvert_exporter": "python",
   "pygments_lexer": "ipython3",
   "version": "3.8.8"
  }
 },
 "nbformat": 4,
 "nbformat_minor": 4
}
