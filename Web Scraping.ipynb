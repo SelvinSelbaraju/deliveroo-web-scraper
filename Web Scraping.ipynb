{
 "cells": [
  {
   "cell_type": "code",
   "execution_count": 90,
   "metadata": {},
   "outputs": [],
   "source": [
    "# Import BeautifulSoup to parse the html and selenium, time to simulate a Chrome window\n",
    "# Simulation of the chrome window allows us to get around the issue of the infinite scroll site\n",
    "# Time is used to pause execution to allow the simulated Chrome window to load\n",
    "# pandas and numpy are imported to manipulate the data\n",
    "\n",
    "from bs4 import BeautifulSoup\n",
    "from selenium import webdriver\n",
    "import time\n",
    "import pandas as pd\n",
    "import numpy as np\n",
    "from nltk.tokenize import sent_tokenize\n",
    "\n",
    "import matplotlib.pyplot as plt\n",
    "import seaborn as sns"
   ]
  },
  {
   "cell_type": "code",
   "execution_count": 2,
   "metadata": {},
   "outputs": [],
   "source": [
    "# Setup the parameters for url, chromedriver path and how long it takes your device to render the updated restaurants\n",
    "postcode = 'SW1A 2AA'\n",
    "url = f'https://deliveroo.co.uk/restaurants/london/westminster?postcode={postcode}&collection=all-restaurants'\n",
    "chrome_driver_path = r'/home/selvino/chrome-driver/chromedriver'\n",
    "initial_load_time = 2\n",
    "scroll_pause_time = 1.5"
   ]
  },
  {
   "cell_type": "code",
   "execution_count": 3,
   "metadata": {},
   "outputs": [],
   "source": [
    "# Assign the webdriver to a variable which simulates an instance of Chrome on the url of choice\n",
    "# The 2 seconds sleep gives the webpage a 2 second break to load initially\n",
    "# Get the height of the devices screen to know how much needs to be scrolled each time\n",
    "# Tell the browser to click on the accept cookies button and the £10 off button\n",
    "\n",
    "driver = webdriver.Chrome(executable_path=chrome_driver_path)\n",
    "driver.get(url)\n",
    "time.sleep(initial_load_time)\n",
    "screen_height = driver.execute_script('return window.screen.height;')\n",
    "driver.execute_script('document.querySelector(\".accept-cookies-button\").click()')\n",
    "# driver.execute_script('document.querySelectorAll(\".ccl-d0484b0360a2b432\")[1].click()')"
   ]
  },
  {
   "cell_type": "code",
   "execution_count": 4,
   "metadata": {},
   "outputs": [],
   "source": [
    "# Create a whie loop that scrolls through the website. This is done so the full infinite scrolling webpage renders and is in the html source\n",
    "# During every iteration of the loop, the window is scrolled through by the size of the screen\n",
    "# This is done by scrolling to a multiple of the screen height, which increases by one every iteration\n",
    "# When the place to scroll to exceeds where the window is currently at, it means we must be at the bottom of the page\n",
    "# I.e, once we have scrolled to the bottom, the current location on the window is fixed while the place to scroll to increases on every iteration\n",
    "\n",
    "i = 1\n",
    "while True:\n",
    "    driver.execute_script(\"window.scrollTo(0, {screen_height} * {i});\".format(screen_height=screen_height, i = i))\n",
    "    i += 1\n",
    "    time.sleep(scroll_pause_time)\n",
    "    scroll_height = driver.execute_script(\"return document.body.scrollHeight\")\n",
    "    if screen_height * i > scroll_height: \n",
    "        break"
   ]
  },
  {
   "cell_type": "code",
   "execution_count": 5,
   "metadata": {},
   "outputs": [],
   "source": [
    "# Create a beautiful soup object that parses the html and has useful methods for reading the text\n",
    "soup = BeautifulSoup(driver.page_source, 'html.parser')"
   ]
  },
  {
   "cell_type": "code",
   "execution_count": 6,
   "metadata": {
    "scrolled": true
   },
   "outputs": [
    {
     "data": {
      "text/plain": [
       "<a aria-label=\"Restaurant Sticks'n'Sushi. Delivers in 15 to 30 minutes. Rated 4.8 from 500+ reviews. Serves Sushi and Japanese.\" class=\"HomeFeedUICard-1cc6964985e41c86\" href=\"/menu/london/soho/sticksnsushi-soho?day=today&amp;postcode=SW1A2AA&amp;time=ASAP\"><span class=\"HomeFeedUICard-ebc18e264cc4b96c\"><span class=\"HomeFeedUICard-c6f6e82a465d3148\" style=\"border-style:solid;border-top-color:initial;border-right-color:initial;border-bottom-color:initial;border-left-color:initial\"><div class=\"ccl-45bd106b75353ec9\" style='background-image: url(\"https://rs-menus-api.roocdn.com/images/c5a62754-30d3-46d5-a9e5-1d51a11207fe/image.jpeg?width=268&amp;height=150&amp;auto=webp&amp;format=jpg&amp;fit=crop&amp;v=\");'><div class=\"ccl-d5fa9efd412993ea ccl-0220f29e0da451eb\"></div><div class=\"ccl-0ca6410c5e153903\"><div class=\"HomeFeedUICard-19d5d31598e0335f\"><div class=\"HomeFeedUICard-dce4e0d3970c801d\" style=\"background-color:initial\"><span class=\"HomeFeedUICard-d189665d30dc18af HomeFeedUICard-2002941ca3f01c1b\"><ul class=\"HomeFeedUICard-5fdde013431a78b7\" style=\"background-color:#00ccbc\"><li class=\"HomeFeedUILines-678297d91ca76a11 HomeFeedUILines-b14cc89a6ffde45b\"><span class=\"HomeFeedUILines-c129ebfb232f6e54\" style=\"color:#ffffff\"><span class=\"ccl-462400680c526774 ccl-ed34b65f78f16205\"><svg class=\"ccl-0f24ac4b87ce1f67 ccl-ed34b65f78f16205\" height=\"24\" viewbox=\"0 0 24 24\" width=\"24\"><path d=\"M12 2C16.4183 2 20 5.58167 20 10C20 12.0287 19.2445 13.8806 18 15.2908V22L12 19L6 22V15.2908C4.7555 13.8806 4 12.0287 4 10C4 5.58167 7.58175 2 12 2ZM18 10C18 6.69158 15.3084 4 12 4C8.69158 4 6 6.69158 6 10C6 13.3084 8.69158 16 12 16C15.3084 16 18 13.3084 18 10ZM8.28554 13.1651L7.7476 10.6412L10.7926 9.99577L10.1191 6.83613L12.2314 6.38835L12.9049 9.54799L13.2999 5.79996L15.4476 6.02521L14.8646 11.5573L13.64 14.3L8.28554 13.1651ZM11.3836 10.6198C11.2808 10.6217 11.0753 10.6466 11.0317 10.8141C10.9731 11.0396 11.0418 11.2261 11.1967 11.2774C11.3514 11.3286 11.4974 11.3379 11.6079 11.2371C11.7186 11.1363 11.753 11.007 11.7173 10.8531C11.6922 10.7461 11.5692 10.6759 11.4965 10.643C11.461 10.627 11.4226 10.6192 11.3836 10.6198ZM12.604 10.9617C12.5678 11.0074 12.5447 11.0618 12.5363 11.1195C12.5211 11.2254 12.5203 11.399 12.66 11.4673C12.8672 11.5685 13.0778 11.5501 13.1582 11.4111C13.2384 11.2718 13.2765 11.1326 13.2004 11.0062C13.1243 10.8797 12.9898 10.8096 12.8334 10.8138C12.7373 10.8164 12.6539 10.8984 12.604 10.9617Z\"></path></svg></span></span><span class=\"HomeFeedUILines-c129ebfb232f6e54\" style=\"color:initial\"><div class=\"ccl-b308a2db3758e3e5\"><span></span></div></span><span class=\"HomeFeedUILines-c129ebfb232f6e54\" style=\"color:#ffffff\"><span class=\"ccl-19882374e640f487 ccl-417df52a76832172\">Only on Deliveroo</span></span></li></ul></span></div></div></div></div></span><span class=\"HomeFeedUICard-45fe00a3d559fba5\"><div class=\"HomeFeedUICard-3eaa3aeebdb9dda4\"><span class=\"Bubble-a0bf5c868196e217\"><span class=\"Bubble-0d35c37908d90be4\"><p class=\"ccl-19882374e640f487 ccl-417df52a76832172 ccl-a5fb02a1085896d3 ccl-dd90031787517421 ccl-9d0a5327c911d0f3\">15 – 30</p></span><span class=\"Bubble-f08a84a2192935a4\"><p class=\"ccl-19882374e640f487 ccl-1244c6519d4203b3 ccl-dfaaa1af6c70149c ccl-9d0a5327c911d0f3\">min</p></span></span></div><div class=\"HomeFeedUICard-15a8581a1528e2fd HomeFeedUICard-b63a23d2807ee0c8\"><ul><li class=\"HomeFeedUILines-eb6434808e8af585 HomeFeedUILines-678297d91ca76a11\"><span class=\"\" style=\"color:#2e3333\"><p class=\"ccl-19882374e640f487 ccl-417df52a76832172 ccl-a5fb02a1085896d3 ccl-dd90031787517421 ccl-9d0a5327c911d0f3\">Sticks'n'Sushi</p></span></li><li class=\"HomeFeedUILines-678297d91ca76a11 HomeFeedUILines-f15fca32260e4b30\"><span class=\"HomeFeedUILines-c129ebfb232f6e54\" style=\"color:#77bf2a\"><span class=\"ccl-462400680c526774 ccl-ed34b65f78f16205\"><svg class=\"ccl-0f24ac4b87ce1f67 ccl-ed34b65f78f16205\" height=\"24\" viewbox=\"0 0 24 24\" width=\"24\"><path d=\"M12 1L9 9H2L7 14.0001L5 21L12 17.0001L19 21L17 14.0001L22 9H15L12 1Z\"></path></svg></span></span><span class=\"HomeFeedUILines-c129ebfb232f6e54\" style=\"color:initial\"><div class=\"ccl-b308a2db3758e3e5\"><span></span></div></span><span class=\"HomeFeedUILines-c129ebfb232f6e54\" style=\"color:#77bf2a\"><span class=\"ccl-19882374e640f487 ccl-417df52a76832172\">4.8 Excellent</span></span><span class=\"HomeFeedUILines-c129ebfb232f6e54\" style=\"color:initial\"><div class=\"ccl-b308a2db3758e3e5\"><span></span></div></span><span class=\"HomeFeedUILines-c129ebfb232f6e54\" style=\"color:#8c9b9b\"><span class=\"ccl-19882374e640f487 ccl-417df52a76832172\">(500+)</span></span><span class=\"HomeFeedUILines-c129ebfb232f6e54\" style=\"color:initial\"><div class=\"ccl-b308a2db3758e3e5\"><span></span></div></span><span class=\"HomeFeedUILines-c129ebfb232f6e54\" style=\"color:#828585\"><span class=\"ccl-19882374e640f487 ccl-417df52a76832172\">·</span></span><span class=\"HomeFeedUILines-c129ebfb232f6e54\" style=\"color:initial\"><div class=\"ccl-b308a2db3758e3e5\"><span></span></div></span><span class=\"HomeFeedUILines-c129ebfb232f6e54\" style=\"color:#828585\"><span class=\"ccl-19882374e640f487 ccl-417df52a76832172\">Sushi</span></span><span class=\"HomeFeedUILines-c129ebfb232f6e54\" style=\"color:initial\"><div class=\"ccl-b308a2db3758e3e5\"><span></span></div></span><span class=\"HomeFeedUILines-c129ebfb232f6e54\" style=\"color:#828585\"><span class=\"ccl-19882374e640f487 ccl-417df52a76832172\">·</span></span><span class=\"HomeFeedUILines-c129ebfb232f6e54\" style=\"color:initial\"><div class=\"ccl-b308a2db3758e3e5\"><span></span></div></span><span class=\"HomeFeedUILines-c129ebfb232f6e54\" style=\"color:#828585\"><span class=\"ccl-19882374e640f487 ccl-417df52a76832172\">Japanese</span></span></li><li class=\"HomeFeedUILines-678297d91ca76a11 HomeFeedUILines-f15fca32260e4b30\"><span class=\"HomeFeedUILines-c129ebfb232f6e54\" style=\"color:#828585\"><span class=\"ccl-19882374e640f487 ccl-417df52a76832172\">0.7 miles away</span></span><span class=\"HomeFeedUILines-c129ebfb232f6e54\" style=\"color:initial\"><div class=\"ccl-b308a2db3758e3e5\"><span></span></div></span><span class=\"HomeFeedUILines-c129ebfb232f6e54\" style=\"color:#828585\"><span class=\"ccl-19882374e640f487 ccl-417df52a76832172\">·</span></span><span class=\"HomeFeedUILines-c129ebfb232f6e54\" style=\"color:initial\"><div class=\"ccl-b308a2db3758e3e5\"><span></span></div></span><span class=\"HomeFeedUILines-c129ebfb232f6e54\" style=\"color:#828585\"><span class=\"ccl-19882374e640f487 ccl-417df52a76832172\">£3.49 delivery</span></span></li></ul></div></span></span></a>"
      ]
     },
     "execution_count": 6,
     "metadata": {},
     "output_type": "execute_result"
    }
   ],
   "source": [
    "# Looks like all the restaurants that can be ordered from (clicked on) are wrapped in an a tag\n",
    "# The aria-label attribute is in all of the a tags that we want\n",
    "# Therefore, we need to filter through the html and find all the a tags that have the aria-label attribute\n",
    "# The a tags with the restaurants in are also very long in comparison to the other a tags that have aria-labels\n",
    "soup.find_all('a')[6]"
   ]
  },
  {
   "cell_type": "code",
   "execution_count": 7,
   "metadata": {},
   "outputs": [],
   "source": [
    "# Define a function that returns only if the tag is an a tag and it has the aria label attribute\n",
    "\n",
    "def has_aria_label(tag):\n",
    "    if tag.name == 'a':\n",
    "        return tag.has_attr('aria-label')"
   ]
  },
  {
   "cell_type": "code",
   "execution_count": 8,
   "metadata": {},
   "outputs": [],
   "source": [
    "# All potential restaurants will meet this criteria. But we will also need to filter based on length of the a tag\n",
    "# I chose 300 just by trial and error, starting from 100 and getting rid of the short links\n",
    "potential_restaurants = soup.find_all(has_aria_label)\n",
    "restaurants = [str(x) for x in potential_restaurants if len(str(x)) > 300 ]"
   ]
  },
  {
   "cell_type": "code",
   "execution_count": 9,
   "metadata": {
    "scrolled": true
   },
   "outputs": [],
   "source": [
    "# Within an a tag, most of the useful information is stated after the word Restaurant (with a space)\n",
    "# Most of the useful data ends with a \" because aria-label is a html attribute\n",
    "# We will use that as a data identifier, and look for all the text after this start identifier and before the end identifier\n",
    "\n",
    "def find_main_data(text):\n",
    "    start_identifier = 'Restaurant '\n",
    "    end_identifier = '\"'\n",
    "    search_start = text.find(start_identifier) + len(start_identifier)\n",
    "    search_end = text.find(end_identifier, search_start)\n",
    "    return text[search_start:search_end]"
   ]
  },
  {
   "cell_type": "code",
   "execution_count": 10,
   "metadata": {},
   "outputs": [],
   "source": [
    "# Distance is given in miles, so searching for the text 'miles' or 'mile' away will help us find the distance\n",
    "# Before the words 'miles away', the distance is given to one decimal place, eg x.xx miles away\n",
    "# Therefore, we need to go back 4 from the position of miles away\n",
    "# For mile away, distance is given as 1 mile away\n",
    "# Therefore, we need to go back 2 from the position of mile away\n",
    "\n",
    "def find_distance_data(text):\n",
    "    identifier = 'miles away'\n",
    "    sub_identifier = 'mile away'\n",
    "    start_index = text.find(identifier)\n",
    "    if start_index == -1:\n",
    "        search_start = text.find(sub_identifier) -2\n",
    "        search_end = search_start + 2 + len(sub_identifier)\n",
    "    else:\n",
    "        search_start = text.find(identifier) -4\n",
    "        search_end = search_start + 4 + len(identifier)\n",
    "    return text[search_start: search_end]"
   ]
  },
  {
   "cell_type": "code",
   "execution_count": 11,
   "metadata": {},
   "outputs": [],
   "source": [
    "# Delivery Cost will be found after a pound sign, although if there is no cost, we assume there is free delivery\n",
    "# Luckily, the delivery cost comes before the text stating 'Buy X get £Y off', otherwise we get the wrong cost\n",
    "# There are no offer badges that have pound signs except those with the delivery cost, so no issue with getting the wrong '£' text\n",
    "# If the text contains free delivery, then the cost should be 0\n",
    "   \n",
    "def find_delivery_cost(text):\n",
    "    identifier = '£'\n",
    "    search_start = text.find(identifier)\n",
    "    if 'Free delivery' in text:\n",
    "        return '£0.00'\n",
    "    if search_start == -1:\n",
    "        return '£0.00'\n",
    "    else:\n",
    "        return text[search_start: search_start + 5]"
   ]
  },
  {
   "cell_type": "code",
   "execution_count": 12,
   "metadata": {},
   "outputs": [],
   "source": [
    "# For each of the restaurants, find the main data, distance and delivery cost\n",
    "# Put those into a dictionary so we can make them into a dataframe\n",
    "\n",
    "restaurants_list = []\n",
    "id = 0\n",
    "for restaurant in restaurants:\n",
    "    restaurant_dictionary = {\n",
    "        'id': id,\n",
    "        'main_data': find_main_data(restaurant),\n",
    "        'distance': find_distance_data(restaurant),\n",
    "        'delivery_cost': find_delivery_cost(restaurant)\n",
    "    }\n",
    "    restaurants_list.append(restaurant_dictionary)\n",
    "    id += 1\n",
    "    "
   ]
  },
  {
   "cell_type": "code",
   "execution_count": 29,
   "metadata": {
    "scrolled": true
   },
   "outputs": [],
   "source": [
    "# Make the dataframe from the dictionary\n",
    "restaurant_df = pd.DataFrame.from_dict(restaurants_list)"
   ]
  },
  {
   "cell_type": "code",
   "execution_count": 55,
   "metadata": {},
   "outputs": [],
   "source": [
    "# Now we need to clean the data! For example, the main_data column has several bits of data in\n",
    "# Sentence Tokenize from nltk seperates the main data into sentences, making it easier to get each bit of data\n",
    "restaurant_df['restaurant_name'] = restaurant_df['main_data'].map(lambda x: sent_tokenize(x.replace('&amp;', '&'))[0][:-1])\n",
    "restaurant_df['delivery_time'] = restaurant_df['main_data'].map(lambda x: sent_tokenize(x)[1].split(' ')[2:5])"
   ]
  },
  {
   "cell_type": "code",
   "execution_count": 86,
   "metadata": {},
   "outputs": [],
   "source": [
    "# Unfortunately, some restaurants have no reviews\n",
    "# Because it is more complicated, will make a function to specifically tackle this \n",
    "\n",
    "def find_review_data(text):\n",
    "    start_identifier = 'Rated '\n",
    "    end_identifier = 'reviews'\n",
    "    search_start = text.find(start_identifier)\n",
    "    if search_start > -1:\n",
    "        search_end = text.find(end_identifier, search_start) - 1\n",
    "        review_data = text[search_start: search_end]\n",
    "        review_score = float(review_data.split(' ')[1])\n",
    "        review_number = int(review_data.split(' ')[-1].split('+')[0])\n",
    "        return {'score': review_score, 'number': review_number} \n",
    "    else:\n",
    "        return {'score': 'None', 'number': 'None' }\n",
    "    \n",
    "restaurant_df['rating_score'] = restaurant_df['main_data'].map(lambda x: find_review_data(x)['score'])\n",
    "restaurant_df['rating_number'] = restaurant_df['main_data'].map(lambda x: find_review_data(x)['number'])"
   ]
  },
  {
   "cell_type": "code",
   "execution_count": 93,
   "metadata": {},
   "outputs": [
    {
     "data": {
      "text/plain": [
       "<AxesSubplot:xlabel='rating_number', ylabel='Density'>"
      ]
     },
     "execution_count": 93,
     "metadata": {},
     "output_type": "execute_result"
    },
    {
     "data": {
      "image/png": "[encoded data removed]",
      "text/plain": [
       "<Figure size 432x288 with 1 Axes>"
      ]
     },
     "metadata": {
      "needs_background": "light"
     },
     "output_type": "display_data"
    }
   ],
   "source": [
    "sns.distplot(restaurant_df[restaurant_df['rating_number'] != 'None']['rating_number'])"
   ]
  },
  {
   "cell_type": "code",
   "execution_count": null,
   "metadata": {},
   "outputs": [],
   "source": []
  }
 ],
 "metadata": {
  "kernelspec": {
   "display_name": "Python 3",
   "language": "python",
   "name": "python3"
  },
  "language_info": {
   "codemirror_mode": {
    "name": "ipython",
    "version": 3
   },
   "file_extension": ".py",
   "mimetype": "text/x-python",
   "name": "python",
   "nbconvert_exporter": "python",
   "pygments_lexer": "ipython3",
   "version": "3.8.5"
  }
 },
 "nbformat": 4,
 "nbformat_minor": 4
}
