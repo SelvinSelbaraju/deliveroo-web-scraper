{
 "cells": [
  {
   "cell_type": "markdown",
   "metadata": {},
   "source": [
    "# Welcome to my Deliveroo Web Scraping Notebook!\n",
    "\n",
    "The aim of this project is to be able to scrape key information on all the restaurants that deliver to a certain postcode at the time of scraping.\n",
    "\n",
    "We will the following restaurant data: \n",
    "1. Name\n",
    "2. Cuisines\n",
    "3. Rating (number of ratings and score)\n",
    "4. Distance\n",
    "5. Delivery Cost\n",
    "6. Delivery Time\n",
    "\n",
    "Using this information, we can perform some data visualisations and simple analysis. For example, we may want to see what is the best cuisine in our area, or see if there is a relationship between the number of reviews and the review score.\n",
    "\n",
    "If you are new to Python and are interested in Data Science, I would recommend installing the Anaconda distribution. It comes with lots of the important libraries built-in, so you don't need to worry about installing them.I have had a lot less issues using the Conda installer in comparison to the default Python Pip installer.  \n",
    "\n",
    "### This only works for the UK at the moment\n",
    "\n",
    "# Let's get into the code!"
   ]
  },
  {
   "cell_type": "markdown",
   "metadata": {},
   "source": [
    "# Imports\n",
    "\n",
    "First, we'll import some libraries. These libraries can all be installed using either 'pip install x' or 'conda install x' for those using the Anaconda distribution. I usually use conda install. \n",
    "\n",
    "For those not familiar with web scraping, these librarires will seem very perplexing. I'll explain them below: \n",
    "\n",
    "### BeautifulSoup\n",
    "This is a great html parser. It helps us search through a html file for certain tags, certain attributes and much more! See the documentation and download here: https://www.crummy.com/software/BeautifulSoup/bs4/doc/ ,  https://anaconda.org/anaconda/beautifulsoup4\n",
    "\n",
    "\n",
    "### Selenium\n",
    "This is an awesome tool that will help us simulate an instance of Chrome. A problem we will come across is that Deliveroo has an 'infinite scroll' site. This means that much of the page doesn't load until you get to the bottom of the current section. If we extract the html file without scrolling through the page, we won't load most of the data. Therefore, we use Selenium to scroll through the entire page, and then extract the final html file once it hits the bottom. See the Selenium documentation here: https://www.selenium.dev/documentation/en/ , https://anaconda.org/conda-forge/selenium\n",
    "\n",
    "We want to simulate an instance of Chrome, so we use the ChromeDriver exe that can be downloaded here: https://chromedriver.chromium.org/.\n",
    "\n",
    "\n",
    "## The more common Python libraries: \n",
    "\n",
    "\n",
    "### Time\n",
    "This is a built-in Python library used to elapse time in our code running. We use it to provide a delay, so that Selenium can let the page load before it scrolls down. Without this, Selenium would just scroll through the entire page, but none of the information would load! See the documentation here: https://docs.python.org/3/library/time.html (Built-in so no need for an external install!)\n",
    "\n",
    "\n",
    "### Numpy, Pandas\n",
    "These are the classic data manipulation libraries and are very common in Data Science. They are even built-in to the Anaconda distribution, so no need for an external install! Numpy stands for 'Numerical Python' and is great at performing calculations on arrays and matrices. It does this faster than Python lists because Python lists contain essentially act as a pointer, to where the information in the list is stored on your computer. This is important for when your list has multiple data types, but when working with numbers, we don't need this! Numpy also allows for element rise operations within an array or matrix. Thus Numpy provides a really efficient way to handle numerical data! See the documentation here: https://numpy.org/doc/stable/\n",
    "\n",
    "Pandas' name actually comes from 'Panel Data' as opposed to the furry animal! It allows us to create DataFrame objects, which essentially look like Excel style tables. We have individual observations (in our case restaurants) in each row, and the attributes of restaurants in the columns. It allows us to get certain sections of these tables, or to manipulate them. Pandas actually uses Numpy under the hood!See the documentation here: https://pandas.pydata.org/docs/\n",
    "\n",
    "\n",
    "### Matplotlib, Seaborn\n",
    "These are very beginner friendly data visualisation libraries. These are also built-in to Anaconda. They both allow for quick plotting of all sorts of charts. For example, histograms, bar graphs, scatter graphs, boxplots and more! See the documentation here: https://matplotlib.org/\n",
    "\n",
    "Seaborn is built on top of Matplotlib and looks more beautiful in my opinion. It's also really simple to plot boxplots, scatterplots and heatmaps! See the documentation here: https://seaborn.pydata.org/\n",
    "\n",
    "\n",
    "### NLTK (Natural Language Tool Kit)\n",
    "NLTK is a great library for performing operations on text data. Since we are parsing a html file, we will need to efficiently look through it and find all of our data. I only use the 'sent_tokenize' function from this library so that is all I wanted to import. This function is really good at breaking up a string of text into a list of sentences, passed on the punctuation in the sentence. See the documentation and download here: https://www.nltk.org/index.html , https://anaconda.org/anaconda/nltk  "
   ]
  },
  {
   "cell_type": "code",
   "execution_count": 63,
   "metadata": {},
   "outputs": [],
   "source": [
    "from bs4 import BeautifulSoup\n",
    "from selenium import webdriver\n",
    "import time\n",
    "import pandas as pd\n",
    "import numpy as np\n",
    "import matplotlib.pyplot as plt\n",
    "import seaborn as sns\n",
    "from nltk.tokenize import sent_tokenize\n",
    "\n",
    "# This is so \n",
    "%matplotlib inline"
   ]
  },
  {
   "cell_type": "markdown",
   "metadata": {},
   "source": [
    "# Initial Parameters\n",
    "\n",
    "These will be the only things the user needs to set.\n",
    "\n",
    "We want to allow the user of the data scraper to look at restaurants that deliver specifically to their postcode. \n",
    "\n",
    "Since data is scraped from the deliveroo website for a certain postcode, we need to make that easy to change within the url of the website. We use an 'f string' which allows for variables within a string. \n",
    "\n",
    "We then need to tell Selenium where our ChromeDriver is saved, so we need to give it the path. This may vary for you depending on where you save it. I'm on Linux, and I just saved it in a folder in the home directory. We need to use an 'r string' which stands for raw string because '/' is an escape character in strings in Python. This means it isn't treated as a '/', it has a special purpose. Telling Python we want a raw string means that it won't misinterpret '/'\n",
    "\n",
    "The two time variables are used to decide how long Selenium should wait at certain stages. The initial_load_time variable is how long Selenium waits when the page initially loads, so we can get the data at the top of the page. The scroll_pause_time variable is how long Selenium waits before scrolling again, so that the data can load. I would watch the browser window Selenium opens to get an understanding of how these work and why they are needed. These times may need to be tweaked depending on the power of your computer and/or your internet speed."
   ]
  },
  {
   "cell_type": "code",
   "execution_count": 64,
   "metadata": {},
   "outputs": [],
   "source": [
    "# This isn't my postcode btw... It's the prime minister's :)\n",
    "# Regardless of where you are in the UK, by changing the postcode, the url will automatically change\n",
    "\n",
    "postcode = 'SW1A 2AA'\n",
    "url = f'https://deliveroo.co.uk/restaurants/london/westminster?postcode={postcode}&collection=all-restaurants'\n",
    "chrome_driver_path = r'/home/selvino/chrome-driver/chromedriver'\n",
    "initial_load_time = 2\n",
    "scroll_pause_time = 1.5"
   ]
  },
  {
   "cell_type": "markdown",
   "metadata": {},
   "source": [
    "# It's Scraping Time!\n",
    "\n",
    "As already mentioned, we want to simulate an instance of Chrome that scrolls through the entire Deliveroo website, so we can get a complete html file with all the data.\n",
    "\n",
    "We make an instance of Chromedriver and then tell it to load the url we created above. We pause execution by our initial_load_time variable so the page can initially load.\n",
    "\n",
    "We then run some basic javascript commands within our simulated Chrome window to do several things:\n",
    "1. Store the height of the screen as a variable, so we know how far to scroll at each step\n",
    "2. 'Click' the accept cookies button\n",
    "3. 'Click' the button about getting £10 off (this may no longer be there when you run it)\n",
    "\n",
    "After this, we want to start scrolling through the entire page. By using a while loop, we can keep scrolling through the page (using a javascript command) until the point we want to scroll to is off the page. I.e, when the location where we should be is greater than the location we are at, it must have mean that scrolling has stopped (hit the bottom of the page). "
   ]
  },
  {
   "cell_type": "code",
   "execution_count": 65,
   "metadata": {},
   "outputs": [],
   "source": [
    "driver = webdriver.Chrome(executable_path=chrome_driver_path)\n",
    "driver.get(url)\n",
    "time.sleep(initial_load_time)\n",
    "screen_height = driver.execute_script('return window.screen.height;')\n",
    "driver.execute_script('document.querySelector(\".accept-cookies-button\").click()')\n",
    "driver.execute_script('document.querySelectorAll(\".ccl-d0484b0360a2b432\")[1].click()')\n",
    "\n",
    "i = 1\n",
    "while True:\n",
    "    driver.execute_script(\"window.scrollTo(0, {screen_height} * {i});\".format(screen_height=screen_height, i = i))\n",
    "    i += 1\n",
    "    time.sleep(scroll_pause_time)\n",
    "    scroll_height = driver.execute_script(\"return document.body.scrollHeight\")\n",
    "    if screen_height * i > scroll_height: \n",
    "        break"
   ]
  },
  {
   "cell_type": "markdown",
   "metadata": {},
   "source": [
    "After we've scrolled through the entire page, we'll use BeautifulSoup to parse the webpage as html. The raw source code of the page is likely to be bundled Javascript, so its much easier to find our data by parsing it as html.\n",
    "\n",
    "The BeautifulSoup object that's created is essentially a really long string with the html of the page. However, BeautifulSoup has some methods in its library that are really helpful for our goal. For example, finding all instances of a html tag or finding instances of a html tag with certain attributes. \n",
    "\n",
    "If you have a look at the site here https://deliveroo.co.uk/restaurants/london/westminster?postcode=SW1A%202AA&collection=all-restaurants, you can see that all the restaurants usually have links. So we can likely get all our data by searching for html 'a' tags, which represent links. \n",
    "\n",
    "However, there are also other links on the page (eg the help section), but their html is likely to be a lot shorter since they don't contain much information. So let's take a look at the distribution of a tag length in our file to see if we can find a natural cut off point. I'm going to guess that restaurant 'a' tags are going to be much longer than the simpler links."
   ]
  },
  {
   "cell_type": "code",
   "execution_count": 66,
   "metadata": {},
   "outputs": [
    {
     "data": {
      "text/plain": [
       "bs4.BeautifulSoup"
      ]
     },
     "execution_count": 66,
     "metadata": {},
     "output_type": "execute_result"
    }
   ],
   "source": [
    "# Create a beautiful soup object that parses the html and has useful methods for reading the text\n",
    "soup = BeautifulSoup(driver.page_source, 'html.parser')\n",
    "type(soup)"
   ]
  },
  {
   "cell_type": "code",
   "execution_count": 67,
   "metadata": {
    "scrolled": true
   },
   "outputs": [
    {
     "data": {
      "text/plain": [
       "<AxesSubplot:xlabel='a Tag Length', ylabel='Count'>"
      ]
     },
     "execution_count": 67,
     "metadata": {},
     "output_type": "execute_result"
    },
    {
     "data": {
      "image/png": "[encoded data removed]",
      "text/plain": [
       "<Figure size 864x360 with 1 Axes>"
      ]
     },
     "metadata": {
      "needs_background": "light"
     },
     "output_type": "display_data"
    }
   ],
   "source": [
    "all_a_tags = soup.find_all('a')\n",
    "len_a_tags = np.array([len(str(x)) for x in all_a_tags])\n",
    "\n",
    "fig, ax = plt.subplots(figsize = (12,5))\n",
    "plt.xlabel('a Tag Length')\n",
    "plt.xticks(np.arange(0, max(len_a_tags), 1000))\n",
    "sns.histplot(len_a_tags, ax = ax)"
   ]
  },
  {
   "cell_type": "markdown",
   "metadata": {},
   "source": [
    "Given the above, if there are no restaurants with between 500 and 1000 characters, would assume they all have over a 1000 characters."
   ]
  },
  {
   "cell_type": "code",
   "execution_count": 68,
   "metadata": {},
   "outputs": [
    {
     "data": {
      "text/plain": [
       "[<a class=\"ccl-985cb265c6f6a9c1\" href=\"/login?redirect=%2Frestaurants%2Flondon%2Fwestminster%2F%3Fpostcode%3DSW1A%25202AA%26collection%3Dall-restaurants\"><span class=\"ccl-c7e8470a1e905a95\"><span class=\"ccl-462400680c526774 ccl-ed34b65f78f16205\"><svg class=\"ccl-0f24ac4b87ce1f67 ccl-ed34b65f78f16205 ccl-c738ab1fde928049\" height=\"24\" viewbox=\"0 0 24 24\" width=\"24\"><path d=\"M3 10L5 8.44444V5H9.42857L12 3L21 10V21H3V10ZM14 19H19V10.9782L12 5.53372L5 10.9782V19H10V14H14V19Z\"></path></svg></span><span class=\"ccl-19882374e640f487 ccl-417df52a76832172 ccl-deab34eb04186352 ccl-d20a5732188988de ccl-6a536dee6972c57c\"><span class=\"ccl-19882374e640f487 ccl-1daa0367dee37c3b ccl-a5fb02a1085896d3 ccl-b308a2db3758e3e5\">Sign up or log in</span></span></span></a>,\n",
       " <a aria-label=\"Restaurant Hoppers . Delivers in 25 to 40 minutes. Rated 4.7 from 500+ reviews. Serves Indian and Curry.\" class=\"HomeFeedUICard-1cc6964985e41c86\" href=\"/menu/london/marylebone/hoppers?day=today&amp;postcode=SW1A2AA&amp;time=ASAP\"><span class=\"HomeFeedUICard-c6f6e82a465d3148\"><div class=\"HomeFeedUICard-a0ab05a247f7e7a6\"></div></span><div class=\"HomeFeedUICard-145e2409276fec2d\"><p class=\"ccl-19882374e640f487 ccl-1daa0367dee37c3b ccl-a5fb02a1085896d3 ccl-9d0a5327c911d0f3\"><span class=\"HomeFeedUICard-47968c55017d6795\">Placeholder</span></p><ul><li><span class=\"HomeFeedUICard-47968c55017d6795\">Placeholder</span><span class=\"HomeFeedUICard-47968c55017d6795\">Placeholder</span><span class=\"HomeFeedUICard-47968c55017d6795\">Placeholder</span><span class=\"HomeFeedUICard-47968c55017d6795\">Placeholder</span></li></ul><ul><li><span class=\"HomeFeedUICard-47968c55017d6795\">Placeholder</span><span class=\"HomeFeedUICard-47968c55017d6795\">Placeholder</span></li></ul></div></a>,\n",
       " <a aria-label=\"Restaurant CRÈME. Delivers in 20 to 30 minutes. Rated 4.8 from 500+ reviews. Serves Dessert.\" class=\"HomeFeedUICard-1cc6964985e41c86\" href=\"/menu/london/soho/creme-mayfair?day=today&amp;postcode=SW1A2AA&amp;time=ASAP\"><span class=\"HomeFeedUICard-c6f6e82a465d3148\"><div class=\"HomeFeedUICard-a0ab05a247f7e7a6\"></div></span><div class=\"HomeFeedUICard-145e2409276fec2d\"><p class=\"ccl-19882374e640f487 ccl-1daa0367dee37c3b ccl-a5fb02a1085896d3 ccl-9d0a5327c911d0f3\"><span class=\"HomeFeedUICard-47968c55017d6795\">Placeholder</span></p><ul><li><span class=\"HomeFeedUICard-47968c55017d6795\">Placeholder</span><span class=\"HomeFeedUICard-47968c55017d6795\">Placeholder</span><span class=\"HomeFeedUICard-47968c55017d6795\">Placeholder</span><span class=\"HomeFeedUICard-47968c55017d6795\">Placeholder</span></li></ul><ul><li><span class=\"HomeFeedUICard-47968c55017d6795\">Placeholder</span><span class=\"HomeFeedUICard-47968c55017d6795\">Placeholder</span></li></ul></div></a>,\n",
       " <a aria-label=\"Restaurant Kish Restaurant. Delivers in 40 to 40 minutes. Rated 4.6 from 500+ reviews. Serves Iranian.\" class=\"HomeFeedUICard-1cc6964985e41c86\" href=\"/menu/london/kilburn/kish-restaurant-nw6?day=today&amp;postcode=SW1A2AA&amp;time=ASAP\"><span class=\"HomeFeedUICard-c6f6e82a465d3148\"><div class=\"HomeFeedUICard-a0ab05a247f7e7a6\"></div></span><div class=\"HomeFeedUICard-145e2409276fec2d\"><p class=\"ccl-19882374e640f487 ccl-1daa0367dee37c3b ccl-a5fb02a1085896d3 ccl-9d0a5327c911d0f3\"><span class=\"HomeFeedUICard-47968c55017d6795\">Placeholder</span></p><ul><li><span class=\"HomeFeedUICard-47968c55017d6795\">Placeholder</span><span class=\"HomeFeedUICard-47968c55017d6795\">Placeholder</span><span class=\"HomeFeedUICard-47968c55017d6795\">Placeholder</span><span class=\"HomeFeedUICard-47968c55017d6795\">Placeholder</span></li></ul><ul><li><span class=\"HomeFeedUICard-47968c55017d6795\">Placeholder</span><span class=\"HomeFeedUICard-47968c55017d6795\">Placeholder</span></li></ul></div></a>,\n",
       " <a aria-label=\"Restaurant NAC. Delivers in 35 to 55 minutes. Rated 4.8 from 500+ reviews. Serves Chicken, Dessert, French, and Salads.\" class=\"HomeFeedUICard-1cc6964985e41c86\" href=\"/menu/london/mayfair/nac?day=today&amp;postcode=SW1A2AA&amp;time=ASAP\"><span class=\"HomeFeedUICard-c6f6e82a465d3148\"><div class=\"HomeFeedUICard-a0ab05a247f7e7a6\"></div></span><div class=\"HomeFeedUICard-145e2409276fec2d\"><p class=\"ccl-19882374e640f487 ccl-1daa0367dee37c3b ccl-a5fb02a1085896d3 ccl-9d0a5327c911d0f3\"><span class=\"HomeFeedUICard-47968c55017d6795\">Placeholder</span></p><ul><li><span class=\"HomeFeedUICard-47968c55017d6795\">Placeholder</span><span class=\"HomeFeedUICard-47968c55017d6795\">Placeholder</span><span class=\"HomeFeedUICard-47968c55017d6795\">Placeholder</span><span class=\"HomeFeedUICard-47968c55017d6795\">Placeholder</span></li></ul><ul><li><span class=\"HomeFeedUICard-47968c55017d6795\">Placeholder</span><span class=\"HomeFeedUICard-47968c55017d6795\">Placeholder</span></li></ul></div></a>,\n",
       " <a aria-label=\"Restaurant Wing Wing. Delivers in 25 to 40 minutes. Rated 4.5 from 454 reviews.\" class=\"HomeFeedUICard-1cc6964985e41c86\" href=\"/menu/london/leicester-square/wing-wing-charing-cross?day=today&amp;postcode=SW1A2AA&amp;time=ASAP\"><span class=\"HomeFeedUICard-c6f6e82a465d3148\"><div class=\"HomeFeedUICard-a0ab05a247f7e7a6\"></div></span><div class=\"HomeFeedUICard-145e2409276fec2d\"><p class=\"ccl-19882374e640f487 ccl-1daa0367dee37c3b ccl-a5fb02a1085896d3 ccl-9d0a5327c911d0f3\"><span class=\"HomeFeedUICard-47968c55017d6795\">Placeholder</span></p><ul><li><span class=\"HomeFeedUICard-47968c55017d6795\">Placeholder</span><span class=\"HomeFeedUICard-47968c55017d6795\">Placeholder</span><span class=\"HomeFeedUICard-47968c55017d6795\">Placeholder</span><span class=\"HomeFeedUICard-47968c55017d6795\">Placeholder</span></li></ul><ul><li><span class=\"HomeFeedUICard-47968c55017d6795\">Placeholder</span><span class=\"HomeFeedUICard-47968c55017d6795\">Placeholder</span></li></ul></div></a>,\n",
       " <a class=\"ccl-f65f6247029a98f7 ccl-f41807dbd86452ba\" href=\"https://www.facebook.com/deliveroo.uk\" rel=\"noopener noreferrer\" target=\"_blank\" title=\"Facebook\"><span class=\"ccl-462400680c526774 ccl-abe5c41af1b9498e\"><svg class=\"ccl-0f24ac4b87ce1f67 ccl-abe5c41af1b9498e\" height=\"24\" viewbox=\"0 0 24 24\" width=\"24\"><path d=\"M22 12C22 6.47715 17.5229 2 12 2C6.47715 2 2 6.47715 2 12C2 16.9913 5.65686 21.1283 10.4375 21.8785V14.8906H7.89844V12H10.4375V9.79688C10.4375 7.29063 11.9304 5.90625 14.2146 5.90625C15.3087 5.90625 16.4531 6.10156 16.4531 6.10156V8.5625H15.1921C13.9499 8.5625 13.5625 9.33334 13.5625 10.1242V12H16.3359L15.8926 14.8906H13.5625V21.8785C18.3431 21.1283 22 16.9913 22 12Z\"></path></svg></span></a>]"
      ]
     },
     "execution_count": 68,
     "metadata": {},
     "output_type": "execute_result"
    }
   ],
   "source": [
    "# Is 1000 a good cutoff?\n",
    "\n",
    "[x for x in all_a_tags if len(str(x)) > 500 and len(str(x)) < 1000]"
   ]
  },
  {
   "cell_type": "code",
   "execution_count": 69,
   "metadata": {},
   "outputs": [
    {
     "data": {
      "text/plain": [
       "[<a aria-label=\"Restaurant Tops Pizza. Delivers in 25 to 25 minutes. Rated 4.3 from 500+ reviews. Serves American, Italian, and Pizza.\" class=\"HomeFeedUICard-1cc6964985e41c86\" href=\"/menu/london/angel/tops-pizza-islington?day=today&amp;postcode=SW1A2AA&amp;time=ASAP\"><span class=\"HomeFeedUICard-c6f6e82a465d3148\"><div class=\"HomeFeedUICard-a0ab05a247f7e7a6\"></div></span><div class=\"HomeFeedUICard-145e2409276fec2d\"><p class=\"ccl-19882374e640f487 ccl-1daa0367dee37c3b ccl-a5fb02a1085896d3 ccl-9d0a5327c911d0f3\"><span class=\"HomeFeedUICard-47968c55017d6795\">Placeholder</span></p><ul><li><span class=\"HomeFeedUICard-47968c55017d6795\">Placeholder</span><span class=\"HomeFeedUICard-47968c55017d6795\">Placeholder</span><span class=\"HomeFeedUICard-47968c55017d6795\">Placeholder</span><span class=\"HomeFeedUICard-47968c55017d6795\">Placeholder</span></li></ul><ul><li><span class=\"HomeFeedUICard-47968c55017d6795\">Placeholder</span><span class=\"HomeFeedUICard-47968c55017d6795\">Placeholder</span></li></ul></div></a>,\n",
       " <a aria-label=\"Restaurant Poké The Bear. Delivers in 25 to 45 minutes. Rated 4.8 from 500+ reviews. Serves Hawaiian, Acai, Poke, and Breakfast.\" class=\"HomeFeedUICard-1cc6964985e41c86\" href=\"/menu/london/chelsea/gee-so-simple-and-the-acai-girls?day=today&amp;postcode=SW1A2AA&amp;time=ASAP\"><span class=\"HomeFeedUICard-c6f6e82a465d3148\"><div class=\"HomeFeedUICard-a0ab05a247f7e7a6\"></div></span><div class=\"HomeFeedUICard-145e2409276fec2d\"><p class=\"ccl-19882374e640f487 ccl-1daa0367dee37c3b ccl-a5fb02a1085896d3 ccl-9d0a5327c911d0f3\"><span class=\"HomeFeedUICard-47968c55017d6795\">Placeholder</span></p><ul><li><span class=\"HomeFeedUICard-47968c55017d6795\">Placeholder</span><span class=\"HomeFeedUICard-47968c55017d6795\">Placeholder</span><span class=\"HomeFeedUICard-47968c55017d6795\">Placeholder</span><span class=\"HomeFeedUICard-47968c55017d6795\">Placeholder</span></li></ul><ul><li><span class=\"HomeFeedUICard-47968c55017d6795\">Placeholder</span><span class=\"HomeFeedUICard-47968c55017d6795\">Placeholder</span></li></ul></div></a>,\n",
       " <a aria-label=\"Restaurant PAUL. Delivers in 20 to 35 minutes. Rated 4.8 from 500+ reviews. Serves Pizza, Breakfast, Bakery, and Dessert.\" class=\"HomeFeedUICard-1cc6964985e41c86\" href=\"/menu/london/chelsea/paul-134-kings-road?day=today&amp;postcode=SW1A2AA&amp;time=ASAP\"><span class=\"HomeFeedUICard-c6f6e82a465d3148\"><div class=\"HomeFeedUICard-a0ab05a247f7e7a6\"></div></span><div class=\"HomeFeedUICard-145e2409276fec2d\"><p class=\"ccl-19882374e640f487 ccl-1daa0367dee37c3b ccl-a5fb02a1085896d3 ccl-9d0a5327c911d0f3\"><span class=\"HomeFeedUICard-47968c55017d6795\">Placeholder</span></p><ul><li><span class=\"HomeFeedUICard-47968c55017d6795\">Placeholder</span><span class=\"HomeFeedUICard-47968c55017d6795\">Placeholder</span><span class=\"HomeFeedUICard-47968c55017d6795\">Placeholder</span><span class=\"HomeFeedUICard-47968c55017d6795\">Placeholder</span></li></ul><ul><li><span class=\"HomeFeedUICard-47968c55017d6795\">Placeholder</span><span class=\"HomeFeedUICard-47968c55017d6795\">Placeholder</span></li></ul></div></a>,\n",
       " <a aria-label=\"Restaurant BENS Greengrocers - Kings Road. Delivers in 25 to 40 minutes. Rated 4.8 from 500+ reviews. Serves British, Grocery, Salads, and Healthy.\" class=\"HomeFeedUICard-1cc6964985e41c86\" href=\"/menu/london/chelsea/bens-greengrocers?day=today&amp;postcode=SW1A2AA&amp;time=ASAP\"><span class=\"HomeFeedUICard-c6f6e82a465d3148\"><div class=\"HomeFeedUICard-a0ab05a247f7e7a6\"></div></span><div class=\"HomeFeedUICard-145e2409276fec2d\"><p class=\"ccl-19882374e640f487 ccl-1daa0367dee37c3b ccl-a5fb02a1085896d3 ccl-9d0a5327c911d0f3\"><span class=\"HomeFeedUICard-47968c55017d6795\">Placeholder</span></p><ul><li><span class=\"HomeFeedUICard-47968c55017d6795\">Placeholder</span><span class=\"HomeFeedUICard-47968c55017d6795\">Placeholder</span><span class=\"HomeFeedUICard-47968c55017d6795\">Placeholder</span><span class=\"HomeFeedUICard-47968c55017d6795\">Placeholder</span></li></ul><ul><li><span class=\"HomeFeedUICard-47968c55017d6795\">Placeholder</span><span class=\"HomeFeedUICard-47968c55017d6795\">Placeholder</span></li></ul></div></a>,\n",
       " <a aria-label=\"Restaurant Imperial Treasure Fine Chinese Cuisine 御寶軒. Delivers in 25 to 40 minutes. Rated 4.8 from 500+ reviews. Serves Chinese, BBQ, Dim Sum, and Dumplings.\" class=\"HomeFeedUICard-1cc6964985e41c86\" href=\"/menu/london/st-james's/imperial-treasure-fine-chinese-cuisine?day=today&amp;postcode=SW1A2AA&amp;time=ASAP\"><span class=\"HomeFeedUICard-c6f6e82a465d3148\"><div class=\"HomeFeedUICard-a0ab05a247f7e7a6\"></div></span><div class=\"HomeFeedUICard-145e2409276fec2d\"><p class=\"ccl-19882374e640f487 ccl-1daa0367dee37c3b ccl-a5fb02a1085896d3 ccl-9d0a5327c911d0f3\"><span class=\"HomeFeedUICard-47968c55017d6795\">Placeholder</span></p><ul><li><span class=\"HomeFeedUICard-47968c55017d6795\">Placeholder</span><span class=\"HomeFeedUICard-47968c55017d6795\">Placeholder</span><span class=\"HomeFeedUICard-47968c55017d6795\">Placeholder</span><span class=\"HomeFeedUICard-47968c55017d6795\">Placeholder</span></li></ul><ul><li><span class=\"HomeFeedUICard-47968c55017d6795\">Placeholder</span><span class=\"HomeFeedUICard-47968c55017d6795\">Placeholder</span></li></ul></div></a>,\n",
       " <a aria-label=\"Restaurant Raw Press. Delivers in 25 to 45 minutes. Rated 4.8 from 500+ reviews. Serves Acai, Juices, Healthy, and Salads.\" class=\"HomeFeedUICard-1cc6964985e41c86\" href=\"/menu/london/belgravia/grub-limited?day=today&amp;postcode=SW1A2AA&amp;time=ASAP\"><span class=\"HomeFeedUICard-c6f6e82a465d3148\"><div class=\"HomeFeedUICard-a0ab05a247f7e7a6\"></div></span><div class=\"HomeFeedUICard-145e2409276fec2d\"><p class=\"ccl-19882374e640f487 ccl-1daa0367dee37c3b ccl-a5fb02a1085896d3 ccl-9d0a5327c911d0f3\"><span class=\"HomeFeedUICard-47968c55017d6795\">Placeholder</span></p><ul><li><span class=\"HomeFeedUICard-47968c55017d6795\">Placeholder</span><span class=\"HomeFeedUICard-47968c55017d6795\">Placeholder</span><span class=\"HomeFeedUICard-47968c55017d6795\">Placeholder</span><span class=\"HomeFeedUICard-47968c55017d6795\">Placeholder</span></li></ul><ul><li><span class=\"HomeFeedUICard-47968c55017d6795\">Placeholder</span><span class=\"HomeFeedUICard-47968c55017d6795\">Placeholder</span></li></ul></div></a>,\n",
       " <a aria-label=\"Restaurant Hummingbird Bakery. Delivers in 25 to 40 minutes. Rated 4.8 from 500+ reviews. Serves American and Dessert.\" class=\"HomeFeedUICard-1cc6964985e41c86\" href=\"/menu/london/south-kensington/hummingbird-bakery-south-kensington?day=today&amp;postcode=SW1A2AA&amp;time=ASAP\"><span class=\"HomeFeedUICard-c6f6e82a465d3148\"><div class=\"HomeFeedUICard-a0ab05a247f7e7a6\"></div></span><div class=\"HomeFeedUICard-145e2409276fec2d\"><p class=\"ccl-19882374e640f487 ccl-1daa0367dee37c3b ccl-a5fb02a1085896d3 ccl-9d0a5327c911d0f3\"><span class=\"HomeFeedUICard-47968c55017d6795\">Placeholder</span></p><ul><li><span class=\"HomeFeedUICard-47968c55017d6795\">Placeholder</span><span class=\"HomeFeedUICard-47968c55017d6795\">Placeholder</span><span class=\"HomeFeedUICard-47968c55017d6795\">Placeholder</span><span class=\"HomeFeedUICard-47968c55017d6795\">Placeholder</span></li></ul><ul><li><span class=\"HomeFeedUICard-47968c55017d6795\">Placeholder</span><span class=\"HomeFeedUICard-47968c55017d6795\">Placeholder</span></li></ul></div></a>,\n",
       " <a aria-label=\"Restaurant Mr Meng 孟非的面. Delivers in 15 to 30 minutes. Rated 4.7 from 500+ reviews. Serves Chinese, Noodles, Sichuan, and Seafood.\" class=\"HomeFeedUICard-1cc6964985e41c86\" href=\"/menu/london/soho/mr-meng?day=today&amp;postcode=SW1A2AA&amp;time=ASAP\"><span class=\"HomeFeedUICard-c6f6e82a465d3148\"><div class=\"HomeFeedUICard-a0ab05a247f7e7a6\"></div></span><div class=\"HomeFeedUICard-145e2409276fec2d\"><p class=\"ccl-19882374e640f487 ccl-1daa0367dee37c3b ccl-a5fb02a1085896d3 ccl-9d0a5327c911d0f3\"><span class=\"HomeFeedUICard-47968c55017d6795\">Placeholder</span></p><ul><li><span class=\"HomeFeedUICard-47968c55017d6795\">Placeholder</span><span class=\"HomeFeedUICard-47968c55017d6795\">Placeholder</span><span class=\"HomeFeedUICard-47968c55017d6795\">Placeholder</span><span class=\"HomeFeedUICard-47968c55017d6795\">Placeholder</span></li></ul><ul><li><span class=\"HomeFeedUICard-47968c55017d6795\">Placeholder</span><span class=\"HomeFeedUICard-47968c55017d6795\">Placeholder</span></li></ul></div></a>,\n",
       " <a aria-label=\"Restaurant Mission Saigon - Viêt Kitchen (Vauxhall). Delivers in 20 to 30 minutes. Rated 4.6 from 500+ reviews. Serves Vietnamese, Chicken, Asian, and Dessert.\" class=\"HomeFeedUICard-1cc6964985e41c86\" href=\"/menu/london/lambeth/london-mission-saigon?day=today&amp;postcode=SW1A2AA&amp;time=ASAP\"><span class=\"HomeFeedUICard-c6f6e82a465d3148\"><div class=\"HomeFeedUICard-a0ab05a247f7e7a6\"></div></span><div class=\"HomeFeedUICard-145e2409276fec2d\"><p class=\"ccl-19882374e640f487 ccl-1daa0367dee37c3b ccl-a5fb02a1085896d3 ccl-9d0a5327c911d0f3\"><span class=\"HomeFeedUICard-47968c55017d6795\">Placeholder</span></p><ul><li><span class=\"HomeFeedUICard-47968c55017d6795\">Placeholder</span><span class=\"HomeFeedUICard-47968c55017d6795\">Placeholder</span><span class=\"HomeFeedUICard-47968c55017d6795\">Placeholder</span><span class=\"HomeFeedUICard-47968c55017d6795\">Placeholder</span></li></ul><ul><li><span class=\"HomeFeedUICard-47968c55017d6795\">Placeholder</span><span class=\"HomeFeedUICard-47968c55017d6795\">Placeholder</span></li></ul></div></a>,\n",
       " <a aria-label=\"Restaurant Ishbilia. Delivers in 25 to 45 minutes. Rated 4.7 from 500+ reviews. Serves Lebanese, Chicken, Salads, and Mezze.\" class=\"HomeFeedUICard-1cc6964985e41c86\" href=\"/menu/london/belgravia/ishbilia?day=today&amp;postcode=SW1A2AA&amp;time=ASAP\"><span class=\"HomeFeedUICard-c6f6e82a465d3148\"><div class=\"HomeFeedUICard-a0ab05a247f7e7a6\"></div></span><div class=\"HomeFeedUICard-145e2409276fec2d\"><p class=\"ccl-19882374e640f487 ccl-1daa0367dee37c3b ccl-a5fb02a1085896d3 ccl-9d0a5327c911d0f3\"><span class=\"HomeFeedUICard-47968c55017d6795\">Placeholder</span></p><ul><li><span class=\"HomeFeedUICard-47968c55017d6795\">Placeholder</span><span class=\"HomeFeedUICard-47968c55017d6795\">Placeholder</span><span class=\"HomeFeedUICard-47968c55017d6795\">Placeholder</span><span class=\"HomeFeedUICard-47968c55017d6795\">Placeholder</span></li></ul><ul><li><span class=\"HomeFeedUICard-47968c55017d6795\">Placeholder</span><span class=\"HomeFeedUICard-47968c55017d6795\">Placeholder</span></li></ul></div></a>,\n",
       " <a aria-label=\"Restaurant Royal China Dim Sum 皇朝會點心. Delivers in 40 to 65 minutes. Rated 4.7 from 500+ reviews. Serves Chinese, Dim Sum, Noodles, and Dumplings.\" class=\"HomeFeedUICard-1cc6964985e41c86\" href=\"/menu/london/marylebone/royal-china-club-baker-street?day=today&amp;postcode=SW1A2AA&amp;time=ASAP\"><span class=\"HomeFeedUICard-c6f6e82a465d3148\"><div class=\"HomeFeedUICard-a0ab05a247f7e7a6\"></div></span><div class=\"HomeFeedUICard-145e2409276fec2d\"><p class=\"ccl-19882374e640f487 ccl-1daa0367dee37c3b ccl-a5fb02a1085896d3 ccl-9d0a5327c911d0f3\"><span class=\"HomeFeedUICard-47968c55017d6795\">Placeholder</span></p><ul><li><span class=\"HomeFeedUICard-47968c55017d6795\">Placeholder</span><span class=\"HomeFeedUICard-47968c55017d6795\">Placeholder</span><span class=\"HomeFeedUICard-47968c55017d6795\">Placeholder</span><span class=\"HomeFeedUICard-47968c55017d6795\">Placeholder</span></li></ul><ul><li><span class=\"HomeFeedUICard-47968c55017d6795\">Placeholder</span><span class=\"HomeFeedUICard-47968c55017d6795\">Placeholder</span></li></ul></div></a>,\n",
       " <a aria-label=\"Restaurant Ma La Sichuan 麻辣四川. Delivers in 20 to 30 minutes. Rated 4.8 from 500+ reviews. Serves Chinese, Noodles, Dim Sum, and Sichuan.\" class=\"HomeFeedUICard-1cc6964985e41c86\" href=\"/menu/london/westminster/ma-la-sichuan-london?day=today&amp;postcode=SW1A2AA&amp;time=ASAP\"><span class=\"HomeFeedUICard-c6f6e82a465d3148\"><div class=\"HomeFeedUICard-a0ab05a247f7e7a6\"></div></span><div class=\"HomeFeedUICard-145e2409276fec2d\"><p class=\"ccl-19882374e640f487 ccl-1daa0367dee37c3b ccl-a5fb02a1085896d3 ccl-9d0a5327c911d0f3\"><span class=\"HomeFeedUICard-47968c55017d6795\">Placeholder</span></p><ul><li><span class=\"HomeFeedUICard-47968c55017d6795\">Placeholder</span><span class=\"HomeFeedUICard-47968c55017d6795\">Placeholder</span><span class=\"HomeFeedUICard-47968c55017d6795\">Placeholder</span><span class=\"HomeFeedUICard-47968c55017d6795\">Placeholder</span></li></ul><ul><li><span class=\"HomeFeedUICard-47968c55017d6795\">Placeholder</span><span class=\"HomeFeedUICard-47968c55017d6795\">Placeholder</span></li></ul></div></a>,\n",
       " <a aria-label=\"Restaurant YiFang Fruit Tea Bloomsbury 一芳. Delivers in 20 to 35 minutes. Rated 4.8 from 500+ reviews. Serves Chinese and Bubble tea.\" class=\"HomeFeedUICard-1cc6964985e41c86\" href=\"/menu/london/bloomsbury/yifang-fruit-tea-bloomsbury?day=today&amp;postcode=SW1A2AA&amp;time=ASAP\"><span class=\"HomeFeedUICard-c6f6e82a465d3148\"><div class=\"HomeFeedUICard-a0ab05a247f7e7a6\"></div></span><div class=\"HomeFeedUICard-145e2409276fec2d\"><p class=\"ccl-19882374e640f487 ccl-1daa0367dee37c3b ccl-a5fb02a1085896d3 ccl-9d0a5327c911d0f3\"><span class=\"HomeFeedUICard-47968c55017d6795\">Placeholder</span></p><ul><li><span class=\"HomeFeedUICard-47968c55017d6795\">Placeholder</span><span class=\"HomeFeedUICard-47968c55017d6795\">Placeholder</span><span class=\"HomeFeedUICard-47968c55017d6795\">Placeholder</span><span class=\"HomeFeedUICard-47968c55017d6795\">Placeholder</span></li></ul><ul><li><span class=\"HomeFeedUICard-47968c55017d6795\">Placeholder</span><span class=\"HomeFeedUICard-47968c55017d6795\">Placeholder</span></li></ul></div></a>,\n",
       " <a aria-label=\"Restaurant Vegan Velvet. Delivers in 15 to 15 minutes. Rated 3.7 from 311 reviews. Serves Bakery, Dessert, Cakes, and Sandwiches.\" class=\"HomeFeedUICard-1cc6964985e41c86\" href=\"/menu/london/battersea-york-road/vegan-velvet?day=today&amp;postcode=SW1A2AA&amp;time=ASAP\"><span class=\"HomeFeedUICard-c6f6e82a465d3148\"><div class=\"HomeFeedUICard-a0ab05a247f7e7a6\"></div></span><div class=\"HomeFeedUICard-145e2409276fec2d\"><p class=\"ccl-19882374e640f487 ccl-1daa0367dee37c3b ccl-a5fb02a1085896d3 ccl-9d0a5327c911d0f3\"><span class=\"HomeFeedUICard-47968c55017d6795\">Placeholder</span></p><ul><li><span class=\"HomeFeedUICard-47968c55017d6795\">Placeholder</span><span class=\"HomeFeedUICard-47968c55017d6795\">Placeholder</span><span class=\"HomeFeedUICard-47968c55017d6795\">Placeholder</span><span class=\"HomeFeedUICard-47968c55017d6795\">Placeholder</span></li></ul><ul><li><span class=\"HomeFeedUICard-47968c55017d6795\">Placeholder</span><span class=\"HomeFeedUICard-47968c55017d6795\">Placeholder</span></li></ul></div></a>,\n",
       " <a aria-label=\"Restaurant Bocconcino. Delivers in 35 to 35 minutes. Rated 4.7 from 500+ reviews. Serves Pizza, Italian, and Dessert.\" class=\"HomeFeedUICard-1cc6964985e41c86\" href=\"/menu/london/mayfair/bocconcino-mayfair?day=today&amp;postcode=SW1A2AA&amp;time=ASAP\"><span class=\"HomeFeedUICard-c6f6e82a465d3148\"><div class=\"HomeFeedUICard-a0ab05a247f7e7a6\"></div></span><div class=\"HomeFeedUICard-145e2409276fec2d\"><p class=\"ccl-19882374e640f487 ccl-1daa0367dee37c3b ccl-a5fb02a1085896d3 ccl-9d0a5327c911d0f3\"><span class=\"HomeFeedUICard-47968c55017d6795\">Placeholder</span></p><ul><li><span class=\"HomeFeedUICard-47968c55017d6795\">Placeholder</span><span class=\"HomeFeedUICard-47968c55017d6795\">Placeholder</span><span class=\"HomeFeedUICard-47968c55017d6795\">Placeholder</span><span class=\"HomeFeedUICard-47968c55017d6795\">Placeholder</span></li></ul><ul><li><span class=\"HomeFeedUICard-47968c55017d6795\">Placeholder</span><span class=\"HomeFeedUICard-47968c55017d6795\">Placeholder</span></li></ul></div></a>,\n",
       " <a aria-label=\"Restaurant Woo Tea London 伦敦乌叶. Delivers in 15 to 25 minutes. Rated 4.8 from 500+ reviews. Serves Bubble tea and Tea.\" class=\"HomeFeedUICard-1cc6964985e41c86\" href=\"/menu/london/leicester-square/woo-tea-london?day=today&amp;postcode=SW1A2AA&amp;time=ASAP\"><span class=\"HomeFeedUICard-c6f6e82a465d3148\"><div class=\"HomeFeedUICard-a0ab05a247f7e7a6\"></div></span><div class=\"HomeFeedUICard-145e2409276fec2d\"><p class=\"ccl-19882374e640f487 ccl-1daa0367dee37c3b ccl-a5fb02a1085896d3 ccl-9d0a5327c911d0f3\"><span class=\"HomeFeedUICard-47968c55017d6795\">Placeholder</span></p><ul><li><span class=\"HomeFeedUICard-47968c55017d6795\">Placeholder</span><span class=\"HomeFeedUICard-47968c55017d6795\">Placeholder</span><span class=\"HomeFeedUICard-47968c55017d6795\">Placeholder</span><span class=\"HomeFeedUICard-47968c55017d6795\">Placeholder</span></li></ul><ul><li><span class=\"HomeFeedUICard-47968c55017d6795\">Placeholder</span><span class=\"HomeFeedUICard-47968c55017d6795\">Placeholder</span></li></ul></div></a>,\n",
       " <a aria-label=\"Restaurant Monga Fried Chicken 艋舺雞排. Delivers in 20 to 35 minutes. Rated 4.7 from 500+ reviews. Serves Taiwanese, Bubble tea, Fried chicken, and Chinese.\" class=\"HomeFeedUICard-1cc6964985e41c86\" href=\"/menu/london/leicester-square/monga-fried-chicken-leicester-sq?day=today&amp;postcode=SW1A2AA&amp;time=ASAP\"><span class=\"HomeFeedUICard-c6f6e82a465d3148\"><div class=\"HomeFeedUICard-a0ab05a247f7e7a6\"></div></span><div class=\"HomeFeedUICard-145e2409276fec2d\"><p class=\"ccl-19882374e640f487 ccl-1daa0367dee37c3b ccl-a5fb02a1085896d3 ccl-9d0a5327c911d0f3\"><span class=\"HomeFeedUICard-47968c55017d6795\">Placeholder</span></p><ul><li><span class=\"HomeFeedUICard-47968c55017d6795\">Placeholder</span><span class=\"HomeFeedUICard-47968c55017d6795\">Placeholder</span><span class=\"HomeFeedUICard-47968c55017d6795\">Placeholder</span><span class=\"HomeFeedUICard-47968c55017d6795\">Placeholder</span></li></ul><ul><li><span class=\"HomeFeedUICard-47968c55017d6795\">Placeholder</span><span class=\"HomeFeedUICard-47968c55017d6795\">Placeholder</span></li></ul></div></a>,\n",
       " <a aria-label=\"Restaurant Venchi . Delivers in 15 to 30 minutes. Rated 4.8 from 345 reviews. Serves Italian, Ice cream, and Gelato.\" class=\"HomeFeedUICard-1cc6964985e41c86\" href=\"/menu/london/covent-garden/venchi-covent-garden?day=today&amp;postcode=SW1A2AA&amp;time=ASAP\"><span class=\"HomeFeedUICard-c6f6e82a465d3148\"><div class=\"HomeFeedUICard-a0ab05a247f7e7a6\"></div></span><div class=\"HomeFeedUICard-145e2409276fec2d\"><p class=\"ccl-19882374e640f487 ccl-1daa0367dee37c3b ccl-a5fb02a1085896d3 ccl-9d0a5327c911d0f3\"><span class=\"HomeFeedUICard-47968c55017d6795\">Placeholder</span></p><ul><li><span class=\"HomeFeedUICard-47968c55017d6795\">Placeholder</span><span class=\"HomeFeedUICard-47968c55017d6795\">Placeholder</span><span class=\"HomeFeedUICard-47968c55017d6795\">Placeholder</span><span class=\"HomeFeedUICard-47968c55017d6795\">Placeholder</span></li></ul><ul><li><span class=\"HomeFeedUICard-47968c55017d6795\">Placeholder</span><span class=\"HomeFeedUICard-47968c55017d6795\">Placeholder</span></li></ul></div></a>,\n",
       " <a aria-label=\"Restaurant Wok to Walk - West Central. Delivers in 15 to 30 minutes. Rated 4.7 from 500+ reviews. Serves Noodles, Chinese, and Asian.\" class=\"HomeFeedUICard-1cc6964985e41c86\" href=\"/menu/london/covent-garden/wok-to-walk-west-central?day=today&amp;postcode=SW1A2AA&amp;time=ASAP\"><span class=\"HomeFeedUICard-c6f6e82a465d3148\"><div class=\"HomeFeedUICard-a0ab05a247f7e7a6\"></div></span><div class=\"HomeFeedUICard-145e2409276fec2d\"><p class=\"ccl-19882374e640f487 ccl-1daa0367dee37c3b ccl-a5fb02a1085896d3 ccl-9d0a5327c911d0f3\"><span class=\"HomeFeedUICard-47968c55017d6795\">Placeholder</span></p><ul><li><span class=\"HomeFeedUICard-47968c55017d6795\">Placeholder</span><span class=\"HomeFeedUICard-47968c55017d6795\">Placeholder</span><span class=\"HomeFeedUICard-47968c55017d6795\">Placeholder</span><span class=\"HomeFeedUICard-47968c55017d6795\">Placeholder</span></li></ul><ul><li><span class=\"HomeFeedUICard-47968c55017d6795\">Placeholder</span><span class=\"HomeFeedUICard-47968c55017d6795\">Placeholder</span></li></ul></div></a>,\n",
       " <a aria-label=\"Restaurant Noura. Delivers in 20 to 40 minutes. Rated 4.7 from 500+ reviews. Serves Mezze, Lebanese, Sandwiches, and Kebab.\" class=\"HomeFeedUICard-1cc6964985e41c86\" href=\"/menu/london/belgravia/noura-belgravia?day=today&amp;postcode=SW1A2AA&amp;time=ASAP\"><span class=\"HomeFeedUICard-c6f6e82a465d3148\"><div class=\"HomeFeedUICard-a0ab05a247f7e7a6\"></div></span><div class=\"HomeFeedUICard-145e2409276fec2d\"><p class=\"ccl-19882374e640f487 ccl-1daa0367dee37c3b ccl-a5fb02a1085896d3 ccl-9d0a5327c911d0f3\"><span class=\"HomeFeedUICard-47968c55017d6795\">Placeholder</span></p><ul><li><span class=\"HomeFeedUICard-47968c55017d6795\">Placeholder</span><span class=\"HomeFeedUICard-47968c55017d6795\">Placeholder</span><span class=\"HomeFeedUICard-47968c55017d6795\">Placeholder</span><span class=\"HomeFeedUICard-47968c55017d6795\">Placeholder</span></li></ul><ul><li><span class=\"HomeFeedUICard-47968c55017d6795\">Placeholder</span><span class=\"HomeFeedUICard-47968c55017d6795\">Placeholder</span></li></ul></div></a>,\n",
       " <a aria-label=\"Restaurant Parlour by the Ice Cream Union. Delivers in 20 to 35 minutes. Rated 4.9 from 500+ reviews. Serves Dessert, Ice cream, and British.\" class=\"HomeFeedUICard-1cc6964985e41c86\" href=\"/menu/london/chelsea/parlour-by-the-ice-cream-union?day=today&amp;postcode=SW1A2AA&amp;time=ASAP\"><span class=\"HomeFeedUICard-c6f6e82a465d3148\"><div class=\"HomeFeedUICard-a0ab05a247f7e7a6\"></div></span><div class=\"HomeFeedUICard-145e2409276fec2d\"><p class=\"ccl-19882374e640f487 ccl-1daa0367dee37c3b ccl-a5fb02a1085896d3 ccl-9d0a5327c911d0f3\"><span class=\"HomeFeedUICard-47968c55017d6795\">Placeholder</span></p><ul><li><span class=\"HomeFeedUICard-47968c55017d6795\">Placeholder</span><span class=\"HomeFeedUICard-47968c55017d6795\">Placeholder</span><span class=\"HomeFeedUICard-47968c55017d6795\">Placeholder</span><span class=\"HomeFeedUICard-47968c55017d6795\">Placeholder</span></li></ul><ul><li><span class=\"HomeFeedUICard-47968c55017d6795\">Placeholder</span><span class=\"HomeFeedUICard-47968c55017d6795\">Placeholder</span></li></ul></div></a>,\n",
       " <a aria-label=\"Restaurant London Pizza Express. Delivers in 10 to 10 minutes. Rated 4.2 from 500+ reviews. Serves Pizza and Italian.\" class=\"HomeFeedUICard-1cc6964985e41c86\" href=\"/menu/london/hammersmith/london-pizza-expert-north-end-road?day=today&amp;postcode=SW1A2AA&amp;time=ASAP\"><span class=\"HomeFeedUICard-c6f6e82a465d3148\"><div class=\"HomeFeedUICard-a0ab05a247f7e7a6\"></div></span><div class=\"HomeFeedUICard-145e2409276fec2d\"><p class=\"ccl-19882374e640f487 ccl-1daa0367dee37c3b ccl-a5fb02a1085896d3 ccl-9d0a5327c911d0f3\"><span class=\"HomeFeedUICard-47968c55017d6795\">Placeholder</span></p><ul><li><span class=\"HomeFeedUICard-47968c55017d6795\">Placeholder</span><span class=\"HomeFeedUICard-47968c55017d6795\">Placeholder</span><span class=\"HomeFeedUICard-47968c55017d6795\">Placeholder</span><span class=\"HomeFeedUICard-47968c55017d6795\">Placeholder</span></li></ul><ul><li><span class=\"HomeFeedUICard-47968c55017d6795\">Placeholder</span><span class=\"HomeFeedUICard-47968c55017d6795\">Placeholder</span></li></ul></div></a>,\n",
       " <a aria-label=\"Restaurant Ji The Chicken Shop - Chinatown 好朋友炸雞. Delivers in 20 to 35 minutes. Rated 4.7 from 500+ reviews. Serves Chinese, Fried chicken, Bubble tea, and Wings.\" class=\"HomeFeedUICard-1cc6964985e41c86\" href=\"/menu/london/leicester-square/good-friend-ji-restaurant?day=today&amp;postcode=SW1A2AA&amp;time=ASAP\"><span class=\"HomeFeedUICard-c6f6e82a465d3148\"><div class=\"HomeFeedUICard-a0ab05a247f7e7a6\"></div></span><div class=\"HomeFeedUICard-145e2409276fec2d\"><p class=\"ccl-19882374e640f487 ccl-1daa0367dee37c3b ccl-a5fb02a1085896d3 ccl-9d0a5327c911d0f3\"><span class=\"HomeFeedUICard-47968c55017d6795\">Placeholder</span></p><ul><li><span class=\"HomeFeedUICard-47968c55017d6795\">Placeholder</span><span class=\"HomeFeedUICard-47968c55017d6795\">Placeholder</span><span class=\"HomeFeedUICard-47968c55017d6795\">Placeholder</span><span class=\"HomeFeedUICard-47968c55017d6795\">Placeholder</span></li></ul><ul><li><span class=\"HomeFeedUICard-47968c55017d6795\">Placeholder</span><span class=\"HomeFeedUICard-47968c55017d6795\">Placeholder</span></li></ul></div></a>,\n",
       " <a aria-label=\"Restaurant Peachie Vegan. Delivers in 25 to 45 minutes. Rated 4.3 from 12 reviews. Serves Healthy and Salads.\" class=\"HomeFeedUICard-1cc6964985e41c86\" href=\"/menu/london/belgravia/peachie-vegan-eccleston-st?day=today&amp;postcode=SW1A2AA&amp;time=ASAP\"><span class=\"HomeFeedUICard-c6f6e82a465d3148\"><div class=\"HomeFeedUICard-a0ab05a247f7e7a6\"></div></span><div class=\"HomeFeedUICard-145e2409276fec2d\"><p class=\"ccl-19882374e640f487 ccl-1daa0367dee37c3b ccl-a5fb02a1085896d3 ccl-9d0a5327c911d0f3\"><span class=\"HomeFeedUICard-47968c55017d6795\">Placeholder</span></p><ul><li><span class=\"HomeFeedUICard-47968c55017d6795\">Placeholder</span><span class=\"HomeFeedUICard-47968c55017d6795\">Placeholder</span><span class=\"HomeFeedUICard-47968c55017d6795\">Placeholder</span><span class=\"HomeFeedUICard-47968c55017d6795\">Placeholder</span></li></ul><ul><li><span class=\"HomeFeedUICard-47968c55017d6795\">Placeholder</span><span class=\"HomeFeedUICard-47968c55017d6795\">Placeholder</span></li></ul></div></a>,\n",
       " <a aria-label=\"Restaurant Dim T. Delivers in 20 to 35 minutes. Rated 4.7 from 500+ reviews. Serves Dim Sum, Noodles, Asian, and Thai.\" class=\"HomeFeedUICard-1cc6964985e41c86\" href=\"/menu/london/victoria/dim-t-victoria?day=today&amp;postcode=SW1A2AA&amp;time=ASAP\"><span class=\"HomeFeedUICard-c6f6e82a465d3148\"><div class=\"HomeFeedUICard-a0ab05a247f7e7a6\"></div></span><div class=\"HomeFeedUICard-145e2409276fec2d\"><p class=\"ccl-19882374e640f487 ccl-1daa0367dee37c3b ccl-a5fb02a1085896d3 ccl-9d0a5327c911d0f3\"><span class=\"HomeFeedUICard-47968c55017d6795\">Placeholder</span></p><ul><li><span class=\"HomeFeedUICard-47968c55017d6795\">Placeholder</span><span class=\"HomeFeedUICard-47968c55017d6795\">Placeholder</span><span class=\"HomeFeedUICard-47968c55017d6795\">Placeholder</span><span class=\"HomeFeedUICard-47968c55017d6795\">Placeholder</span></li></ul><ul><li><span class=\"HomeFeedUICard-47968c55017d6795\">Placeholder</span><span class=\"HomeFeedUICard-47968c55017d6795\">Placeholder</span></li></ul></div></a>,\n",
       " <a class=\"ccl-f65f6247029a98f7 ccl-a51c6c722d06b887\" href=\"https://twitter.com/Deliveroo\" rel=\"noopener noreferrer\" target=\"_blank\" title=\"Twitter\"><span class=\"ccl-462400680c526774 ccl-abe5c41af1b9498e\"><svg class=\"ccl-0f24ac4b87ce1f67 ccl-abe5c41af1b9498e\" height=\"24\" viewbox=\"0 0 24 24\" width=\"24\"><path d=\"M23 5.89379C22.2644 6.21496 21.4731 6.43215 20.6431 6.52997C21.4906 6.02976 22.1413 5.23853 22.4475 4.29533C21.655 4.75801 20.7763 5.09394 19.8419 5.27545C19.0931 4.49037 18.0269 4 16.8469 4C14.5806 4 12.7437 5.80827 12.7437 8.03922C12.7437 8.35547 12.78 8.66372 12.85 8.95966C9.43938 8.79108 6.41625 7.18277 4.3925 4.73893C4.03937 5.33574 3.83687 6.02976 3.83687 6.76993C3.83687 8.17089 4.56125 9.40758 5.66187 10.1317C4.98937 10.1108 4.35688 9.92932 3.80375 9.62661C3.80313 9.64384 3.80312 9.66045 3.80312 9.67768C3.80312 11.6348 5.2175 13.2671 7.095 13.6381C6.75062 13.7304 6.38812 13.7797 6.01375 13.7797C5.74938 13.7797 5.4925 13.7544 5.24188 13.7077C5.76375 15.3123 7.27938 16.4801 9.075 16.5127C7.67062 17.5962 5.90125 18.2416 3.97875 18.2416C3.6475 18.2416 3.32125 18.2225 3 18.1856C4.81562 19.3312 6.9725 20 9.29 20C16.8375 20 20.9644 13.8449 20.9644 8.50744C20.9644 8.33209 20.9606 8.15797 20.9525 7.98446C21.7544 7.41534 22.45 6.7041 23 5.89379Z\"></path></svg></span></a>]"
      ]
     },
     "execution_count": 69,
     "metadata": {},
     "output_type": "execute_result"
    }
   ],
   "source": [
    "[x for x in all_a_tags if len(str(x)) > 1000 and len(str(x)) < 1500]"
   ]
  },
  {
   "cell_type": "markdown",
   "metadata": {},
   "source": [
    "Looks like restaurants start to appear when we look above 1000. However, there is also a non-restaurant link. We can notice this does not contain an aria-label html attribute, so we filter out all a tags without this attribute and which are shorter than 1000 characters."
   ]
  },
  {
   "cell_type": "code",
   "execution_count": 70,
   "metadata": {},
   "outputs": [],
   "source": [
    "# Define a function that returns only if the tag is an a tag and it has the aria-label attribute\n",
    "\n",
    "def has_aria_label(tag):\n",
    "    if tag.name == 'a':\n",
    "        return tag.has_attr('aria-label')"
   ]
  },
  {
   "cell_type": "code",
   "execution_count": 71,
   "metadata": {},
   "outputs": [],
   "source": [
    "potential_restaurants = soup.find_all(has_aria_label)\n",
    "restaurants = [str(x) for x in potential_restaurants if len(str(x)) > 1000 ]"
   ]
  },
  {
   "cell_type": "code",
   "execution_count": 81,
   "metadata": {},
   "outputs": [
    {
     "data": {
      "text/plain": [
       "'<a aria-label=\"Restaurant Chipotle Mexican Grill. Delivers in 15 to 25 minutes. Rated 4.7 from 500+ reviews. Serves Mexican, Burritos, Salads, and Chicken.\" class=\"HomeFeedUICard-1cc6964985e41c86\" href=\"/menu/london/covent-garden/chipotle-st-martins-lane?day=today&amp;postcode=SW1A2AA&amp;time=ASAP\"><span class=\"HomeFeedUICard-ebc18e264cc4b96c\"><span class=\"HomeFeedUICard-c6f6e82a465d3148\" style=\"border-style:solid;border-top-color:initial;border-right-color:initial;border-bottom-color:initial;border-left-color:initial\"><div class=\"ccl-45bd106b75353ec9\" role=\"img\" style=\\'background-image: url(\"https://rs-menus-api.roocdn.com/images/10601654-fa47-4699-b7fb-62b22b204f66/image.jpeg?width=274&amp;height=154&amp;auto=webp&amp;format=jpg&amp;fit=crop&amp;v=\");\\'><div class=\"ccl-d5fa9efd412993ea ccl-0220f29e0da451eb\"></div><div class=\"ccl-0ca6410c5e153903\"><div class=\"HomeFeedUICard-19d5d31598e0335f\"><div class=\"HomeFeedUICard-dce4e0d3970c801d\" style=\"background-color:initial\"><div class=\"HomeFeedUICard-983872f50903bf3c\" style=\"background-color:#fb5058;border:2px solid #fabe00\"><h5 class=\"HomeFeedUICard-af6c340131c84c70 HomeFeedUICard-d5524005cc3feaaa\">Free\\ndelivery</h5></div></div></div></div></div></span><span class=\"HomeFeedUICard-45fe00a3d559fba5\"><div class=\"HomeFeedUICard-3eaa3aeebdb9dda4\"><span class=\"Bubble-a0bf5c868196e217\"><span class=\"Bubble-0d35c37908d90be4\"><p class=\"ccl-19882374e640f487 ccl-417df52a76832172 ccl-a5fb02a1085896d3 ccl-dd90031787517421 ccl-9d0a5327c911d0f3\">15 – 25</p></span><span class=\"Bubble-f08a84a2192935a4\"><p class=\"ccl-19882374e640f487 ccl-1244c6519d4203b3 ccl-dfaaa1af6c70149c ccl-9d0a5327c911d0f3\">min</p></span></span></div><div class=\"HomeFeedUICard-15a8581a1528e2fd HomeFeedUICard-b63a23d2807ee0c8\"><ul><li class=\"HomeFeedUILines-eb6434808e8af585 HomeFeedUILines-678297d91ca76a11\"><span class=\"\" style=\"color:#2e3333\"><p class=\"ccl-19882374e640f487 ccl-417df52a76832172 ccl-a5fb02a1085896d3 ccl-dd90031787517421 ccl-9d0a5327c911d0f3\">Chipotle Mexican Grill</p></span></li><li class=\"HomeFeedUILines-678297d91ca76a11 HomeFeedUILines-f15fca32260e4b30\"><span class=\"HomeFeedUILines-c129ebfb232f6e54\" style=\"color:#77bf2a\"><span class=\"ccl-462400680c526774 ccl-ed34b65f78f16205\"><svg class=\"ccl-0f24ac4b87ce1f67 ccl-ed34b65f78f16205\" height=\"24\" viewbox=\"0 0 24 24\" width=\"24\"><path d=\"M12 1L9 9H2L7 14.0001L5 21L12 17.0001L19 21L17 14.0001L22 9H15L12 1Z\"></path></svg></span></span><span class=\"HomeFeedUILines-c129ebfb232f6e54\" style=\"color:initial\"><div class=\"ccl-b308a2db3758e3e5\"><span></span></div></span><span class=\"HomeFeedUILines-c129ebfb232f6e54\" style=\"color:#77bf2a\"><span class=\"ccl-19882374e640f487 ccl-417df52a76832172\">4.7 Excellent</span></span><span class=\"HomeFeedUILines-c129ebfb232f6e54\" style=\"color:initial\"><div class=\"ccl-b308a2db3758e3e5\"><span></span></div></span><span class=\"HomeFeedUILines-c129ebfb232f6e54\" style=\"color:#8c9b9b\"><span class=\"ccl-19882374e640f487 ccl-417df52a76832172\">(500+)</span></span><span class=\"HomeFeedUILines-c129ebfb232f6e54\" style=\"color:initial\"><div class=\"ccl-b308a2db3758e3e5\"><span></span></div></span><span class=\"HomeFeedUILines-c129ebfb232f6e54\" style=\"color:#828585\"><span class=\"ccl-19882374e640f487 ccl-417df52a76832172\">·</span></span><span class=\"HomeFeedUILines-c129ebfb232f6e54\" style=\"color:initial\"><div class=\"ccl-b308a2db3758e3e5\"><span></span></div></span><span class=\"HomeFeedUILines-c129ebfb232f6e54\" style=\"color:#828585\"><span class=\"ccl-19882374e640f487 ccl-417df52a76832172\">Mexican</span></span><span class=\"HomeFeedUILines-c129ebfb232f6e54\" style=\"color:initial\"><div class=\"ccl-b308a2db3758e3e5\"><span></span></div></span><span class=\"HomeFeedUILines-c129ebfb232f6e54\" style=\"color:#828585\"><span class=\"ccl-19882374e640f487 ccl-417df52a76832172\">·</span></span><span class=\"HomeFeedUILines-c129ebfb232f6e54\" style=\"color:initial\"><div class=\"ccl-b308a2db3758e3e5\"><span></span></div></span><span class=\"HomeFeedUILines-c129ebfb232f6e54\" style=\"color:#828585\"><span class=\"ccl-19882374e640f487 ccl-417df52a76832172\">Burritos</span></span><span class=\"HomeFeedUILines-c129ebfb232f6e54\" style=\"color:initial\"><div class=\"ccl-b308a2db3758e3e5\"><span></span></div></span><span class=\"HomeFeedUILines-c129ebfb232f6e54\" style=\"color:#828585\"><span class=\"ccl-19882374e640f487 ccl-417df52a76832172\">·</span></span><span class=\"HomeFeedUILines-c129ebfb232f6e54\" style=\"color:initial\"><div class=\"ccl-b308a2db3758e3e5\"><span></span></div></span><span class=\"HomeFeedUILines-c129ebfb232f6e54\" style=\"color:#828585\"><span class=\"ccl-19882374e640f487 ccl-417df52a76832172\">Salads</span></span><span class=\"HomeFeedUILines-c129ebfb232f6e54\" style=\"color:initial\"><div class=\"ccl-b308a2db3758e3e5\"><span></span></div></span><span class=\"HomeFeedUILines-c129ebfb232f6e54\" style=\"color:#828585\"><span class=\"ccl-19882374e640f487 ccl-417df52a76832172\">·</span></span><span class=\"HomeFeedUILines-c129ebfb232f6e54\" style=\"color:initial\"><div class=\"ccl-b308a2db3758e3e5\"><span></span></div></span><span class=\"HomeFeedUILines-c129ebfb232f6e54\" style=\"color:#828585\"><span class=\"ccl-19882374e640f487 ccl-417df52a76832172\">Chicken</span></span></li><li class=\"HomeFeedUILines-678297d91ca76a11 HomeFeedUILines-f15fca32260e4b30\"><span class=\"HomeFeedUILines-c129ebfb232f6e54\" style=\"color:#828585\"><span class=\"ccl-19882374e640f487 ccl-417df52a76832172\">0.5 miles away</span></span><span class=\"HomeFeedUILines-c129ebfb232f6e54\" style=\"color:initial\"><div class=\"ccl-b308a2db3758e3e5\"><span></span></div></span><span class=\"HomeFeedUILines-c129ebfb232f6e54\" style=\"color:#828585\"><span class=\"ccl-19882374e640f487 ccl-417df52a76832172\">·</span></span><span class=\"HomeFeedUILines-c129ebfb232f6e54\" style=\"color:initial\"><div class=\"ccl-b308a2db3758e3e5\"><span></span></div></span><span class=\"HomeFeedUILines-c129ebfb232f6e54\" style=\"color:#828585\"><span class=\"ccl-19882374e640f487 ccl-417df52a76832172\">Free delivery</span></span></li></ul></div></span></span></a>'"
      ]
     },
     "execution_count": 81,
     "metadata": {},
     "output_type": "execute_result"
    }
   ],
   "source": [
    "restaurants[0]"
   ]
  },
  {
   "cell_type": "markdown",
   "metadata": {},
   "source": [
    "# Data Cleaning\n",
    "\n",
    "Now we have all of our restaurant information stored in our restaurants variable. However, each restaurant's data is stored within html. Therefore, we will need to clean our data to get it into a form we can actually analyse. If you have a look at the other restaurants, you can see their data all follows a similar format. \n",
    "\n",
    "Looking at the above, we can see that the main data is available after the word 'Restaurant' and ends at a speech mark (\"). Distance data can be found near the phrase 'miles away' or at a special edge case of 'mile away', when the distance is 1 mile. Delivery cost will be found near a pound sign '£' and end at the word 'delivery'.   "
   ]
  },
  {
   "cell_type": "code",
   "execution_count": 60,
   "metadata": {
    "scrolled": true
   },
   "outputs": [],
   "source": [
    "# Within an a tag, most of the useful information is stated after the word Restaurant (with a space)\n",
    "# Most of the useful data ends with a \" because aria-label is a html attribute\n",
    "# We will use that as a data identifier, and look for all the text after this start identifier and before the end identifier\n",
    "\n",
    "def find_main_data(text):\n",
    "    start_identifier = 'Restaurant '\n",
    "    end_identifier = '\"'\n",
    "    search_start = text.find(start_identifier) + len(start_identifier)\n",
    "    search_end = text.find(end_identifier, search_start)\n",
    "    return text[search_start:search_end]"
   ]
  },
  {
   "cell_type": "code",
   "execution_count": 61,
   "metadata": {},
   "outputs": [],
   "source": [
    "# Distance is given in miles, so searching for the text 'miles' or 'mile' away will help us find the distance\n",
    "# Before the words 'miles away', the distance is given to one decimal place, eg x.xx miles away\n",
    "# Therefore, we need to go back 4 from the position of miles away\n",
    "# For mile away, distance is given as 1 mile away\n",
    "# Therefore, we need to go back 2 from the position of mile away\n",
    "\n",
    "def find_distance_data(main_data):\n",
    "    identifier = 'miles away'\n",
    "    sub_identifier = 'mile away'\n",
    "    start_index = main_data.find(identifier)\n",
    "    if start_index == -1:\n",
    "        search_start = main_data.find(sub_identifier) -2\n",
    "        search_end = search_start + 2 + len(sub_identifier)\n",
    "    else:\n",
    "        search_start = main_data.find(identifier) -4\n",
    "        search_end = search_start + 4 + len(identifier)\n",
    "    return main_data[search_start: search_end]"
   ]
  },
  {
   "cell_type": "code",
   "execution_count": 62,
   "metadata": {},
   "outputs": [],
   "source": [
    "# Delivery Cost will be found after a pound sign, although if there is no cost, we assume there is free delivery\n",
    "# Luckily, the delivery cost comes before the text stating 'Buy X get £Y off', otherwise we get the wrong cost\n",
    "# There are no offer badges that have pound signs except those with the delivery cost, so no issue with getting the wrong '£' text\n",
    "# If the text contains free delivery, then the cost should be 0\n",
    "   \n",
    "def find_delivery_cost(text):\n",
    "    start_identifier = '£'\n",
    "    end_identifier = 'delivery'\n",
    "    search_start = text.find(start_identifier)\n",
    "    search_end = text.find(end_identifier, search_start)\n",
    "    if 'Free delivery' in text:\n",
    "        return '£0.00'\n",
    "    elif (search_start == -1) | (search_end == -1):\n",
    "        return None\n",
    "    else:\n",
    "        return text[search_start: search_end - 1]"
   ]
  },
  {
   "cell_type": "code",
   "execution_count": 63,
   "metadata": {},
   "outputs": [],
   "source": [
    "# For each of the restaurants, find the main data, distance and delivery cost\n",
    "# Put those into a dictionary so we can make them into a dataframe\n",
    "\n",
    "restaurants_list = []\n",
    "id = 0\n",
    "for restaurant in restaurants:\n",
    "    restaurant_dictionary = {\n",
    "        'id': id,\n",
    "        'main_data': find_main_data(restaurant),\n",
    "        'distance': find_distance_data(restaurant),\n",
    "        'delivery_cost': find_delivery_cost(restaurant)\n",
    "    }\n",
    "    restaurants_list.append(restaurant_dictionary)\n",
    "    id += 1\n",
    "    "
   ]
  },
  {
   "cell_type": "code",
   "execution_count": 64,
   "metadata": {
    "scrolled": true
   },
   "outputs": [],
   "source": [
    "# Make the dataframe from the dictionary\n",
    "restaurant_df = pd.DataFrame.from_dict(restaurants_list)"
   ]
  },
  {
   "cell_type": "code",
   "execution_count": 65,
   "metadata": {},
   "outputs": [],
   "source": [
    "# Now we need to clean the data! For example, the main_data column has several bits of data in\n",
    "# Sentence Tokenize from nltk seperates the main data into sentences, making it easier to get each bit of data\n",
    "restaurant_df['restaurant_name'] = restaurant_df['main_data'].map(lambda x: sent_tokenize(x.replace('&amp;', '&'))[0][:-1])\n",
    "restaurant_df['delivery_time'] = restaurant_df['main_data'].map(lambda x: sent_tokenize(x)[1].split(' ')[2:5])"
   ]
  },
  {
   "cell_type": "code",
   "execution_count": 66,
   "metadata": {},
   "outputs": [],
   "source": [
    "# Unfortunately, some restaurants have no reviews\n",
    "# Because it is more complicated, will make a function to specifically tackle this\n",
    "# Some restaurants have no review data\n",
    "\n",
    "def find_review_data(main_data):\n",
    "    start_identifier = 'Rated '\n",
    "    end_identifier = 'reviews'\n",
    "    search_start = main_data.find(start_identifier)\n",
    "    if search_start > -1:\n",
    "        search_end = main_data.find(end_identifier, search_start) - 1\n",
    "        review_data = main_data[search_start: search_end]\n",
    "        review_score = float(review_data.split(' ')[1])\n",
    "        review_number = int(review_data.split(' ')[-1].split('+')[0])\n",
    "        return {'score': review_score, 'number': review_number} \n",
    "    else:\n",
    "        return {'score': None, 'number': None }\n",
    "    \n",
    "restaurant_df['rating_score'] = restaurant_df['main_data'].map(lambda x: find_review_data(x)['score'])\n",
    "restaurant_df['rating_number'] = restaurant_df['main_data'].map(lambda x: find_review_data(x)['number'])"
   ]
  },
  {
   "cell_type": "code",
   "execution_count": 67,
   "metadata": {},
   "outputs": [],
   "source": [
    "# Now we have all the data we want, we need to clean it!"
   ]
  },
  {
   "cell_type": "code",
   "execution_count": 89,
   "metadata": {
    "scrolled": true
   },
   "outputs": [
    {
     "data": {
      "text/html": [
       "<div>\n",
       "<style scoped>\n",
       "    .dataframe tbody tr th:only-of-type {\n",
       "        vertical-align: middle;\n",
       "    }\n",
       "\n",
       "    .dataframe tbody tr th {\n",
       "        vertical-align: top;\n",
       "    }\n",
       "\n",
       "    .dataframe thead th {\n",
       "        text-align: right;\n",
       "    }\n",
       "</style>\n",
       "<table border=\"1\" class=\"dataframe\">\n",
       "  <thead>\n",
       "    <tr style=\"text-align: right;\">\n",
       "      <th></th>\n",
       "      <th>id</th>\n",
       "      <th>main_data</th>\n",
       "      <th>distance</th>\n",
       "      <th>delivery_cost</th>\n",
       "      <th>restaurant_name</th>\n",
       "      <th>delivery_time</th>\n",
       "      <th>rating_score</th>\n",
       "      <th>rating_number</th>\n",
       "      <th>cuisines</th>\n",
       "      <th>distance_miles</th>\n",
       "      <th>delivery_cost_pounds</th>\n",
       "      <th>min_delivery_time</th>\n",
       "      <th>max_delivery_time</th>\n",
       "      <th>avg_delivery_time</th>\n",
       "    </tr>\n",
       "  </thead>\n",
       "  <tbody>\n",
       "    <tr>\n",
       "      <th>88</th>\n",
       "      <td>88</td>\n",
       "      <td>Flakes Fish &amp;amp; Chips. Delivers in 35 to 50 ...</td>\n",
       "      <td>2.2 miles away</td>\n",
       "      <td>£2.99</td>\n",
       "      <td>Flakes Fish &amp; Chips</td>\n",
       "      <td>[35, to, 50]</td>\n",
       "      <td>4.6</td>\n",
       "      <td>500.0</td>\n",
       "      <td>[British, Fish and chips]</td>\n",
       "      <td>2.2</td>\n",
       "      <td>2.99</td>\n",
       "      <td>35.0</td>\n",
       "      <td>50.0</td>\n",
       "      <td>42.5</td>\n",
       "    </tr>\n",
       "  </tbody>\n",
       "</table>\n",
       "</div>"
      ],
      "text/plain": [
       "    id                                          main_data        distance  \\\n",
       "88  88  Flakes Fish &amp; Chips. Delivers in 35 to 50 ...  2.2 miles away   \n",
       "\n",
       "   delivery_cost      restaurant_name delivery_time  rating_score  \\\n",
       "88         £2.99  Flakes Fish & Chips  [35, to, 50]           4.6   \n",
       "\n",
       "    rating_number                   cuisines  distance_miles  \\\n",
       "88          500.0  [British, Fish and chips]             2.2   \n",
       "\n",
       "    delivery_cost_pounds  min_delivery_time  max_delivery_time  \\\n",
       "88                  2.99               35.0               50.0   \n",
       "\n",
       "    avg_delivery_time  \n",
       "88               42.5  "
      ]
     },
     "execution_count": 89,
     "metadata": {},
     "output_type": "execute_result"
    }
   ],
   "source": [
    "# Lastly, we need to get the cuisine data, which all follows the phrase 'Serves '\n",
    "# Because it is a list, grammatically, all the cuisines are seperated by commas\n",
    "# Splitting on commas will give all the cuisines that are seperated by commas as items in an array (cuisines_first_split)\n",
    "# All items in the array except the last will be the cuisine only (first_cuisines)\n",
    "# The last item in this array will either be the last cuisine or the only two cuisines (last_first_split)\n",
    "# If there are two cuisines, they aren't seperated by commas, they are seperated by ' and ' instead\n",
    "# Therefore, we should seperate last_first_split by ' and ', and we will have two cuisines or '' and the last cuisine\n",
    "# We then need to add the last cuisine(s) to the first_cuisines, and we only want to add it if the cuisine is more than one letter, this is so you don't add the empty string ''\n",
    "# Finally, we need to remove the full stop from the final element in the cuisines list and remove all surrounding whitespace\n",
    "# Fish and chips poses a strong problem as then we can't split on ' and ', so we need to remove it if it exists then re-add it\n",
    "# If there are only two cuisines, then a split on ',' won't do anything, so we need to \n",
    "def find_cuisine_data(main_data):\n",
    "    start_identifier = 'Serves '\n",
    "    first_splitter = ','\n",
    "    last_splitter = ' and '\n",
    "    cuisines_start = main_data.find(start_identifier)\n",
    "    if cuisines_start > -1:\n",
    "        main_data = main_data.replace('Fish and chips', 'Fish*and*chips')\n",
    "        cuisines_raw = main_data[cuisines_start + len(start_identifier):]\n",
    "        cuisines_first_split = cuisines_raw.split(first_splitter)\n",
    "        if len(cuisines_first_split) < 2:\n",
    "            cuisines_first_split = cuisines_first_split[0].split(' and ')\n",
    "        fish_chips = [x for x in cuisines_first_split if x == 'Fish*and*chips']\n",
    "        cuisines_first_split = [x for x in cuisines_first_split if x != 'Fish*and*chips']\n",
    "        last_first_split = cuisines_first_split[-1]\n",
    "        first_cuisines = cuisines_first_split[:-1]\n",
    "        last_cuisines = last_first_split.split(last_splitter)\n",
    "        for i in last_cuisines:\n",
    "            if len(i) > 1:\n",
    "                first_cuisines.append(i)\n",
    "        if len(first_cuisines) > 0:\n",
    "            first_cuisines[-1] = first_cuisines[-1][:-1]\n",
    "        if fish_chips:\n",
    "            first_cuisines.append('Fish and chips')\n",
    "        all_cuisines = [x.strip() for x in first_cuisines]\n",
    "        return all_cuisines\n",
    "    \n",
    "    \n",
    "    \n",
    "restaurant_df['cuisines'] = restaurant_df['main_data'].map(lambda x: find_cuisine_data(x))\n",
    "restaurant_df[restaurant_df['restaurant_name'] == 'Flakes Fish & Chips']"
   ]
  },
  {
   "cell_type": "markdown",
   "metadata": {},
   "source": [
    "### Now we have all the information we need, let's clean it up!"
   ]
  },
  {
   "cell_type": "code",
   "execution_count": 69,
   "metadata": {},
   "outputs": [
    {
     "data": {
      "text/html": [
       "<div>\n",
       "<style scoped>\n",
       "    .dataframe tbody tr th:only-of-type {\n",
       "        vertical-align: middle;\n",
       "    }\n",
       "\n",
       "    .dataframe tbody tr th {\n",
       "        vertical-align: top;\n",
       "    }\n",
       "\n",
       "    .dataframe thead th {\n",
       "        text-align: right;\n",
       "    }\n",
       "</style>\n",
       "<table border=\"1\" class=\"dataframe\">\n",
       "  <thead>\n",
       "    <tr style=\"text-align: right;\">\n",
       "      <th></th>\n",
       "      <th>id</th>\n",
       "      <th>main_data</th>\n",
       "      <th>distance</th>\n",
       "      <th>delivery_cost</th>\n",
       "      <th>restaurant_name</th>\n",
       "      <th>delivery_time</th>\n",
       "      <th>rating_score</th>\n",
       "      <th>rating_number</th>\n",
       "      <th>cuisines</th>\n",
       "    </tr>\n",
       "  </thead>\n",
       "  <tbody>\n",
       "    <tr>\n",
       "      <th>0</th>\n",
       "      <td>0</td>\n",
       "      <td>Wagamama. Delivers in 15 to 25 minutes. Rated ...</td>\n",
       "      <td>0.2 miles away</td>\n",
       "      <td>£0.99</td>\n",
       "      <td>Wagamama</td>\n",
       "      <td>[15, to, 25]</td>\n",
       "      <td>4.7</td>\n",
       "      <td>500.0</td>\n",
       "      <td>[Curry, Asian, Japanese, Ramen]</td>\n",
       "    </tr>\n",
       "    <tr>\n",
       "      <th>1</th>\n",
       "      <td>1</td>\n",
       "      <td>Nando's - Birmingham Broad Street. Delivers in...</td>\n",
       "      <td>0.7 miles away</td>\n",
       "      <td>£2.49</td>\n",
       "      <td>Nando's - Birmingham Broad Street</td>\n",
       "      <td>[15, to, 30]</td>\n",
       "      <td>4.5</td>\n",
       "      <td>500.0</td>\n",
       "      <td>[Chicken, Burgers]</td>\n",
       "    </tr>\n",
       "    <tr>\n",
       "      <th>2</th>\n",
       "      <td>2</td>\n",
       "      <td>Rudy's Pizza. Delivers in 10 to 20 minutes. Ra...</td>\n",
       "      <td>0.2 miles away</td>\n",
       "      <td>£0.00</td>\n",
       "      <td>Rudy's Pizza</td>\n",
       "      <td>[10, to, 20]</td>\n",
       "      <td>4.6</td>\n",
       "      <td>500.0</td>\n",
       "      <td>[Pizza, Italian, Alcohol]</td>\n",
       "    </tr>\n",
       "    <tr>\n",
       "      <th>3</th>\n",
       "      <td>3</td>\n",
       "      <td>Desiroti &amp;amp; Curry. Delivers in 30 to 50 min...</td>\n",
       "      <td>2.5 miles away</td>\n",
       "      <td>£2.99</td>\n",
       "      <td>Desiroti &amp; Curry</td>\n",
       "      <td>[30, to, 50]</td>\n",
       "      <td>NaN</td>\n",
       "      <td>NaN</td>\n",
       "      <td>[Drinks, Dessert, Curry]</td>\n",
       "    </tr>\n",
       "    <tr>\n",
       "      <th>4</th>\n",
       "      <td>4</td>\n",
       "      <td>KFC . Delivers in 10 to 20 minutes. Rated 4.3 ...</td>\n",
       "      <td>0.2 miles away</td>\n",
       "      <td>£0.99</td>\n",
       "      <td>KFC</td>\n",
       "      <td>[10, to, 20]</td>\n",
       "      <td>4.3</td>\n",
       "      <td>500.0</td>\n",
       "      <td>[Chicken, Fried chicken, Wings, American]</td>\n",
       "    </tr>\n",
       "    <tr>\n",
       "      <th>...</th>\n",
       "      <td>...</td>\n",
       "      <td>...</td>\n",
       "      <td>...</td>\n",
       "      <td>...</td>\n",
       "      <td>...</td>\n",
       "      <td>...</td>\n",
       "      <td>...</td>\n",
       "      <td>...</td>\n",
       "      <td>...</td>\n",
       "    </tr>\n",
       "    <tr>\n",
       "      <th>311</th>\n",
       "      <td>311</td>\n",
       "      <td>Frank’d. Delivers at 12:45. Rated 4.8 from 76 ...</td>\n",
       "      <td>1.9 miles away</td>\n",
       "      <td>£2.99</td>\n",
       "      <td>Frank’d</td>\n",
       "      <td>[12:45.]</td>\n",
       "      <td>4.8</td>\n",
       "      <td>76.0</td>\n",
       "      <td>[Japanese, Korean, Chicken, American]</td>\n",
       "    </tr>\n",
       "    <tr>\n",
       "      <th>312</th>\n",
       "      <td>312</td>\n",
       "      <td>Caffe Di Milano. Delivers at 12:45. Rated 4.4 ...</td>\n",
       "      <td>0.2 miles away</td>\n",
       "      <td>£0.99</td>\n",
       "      <td>Caffe Di Milano</td>\n",
       "      <td>[12:45.]</td>\n",
       "      <td>4.4</td>\n",
       "      <td>70.0</td>\n",
       "      <td>[Italian, Pizza, Pasta]</td>\n",
       "    </tr>\n",
       "    <tr>\n",
       "      <th>313</th>\n",
       "      <td>313</td>\n",
       "      <td>Cappadocia Restaurant. Delivers at 12:45. Serv...</td>\n",
       "      <td>0.9 miles away</td>\n",
       "      <td>£2.49</td>\n",
       "      <td>Cappadocia Restaurant</td>\n",
       "      <td>[12:45.]</td>\n",
       "      <td>NaN</td>\n",
       "      <td>NaN</td>\n",
       "      <td>[Burgers, Turkish, Kebab, Seafood]</td>\n",
       "    </tr>\n",
       "    <tr>\n",
       "      <th>314</th>\n",
       "      <td>314</td>\n",
       "      <td>Tasty Grill. Delivers at 16:00. Serves Pizza, ...</td>\n",
       "      <td>1.9 miles away</td>\n",
       "      <td>£2.99</td>\n",
       "      <td>Tasty Grill</td>\n",
       "      <td>[16:00.]</td>\n",
       "      <td>NaN</td>\n",
       "      <td>NaN</td>\n",
       "      <td>[Pizza, Dessert, Burgers, Chicken]</td>\n",
       "    </tr>\n",
       "    <tr>\n",
       "      <th>315</th>\n",
       "      <td>315</td>\n",
       "      <td>OKO Sushi. Delivers at 16:30. Rated 4.4 from 9...</td>\n",
       "      <td>0.7 miles away</td>\n",
       "      <td>£1.99</td>\n",
       "      <td>OKO Sushi</td>\n",
       "      <td>[16:30.]</td>\n",
       "      <td>4.4</td>\n",
       "      <td>93.0</td>\n",
       "      <td>[Sushi, Japanese, Dumplings]</td>\n",
       "    </tr>\n",
       "  </tbody>\n",
       "</table>\n",
       "<p>316 rows × 9 columns</p>\n",
       "</div>"
      ],
      "text/plain": [
       "      id                                          main_data        distance  \\\n",
       "0      0  Wagamama. Delivers in 15 to 25 minutes. Rated ...  0.2 miles away   \n",
       "1      1  Nando's - Birmingham Broad Street. Delivers in...  0.7 miles away   \n",
       "2      2  Rudy's Pizza. Delivers in 10 to 20 minutes. Ra...  0.2 miles away   \n",
       "3      3  Desiroti &amp; Curry. Delivers in 30 to 50 min...  2.5 miles away   \n",
       "4      4  KFC . Delivers in 10 to 20 minutes. Rated 4.3 ...  0.2 miles away   \n",
       "..   ...                                                ...             ...   \n",
       "311  311  Frank’d. Delivers at 12:45. Rated 4.8 from 76 ...  1.9 miles away   \n",
       "312  312  Caffe Di Milano. Delivers at 12:45. Rated 4.4 ...  0.2 miles away   \n",
       "313  313  Cappadocia Restaurant. Delivers at 12:45. Serv...  0.9 miles away   \n",
       "314  314  Tasty Grill. Delivers at 16:00. Serves Pizza, ...  1.9 miles away   \n",
       "315  315  OKO Sushi. Delivers at 16:30. Rated 4.4 from 9...  0.7 miles away   \n",
       "\n",
       "    delivery_cost                    restaurant_name delivery_time  \\\n",
       "0           £0.99                           Wagamama  [15, to, 25]   \n",
       "1           £2.49  Nando's - Birmingham Broad Street  [15, to, 30]   \n",
       "2           £0.00                       Rudy's Pizza  [10, to, 20]   \n",
       "3           £2.99                   Desiroti & Curry  [30, to, 50]   \n",
       "4           £0.99                               KFC   [10, to, 20]   \n",
       "..            ...                                ...           ...   \n",
       "311         £2.99                            Frank’d      [12:45.]   \n",
       "312         £0.99                    Caffe Di Milano      [12:45.]   \n",
       "313         £2.49              Cappadocia Restaurant      [12:45.]   \n",
       "314         £2.99                        Tasty Grill      [16:00.]   \n",
       "315         £1.99                          OKO Sushi      [16:30.]   \n",
       "\n",
       "     rating_score  rating_number                                   cuisines  \n",
       "0             4.7          500.0            [Curry, Asian, Japanese, Ramen]  \n",
       "1             4.5          500.0                         [Chicken, Burgers]  \n",
       "2             4.6          500.0                  [Pizza, Italian, Alcohol]  \n",
       "3             NaN            NaN                   [Drinks, Dessert, Curry]  \n",
       "4             4.3          500.0  [Chicken, Fried chicken, Wings, American]  \n",
       "..            ...            ...                                        ...  \n",
       "311           4.8           76.0      [Japanese, Korean, Chicken, American]  \n",
       "312           4.4           70.0                    [Italian, Pizza, Pasta]  \n",
       "313           NaN            NaN         [Burgers, Turkish, Kebab, Seafood]  \n",
       "314           NaN            NaN         [Pizza, Dessert, Burgers, Chicken]  \n",
       "315           4.4           93.0               [Sushi, Japanese, Dumplings]  \n",
       "\n",
       "[316 rows x 9 columns]"
      ]
     },
     "execution_count": 69,
     "metadata": {},
     "output_type": "execute_result"
    }
   ],
   "source": [
    "# Let's see what our data looks like\n",
    "restaurant_df"
   ]
  },
  {
   "cell_type": "markdown",
   "metadata": {},
   "source": [
    "### Cleaning Tasks:\n",
    "1. distance should be a float, not a string\n",
    "2. delivery_cost should be a float, not a string\n",
    "3. delivery_time should actually be split into min, max and average delivery time and should all be floats\n",
    "4. Each cuisine should have its own column equal to 1 if they serve that cuisine, and 0 otherwise\n",
    "5. We will need to remove all unnecessary columns \n"
   ]
  },
  {
   "cell_type": "code",
   "execution_count": 70,
   "metadata": {},
   "outputs": [],
   "source": [
    "# Take the distance column, split on a space and take the first element if a distance is given\n",
    "restaurant_df['distance_miles'] = restaurant_df['distance'].map(lambda x: float(x.split(' ')[0]) if x else None)"
   ]
  },
  {
   "cell_type": "code",
   "execution_count": 71,
   "metadata": {},
   "outputs": [],
   "source": [
    "# Take all the characters after the pound sign\n",
    "restaurant_df['delivery_cost_pounds'] = restaurant_df['delivery_cost'].map(lambda x: float(x[1:]) if x else None)"
   ]
  },
  {
   "cell_type": "code",
   "execution_count": 72,
   "metadata": {},
   "outputs": [],
   "source": [
    "# Take the first and last element of delivery_time, and also get their average\n",
    "# We can only do this where the delivery time has 3 elements and the first and last element start with a digit\n",
    "def clean_delivery_data(delivery_time):\n",
    "    min_time = None\n",
    "    max_time = None\n",
    "    avg_time = None\n",
    "    \n",
    "    if delivery_time:\n",
    "        if (delivery_time[0][0].isdigit()) & (len(delivery_time) == 3) :\n",
    "            min_time = float(delivery_time[0])\n",
    "            max_time = float(delivery_time[-1])\n",
    "            avg_time = (min_time + max_time) / 2\n",
    "    \n",
    "    return {'min': min_time, 'max': max_time, 'avg': avg_time}\n",
    "\n",
    "restaurant_df['min_delivery_time'] = restaurant_df['delivery_time'].map(lambda x: clean_delivery_data(x)['min'])\n",
    "restaurant_df['max_delivery_time'] = restaurant_df['delivery_time'].map(lambda x: clean_delivery_data(x)['max'])\n",
    "restaurant_df['avg_delivery_time'] = restaurant_df['delivery_time'].map(lambda x: clean_delivery_data(x)['avg'])"
   ]
  },
  {
   "cell_type": "code",
   "execution_count": 73,
   "metadata": {},
   "outputs": [
    {
     "data": {
      "text/plain": [
       "array(['African', 'Alcohol', 'American', 'Asian', 'Asian Fusion', 'BBQ',\n",
       "       'Bagels', 'Bakery', 'Breakfast', 'British', 'Brunch', 'Bubble tea',\n",
       "       'Burgers', 'Burritos', 'Café', 'Cakes', 'Cantonese', 'Caribbean',\n",
       "       'Chicken', 'Chinese', 'Coffee', 'Crêpe', 'Curry', 'Dessert',\n",
       "       'Dim Sum', 'Donuts', 'Drinks', 'Dumplings', 'Falafel',\n",
       "       'Fish and chips', 'Fish*and*chips', 'French', 'Fried chicken',\n",
       "       'German', 'Greek', 'Grill', 'Grocery', 'Hawaiian', 'Healthy',\n",
       "       'Ice cream', 'Indian', 'Iranian', 'Italian', 'Jamaican',\n",
       "       'Japanese', 'Juices', 'Kebab', 'Korean', 'Lebanese',\n",
       "       'Mediterranean', 'Mexican', 'Mezze', 'Middle Eastern',\n",
       "       'Milkshakes', 'Moroccan', 'Noodles', 'Pakistani', 'Pancakes',\n",
       "       'Pasta', 'Pho', 'Pie', 'Pizza', 'Poke', 'Portuguese', 'Ramen',\n",
       "       'Salads', 'Sandwiches', 'Seafood', 'Shawarma', 'Sichuan', 'Snacks',\n",
       "       'South Indian', 'Steak', 'Sushi', 'Tacos', 'Taiwanese', 'Tapas',\n",
       "       'Tea', 'Thai', 'Turkish', 'Vietnamese', 'Wine', 'Wings', 'Wraps'],\n",
       "      dtype='<U14')"
      ]
     },
     "execution_count": 73,
     "metadata": {},
     "output_type": "execute_result"
    }
   ],
   "source": [
    "# Need to make dummy variables for each possible cuisine, so first we create a list of all the cuisines\n",
    "# Assuming cuisines isn't empty, we need to iterate over it and add a cuisine to our list only if it is not already in the list\n",
    "cuisine_list = []\n",
    "for cuisines in restaurant_df['cuisines']:\n",
    "    if cuisines:\n",
    "        for i in cuisines:\n",
    "            if i not in cuisine_list:\n",
    "                cuisine_list.append(i)\n",
    "np.sort(cuisine_list)"
   ]
  },
  {
   "cell_type": "code",
   "execution_count": 74,
   "metadata": {},
   "outputs": [
    {
     "name": "stderr",
     "output_type": "stream",
     "text": [
      "<ipython-input-74-3737f3f5d099>:4: SettingWithCopyWarning: \n",
      "A value is trying to be set on a copy of a slice from a DataFrame.\n",
      "Try using .loc[row_indexer,col_indexer] = value instead\n",
      "\n",
      "See the caveats in the documentation: https://pandas.pydata.org/pandas-docs/stable/user_guide/indexing.html#returning-a-view-versus-a-copy\n",
      "  restaurant_df_drop_empty[cuisine] = restaurant_df_drop_empty['cuisines'].map(lambda x: 1 if (cuisine in x) else 0)\n"
     ]
    }
   ],
   "source": [
    "# Make a new column for each cuisine, which is equal to 1 if the restaurant serves the cuisine and zero otherwise\n",
    "restaurant_df_drop_empty = restaurant_df.dropna()\n",
    "for cuisine in cuisine_list:\n",
    "    restaurant_df_drop_empty[cuisine] = restaurant_df_drop_empty['cuisines'].map(lambda x: 1 if (cuisine in x) else 0)"
   ]
  },
  {
   "cell_type": "code",
   "execution_count": 75,
   "metadata": {},
   "outputs": [
    {
     "data": {
      "text/plain": [
       "Index(['id', 'main_data', 'distance', 'delivery_cost', 'restaurant_name',\n",
       "       'delivery_time', 'rating_score', 'rating_number', 'cuisines',\n",
       "       'distance_miles', 'delivery_cost_pounds', 'min_delivery_time',\n",
       "       'max_delivery_time', 'avg_delivery_time', 'Curry', 'Asian', 'Japanese',\n",
       "       'Ramen', 'Chicken', 'Burgers', 'Pizza', 'Italian', 'Alcohol', 'Drinks',\n",
       "       'Dessert', 'Fried chicken', 'Wings', 'American', 'Mexican', 'Burritos',\n",
       "       'Salads', 'Tacos', 'Grocery', 'Snacks', 'Pho', 'Vietnamese', 'Noodles',\n",
       "       'Indian', 'South Indian', 'Milkshakes', 'German', 'Kebab', 'Bubble tea',\n",
       "       'Taiwanese', 'Lebanese', 'Healthy', 'Greek', 'Wraps', 'Sushi',\n",
       "       'Sandwiches', 'BBQ', 'Ice cream', 'British', 'Coffee', 'Cakes', 'Pasta',\n",
       "       'Mediterranean', 'Brunch', 'Chinese', 'Thai', 'Dumplings', 'Grill',\n",
       "       'Crêpe', 'Middle Eastern', 'Breakfast', 'Cantonese', 'Dim Sum',\n",
       "       'Seafood', 'Juices', 'Korean', 'Poke', 'Asian Fusion', 'Steak', 'Mezze',\n",
       "       'Wine', 'Fish and chips', 'Turkish', 'Donuts', 'Pie', 'Fish*and*chips',\n",
       "       'Falafel', 'Jamaican', 'Caribbean', 'African', 'Café', 'Bakery',\n",
       "       'Pakistani', 'Iranian', 'Moroccan', 'Shawarma', 'Bagels', 'French',\n",
       "       'Portuguese', 'Pancakes', 'Hawaiian', 'Sichuan', 'Tapas', 'Tea'],\n",
       "      dtype='object')"
      ]
     },
     "execution_count": 75,
     "metadata": {},
     "output_type": "execute_result"
    }
   ],
   "source": [
    "# Let's have a look at what columns we have left\n",
    "restaurant_df_drop_empty.columns"
   ]
  },
  {
   "cell_type": "code",
   "execution_count": 76,
   "metadata": {},
   "outputs": [
    {
     "data": {
      "text/html": [
       "<div>\n",
       "<style scoped>\n",
       "    .dataframe tbody tr th:only-of-type {\n",
       "        vertical-align: middle;\n",
       "    }\n",
       "\n",
       "    .dataframe tbody tr th {\n",
       "        vertical-align: top;\n",
       "    }\n",
       "\n",
       "    .dataframe thead th {\n",
       "        text-align: right;\n",
       "    }\n",
       "</style>\n",
       "<table border=\"1\" class=\"dataframe\">\n",
       "  <thead>\n",
       "    <tr style=\"text-align: right;\">\n",
       "      <th></th>\n",
       "      <th>id</th>\n",
       "      <th>restaurant_name</th>\n",
       "      <th>rating_score</th>\n",
       "      <th>rating_number</th>\n",
       "      <th>cuisines</th>\n",
       "      <th>distance_miles</th>\n",
       "      <th>delivery_cost_pounds</th>\n",
       "      <th>min_delivery_time</th>\n",
       "      <th>max_delivery_time</th>\n",
       "      <th>avg_delivery_time</th>\n",
       "      <th>...</th>\n",
       "      <th>Moroccan</th>\n",
       "      <th>Shawarma</th>\n",
       "      <th>Bagels</th>\n",
       "      <th>French</th>\n",
       "      <th>Portuguese</th>\n",
       "      <th>Pancakes</th>\n",
       "      <th>Hawaiian</th>\n",
       "      <th>Sichuan</th>\n",
       "      <th>Tapas</th>\n",
       "      <th>Tea</th>\n",
       "    </tr>\n",
       "  </thead>\n",
       "  <tbody>\n",
       "    <tr>\n",
       "      <th>0</th>\n",
       "      <td>0</td>\n",
       "      <td>Wagamama</td>\n",
       "      <td>4.7</td>\n",
       "      <td>500.0</td>\n",
       "      <td>[Curry, Asian, Japanese, Ramen]</td>\n",
       "      <td>0.2</td>\n",
       "      <td>0.99</td>\n",
       "      <td>15.0</td>\n",
       "      <td>25.0</td>\n",
       "      <td>20.0</td>\n",
       "      <td>...</td>\n",
       "      <td>0</td>\n",
       "      <td>0</td>\n",
       "      <td>0</td>\n",
       "      <td>0</td>\n",
       "      <td>0</td>\n",
       "      <td>0</td>\n",
       "      <td>0</td>\n",
       "      <td>0</td>\n",
       "      <td>0</td>\n",
       "      <td>0</td>\n",
       "    </tr>\n",
       "    <tr>\n",
       "      <th>1</th>\n",
       "      <td>1</td>\n",
       "      <td>Nando's - Birmingham Broad Street</td>\n",
       "      <td>4.5</td>\n",
       "      <td>500.0</td>\n",
       "      <td>[Chicken, Burgers]</td>\n",
       "      <td>0.7</td>\n",
       "      <td>2.49</td>\n",
       "      <td>15.0</td>\n",
       "      <td>30.0</td>\n",
       "      <td>22.5</td>\n",
       "      <td>...</td>\n",
       "      <td>0</td>\n",
       "      <td>0</td>\n",
       "      <td>0</td>\n",
       "      <td>0</td>\n",
       "      <td>0</td>\n",
       "      <td>0</td>\n",
       "      <td>0</td>\n",
       "      <td>0</td>\n",
       "      <td>0</td>\n",
       "      <td>0</td>\n",
       "    </tr>\n",
       "    <tr>\n",
       "      <th>2</th>\n",
       "      <td>2</td>\n",
       "      <td>Rudy's Pizza</td>\n",
       "      <td>4.6</td>\n",
       "      <td>500.0</td>\n",
       "      <td>[Pizza, Italian, Alcohol]</td>\n",
       "      <td>0.2</td>\n",
       "      <td>0.00</td>\n",
       "      <td>10.0</td>\n",
       "      <td>20.0</td>\n",
       "      <td>15.0</td>\n",
       "      <td>...</td>\n",
       "      <td>0</td>\n",
       "      <td>0</td>\n",
       "      <td>0</td>\n",
       "      <td>0</td>\n",
       "      <td>0</td>\n",
       "      <td>0</td>\n",
       "      <td>0</td>\n",
       "      <td>0</td>\n",
       "      <td>0</td>\n",
       "      <td>0</td>\n",
       "    </tr>\n",
       "    <tr>\n",
       "      <th>4</th>\n",
       "      <td>4</td>\n",
       "      <td>KFC</td>\n",
       "      <td>4.3</td>\n",
       "      <td>500.0</td>\n",
       "      <td>[Chicken, Fried chicken, Wings, American]</td>\n",
       "      <td>0.2</td>\n",
       "      <td>0.99</td>\n",
       "      <td>10.0</td>\n",
       "      <td>20.0</td>\n",
       "      <td>15.0</td>\n",
       "      <td>...</td>\n",
       "      <td>0</td>\n",
       "      <td>0</td>\n",
       "      <td>0</td>\n",
       "      <td>0</td>\n",
       "      <td>0</td>\n",
       "      <td>0</td>\n",
       "      <td>0</td>\n",
       "      <td>0</td>\n",
       "      <td>0</td>\n",
       "      <td>0</td>\n",
       "    </tr>\n",
       "    <tr>\n",
       "      <th>5</th>\n",
       "      <td>5</td>\n",
       "      <td>Wingstop</td>\n",
       "      <td>4.4</td>\n",
       "      <td>500.0</td>\n",
       "      <td>[American, Wings, Fried chicken, Chicken]</td>\n",
       "      <td>0.9</td>\n",
       "      <td>2.49</td>\n",
       "      <td>20.0</td>\n",
       "      <td>35.0</td>\n",
       "      <td>27.5</td>\n",
       "      <td>...</td>\n",
       "      <td>0</td>\n",
       "      <td>0</td>\n",
       "      <td>0</td>\n",
       "      <td>0</td>\n",
       "      <td>0</td>\n",
       "      <td>0</td>\n",
       "      <td>0</td>\n",
       "      <td>0</td>\n",
       "      <td>0</td>\n",
       "      <td>0</td>\n",
       "    </tr>\n",
       "    <tr>\n",
       "      <th>...</th>\n",
       "      <td>...</td>\n",
       "      <td>...</td>\n",
       "      <td>...</td>\n",
       "      <td>...</td>\n",
       "      <td>...</td>\n",
       "      <td>...</td>\n",
       "      <td>...</td>\n",
       "      <td>...</td>\n",
       "      <td>...</td>\n",
       "      <td>...</td>\n",
       "      <td>...</td>\n",
       "      <td>...</td>\n",
       "      <td>...</td>\n",
       "      <td>...</td>\n",
       "      <td>...</td>\n",
       "      <td>...</td>\n",
       "      <td>...</td>\n",
       "      <td>...</td>\n",
       "      <td>...</td>\n",
       "      <td>...</td>\n",
       "      <td>...</td>\n",
       "    </tr>\n",
       "    <tr>\n",
       "      <th>258</th>\n",
       "      <td>258</td>\n",
       "      <td>Bailicious</td>\n",
       "      <td>4.1</td>\n",
       "      <td>11.0</td>\n",
       "      <td>[Chicken, Caribbean]</td>\n",
       "      <td>1.2</td>\n",
       "      <td>2.49</td>\n",
       "      <td>30.0</td>\n",
       "      <td>45.0</td>\n",
       "      <td>37.5</td>\n",
       "      <td>...</td>\n",
       "      <td>0</td>\n",
       "      <td>0</td>\n",
       "      <td>0</td>\n",
       "      <td>0</td>\n",
       "      <td>0</td>\n",
       "      <td>0</td>\n",
       "      <td>0</td>\n",
       "      <td>0</td>\n",
       "      <td>0</td>\n",
       "      <td>0</td>\n",
       "    </tr>\n",
       "    <tr>\n",
       "      <th>260</th>\n",
       "      <td>260</td>\n",
       "      <td>Jaffa Sweets Arabic Baklawa</td>\n",
       "      <td>4.7</td>\n",
       "      <td>89.0</td>\n",
       "      <td>[Lebanese, Dessert]</td>\n",
       "      <td>1.6</td>\n",
       "      <td>2.99</td>\n",
       "      <td>35.0</td>\n",
       "      <td>55.0</td>\n",
       "      <td>45.0</td>\n",
       "      <td>...</td>\n",
       "      <td>0</td>\n",
       "      <td>0</td>\n",
       "      <td>0</td>\n",
       "      <td>0</td>\n",
       "      <td>0</td>\n",
       "      <td>0</td>\n",
       "      <td>0</td>\n",
       "      <td>0</td>\n",
       "      <td>0</td>\n",
       "      <td>0</td>\n",
       "    </tr>\n",
       "    <tr>\n",
       "      <th>261</th>\n",
       "      <td>261</td>\n",
       "      <td>Chandni Chowk</td>\n",
       "      <td>4.3</td>\n",
       "      <td>156.0</td>\n",
       "      <td>[Curry, Indian]</td>\n",
       "      <td>2.2</td>\n",
       "      <td>2.99</td>\n",
       "      <td>40.0</td>\n",
       "      <td>60.0</td>\n",
       "      <td>50.0</td>\n",
       "      <td>...</td>\n",
       "      <td>0</td>\n",
       "      <td>0</td>\n",
       "      <td>0</td>\n",
       "      <td>0</td>\n",
       "      <td>0</td>\n",
       "      <td>0</td>\n",
       "      <td>0</td>\n",
       "      <td>0</td>\n",
       "      <td>0</td>\n",
       "      <td>0</td>\n",
       "    </tr>\n",
       "    <tr>\n",
       "      <th>267</th>\n",
       "      <td>267</td>\n",
       "      <td>Supporting the NHS</td>\n",
       "      <td>5.0</td>\n",
       "      <td>171.0</td>\n",
       "      <td>[British]</td>\n",
       "      <td>0.7</td>\n",
       "      <td>0.00</td>\n",
       "      <td>10.0</td>\n",
       "      <td>10.0</td>\n",
       "      <td>10.0</td>\n",
       "      <td>...</td>\n",
       "      <td>0</td>\n",
       "      <td>0</td>\n",
       "      <td>0</td>\n",
       "      <td>0</td>\n",
       "      <td>0</td>\n",
       "      <td>0</td>\n",
       "      <td>0</td>\n",
       "      <td>0</td>\n",
       "      <td>0</td>\n",
       "      <td>0</td>\n",
       "    </tr>\n",
       "    <tr>\n",
       "      <th>272</th>\n",
       "      <td>272</td>\n",
       "      <td>Lyco Eats Restaurant &amp; Takeaway</td>\n",
       "      <td>3.5</td>\n",
       "      <td>59.0</td>\n",
       "      <td>[BBQ, Kebab, Greek, Wraps]</td>\n",
       "      <td>1.7</td>\n",
       "      <td>2.99</td>\n",
       "      <td>50.0</td>\n",
       "      <td>80.0</td>\n",
       "      <td>65.0</td>\n",
       "      <td>...</td>\n",
       "      <td>0</td>\n",
       "      <td>0</td>\n",
       "      <td>0</td>\n",
       "      <td>0</td>\n",
       "      <td>0</td>\n",
       "      <td>0</td>\n",
       "      <td>0</td>\n",
       "      <td>0</td>\n",
       "      <td>0</td>\n",
       "      <td>0</td>\n",
       "    </tr>\n",
       "  </tbody>\n",
       "</table>\n",
       "<p>246 rows × 94 columns</p>\n",
       "</div>"
      ],
      "text/plain": [
       "      id                    restaurant_name  rating_score  rating_number  \\\n",
       "0      0                           Wagamama           4.7          500.0   \n",
       "1      1  Nando's - Birmingham Broad Street           4.5          500.0   \n",
       "2      2                       Rudy's Pizza           4.6          500.0   \n",
       "4      4                               KFC            4.3          500.0   \n",
       "5      5                           Wingstop           4.4          500.0   \n",
       "..   ...                                ...           ...            ...   \n",
       "258  258                         Bailicious           4.1           11.0   \n",
       "260  260        Jaffa Sweets Arabic Baklawa           4.7           89.0   \n",
       "261  261                      Chandni Chowk           4.3          156.0   \n",
       "267  267                 Supporting the NHS           5.0          171.0   \n",
       "272  272    Lyco Eats Restaurant & Takeaway           3.5           59.0   \n",
       "\n",
       "                                      cuisines  distance_miles  \\\n",
       "0              [Curry, Asian, Japanese, Ramen]             0.2   \n",
       "1                           [Chicken, Burgers]             0.7   \n",
       "2                    [Pizza, Italian, Alcohol]             0.2   \n",
       "4    [Chicken, Fried chicken, Wings, American]             0.2   \n",
       "5    [American, Wings, Fried chicken, Chicken]             0.9   \n",
       "..                                         ...             ...   \n",
       "258                       [Chicken, Caribbean]             1.2   \n",
       "260                        [Lebanese, Dessert]             1.6   \n",
       "261                            [Curry, Indian]             2.2   \n",
       "267                                  [British]             0.7   \n",
       "272                 [BBQ, Kebab, Greek, Wraps]             1.7   \n",
       "\n",
       "     delivery_cost_pounds  min_delivery_time  max_delivery_time  \\\n",
       "0                    0.99               15.0               25.0   \n",
       "1                    2.49               15.0               30.0   \n",
       "2                    0.00               10.0               20.0   \n",
       "4                    0.99               10.0               20.0   \n",
       "5                    2.49               20.0               35.0   \n",
       "..                    ...                ...                ...   \n",
       "258                  2.49               30.0               45.0   \n",
       "260                  2.99               35.0               55.0   \n",
       "261                  2.99               40.0               60.0   \n",
       "267                  0.00               10.0               10.0   \n",
       "272                  2.99               50.0               80.0   \n",
       "\n",
       "     avg_delivery_time  ...  Moroccan  Shawarma  Bagels  French  Portuguese  \\\n",
       "0                 20.0  ...         0         0       0       0           0   \n",
       "1                 22.5  ...         0         0       0       0           0   \n",
       "2                 15.0  ...         0         0       0       0           0   \n",
       "4                 15.0  ...         0         0       0       0           0   \n",
       "5                 27.5  ...         0         0       0       0           0   \n",
       "..                 ...  ...       ...       ...     ...     ...         ...   \n",
       "258               37.5  ...         0         0       0       0           0   \n",
       "260               45.0  ...         0         0       0       0           0   \n",
       "261               50.0  ...         0         0       0       0           0   \n",
       "267               10.0  ...         0         0       0       0           0   \n",
       "272               65.0  ...         0         0       0       0           0   \n",
       "\n",
       "     Pancakes  Hawaiian  Sichuan  Tapas  Tea  \n",
       "0           0         0        0      0    0  \n",
       "1           0         0        0      0    0  \n",
       "2           0         0        0      0    0  \n",
       "4           0         0        0      0    0  \n",
       "5           0         0        0      0    0  \n",
       "..        ...       ...      ...    ...  ...  \n",
       "258         0         0        0      0    0  \n",
       "260         0         0        0      0    0  \n",
       "261         0         0        0      0    0  \n",
       "267         0         0        0      0    0  \n",
       "272         0         0        0      0    0  \n",
       "\n",
       "[246 rows x 94 columns]"
      ]
     },
     "execution_count": 76,
     "metadata": {},
     "output_type": "execute_result"
    }
   ],
   "source": [
    "# We don't need main_data, distance, delivery_cost, delivery_time\n",
    "restaurant_df_clean = restaurant_df_drop_empty.drop(axis = 1, columns = ['main_data', 'distance', 'delivery_cost', 'delivery_time'])\n",
    "restaurant_df_clean"
   ]
  },
  {
   "cell_type": "code",
   "execution_count": 77,
   "metadata": {},
   "outputs": [],
   "source": [
    "# Save a version of the dataframe down which can be re-used, instead of having to scrape the data again\n",
    "restaurant_df_clean.to_csv('last_scrape_clean', index= False)"
   ]
  },
  {
   "cell_type": "markdown",
   "metadata": {},
   "source": [
    "## Time to start answering the questions!\n",
    "### Question 1: What cuisine is most popular near me?"
   ]
  },
  {
   "cell_type": "code",
   "execution_count": 78,
   "metadata": {},
   "outputs": [],
   "source": [
    "# We will seperate out the cuisine data and use the describe data on the clean dataframe and look at the mean row\n",
    "# The mean shows what percentage of the clean data belongs to a certain cuisine\n",
    "cuisine_columns = restaurant_df_clean[restaurant_df_clean.columns[10:]]"
   ]
  },
  {
   "cell_type": "code",
   "execution_count": 79,
   "metadata": {},
   "outputs": [],
   "source": [
    "# Extracting the means only \n",
    "cuisine_means_sorted = cuisine_columns.describe().loc['mean'].sort_values(ascending = False)"
   ]
  },
  {
   "cell_type": "code",
   "execution_count": 80,
   "metadata": {},
   "outputs": [
    {
     "data": {
      "text/plain": [
       "<AxesSubplot:ylabel='mean'>"
      ]
     },
     "execution_count": 80,
     "metadata": {},
     "output_type": "execute_result"
    },
    {
     "data": {
      "image/png": "[encoded data removed]",
      "text/plain": [
       "<Figure size 864x576 with 1 Axes>"
      ]
     },
     "metadata": {
      "needs_background": "light"
     },
     "output_type": "display_data"
    }
   ],
   "source": [
    "# A bar chart will be a great way to show the top 10 percentages\n",
    "plt.figure(figsize = (12,8))\n",
    "sns.barplot(x = cuisine_means_sorted.head(10).index,y = cuisine_means_sorted.head(10))"
   ]
  },
  {
   "cell_type": "markdown",
   "metadata": {},
   "source": [
    "Remember: This is always going to vary depending on what time of day you run the script as the data is filtered down to restaurants which are currently delivering!"
   ]
  },
  {
   "cell_type": "markdown",
   "metadata": {},
   "source": [
    "### Question 2: What is the quality of food in my vicinity?"
   ]
  },
  {
   "cell_type": "code",
   "execution_count": 81,
   "metadata": {},
   "outputs": [
    {
     "data": {
      "text/plain": [
       "4.287398373983742"
      ]
     },
     "execution_count": 81,
     "metadata": {},
     "output_type": "execute_result"
    }
   ],
   "source": [
    "np.mean(restaurant_df_clean['rating_score'])"
   ]
  },
  {
   "cell_type": "markdown",
   "metadata": {},
   "source": [
    "Looks good!"
   ]
  },
  {
   "cell_type": "markdown",
   "metadata": {},
   "source": [
    "### Question 3: How does quality vary by cuisine?"
   ]
  },
  {
   "cell_type": "code",
   "execution_count": 82,
   "metadata": {},
   "outputs": [
    {
     "data": {
      "text/plain": [
       "Curry        4.250000\n",
       "Asian        4.525000\n",
       "Japanese     4.600000\n",
       "Ramen        4.600000\n",
       "Chicken      4.239474\n",
       "               ...   \n",
       "Pakistani    3.500000\n",
       "Iranian      4.600000\n",
       "Moroccan     4.700000\n",
       "Shawarma     4.300000\n",
       "Bagels       4.100000\n",
       "Length: 77, dtype: float64"
      ]
     },
     "execution_count": 82,
     "metadata": {},
     "output_type": "execute_result"
    }
   ],
   "source": [
    "# To get the rating for each cuisine, we need to multiply the rating number by the cuisine column\n",
    "# Then we need to get rid of all observations where this product is 0, because it means that those restaurants don't serve that cuisine\n",
    "# Then we take the average of ratings for that cuisine\n",
    "# We do this for all cuisines using a for loop\n",
    "cuisine_rating_means = []\n",
    "for cuisine in cuisine_list:\n",
    "    cuisine_ratings = restaurant_df_clean['rating_score'] * restaurant_df_clean[cuisine]\n",
    "    cuisine_ratings = cuisine_ratings[cuisine_ratings > 0]\n",
    "    cuisine_rating_mean = np.mean(cuisine_ratings)\n",
    "    cuisine_rating_means.append(cuisine_rating_mean)\n",
    "cuisine_rating_means = pd.Series(cuisine_rating_means, index = cuisine_list)\n",
    "cuisine_rating_means = cuisine_rating_means[cuisine_rating_means > 0]\n",
    "cuisine_rating_means"
   ]
  },
  {
   "cell_type": "markdown",
   "metadata": {},
   "source": [
    "What are the best and worst quality cuisines?"
   ]
  },
  {
   "cell_type": "code",
   "execution_count": 83,
   "metadata": {},
   "outputs": [
    {
     "data": {
      "text/plain": [
       "<AxesSubplot:>"
      ]
     },
     "execution_count": 83,
     "metadata": {},
     "output_type": "execute_result"
    },
    {
     "data": {
      "image/png": "[encoded data removed]",
      "text/plain": [
       "<Figure size 864x432 with 1 Axes>"
      ]
     },
     "metadata": {
      "needs_background": "light"
     },
     "output_type": "display_data"
    }
   ],
   "source": [
    "best_cuisines = cuisine_rating_means.sort_values(ascending = False).head(10)\n",
    "plt.figure(figsize = (12,6))\n",
    "sns.barplot(x = best_cuisines.index, y = best_cuisines)"
   ]
  },
  {
   "cell_type": "code",
   "execution_count": 84,
   "metadata": {},
   "outputs": [
    {
     "data": {
      "text/plain": [
       "<AxesSubplot:>"
      ]
     },
     "execution_count": 84,
     "metadata": {},
     "output_type": "execute_result"
    },
    {
     "data": {
      "image/png": "[encoded data removed]",
      "text/plain": [
       "<Figure size 864x432 with 1 Axes>"
      ]
     },
     "metadata": {
      "needs_background": "light"
     },
     "output_type": "display_data"
    }
   ],
   "source": [
    "worst_cuisines = cuisine_rating_means.sort_values().head(10)\n",
    "plt.figure(figsize = (12,6))\n",
    "sns.barplot(x = worst_cuisines.index, y = worst_cuisines)"
   ]
  },
  {
   "cell_type": "markdown",
   "metadata": {},
   "source": [
    "Looks like even the worse cuisines still have decent ratings... Maybe the quality of food on Deliveroo is just very good?"
   ]
  },
  {
   "cell_type": "markdown",
   "metadata": {},
   "source": [
    "### Question 4: Is there a relationship between popularity and quality?"
   ]
  },
  {
   "cell_type": "code",
   "execution_count": 85,
   "metadata": {},
   "outputs": [
    {
     "data": {
      "text/plain": [
       "<seaborn.axisgrid.JointGrid at 0x7fa58e181310>"
      ]
     },
     "execution_count": 85,
     "metadata": {},
     "output_type": "execute_result"
    },
    {
     "data": {
      "image/png": "[encoded data removed]",
      "text/plain": [
       "<Figure size 432x432 with 3 Axes>"
      ]
     },
     "metadata": {
      "needs_background": "light"
     },
     "output_type": "display_data"
    }
   ],
   "source": [
    "sns.jointplot(x = 'rating_number', y = 'rating_score', data = restaurant_df_clean, kind = 'reg')"
   ]
  },
  {
   "cell_type": "code",
   "execution_count": null,
   "metadata": {},
   "outputs": [],
   "source": []
  }
 ],
 "metadata": {
  "kernelspec": {
   "display_name": "Python 3",
   "language": "python",
   "name": "python3"
  },
  "language_info": {
   "codemirror_mode": {
    "name": "ipython",
    "version": 3
   },
   "file_extension": ".py",
   "mimetype": "text/x-python",
   "name": "python",
   "nbconvert_exporter": "python",
   "pygments_lexer": "ipython3",
   "version": "3.8.8"
  }
 },
 "nbformat": 4,
 "nbformat_minor": 4
}
