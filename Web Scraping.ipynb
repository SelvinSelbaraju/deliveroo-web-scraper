{
 "cells": [
  {
   "cell_type": "code",
   "execution_count": 1,
   "metadata": {},
   "outputs": [],
   "source": [
    "# Import BeautifulSoup to parse the html and selenium, time to simulate a Chrome window\n",
    "# Simulation of the chrome window allows us to get around the issue of the infinite scroll site\n",
    "# Time is used to pause execution to allow the simulated Chrome window to load\n",
    "# pandas and numpy are imported to manipulate the data\n",
    "\n",
    "from bs4 import BeautifulSoup\n",
    "from selenium import webdriver\n",
    "import time\n",
    "import pandas as pd\n",
    "import numpy as np\n",
    "from nltk.tokenize import sent_tokenize\n",
    "\n",
    "import matplotlib.pyplot as plt\n",
    "import seaborn as sns"
   ]
  },
  {
   "cell_type": "code",
   "execution_count": 2,
   "metadata": {},
   "outputs": [],
   "source": [
    "# Setup the parameters for url, chromedriver path and how long it takes your device to render the updated restaurants\n",
    "postcode = 'SW1A 2AA'\n",
    "url = f'https://deliveroo.co.uk/restaurants/london/westminster?postcode={postcode}&collection=all-restaurants'\n",
    "chrome_driver_path = r'/home/selvino/chrome-driver/chromedriver'\n",
    "initial_load_time = 2\n",
    "scroll_pause_time = 1.5"
   ]
  },
  {
   "cell_type": "code",
   "execution_count": 3,
   "metadata": {},
   "outputs": [],
   "source": [
    "# Assign the webdriver to a variable which simulates an instance of Chrome on the url of choice\n",
    "# The 2 seconds sleep gives the webpage a 2 second break to load initially\n",
    "# Get the height of the devices screen to know how much needs to be scrolled each time\n",
    "# Tell the browser to click on the accept cookies button and the £10 off button\n",
    "\n",
    "driver = webdriver.Chrome(executable_path=chrome_driver_path)\n",
    "driver.get(url)\n",
    "time.sleep(initial_load_time)\n",
    "screen_height = driver.execute_script('return window.screen.height;')\n",
    "driver.execute_script('document.querySelector(\".accept-cookies-button\").click()')\n",
    "# driver.execute_script('document.querySelectorAll(\".ccl-d0484b0360a2b432\")[1].click()')"
   ]
  },
  {
   "cell_type": "code",
   "execution_count": 4,
   "metadata": {},
   "outputs": [],
   "source": [
    "# Create a whie loop that scrolls through the website. This is done so the full infinite scrolling webpage renders and is in the html source\n",
    "# During every iteration of the loop, the window is scrolled through by the size of the screen\n",
    "# This is done by scrolling to a multiple of the screen height, which increases by one every iteration\n",
    "# When the place to scroll to exceeds where the window is currently at, it means we must be at the bottom of the page\n",
    "# I.e, once we have scrolled to the bottom, the current location on the window is fixed while the place to scroll to increases on every iteration\n",
    "\n",
    "i = 1\n",
    "while True:\n",
    "    driver.execute_script(\"window.scrollTo(0, {screen_height} * {i});\".format(screen_height=screen_height, i = i))\n",
    "    i += 1\n",
    "    time.sleep(scroll_pause_time)\n",
    "    scroll_height = driver.execute_script(\"return document.body.scrollHeight\")\n",
    "    if screen_height * i > scroll_height: \n",
    "        break"
   ]
  },
  {
   "cell_type": "code",
   "execution_count": 5,
   "metadata": {},
   "outputs": [],
   "source": [
    "# Create a beautiful soup object that parses the html and has useful methods for reading the text\n",
    "soup = BeautifulSoup(driver.page_source, 'html.parser')"
   ]
  },
  {
   "cell_type": "code",
   "execution_count": 6,
   "metadata": {
    "scrolled": true
   },
   "outputs": [
    {
     "data": {
      "text/plain": [
       "<a aria-label=\"Restaurant Waitrose &amp; Partners. Delivers in 10 to 20 minutes. Rated 4.8 from 500+ reviews. Serves Alcohol, Grocery, British, and Breakfast.\" class=\"HomeFeedUICard-1cc6964985e41c86\" href=\"/menu/london/victoria/waitrose-victoria-street?day=today&amp;postcode=SW1A2AA&amp;time=ASAP\"><span class=\"HomeFeedUICard-ebc18e264cc4b96c\"><span class=\"HomeFeedUICard-c6f6e82a465d3148\" style=\"border-style:solid;border-top-color:initial;border-right-color:initial;border-bottom-color:initial;border-left-color:initial\"><div class=\"ccl-45bd106b75353ec9\" style='background-image: url(\"https://rs-menus-api.roocdn.com/images/632c42ed-67db-468e-b593-5bd7c4378e97/image.jpeg?width=215&amp;height=121&amp;auto=webp&amp;format=jpg&amp;fit=crop&amp;v=\");'><div class=\"ccl-d5fa9efd412993ea ccl-0220f29e0da451eb\"></div><div class=\"ccl-0ca6410c5e153903\"><div class=\"HomeFeedUICard-19d5d31598e0335f\"><div class=\"HomeFeedUICard-dce4e0d3970c801d\" style=\"background-color:initial\"><span class=\"HomeFeedUICard-d189665d30dc18af HomeFeedUICard-2002941ca3f01c1b\"><ul class=\"HomeFeedUICard-5fdde013431a78b7\" style=\"background-color:#00ccbc\"><li class=\"HomeFeedUILines-678297d91ca76a11 HomeFeedUILines-b14cc89a6ffde45b\"><span class=\"HomeFeedUILines-c129ebfb232f6e54\" style=\"color:#ffffff\"><span class=\"ccl-462400680c526774 ccl-ed34b65f78f16205\"><svg class=\"ccl-0f24ac4b87ce1f67 ccl-ed34b65f78f16205\" height=\"24\" viewbox=\"0 0 24 24\" width=\"24\"><path d=\"M12 2C16.4183 2 20 5.58167 20 10C20 12.0287 19.2445 13.8806 18 15.2908V22L12 19L6 22V15.2908C4.7555 13.8806 4 12.0287 4 10C4 5.58167 7.58175 2 12 2ZM18 10C18 6.69158 15.3084 4 12 4C8.69158 4 6 6.69158 6 10C6 13.3084 8.69158 16 12 16C15.3084 16 18 13.3084 18 10ZM8.28554 13.1651L7.7476 10.6412L10.7926 9.99577L10.1191 6.83613L12.2314 6.38835L12.9049 9.54799L13.2999 5.79996L15.4476 6.02521L14.8646 11.5573L13.64 14.3L8.28554 13.1651ZM11.3836 10.6198C11.2808 10.6217 11.0753 10.6466 11.0317 10.8141C10.9731 11.0396 11.0418 11.2261 11.1967 11.2774C11.3514 11.3286 11.4974 11.3379 11.6079 11.2371C11.7186 11.1363 11.753 11.007 11.7173 10.8531C11.6922 10.7461 11.5692 10.6759 11.4965 10.643C11.461 10.627 11.4226 10.6192 11.3836 10.6198ZM12.604 10.9617C12.5678 11.0074 12.5447 11.0618 12.5363 11.1195C12.5211 11.2254 12.5203 11.399 12.66 11.4673C12.8672 11.5685 13.0778 11.5501 13.1582 11.4111C13.2384 11.2718 13.2765 11.1326 13.2004 11.0062C13.1243 10.8797 12.9898 10.8096 12.8334 10.8138C12.7373 10.8164 12.6539 10.8984 12.604 10.9617Z\"></path></svg></span></span><span class=\"HomeFeedUILines-c129ebfb232f6e54\" style=\"color:initial\"><div class=\"ccl-b308a2db3758e3e5\"><span></span></div></span><span class=\"HomeFeedUILines-c129ebfb232f6e54\" style=\"color:#ffffff\"><span class=\"ccl-19882374e640f487 ccl-417df52a76832172\">Only on Deliveroo</span></span></li></ul></span></div></div></div></div></span><span class=\"HomeFeedUICard-45fe00a3d559fba5\"><div class=\"HomeFeedUICard-3eaa3aeebdb9dda4\"><span class=\"Bubble-a0bf5c868196e217\"><span class=\"Bubble-0d35c37908d90be4\"><p class=\"ccl-19882374e640f487 ccl-417df52a76832172 ccl-a5fb02a1085896d3 ccl-dd90031787517421 ccl-9d0a5327c911d0f3\">10 – 20</p></span><span class=\"Bubble-f08a84a2192935a4\"><p class=\"ccl-19882374e640f487 ccl-1244c6519d4203b3 ccl-dfaaa1af6c70149c ccl-9d0a5327c911d0f3\">min</p></span></span></div><div class=\"HomeFeedUICard-15a8581a1528e2fd HomeFeedUICard-b63a23d2807ee0c8\"><ul><li class=\"HomeFeedUILines-eb6434808e8af585 HomeFeedUILines-678297d91ca76a11\"><span class=\"\" style=\"color:#2e3333\"><p class=\"ccl-19882374e640f487 ccl-417df52a76832172 ccl-a5fb02a1085896d3 ccl-dd90031787517421 ccl-9d0a5327c911d0f3\">Waitrose &amp; Partners</p></span></li><li class=\"HomeFeedUILines-678297d91ca76a11 HomeFeedUILines-f15fca32260e4b30\"><span class=\"HomeFeedUILines-c129ebfb232f6e54\" style=\"color:#77bf2a\"><span class=\"ccl-462400680c526774 ccl-ed34b65f78f16205\"><svg class=\"ccl-0f24ac4b87ce1f67 ccl-ed34b65f78f16205\" height=\"24\" viewbox=\"0 0 24 24\" width=\"24\"><path d=\"M12 1L9 9H2L7 14.0001L5 21L12 17.0001L19 21L17 14.0001L22 9H15L12 1Z\"></path></svg></span></span><span class=\"HomeFeedUILines-c129ebfb232f6e54\" style=\"color:initial\"><div class=\"ccl-b308a2db3758e3e5\"><span></span></div></span><span class=\"HomeFeedUILines-c129ebfb232f6e54\" style=\"color:#77bf2a\"><span class=\"ccl-19882374e640f487 ccl-417df52a76832172\">4.8 Excellent</span></span><span class=\"HomeFeedUILines-c129ebfb232f6e54\" style=\"color:initial\"><div class=\"ccl-b308a2db3758e3e5\"><span></span></div></span><span class=\"HomeFeedUILines-c129ebfb232f6e54\" style=\"color:#8c9b9b\"><span class=\"ccl-19882374e640f487 ccl-417df52a76832172\">(500+)</span></span><span class=\"HomeFeedUILines-c129ebfb232f6e54\" style=\"color:initial\"><div class=\"ccl-b308a2db3758e3e5\"><span></span></div></span><span class=\"HomeFeedUILines-c129ebfb232f6e54\" style=\"color:#828585\"><span class=\"ccl-19882374e640f487 ccl-417df52a76832172\">·</span></span><span class=\"HomeFeedUILines-c129ebfb232f6e54\" style=\"color:initial\"><div class=\"ccl-b308a2db3758e3e5\"><span></span></div></span><span class=\"HomeFeedUILines-c129ebfb232f6e54\" style=\"color:#828585\"><span class=\"ccl-19882374e640f487 ccl-417df52a76832172\">Alcohol</span></span><span class=\"HomeFeedUILines-c129ebfb232f6e54\" style=\"color:initial\"><div class=\"ccl-b308a2db3758e3e5\"><span></span></div></span><span class=\"HomeFeedUILines-c129ebfb232f6e54\" style=\"color:#828585\"><span class=\"ccl-19882374e640f487 ccl-417df52a76832172\">·</span></span><span class=\"HomeFeedUILines-c129ebfb232f6e54\" style=\"color:initial\"><div class=\"ccl-b308a2db3758e3e5\"><span></span></div></span><span class=\"HomeFeedUILines-c129ebfb232f6e54\" style=\"color:#828585\"><span class=\"ccl-19882374e640f487 ccl-417df52a76832172\">Grocery</span></span><span class=\"HomeFeedUILines-c129ebfb232f6e54\" style=\"color:initial\"><div class=\"ccl-b308a2db3758e3e5\"><span></span></div></span><span class=\"HomeFeedUILines-c129ebfb232f6e54\" style=\"color:#828585\"><span class=\"ccl-19882374e640f487 ccl-417df52a76832172\">·</span></span><span class=\"HomeFeedUILines-c129ebfb232f6e54\" style=\"color:initial\"><div class=\"ccl-b308a2db3758e3e5\"><span></span></div></span><span class=\"HomeFeedUILines-c129ebfb232f6e54\" style=\"color:#828585\"><span class=\"ccl-19882374e640f487 ccl-417df52a76832172\">British</span></span><span class=\"HomeFeedUILines-c129ebfb232f6e54\" style=\"color:initial\"><div class=\"ccl-b308a2db3758e3e5\"><span></span></div></span><span class=\"HomeFeedUILines-c129ebfb232f6e54\" style=\"color:#828585\"><span class=\"ccl-19882374e640f487 ccl-417df52a76832172\">·</span></span><span class=\"HomeFeedUILines-c129ebfb232f6e54\" style=\"color:initial\"><div class=\"ccl-b308a2db3758e3e5\"><span></span></div></span><span class=\"HomeFeedUILines-c129ebfb232f6e54\" style=\"color:#828585\"><span class=\"ccl-19882374e640f487 ccl-417df52a76832172\">Breakfast</span></span></li><li class=\"HomeFeedUILines-678297d91ca76a11 HomeFeedUILines-f15fca32260e4b30\"><span class=\"HomeFeedUILines-c129ebfb232f6e54\" style=\"color:#828585\"><span class=\"ccl-19882374e640f487 ccl-417df52a76832172\">0.6 miles away</span></span><span class=\"HomeFeedUILines-c129ebfb232f6e54\" style=\"color:initial\"><div class=\"ccl-b308a2db3758e3e5\"><span></span></div></span><span class=\"HomeFeedUILines-c129ebfb232f6e54\" style=\"color:#828585\"><span class=\"ccl-19882374e640f487 ccl-417df52a76832172\">·</span></span><span class=\"HomeFeedUILines-c129ebfb232f6e54\" style=\"color:initial\"><div class=\"ccl-b308a2db3758e3e5\"><span></span></div></span><span class=\"HomeFeedUILines-c129ebfb232f6e54\" style=\"color:#828585\"><span class=\"ccl-19882374e640f487 ccl-417df52a76832172\">£3.99 delivery</span></span></li></ul></div></span></span></a>"
      ]
     },
     "execution_count": 6,
     "metadata": {},
     "output_type": "execute_result"
    }
   ],
   "source": [
    "# Looks like all the restaurants that can be ordered from (clicked on) are wrapped in an a tag\n",
    "# The aria-label attribute is in all of the a tags that we want\n",
    "# Therefore, we need to filter through the html and find all the a tags that have the aria-label attribute\n",
    "# The a tags with the restaurants in are also very long in comparison to the other a tags that have aria-labels\n",
    "soup.find_all('a')[6]"
   ]
  },
  {
   "cell_type": "code",
   "execution_count": 7,
   "metadata": {},
   "outputs": [],
   "source": [
    "# Define a function that returns only if the tag is an a tag and it has the aria label attribute\n",
    "\n",
    "def has_aria_label(tag):\n",
    "    if tag.name == 'a':\n",
    "        return tag.has_attr('aria-label')"
   ]
  },
  {
   "cell_type": "code",
   "execution_count": 8,
   "metadata": {},
   "outputs": [],
   "source": [
    "# All potential restaurants will meet this criteria. But we will also need to filter based on length of the a tag\n",
    "# I chose 300 just by trial and error, starting from 100 and getting rid of the short links\n",
    "potential_restaurants = soup.find_all(has_aria_label)\n",
    "restaurants = [str(x) for x in potential_restaurants if len(str(x)) > 300 ]"
   ]
  },
  {
   "cell_type": "code",
   "execution_count": 9,
   "metadata": {
    "scrolled": true
   },
   "outputs": [],
   "source": [
    "# Within an a tag, most of the useful information is stated after the word Restaurant (with a space)\n",
    "# Most of the useful data ends with a \" because aria-label is a html attribute\n",
    "# We will use that as a data identifier, and look for all the text after this start identifier and before the end identifier\n",
    "\n",
    "def find_main_data(text):\n",
    "    start_identifier = 'Restaurant '\n",
    "    end_identifier = '\"'\n",
    "    search_start = text.find(start_identifier) + len(start_identifier)\n",
    "    search_end = text.find(end_identifier, search_start)\n",
    "    return text[search_start:search_end]"
   ]
  },
  {
   "cell_type": "code",
   "execution_count": 10,
   "metadata": {},
   "outputs": [],
   "source": [
    "# Distance is given in miles, so searching for the text 'miles' or 'mile' away will help us find the distance\n",
    "# Before the words 'miles away', the distance is given to one decimal place, eg x.xx miles away\n",
    "# Therefore, we need to go back 4 from the position of miles away\n",
    "# For mile away, distance is given as 1 mile away\n",
    "# Therefore, we need to go back 2 from the position of mile away\n",
    "\n",
    "def find_distance_data(main_data):\n",
    "    identifier = 'miles away'\n",
    "    sub_identifier = 'mile away'\n",
    "    start_index = main_data.find(identifier)\n",
    "    if start_index == -1:\n",
    "        search_start = main_data.find(sub_identifier) -2\n",
    "        search_end = search_start + 2 + len(sub_identifier)\n",
    "    else:\n",
    "        search_start = main_data.find(identifier) -4\n",
    "        search_end = search_start + 4 + len(identifier)\n",
    "    return main_data[search_start: search_end]"
   ]
  },
  {
   "cell_type": "code",
   "execution_count": 13,
   "metadata": {},
   "outputs": [],
   "source": [
    "# Delivery Cost will be found after a pound sign, although if there is no cost, we assume there is free delivery\n",
    "# Luckily, the delivery cost comes before the text stating 'Buy X get £Y off', otherwise we get the wrong cost\n",
    "# There are no offer badges that have pound signs except those with the delivery cost, so no issue with getting the wrong '£' text\n",
    "# If the text contains free delivery, then the cost should be 0\n",
    "   \n",
    "def find_delivery_cost(main_data):\n",
    "    identifier = '£'\n",
    "    search_start = main_data.find(identifier)\n",
    "    if 'Free delivery' in main_data:\n",
    "        return '£0.00'\n",
    "    if search_start == -1:\n",
    "        return '£0.00'\n",
    "    else:\n",
    "        return main_data[search_start: search_start + 5]"
   ]
  },
  {
   "cell_type": "code",
   "execution_count": 14,
   "metadata": {},
   "outputs": [],
   "source": [
    "# For each of the restaurants, find the main data, distance and delivery cost\n",
    "# Put those into a dictionary so we can make them into a dataframe\n",
    "\n",
    "restaurants_list = []\n",
    "id = 0\n",
    "for restaurant in restaurants:\n",
    "    restaurant_dictionary = {\n",
    "        'id': id,\n",
    "        'main_data': find_main_data(restaurant),\n",
    "        'distance': find_distance_data(restaurant),\n",
    "        'delivery_cost': find_delivery_cost(restaurant)\n",
    "    }\n",
    "    restaurants_list.append(restaurant_dictionary)\n",
    "    id += 1\n",
    "    "
   ]
  },
  {
   "cell_type": "code",
   "execution_count": 15,
   "metadata": {
    "scrolled": true
   },
   "outputs": [],
   "source": [
    "# Make the dataframe from the dictionary\n",
    "restaurant_df = pd.DataFrame.from_dict(restaurants_list)"
   ]
  },
  {
   "cell_type": "code",
   "execution_count": 16,
   "metadata": {},
   "outputs": [],
   "source": [
    "# Now we need to clean the data! For example, the main_data column has several bits of data in\n",
    "# Sentence Tokenize from nltk seperates the main data into sentences, making it easier to get each bit of data\n",
    "restaurant_df['restaurant_name'] = restaurant_df['main_data'].map(lambda x: sent_tokenize(x.replace('&amp;', '&'))[0][:-1])\n",
    "restaurant_df['delivery_time'] = restaurant_df['main_data'].map(lambda x: sent_tokenize(x)[1].split(' ')[2:5])"
   ]
  },
  {
   "cell_type": "code",
   "execution_count": 17,
   "metadata": {},
   "outputs": [],
   "source": [
    "# Unfortunately, some restaurants have no reviews\n",
    "# Because it is more complicated, will make a function to specifically tackle this\n",
    "# Some restaurants have no review data\n",
    "\n",
    "def find_review_data(main_data):\n",
    "    start_identifier = 'Rated '\n",
    "    end_identifier = 'reviews'\n",
    "    search_start = main_data.find(start_identifier)\n",
    "    if search_start > -1:\n",
    "        search_end = main_data.find(end_identifier, search_start) - 1\n",
    "        review_data = main_data[search_start: search_end]\n",
    "        review_score = float(review_data.split(' ')[1])\n",
    "        review_number = int(review_data.split(' ')[-1].split('+')[0])\n",
    "        return {'score': review_score, 'number': review_number} \n",
    "    else:\n",
    "        return {'score': 'None', 'number': 'None' }\n",
    "    \n",
    "restaurant_df['rating_score'] = restaurant_df['main_data'].map(lambda x: find_review_data(x)['score'])\n",
    "restaurant_df['rating_number'] = restaurant_df['main_data'].map(lambda x: find_review_data(x)['number'])"
   ]
  },
  {
   "cell_type": "code",
   "execution_count": null,
   "metadata": {},
   "outputs": [],
   "source": [
    "# Now we have all the data we want, we need to clean it!"
   ]
  },
  {
   "cell_type": "code",
   "execution_count": 117,
   "metadata": {
    "scrolled": true
   },
   "outputs": [
    {
     "data": {
      "text/plain": [
       "['Alcohol', 'Grocery', 'British', 'Breakfast']"
      ]
     },
     "execution_count": 117,
     "metadata": {},
     "output_type": "execute_result"
    }
   ],
   "source": [
    "# Lastly, we need to get the cuisine data, which all follows the phrase 'Serves '\n",
    "# Because it is a list, grammatically, all the cuisines are seperated by commas\n",
    "# Splitting on commas will give all the cuisines that are seperated by commas as items in an array (cuisines_first_split)\n",
    "# All items in the array except the last will be the cuisine only (first_cuisines)\n",
    "# The last item in this array will either be the last cuisine or the only two cuisines (last_first_split)\n",
    "# If there are two cuisines, they aren't seperated by commas, they are seperated by ' and ' instead\n",
    "# Therefore, we should seperate last_first_split by ' and ', and we will have two cuisines or '' and the last cuisine\n",
    "# We then need to add the last cuisine(s) to the first_cuisines, and we only want to add it if the cuisine is more than one letter, this is so you don't add the empty string ''\n",
    "# Finally, we need to remove the full stop from the final element in the cuisines list and remove all surrounding whitespace\n",
    "\n",
    "def find_cuisine_data(main_data):\n",
    "    start_identifier = 'Serves '\n",
    "    first_splitter = ','\n",
    "    last_splitter = ' and '\n",
    "    cuisines_start = main_data.find(start_identifier)\n",
    "    if cuisines_start > -1:\n",
    "        cuisines_raw = main_data[cuisines_start + len(start_identifier):]\n",
    "        cuisines_first_split = cuisines_raw.split(first_splitter)\n",
    "        last_first_split = cuisines_first_split[-1]\n",
    "        first_cuisines = cuisines_first_split[:-1]\n",
    "        last_cuisines = last_first_split.split(last_splitter)\n",
    "        for i in last_cuisines:\n",
    "            if len(i) > 1:\n",
    "                first_cuisines.append(i)\n",
    "        first_cuisines[-1] = first_cuisines[-1][:-1]\n",
    "        all_cuisines = [x.strip() for x in first_cuisines]\n",
    "        return all_cuisines\n",
    "    \n",
    "    \n",
    "    \n",
    "restaurant_df['cuisines'] = restaurant_df['main_data'].map(lambda x: find_cuisine_data(x))\n",
    "restaurant_df['cuisines'][0]"
   ]
  },
  {
   "cell_type": "code",
   "execution_count": 118,
   "metadata": {},
   "outputs": [],
   "source": [
    "cuisine_list = []\n",
    "for cuisines in restaurant_df['cuisines']:\n",
    "    if cuisines:\n",
    "        for cuisine in cuisines:\n",
    "            if cuisine not in cuisine_list:\n",
    "                cuisine_list.append(cuisine)"
   ]
  },
  {
   "cell_type": "code",
   "execution_count": 120,
   "metadata": {},
   "outputs": [
    {
     "data": {
      "text/html": [
       "<div>\n",
       "<style scoped>\n",
       "    .dataframe tbody tr th:only-of-type {\n",
       "        vertical-align: middle;\n",
       "    }\n",
       "\n",
       "    .dataframe tbody tr th {\n",
       "        vertical-align: top;\n",
       "    }\n",
       "\n",
       "    .dataframe thead th {\n",
       "        text-align: right;\n",
       "    }\n",
       "</style>\n",
       "<table border=\"1\" class=\"dataframe\">\n",
       "  <thead>\n",
       "    <tr style=\"text-align: right;\">\n",
       "      <th></th>\n",
       "      <th>id</th>\n",
       "      <th>main_data</th>\n",
       "      <th>distance</th>\n",
       "      <th>delivery_cost</th>\n",
       "      <th>restaurant_name</th>\n",
       "      <th>delivery_time</th>\n",
       "      <th>rating_score</th>\n",
       "      <th>rating_number</th>\n",
       "      <th>cuisines</th>\n",
       "    </tr>\n",
       "  </thead>\n",
       "  <tbody>\n",
       "    <tr>\n",
       "      <th>0</th>\n",
       "      <td>0</td>\n",
       "      <td>Waitrose &amp;amp; Partners. Delivers in 10 to 20 ...</td>\n",
       "      <td>0.6 miles away</td>\n",
       "      <td>£3.99</td>\n",
       "      <td>Waitrose &amp; Partners</td>\n",
       "      <td>[10, to, 20]</td>\n",
       "      <td>4.8</td>\n",
       "      <td>500</td>\n",
       "      <td>[Alcohol, Grocery, British, Breakfast]</td>\n",
       "    </tr>\n",
       "    <tr>\n",
       "      <th>1</th>\n",
       "      <td>1</td>\n",
       "      <td>Pret a Manger. Delivers in 15 to 30 minutes. R...</td>\n",
       "      <td>1.7 miles away</td>\n",
       "      <td>£3.99</td>\n",
       "      <td>Pret a Manger</td>\n",
       "      <td>[15, to, 30]</td>\n",
       "      <td>4.8</td>\n",
       "      <td>500</td>\n",
       "      <td>[Salads, Breakfast, Sandwiches, Healthy]</td>\n",
       "    </tr>\n",
       "    <tr>\n",
       "      <th>2</th>\n",
       "      <td>2</td>\n",
       "      <td>Wellness &amp;amp; Beauty by Whole Foods Market. D...</td>\n",
       "      <td>2.7 miles away</td>\n",
       "      <td>£4.49</td>\n",
       "      <td>Wellness &amp; Beauty by Whole Foods Market</td>\n",
       "      <td>[40, to, 60]</td>\n",
       "      <td>5</td>\n",
       "      <td>16</td>\n",
       "      <td>[Grocery, Healthy, Snacks, Drinks]</td>\n",
       "    </tr>\n",
       "    <tr>\n",
       "      <th>3</th>\n",
       "      <td>3</td>\n",
       "      <td>Margarita Mama's. Delivers in 10 to 10 minutes...</td>\n",
       "      <td>5.7 miles away</td>\n",
       "      <td>£3.99</td>\n",
       "      <td>Margarita Mama's</td>\n",
       "      <td>[10, to, 10]</td>\n",
       "      <td>3.9</td>\n",
       "      <td>500</td>\n",
       "      <td>[Italian, Pasta, Pizza]</td>\n",
       "    </tr>\n",
       "    <tr>\n",
       "      <th>4</th>\n",
       "      <td>4</td>\n",
       "      <td>Brinkley’s Wines - Chelsea. Delivers in 20 to ...</td>\n",
       "      <td>2.7 miles away</td>\n",
       "      <td>£4.49</td>\n",
       "      <td>Brinkley’s Wines - Chelsea</td>\n",
       "      <td>[20, to, 35]</td>\n",
       "      <td>4.9</td>\n",
       "      <td>500</td>\n",
       "      <td>[Alcohol, British, Grocery, Drinks]</td>\n",
       "    </tr>\n",
       "    <tr>\n",
       "      <th>...</th>\n",
       "      <td>...</td>\n",
       "      <td>...</td>\n",
       "      <td>...</td>\n",
       "      <td>...</td>\n",
       "      <td>...</td>\n",
       "      <td>...</td>\n",
       "      <td>...</td>\n",
       "      <td>...</td>\n",
       "      <td>...</td>\n",
       "    </tr>\n",
       "    <tr>\n",
       "      <th>793</th>\n",
       "      <td>793</td>\n",
       "      <td>Eaton Square. Delivers at . Rated 4.3 from 468...</td>\n",
       "      <td></td>\n",
       "      <td>£0.00</td>\n",
       "      <td>Eaton Square</td>\n",
       "      <td>[.]</td>\n",
       "      <td>4.3</td>\n",
       "      <td>468</td>\n",
       "      <td>[Pizza, Salads, Burgers, Mediterranean]</td>\n",
       "    </tr>\n",
       "    <tr>\n",
       "      <th>794</th>\n",
       "      <td>794</td>\n",
       "      <td>Good Eggs. Delivers at . Rated 4.7 from 79 rev...</td>\n",
       "      <td></td>\n",
       "      <td>£0.00</td>\n",
       "      <td>Good Eggs</td>\n",
       "      <td>[.]</td>\n",
       "      <td>4.7</td>\n",
       "      <td>79</td>\n",
       "      <td>[Breakfast, Wraps, Healthy]</td>\n",
       "    </tr>\n",
       "    <tr>\n",
       "      <th>795</th>\n",
       "      <td>795</td>\n",
       "      <td>Yolk &amp;amp; Bun. Delivers at . Serves Café, Bag...</td>\n",
       "      <td></td>\n",
       "      <td>£0.00</td>\n",
       "      <td>Yolk &amp; Bun</td>\n",
       "      <td>[.]</td>\n",
       "      <td>None</td>\n",
       "      <td>None</td>\n",
       "      <td>[Café, Bagels, Breakfast, Brunch]</td>\n",
       "    </tr>\n",
       "    <tr>\n",
       "      <th>796</th>\n",
       "      <td>796</td>\n",
       "      <td>BENVENUTI. Delivers at . Serves Italian and Gr...</td>\n",
       "      <td></td>\n",
       "      <td>£0.00</td>\n",
       "      <td>BENVENUTI</td>\n",
       "      <td>[.]</td>\n",
       "      <td>None</td>\n",
       "      <td>None</td>\n",
       "      <td>[Italian, Grocery]</td>\n",
       "    </tr>\n",
       "    <tr>\n",
       "      <th>797</th>\n",
       "      <td>797</td>\n",
       "      <td>Chick 'n' Sours. Delivers at . Rated 4.7 from ...</td>\n",
       "      <td></td>\n",
       "      <td>£0.00</td>\n",
       "      <td>Chick 'n' Sours</td>\n",
       "      <td>[.]</td>\n",
       "      <td>4.7</td>\n",
       "      <td>500</td>\n",
       "      <td>[Korean, American, Chicken, Wings]</td>\n",
       "    </tr>\n",
       "  </tbody>\n",
       "</table>\n",
       "<p>798 rows × 9 columns</p>\n",
       "</div>"
      ],
      "text/plain": [
       "      id                                          main_data        distance  \\\n",
       "0      0  Waitrose &amp; Partners. Delivers in 10 to 20 ...  0.6 miles away   \n",
       "1      1  Pret a Manger. Delivers in 15 to 30 minutes. R...  1.7 miles away   \n",
       "2      2  Wellness &amp; Beauty by Whole Foods Market. D...  2.7 miles away   \n",
       "3      3  Margarita Mama's. Delivers in 10 to 10 minutes...  5.7 miles away   \n",
       "4      4  Brinkley’s Wines - Chelsea. Delivers in 20 to ...  2.7 miles away   \n",
       "..   ...                                                ...             ...   \n",
       "793  793  Eaton Square. Delivers at . Rated 4.3 from 468...                   \n",
       "794  794  Good Eggs. Delivers at . Rated 4.7 from 79 rev...                   \n",
       "795  795  Yolk &amp; Bun. Delivers at . Serves Café, Bag...                   \n",
       "796  796  BENVENUTI. Delivers at . Serves Italian and Gr...                   \n",
       "797  797  Chick 'n' Sours. Delivers at . Rated 4.7 from ...                   \n",
       "\n",
       "    delivery_cost                          restaurant_name delivery_time  \\\n",
       "0           £3.99                      Waitrose & Partners  [10, to, 20]   \n",
       "1           £3.99                            Pret a Manger  [15, to, 30]   \n",
       "2           £4.49  Wellness & Beauty by Whole Foods Market  [40, to, 60]   \n",
       "3           £3.99                         Margarita Mama's  [10, to, 10]   \n",
       "4           £4.49               Brinkley’s Wines - Chelsea  [20, to, 35]   \n",
       "..            ...                                      ...           ...   \n",
       "793         £0.00                             Eaton Square           [.]   \n",
       "794         £0.00                                Good Eggs           [.]   \n",
       "795         £0.00                               Yolk & Bun           [.]   \n",
       "796         £0.00                                BENVENUTI           [.]   \n",
       "797         £0.00                          Chick 'n' Sours           [.]   \n",
       "\n",
       "    rating_score rating_number                                  cuisines  \n",
       "0            4.8           500    [Alcohol, Grocery, British, Breakfast]  \n",
       "1            4.8           500  [Salads, Breakfast, Sandwiches, Healthy]  \n",
       "2              5            16        [Grocery, Healthy, Snacks, Drinks]  \n",
       "3            3.9           500                   [Italian, Pasta, Pizza]  \n",
       "4            4.9           500       [Alcohol, British, Grocery, Drinks]  \n",
       "..           ...           ...                                       ...  \n",
       "793          4.3           468   [Pizza, Salads, Burgers, Mediterranean]  \n",
       "794          4.7            79               [Breakfast, Wraps, Healthy]  \n",
       "795         None          None         [Café, Bagels, Breakfast, Brunch]  \n",
       "796         None          None                        [Italian, Grocery]  \n",
       "797          4.7           500        [Korean, American, Chicken, Wings]  \n",
       "\n",
       "[798 rows x 9 columns]"
      ]
     },
     "execution_count": 120,
     "metadata": {},
     "output_type": "execute_result"
    }
   ],
   "source": [
    "restaurant_df"
   ]
  },
  {
   "cell_type": "code",
   "execution_count": null,
   "metadata": {},
   "outputs": [],
   "source": []
  }
 ],
 "metadata": {
  "kernelspec": {
   "display_name": "Python 3",
   "language": "python",
   "name": "python3"
  },
  "language_info": {
   "codemirror_mode": {
    "name": "ipython",
    "version": 3
   },
   "file_extension": ".py",
   "mimetype": "text/x-python",
   "name": "python",
   "nbconvert_exporter": "python",
   "pygments_lexer": "ipython3",
   "version": "3.8.5"
  }
 },
 "nbformat": 4,
 "nbformat_minor": 4
}
